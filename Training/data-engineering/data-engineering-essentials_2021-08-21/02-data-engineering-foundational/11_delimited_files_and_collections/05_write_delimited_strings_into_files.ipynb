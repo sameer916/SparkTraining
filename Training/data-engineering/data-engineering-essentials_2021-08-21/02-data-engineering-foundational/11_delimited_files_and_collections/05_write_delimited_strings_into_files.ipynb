{
 "cells": [
  {
   "cell_type": "markdown",
   "id": "d9d29199",
   "metadata": {},
   "source": [
    "## Write Delimited Strings into files\n",
    "\n",
    "Let us understand how to write delimited strings into files. We will start with a collection or list of tuples and see how to convert to delimited strings before writing to a file.\n",
    "\n",
    "Here are the steps involved to write list of tuples into file as delimited strings.\n",
    "* Convert the list of tuples into list of delimited strings.\n",
    "* Open the file in write mode using `w` (overwrite) or `a` (append).\n",
    "* Add the data into the file.\n",
    "* Ensure that the data in the file is validated."
   ]
  },
  {
   "cell_type": "code",
   "execution_count": 1,
   "id": "3df77a70",
   "metadata": {},
   "outputs": [],
   "source": [
    "orders = [(1, '2013-07-25 00:00:00.0', 11599, 'CLOSED'),\n",
    " (2, '2013-07-25 00:00:00.0', 256, 'PENDING_PAYMENT'),\n",
    " (3, '2013-07-25 00:00:00.0', 12111, 'COMPLETE'),\n",
    " (4, '2013-07-25 00:00:00.0', 8827, 'CLOSED'),\n",
    " (5, '2013-07-25 00:00:00.0', 11318, 'COMPLETE'),\n",
    " (6, '2013-07-25 00:00:00.0', 7130, 'COMPLETE'),\n",
    " (7, '2013-07-25 00:00:00.0', 4530, 'COMPLETE'),\n",
    " (8, '2013-07-25 00:00:00.0', 2911, 'PROCESSING'),\n",
    " (9, '2013-07-25 00:00:00.0', 5657, 'PENDING_PAYMENT'),\n",
    " (10, '2013-07-25 00:00:00.0', 5648, 'PENDING_PAYMENT')]"
   ]
  },
  {
   "cell_type": "code",
   "execution_count": 2,
   "id": "012fde51",
   "metadata": {},
   "outputs": [
    {
     "data": {
      "text/plain": [
       "list"
      ]
     },
     "execution_count": 2,
     "metadata": {},
     "output_type": "execute_result"
    }
   ],
   "source": [
    "type(orders)"
   ]
  },
  {
   "cell_type": "code",
   "execution_count": 3,
   "id": "eb5f559b",
   "metadata": {},
   "outputs": [
    {
     "data": {
      "text/plain": [
       "(1, '2013-07-25 00:00:00.0', 11599, 'CLOSED')"
      ]
     },
     "execution_count": 3,
     "metadata": {},
     "output_type": "execute_result"
    }
   ],
   "source": [
    "orders[0]"
   ]
  },
  {
   "cell_type": "code",
   "execution_count": 4,
   "id": "638b97a1",
   "metadata": {},
   "outputs": [
    {
     "data": {
      "text/plain": [
       "tuple"
      ]
     },
     "execution_count": 4,
     "metadata": {},
     "output_type": "execute_result"
    }
   ],
   "source": [
    "type(orders[0])"
   ]
  },
  {
   "cell_type": "code",
   "execution_count": 5,
   "id": "f0aa1e5d",
   "metadata": {},
   "outputs": [],
   "source": [
    "order = orders[0]"
   ]
  },
  {
   "cell_type": "code",
   "execution_count": 7,
   "id": "072390e8",
   "metadata": {},
   "outputs": [
    {
     "data": {
      "text/plain": [
       "\u001b[0;31mDocstring:\u001b[0m\n",
       "S.join(iterable) -> str\n",
       "\n",
       "Return a string which is the concatenation of the strings in the\n",
       "iterable.  The separator between elements is S.\n",
       "\u001b[0;31mType:\u001b[0m      method_descriptor\n"
      ]
     },
     "metadata": {},
     "output_type": "display_data"
    }
   ],
   "source": [
    "str.join?"
   ]
  },
  {
   "cell_type": "code",
   "execution_count": null,
   "id": "8eeff1c9",
   "metadata": {},
   "outputs": [],
   "source": [
    "'hello'.join"
   ]
  },
  {
   "cell_type": "code",
   "execution_count": 8,
   "id": "fcb8aaaf",
   "metadata": {},
   "outputs": [
    {
     "ename": "TypeError",
     "evalue": "sequence item 0: expected str instance, int found",
     "output_type": "error",
     "traceback": [
      "\u001b[0;31m---------------------------------------------------------------------------\u001b[0m",
      "\u001b[0;31mTypeError\u001b[0m                                 Traceback (most recent call last)",
      "\u001b[0;32m<ipython-input-8-e2de746788cb>\u001b[0m in \u001b[0;36m<module>\u001b[0;34m\u001b[0m\n\u001b[0;32m----> 1\u001b[0;31m \u001b[0;34m','\u001b[0m\u001b[0;34m.\u001b[0m\u001b[0mjoin\u001b[0m\u001b[0;34m(\u001b[0m\u001b[0morder\u001b[0m\u001b[0;34m)\u001b[0m \u001b[0;31m# throws error as first and third elements are of type int\u001b[0m\u001b[0;34m\u001b[0m\u001b[0;34m\u001b[0m\u001b[0m\n\u001b[0m",
      "\u001b[0;31mTypeError\u001b[0m: sequence item 0: expected str instance, int found"
     ]
    }
   ],
   "source": [
    "','.join(order) # throws error as first and third elements are of type int"
   ]
  },
  {
   "cell_type": "code",
   "execution_count": 9,
   "id": "1078616c",
   "metadata": {},
   "outputs": [
    {
     "data": {
      "text/plain": [
       "['1', '2013-07-25 00:00:00.0', '11599', 'CLOSED']"
      ]
     },
     "execution_count": 9,
     "metadata": {},
     "output_type": "execute_result"
    }
   ],
   "source": [
    "[str(item) for item in order]"
   ]
  },
  {
   "cell_type": "code",
   "execution_count": 10,
   "id": "bb5781f7",
   "metadata": {},
   "outputs": [
    {
     "data": {
      "text/plain": [
       "'1,2013-07-25 00:00:00.0,11599,CLOSED'"
      ]
     },
     "execution_count": 10,
     "metadata": {},
     "output_type": "execute_result"
    }
   ],
   "source": [
    "# Convering all the items in tuple to strings using list comprehension\n",
    "','.join([str(item) for item in order]) "
   ]
  },
  {
   "cell_type": "code",
   "execution_count": 12,
   "id": "d02d2982",
   "metadata": {},
   "outputs": [
    {
     "data": {
      "text/plain": [
       "['1', '2013-07-25 00:00:00.0', '11599', 'CLOSED']"
      ]
     },
     "execution_count": 12,
     "metadata": {},
     "output_type": "execute_result"
    }
   ],
   "source": [
    "list(map(lambda item: str(item), order))"
   ]
  },
  {
   "cell_type": "code",
   "execution_count": 13,
   "id": "eed3de05",
   "metadata": {},
   "outputs": [
    {
     "data": {
      "text/plain": [
       "'1,2013-07-25 00:00:00.0,11599,CLOSED'"
      ]
     },
     "execution_count": 13,
     "metadata": {},
     "output_type": "execute_result"
    }
   ],
   "source": [
    "# Convering all the items in tuple to strings using map function\n",
    "','.join(map(lambda item: str(item), order))"
   ]
  },
  {
   "cell_type": "code",
   "execution_count": 14,
   "id": "1c11886d",
   "metadata": {},
   "outputs": [
    {
     "data": {
      "text/plain": [
       "[(1, '2013-07-25 00:00:00.0', 11599, 'CLOSED'),\n",
       " (2, '2013-07-25 00:00:00.0', 256, 'PENDING_PAYMENT'),\n",
       " (3, '2013-07-25 00:00:00.0', 12111, 'COMPLETE'),\n",
       " (4, '2013-07-25 00:00:00.0', 8827, 'CLOSED'),\n",
       " (5, '2013-07-25 00:00:00.0', 11318, 'COMPLETE'),\n",
       " (6, '2013-07-25 00:00:00.0', 7130, 'COMPLETE'),\n",
       " (7, '2013-07-25 00:00:00.0', 4530, 'COMPLETE'),\n",
       " (8, '2013-07-25 00:00:00.0', 2911, 'PROCESSING'),\n",
       " (9, '2013-07-25 00:00:00.0', 5657, 'PENDING_PAYMENT'),\n",
       " (10, '2013-07-25 00:00:00.0', 5648, 'PENDING_PAYMENT')]"
      ]
     },
     "execution_count": 14,
     "metadata": {},
     "output_type": "execute_result"
    }
   ],
   "source": [
    "orders"
   ]
  },
  {
   "cell_type": "code",
   "execution_count": 15,
   "id": "a0a2ee90",
   "metadata": {},
   "outputs": [],
   "source": [
    "orders_csv = map(lambda order: ','.join(map(lambda item: str(item), order)), orders)"
   ]
  },
  {
   "cell_type": "code",
   "execution_count": 16,
   "id": "dea9b1fa",
   "metadata": {},
   "outputs": [
    {
     "data": {
      "text/plain": [
       "['1,2013-07-25 00:00:00.0,11599,CLOSED',\n",
       " '2,2013-07-25 00:00:00.0,256,PENDING_PAYMENT',\n",
       " '3,2013-07-25 00:00:00.0,12111,COMPLETE',\n",
       " '4,2013-07-25 00:00:00.0,8827,CLOSED',\n",
       " '5,2013-07-25 00:00:00.0,11318,COMPLETE',\n",
       " '6,2013-07-25 00:00:00.0,7130,COMPLETE',\n",
       " '7,2013-07-25 00:00:00.0,4530,COMPLETE',\n",
       " '8,2013-07-25 00:00:00.0,2911,PROCESSING',\n",
       " '9,2013-07-25 00:00:00.0,5657,PENDING_PAYMENT',\n",
       " '10,2013-07-25 00:00:00.0,5648,PENDING_PAYMENT']"
      ]
     },
     "execution_count": 16,
     "metadata": {},
     "output_type": "execute_result"
    }
   ],
   "source": [
    "list(orders_csv)"
   ]
  },
  {
   "cell_type": "code",
   "execution_count": 17,
   "id": "4fd9d16f",
   "metadata": {},
   "outputs": [
    {
     "data": {
      "text/plain": [
       "'1,2013-07-25 00:00:00.0,11599,CLOSED'"
      ]
     },
     "execution_count": 17,
     "metadata": {},
     "output_type": "execute_result"
    }
   ],
   "source": [
    "orders_csv = map(lambda order: ','.join(map(lambda item: str(item), order)), orders)\n",
    "order = list(orders_csv)[0]\n",
    "order"
   ]
  },
  {
   "cell_type": "markdown",
   "id": "7bdd78b5",
   "metadata": {},
   "source": [
    "* Writing CSV strings one at a time to the file."
   ]
  },
  {
   "cell_type": "code",
   "execution_count": 18,
   "id": "d29982c4",
   "metadata": {},
   "outputs": [],
   "source": [
    "!rm -rf data/retail_db/orders"
   ]
  },
  {
   "cell_type": "code",
   "execution_count": 19,
   "id": "492df35c",
   "metadata": {},
   "outputs": [],
   "source": [
    "!mkdir -p data/retail_db/orders"
   ]
  },
  {
   "cell_type": "code",
   "execution_count": 20,
   "id": "7445edff",
   "metadata": {},
   "outputs": [],
   "source": [
    "orders_file = open('data/retail_db/orders/part-00000', 'w')"
   ]
  },
  {
   "cell_type": "code",
   "execution_count": 21,
   "id": "ef5e669f",
   "metadata": {},
   "outputs": [],
   "source": [
    "orders_csv = map(lambda order: ','.join(map(lambda item: str(item), order)), orders)"
   ]
  },
  {
   "cell_type": "code",
   "execution_count": 22,
   "id": "9e145f53",
   "metadata": {},
   "outputs": [],
   "source": [
    "for order in orders_csv:\n",
    "    orders_file.write(f'{order}\\n')"
   ]
  },
  {
   "cell_type": "code",
   "execution_count": 23,
   "id": "266f88a8",
   "metadata": {},
   "outputs": [],
   "source": [
    "orders_file.close()"
   ]
  },
  {
   "cell_type": "markdown",
   "id": "8818d38b",
   "metadata": {},
   "source": [
    "* Writing as one big string. As we are opening the file using `w`, the file will be truncated. It means the contents of the file will be overwritten with the string we are trying to write to the file."
   ]
  },
  {
   "cell_type": "code",
   "execution_count": 25,
   "id": "8c45563d",
   "metadata": {},
   "outputs": [],
   "source": [
    "orders_csv = map(lambda order: ','.join(map(lambda item: str(item), order)), orders)"
   ]
  },
  {
   "cell_type": "code",
   "execution_count": 26,
   "id": "64d80893",
   "metadata": {},
   "outputs": [],
   "source": [
    "orders_string = '\\n'.join(orders_csv)"
   ]
  },
  {
   "cell_type": "code",
   "execution_count": 27,
   "id": "fb1bcb2b",
   "metadata": {},
   "outputs": [
    {
     "data": {
      "text/plain": [
       "'1,2013-07-25 00:00:00.0,11599,CLOSED\\n2,2013-07-25 00:00:00.0,256,PENDING_PAYMENT\\n3,2013-07-25 00:00:00.0,12111,COMPLETE\\n4,2013-07-25 00:00:00.0,8827,CLOSED\\n5,2013-07-25 00:00:00.0,11318,COMPLETE\\n6,2013-07-25 00:00:00.0,7130,COMPLETE\\n7,2013-07-25 00:00:00.0,4530,COMPLETE\\n8,2013-07-25 00:00:00.0,2911,PROCESSING\\n9,2013-07-25 00:00:00.0,5657,PENDING_PAYMENT\\n10,2013-07-25 00:00:00.0,5648,PENDING_PAYMENT'"
      ]
     },
     "execution_count": 27,
     "metadata": {},
     "output_type": "execute_result"
    }
   ],
   "source": [
    "orders_string"
   ]
  },
  {
   "cell_type": "code",
   "execution_count": 28,
   "id": "07ed8fec",
   "metadata": {},
   "outputs": [],
   "source": [
    "orders_file = open('data/retail_db/orders/part-00000', 'w')"
   ]
  },
  {
   "cell_type": "code",
   "execution_count": 29,
   "id": "0a45dc6f",
   "metadata": {},
   "outputs": [
    {
     "data": {
      "text/plain": [
       "401"
      ]
     },
     "execution_count": 29,
     "metadata": {},
     "output_type": "execute_result"
    }
   ],
   "source": [
    "orders_file.write(orders_string)"
   ]
  },
  {
   "cell_type": "code",
   "execution_count": 30,
   "id": "e9df0e47",
   "metadata": {},
   "outputs": [],
   "source": [
    "orders_file.close()"
   ]
  },
  {
   "cell_type": "code",
   "execution_count": null,
   "id": "48bf3946",
   "metadata": {},
   "outputs": [],
   "source": []
  }
 ],
 "metadata": {
  "kernelspec": {
   "display_name": "Python 3",
   "language": "python",
   "name": "python3"
  },
  "language_info": {
   "codemirror_mode": {
    "name": "ipython",
    "version": 3
   },
   "file_extension": ".py",
   "mimetype": "text/x-python",
   "name": "python",
   "nbconvert_exporter": "python",
   "pygments_lexer": "ipython3",
   "version": "3.6.12"
  }
 },
 "nbformat": 4,
 "nbformat_minor": 5
}
