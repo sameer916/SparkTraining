{
 "cells": [
  {
   "cell_type": "markdown",
   "id": "8b72e3a7",
   "metadata": {},
   "source": [
    "## Overview of CSV Module\n",
    "\n",
    "Let us get an overview of CSV Module. It provide some wrapper functions to provide structure to the delimited data in collections as well as to write the collections back in the form of delimited records.\n",
    "* You need to import `csv` module to use the functions that are part of it.\n",
    "* It exposes several APIs to deal with collections which contain delimited strings. Most of them are to read and write."
   ]
  },
  {
   "cell_type": "code",
   "execution_count": 1,
   "id": "77dd16bf",
   "metadata": {},
   "outputs": [],
   "source": [
    "import csv"
   ]
  },
  {
   "cell_type": "markdown",
   "id": "e52535a5",
   "metadata": {},
   "source": [
    "* Let us see how we can read the list with delimited strings using `csv.reader`."
   ]
  },
  {
   "cell_type": "code",
   "execution_count": 2,
   "id": "86a1bb4a",
   "metadata": {},
   "outputs": [],
   "source": [
    "l = ['1,Scott,Tiger', '2,Donald,Duck']"
   ]
  },
  {
   "cell_type": "code",
   "execution_count": 3,
   "id": "eef6ef94",
   "metadata": {},
   "outputs": [
    {
     "data": {
      "text/plain": [
       "\u001b[0;31mDocstring:\u001b[0m\n",
       "csv_reader = reader(iterable [, dialect='excel']\n",
       "                        [optional keyword args])\n",
       "    for row in csv_reader:\n",
       "        process(row)\n",
       "\n",
       "The \"iterable\" argument can be any object that returns a line\n",
       "of input for each iteration, such as a file object or a list.  The\n",
       "optional \"dialect\" parameter is discussed below.  The function\n",
       "also accepts optional keyword arguments which override settings\n",
       "provided by the dialect.\n",
       "\n",
       "The returned object is an iterator.  Each iteration returns a row\n",
       "of the CSV file (which can span multiple input lines).\n",
       "\u001b[0;31mType:\u001b[0m      builtin_function_or_method\n"
      ]
     },
     "metadata": {},
     "output_type": "display_data"
    }
   ],
   "source": [
    "csv.reader?"
   ]
  },
  {
   "cell_type": "code",
   "execution_count": 4,
   "id": "9e52efaf",
   "metadata": {},
   "outputs": [
    {
     "data": {
      "text/plain": [
       "<_csv.reader at 0x7f418def0438>"
      ]
     },
     "execution_count": 4,
     "metadata": {},
     "output_type": "execute_result"
    }
   ],
   "source": [
    "csv.reader(l)"
   ]
  },
  {
   "cell_type": "code",
   "execution_count": 5,
   "id": "21c3b8ac",
   "metadata": {},
   "outputs": [
    {
     "data": {
      "text/plain": [
       "[['1', 'Scott', 'Tiger'], ['2', 'Donald', 'Duck']]"
      ]
     },
     "execution_count": 5,
     "metadata": {},
     "output_type": "execute_result"
    }
   ],
   "source": [
    "list(csv.reader(l))"
   ]
  },
  {
   "cell_type": "code",
   "execution_count": 6,
   "id": "01dd83e1",
   "metadata": {},
   "outputs": [
    {
     "name": "stdout",
     "output_type": "stream",
     "text": [
      "['1', 'Scott', 'Tiger']\n",
      "['2', 'Donald', 'Duck']\n"
     ]
    }
   ],
   "source": [
    "for item in list(csv.reader(l)):\n",
    "    print(item)"
   ]
  },
  {
   "cell_type": "code",
   "execution_count": 7,
   "id": "17c10025",
   "metadata": {},
   "outputs": [],
   "source": [
    "l = ['1\\tScott\\tTiger', '2\\tDonald\\tDuck']"
   ]
  },
  {
   "cell_type": "code",
   "execution_count": 8,
   "id": "5766455b",
   "metadata": {},
   "outputs": [
    {
     "data": {
      "text/plain": [
       "[['1', 'Scott', 'Tiger'], ['2', 'Donald', 'Duck']]"
      ]
     },
     "execution_count": 8,
     "metadata": {},
     "output_type": "execute_result"
    }
   ],
   "source": [
    "list(csv.reader(l, delimiter='\\t'))"
   ]
  },
  {
   "cell_type": "code",
   "execution_count": 16,
   "id": "8e0bc4b2",
   "metadata": {},
   "outputs": [],
   "source": [
    "lt = [(1, 'Scott', 'Tiger'), (2, 'Donald', 'Duck')]"
   ]
  },
  {
   "cell_type": "markdown",
   "id": "973bd001",
   "metadata": {},
   "source": [
    "Now let us see how we can write list of tuples to the file using `csv.writer`.\n",
    "* First we need to create file object in write mode.\n",
    "* We need to create csv writer object using `csv.writer`. By default, the object will be created with `,` as delimiter or separator.\n",
    "* We can pass key word argument `delimiter` along with the character using which we want the data to be separated by using specific character."
   ]
  },
  {
   "cell_type": "code",
   "execution_count": 9,
   "id": "8a55e8f2",
   "metadata": {},
   "outputs": [
    {
     "data": {
      "text/plain": [
       "\u001b[0;31mDocstring:\u001b[0m\n",
       "csv_writer = csv.writer(fileobj [, dialect='excel']\n",
       "                            [optional keyword args])\n",
       "    for row in sequence:\n",
       "        csv_writer.writerow(row)\n",
       "\n",
       "    [or]\n",
       "\n",
       "    csv_writer = csv.writer(fileobj [, dialect='excel']\n",
       "                            [optional keyword args])\n",
       "    csv_writer.writerows(rows)\n",
       "\n",
       "The \"fileobj\" argument can be any object that supports the file API.\n",
       "\u001b[0;31mType:\u001b[0m      builtin_function_or_method\n"
      ]
     },
     "metadata": {},
     "output_type": "display_data"
    }
   ],
   "source": [
    "csv.writer?"
   ]
  },
  {
   "cell_type": "code",
   "execution_count": 10,
   "id": "a2509088",
   "metadata": {},
   "outputs": [],
   "source": [
    "!mkdir -p data/users"
   ]
  },
  {
   "cell_type": "code",
   "execution_count": 11,
   "id": "09ff77d9",
   "metadata": {},
   "outputs": [],
   "source": [
    "!rm -f data/users/part-00000"
   ]
  },
  {
   "cell_type": "code",
   "execution_count": 12,
   "id": "3e91b123",
   "metadata": {},
   "outputs": [],
   "source": [
    "users_file = open('data/users/part-00000', 'w')"
   ]
  },
  {
   "cell_type": "code",
   "execution_count": 13,
   "id": "530e0f79",
   "metadata": {},
   "outputs": [],
   "source": [
    "csv_writer = csv.writer(users_file)"
   ]
  },
  {
   "cell_type": "code",
   "execution_count": 14,
   "id": "087fe2a0",
   "metadata": {},
   "outputs": [
    {
     "data": {
      "text/plain": [
       "<_csv.writer at 0x7f418def1ba0>"
      ]
     },
     "execution_count": 14,
     "metadata": {},
     "output_type": "execute_result"
    }
   ],
   "source": [
    "csv_writer"
   ]
  },
  {
   "cell_type": "code",
   "execution_count": 17,
   "id": "b08b6881",
   "metadata": {},
   "outputs": [],
   "source": [
    "csv_writer.writerows(lt)"
   ]
  },
  {
   "cell_type": "code",
   "execution_count": 18,
   "id": "0289ffcd",
   "metadata": {},
   "outputs": [],
   "source": [
    "users_file.close()"
   ]
  },
  {
   "cell_type": "code",
   "execution_count": 19,
   "id": "3e4ad63d",
   "metadata": {},
   "outputs": [
    {
     "name": "stdout",
     "output_type": "stream",
     "text": [
      "-rw-r--r-- 1 itversity itversity 30 Aug  7 21:05 data/users/part-00000\n"
     ]
    }
   ],
   "source": [
    "!ls -ltr data/users/part-00000"
   ]
  },
  {
   "cell_type": "code",
   "execution_count": 20,
   "id": "c00dfd6f",
   "metadata": {},
   "outputs": [
    {
     "name": "stdout",
     "output_type": "stream",
     "text": [
      "1,Scott,Tiger\n",
      "2,Donald,Duck\n"
     ]
    }
   ],
   "source": [
    "!cat data/users/part-00000"
   ]
  },
  {
   "cell_type": "markdown",
   "id": "5d2294d3",
   "metadata": {},
   "source": [
    "* Let us see an example to write the data to the file using `|` as delimiter."
   ]
  },
  {
   "cell_type": "code",
   "execution_count": 21,
   "id": "2c2cafd4",
   "metadata": {},
   "outputs": [],
   "source": [
    "!mkdir -p data/users"
   ]
  },
  {
   "cell_type": "code",
   "execution_count": 22,
   "id": "32910c9f",
   "metadata": {},
   "outputs": [],
   "source": [
    "!rm -f data/users/part-00000"
   ]
  },
  {
   "cell_type": "code",
   "execution_count": 23,
   "id": "52637c9d",
   "metadata": {},
   "outputs": [],
   "source": [
    "users_file = open('data/users/part-00000', 'w')"
   ]
  },
  {
   "cell_type": "code",
   "execution_count": 24,
   "id": "01742511",
   "metadata": {},
   "outputs": [],
   "source": [
    "csv_writer = csv.writer(users_file, delimiter='|')"
   ]
  },
  {
   "cell_type": "code",
   "execution_count": 25,
   "id": "52eba4ca",
   "metadata": {},
   "outputs": [],
   "source": [
    "csv_writer.writerows(lt)"
   ]
  },
  {
   "cell_type": "code",
   "execution_count": 26,
   "id": "7b0108be",
   "metadata": {},
   "outputs": [],
   "source": [
    "users_file.close()"
   ]
  },
  {
   "cell_type": "code",
   "execution_count": 27,
   "id": "7370e68d",
   "metadata": {},
   "outputs": [
    {
     "name": "stdout",
     "output_type": "stream",
     "text": [
      "-rw-r--r-- 1 itversity itversity 30 Aug  7 21:06 data/users/part-00000\n"
     ]
    }
   ],
   "source": [
    "!ls -ltr data/users/part-00000"
   ]
  },
  {
   "cell_type": "code",
   "execution_count": 28,
   "id": "7543ec59",
   "metadata": {},
   "outputs": [
    {
     "name": "stdout",
     "output_type": "stream",
     "text": [
      "1|Scott|Tiger\n",
      "2|Donald|Duck\n"
     ]
    }
   ],
   "source": [
    "!cat data/users/part-00000"
   ]
  },
  {
   "cell_type": "code",
   "execution_count": null,
   "id": "7db7f99c",
   "metadata": {},
   "outputs": [],
   "source": []
  }
 ],
 "metadata": {
  "kernelspec": {
   "display_name": "Python 3",
   "language": "python",
   "name": "python3"
  },
  "language_info": {
   "codemirror_mode": {
    "name": "ipython",
    "version": 3
   },
   "file_extension": ".py",
   "mimetype": "text/x-python",
   "name": "python",
   "nbconvert_exporter": "python",
   "pygments_lexer": "ipython3",
   "version": "3.6.12"
  }
 },
 "nbformat": 4,
 "nbformat_minor": 5
}
