{
 "cells": [
  {
   "cell_type": "markdown",
   "id": "6e2b87bb",
   "metadata": {},
   "source": [
    "## Apply Schema on the lists from files"
   ]
  },
  {
   "cell_type": "code",
   "execution_count": null,
   "id": "6bd3c570",
   "metadata": {},
   "outputs": [],
   "source": []
  }
 ],
 "metadata": {
  "kernelspec": {
   "display_name": "Python 3",
   "language": "python",
   "name": "python3"
  },
  "language_info": {
   "codemirror_mode": {
    "name": "ipython",
    "version": 3
   },
   "file_extension": ".py",
   "mimetype": "text/x-python",
   "name": "python",
   "nbconvert_exporter": "python",
   "pygments_lexer": "ipython3",
   "version": "3.6.12"
  }
 },
 "nbformat": 4,
 "nbformat_minor": 5
}
