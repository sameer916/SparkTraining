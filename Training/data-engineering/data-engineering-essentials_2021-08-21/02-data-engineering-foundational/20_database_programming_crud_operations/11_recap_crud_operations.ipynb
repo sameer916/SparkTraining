{
 "cells": [
  {
   "cell_type": "markdown",
   "metadata": {},
   "source": [
    "## Recap - CRUD Operations\n",
    "\n",
    "Let us recap the process of performing CRUD operations\n",
    "\n",
    "* Establish connection to the database - Create Connection Object\n",
    "* Create Cursor Object using Connection Object - `connection.cursor`.\n",
    "* Build Statement to perform one or more `INSERT`, `UPDATE` or `DELETE`.\n",
    "* When we perform DML operations as part of transactions such as `INSERT`, `UPDATE` or `DELETE` make sure transactions without exceptions are committed and transactions with exceptions are rolled back.\n",
    "* Make sure cursors as well as connections are closed\n",
    "* If the database operation involves select only, then we don't need to commit or rollback. `SELECT` only reads the data, it will not make any changes to the data in the database."
   ]
  },
  {
   "cell_type": "code",
   "execution_count": 2,
   "metadata": {
    "tags": [
     "remove-cell"
    ]
   },
   "outputs": [
    {
     "data": {
      "text/html": [
       "<iframe width=\"560\" height=\"315\" src=\"https://www.youtube.com/embed/ecuw7qao64I?rel=0&amp;controls=1&amp;showinfo=0\" frameborder=\"0\" allowfullscreen></iframe>\n"
      ],
      "text/plain": [
       "<IPython.core.display.HTML object>"
      ]
     },
     "metadata": {},
     "output_type": "display_data"
    }
   ],
   "source": [
    "%%HTML\n",
    "<iframe width=\"560\" height=\"315\" src=\"https://www.youtube.com/embed/ecuw7qao64I?rel=0&amp;controls=1&amp;showinfo=0\" frameborder=\"0\" allowfullscreen></iframe>"
   ]
  },
  {
   "cell_type": "code",
   "execution_count": null,
   "metadata": {},
   "outputs": [],
   "source": []
  }
 ],
 "metadata": {
  "kernelspec": {
   "display_name": "Python 3",
   "language": "python",
   "name": "python3"
  },
  "language_info": {
   "codemirror_mode": {
    "name": "ipython",
    "version": 3
   },
   "file_extension": ".py",
   "mimetype": "text/x-python",
   "name": "python",
   "nbconvert_exporter": "python",
   "pygments_lexer": "ipython3",
   "version": "3.6.12"
  }
 },
 "nbformat": 4,
 "nbformat_minor": 4
}
