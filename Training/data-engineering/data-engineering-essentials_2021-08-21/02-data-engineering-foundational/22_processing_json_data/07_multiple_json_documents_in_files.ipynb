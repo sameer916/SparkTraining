{
 "cells": [
  {
   "cell_type": "markdown",
   "metadata": {},
   "source": [
    "## Multiple JSON Documents in files\n",
    "\n",
    "At times we might have multiple JSON documents in a text file. Typically, we will have one valid JSON per line. Let us understand the process of reading a file where there are multiple JSON documents one per line.\n",
    "* If you use `pandas`, it is straight forward. However, we will talk about using `pandas` later.\n",
    "* We cannot use `json` module directly. Here are the steps to use JSON module.\n",
    "  * Create file type object by passing the path to `open`.\n",
    "  * Use `read` to read the content in the file into a string.\n",
    "  * Once string object is created, we can use `splitlines` to convert these lines into list of strings. Here each element is of type string which contain json.\n",
    "  * Now we can iterate through the elements and convert each string with JSON to dict using `json.loads`."
   ]
  },
  {
   "cell_type": "code",
   "execution_count": 1,
   "metadata": {},
   "outputs": [],
   "source": [
    "import json"
   ]
  },
  {
   "cell_type": "code",
   "execution_count": null,
   "metadata": {},
   "outputs": [],
   "source": [
    "json.load?"
   ]
  },
  {
   "cell_type": "code",
   "execution_count": null,
   "metadata": {},
   "outputs": [],
   "source": [
    "json.load(open('customers.json'))"
   ]
  },
  {
   "cell_type": "markdown",
   "metadata": {},
   "source": [
    "* Create file type object by passing the path to `open`."
   ]
  },
  {
   "cell_type": "code",
   "execution_count": 4,
   "metadata": {},
   "outputs": [
    {
     "data": {
      "text/plain": [
       "_io.TextIOWrapper"
      ]
     },
     "execution_count": 4,
     "metadata": {},
     "output_type": "execute_result"
    }
   ],
   "source": [
    "type(open('customers.json'))"
   ]
  },
  {
   "cell_type": "markdown",
   "metadata": {},
   "source": [
    "* Use `read` to read the content in the file into a string."
   ]
  },
  {
   "cell_type": "code",
   "execution_count": 5,
   "metadata": {},
   "outputs": [
    {
     "data": {
      "text/plain": [
       "str"
      ]
     },
     "execution_count": 5,
     "metadata": {},
     "output_type": "execute_result"
    }
   ],
   "source": [
    "type(open('customers.json').read())"
   ]
  },
  {
   "cell_type": "code",
   "execution_count": 6,
   "metadata": {},
   "outputs": [
    {
     "data": {
      "text/plain": [
       "'{\"id\":1,\"first_name\":\"Frasco\",\"last_name\":\"Necolds\",\"email\":\"fnecolds0@vk.com\",\"gender\":\"Male\",\"ip_address\":\"243.67.63.34\"}\\n{\"id\":2,\"first_name\":\"Dulce\",\"last_name\":\"Santos\",\"email\":\"dsantos1@mashable.com\",\"gender\":\"Female\",\"ip_address\":\"60.30.246.227\"}\\n{\"id\":3,\"first_name\":\"Prissie\",\"last_name\":\"Tebbett\",\"email\":\"ptebbett2@infoseek.co.jp\",\"gender\":\"Genderfluid\",\"ip_address\":\"22.21.162.56\"}\\n{\"id\":4,\"first_name\":\"Schuyler\",\"last_name\":\"Coppledike\",\"email\":\"scoppledike3@gnu.org\",\"gender\":\"Agender\",\"ip_address\":\"120.35.186.161\"}\\n{\"id\":5,\"first_name\":\"Leopold\",\"last_name\":\"Jarred\",\"email\":\"ljarred4@wp.com\",\"gender\":\"Agender\",\"ip_address\":\"30.119.34.4\"}\\n{\"id\":6,\"first_name\":\"Joanna\",\"last_name\":\"Teager\",\"email\":\"jteager5@apache.org\",\"gender\":\"Bigender\",\"ip_address\":\"245.221.176.34\"}\\n{\"id\":7,\"first_name\":\"Lion\",\"last_name\":\"Beere\",\"email\":\"lbeere6@bloomberg.com\",\"gender\":\"Polygender\",\"ip_address\":\"105.54.139.46\"}\\n{\"id\":8,\"first_name\":\"Marabel\",\"last_name\":\"Wornum\",\"email\":\"mwornum7@posterous.com\",\"gender\":\"Polygender\",\"ip_address\":\"247.229.14.25\"}\\n{\"id\":9,\"first_name\":\"Helenka\",\"last_name\":\"Mullender\",\"email\":\"hmullender8@cloudflare.com\",\"gender\":\"Non-binary\",\"ip_address\":\"133.216.118.88\"}\\n{\"id\":10,\"first_name\":\"Christine\",\"last_name\":\"Swane\",\"email\":\"cswane9@shop-pro.jp\",\"gender\":\"Polygender\",\"ip_address\":\"86.16.210.164\"}'"
      ]
     },
     "execution_count": 6,
     "metadata": {},
     "output_type": "execute_result"
    }
   ],
   "source": [
    "open('customers.json').read()"
   ]
  },
  {
   "cell_type": "markdown",
   "metadata": {},
   "source": [
    "* Once string object is created, we can use `splitlines` to convert these lines into list of strings. Here each element is of type string which contain json."
   ]
  },
  {
   "cell_type": "code",
   "execution_count": 7,
   "metadata": {},
   "outputs": [],
   "source": [
    "customers_str_list = open('customers.json').read().splitlines()"
   ]
  },
  {
   "cell_type": "code",
   "execution_count": 8,
   "metadata": {},
   "outputs": [
    {
     "data": {
      "text/plain": [
       "list"
      ]
     },
     "execution_count": 8,
     "metadata": {},
     "output_type": "execute_result"
    }
   ],
   "source": [
    "type(customers_str_list)"
   ]
  },
  {
   "cell_type": "markdown",
   "metadata": {},
   "source": [
    "* Each element in the list is of type string."
   ]
  },
  {
   "cell_type": "code",
   "execution_count": 9,
   "metadata": {},
   "outputs": [
    {
     "data": {
      "text/plain": [
       "str"
      ]
     },
     "execution_count": 9,
     "metadata": {},
     "output_type": "execute_result"
    }
   ],
   "source": [
    "type(customers_str_list[0])"
   ]
  },
  {
   "cell_type": "code",
   "execution_count": 10,
   "metadata": {},
   "outputs": [
    {
     "data": {
      "text/plain": [
       "10"
      ]
     },
     "execution_count": 10,
     "metadata": {},
     "output_type": "execute_result"
    }
   ],
   "source": [
    "len(customers_str_list)"
   ]
  },
  {
   "cell_type": "code",
   "execution_count": 11,
   "metadata": {},
   "outputs": [
    {
     "data": {
      "text/plain": [
       "'{\"id\":1,\"first_name\":\"Frasco\",\"last_name\":\"Necolds\",\"email\":\"fnecolds0@vk.com\",\"gender\":\"Male\",\"ip_address\":\"243.67.63.34\"}'"
      ]
     },
     "execution_count": 11,
     "metadata": {},
     "output_type": "execute_result"
    }
   ],
   "source": [
    "customers_str_list[0]"
   ]
  },
  {
   "cell_type": "code",
   "execution_count": 13,
   "metadata": {},
   "outputs": [
    {
     "data": {
      "text/plain": [
       "{'id': 1,\n",
       " 'first_name': 'Frasco',\n",
       " 'last_name': 'Necolds',\n",
       " 'email': 'fnecolds0@vk.com',\n",
       " 'gender': 'Male',\n",
       " 'ip_address': '243.67.63.34'}"
      ]
     },
     "execution_count": 13,
     "metadata": {},
     "output_type": "execute_result"
    }
   ],
   "source": [
    "json.loads(customers_str_list[0])"
   ]
  },
  {
   "cell_type": "code",
   "execution_count": 12,
   "metadata": {},
   "outputs": [
    {
     "data": {
      "text/plain": [
       "['{\"id\":1,\"first_name\":\"Frasco\",\"last_name\":\"Necolds\",\"email\":\"fnecolds0@vk.com\",\"gender\":\"Male\",\"ip_address\":\"243.67.63.34\"}',\n",
       " '{\"id\":2,\"first_name\":\"Dulce\",\"last_name\":\"Santos\",\"email\":\"dsantos1@mashable.com\",\"gender\":\"Female\",\"ip_address\":\"60.30.246.227\"}',\n",
       " '{\"id\":3,\"first_name\":\"Prissie\",\"last_name\":\"Tebbett\",\"email\":\"ptebbett2@infoseek.co.jp\",\"gender\":\"Genderfluid\",\"ip_address\":\"22.21.162.56\"}']"
      ]
     },
     "execution_count": 12,
     "metadata": {},
     "output_type": "execute_result"
    }
   ],
   "source": [
    "customers_str_list[:3]"
   ]
  },
  {
   "cell_type": "markdown",
   "metadata": {},
   "source": [
    "* Now we can iterate through the elements and convert each string with JSON to dict using `json.loads`."
   ]
  },
  {
   "cell_type": "code",
   "execution_count": 14,
   "metadata": {},
   "outputs": [],
   "source": [
    "customers_dict_list = [json.loads(customer) for customer in customers_str_list]"
   ]
  },
  {
   "cell_type": "code",
   "execution_count": 15,
   "metadata": {},
   "outputs": [
    {
     "data": {
      "text/plain": [
       "list"
      ]
     },
     "execution_count": 15,
     "metadata": {},
     "output_type": "execute_result"
    }
   ],
   "source": [
    "type(customers_dict_list)"
   ]
  },
  {
   "cell_type": "code",
   "execution_count": 16,
   "metadata": {},
   "outputs": [
    {
     "data": {
      "text/plain": [
       "dict"
      ]
     },
     "execution_count": 16,
     "metadata": {},
     "output_type": "execute_result"
    }
   ],
   "source": [
    "type(customers_dict_list[0])"
   ]
  },
  {
   "cell_type": "code",
   "execution_count": 17,
   "metadata": {},
   "outputs": [
    {
     "data": {
      "text/plain": [
       "{'id': 1,\n",
       " 'first_name': 'Frasco',\n",
       " 'last_name': 'Necolds',\n",
       " 'email': 'fnecolds0@vk.com',\n",
       " 'gender': 'Male',\n",
       " 'ip_address': '243.67.63.34'}"
      ]
     },
     "execution_count": 17,
     "metadata": {},
     "output_type": "execute_result"
    }
   ],
   "source": [
    "customers_dict_list[0]"
   ]
  },
  {
   "cell_type": "markdown",
   "metadata": {},
   "source": [
    "* Here is the logic to convert list of strings to list of dicts using `map` function."
   ]
  },
  {
   "cell_type": "code",
   "execution_count": 18,
   "metadata": {},
   "outputs": [],
   "source": [
    "customers_dict_list = list(map(json.loads, customers_str_list))"
   ]
  },
  {
   "cell_type": "code",
   "execution_count": 19,
   "metadata": {},
   "outputs": [
    {
     "data": {
      "text/plain": [
       "list"
      ]
     },
     "execution_count": 19,
     "metadata": {},
     "output_type": "execute_result"
    }
   ],
   "source": [
    "type(customers_dict_list)"
   ]
  },
  {
   "cell_type": "code",
   "execution_count": 20,
   "metadata": {},
   "outputs": [
    {
     "data": {
      "text/plain": [
       "dict"
      ]
     },
     "execution_count": 20,
     "metadata": {},
     "output_type": "execute_result"
    }
   ],
   "source": [
    "type(customers_dict_list[0])"
   ]
  },
  {
   "cell_type": "code",
   "execution_count": 21,
   "metadata": {},
   "outputs": [
    {
     "data": {
      "text/plain": [
       "{'id': 1,\n",
       " 'first_name': 'Frasco',\n",
       " 'last_name': 'Necolds',\n",
       " 'email': 'fnecolds0@vk.com',\n",
       " 'gender': 'Male',\n",
       " 'ip_address': '243.67.63.34'}"
      ]
     },
     "execution_count": 21,
     "metadata": {},
     "output_type": "execute_result"
    }
   ],
   "source": [
    "customers_dict_list[0]"
   ]
  },
  {
   "cell_type": "code",
   "execution_count": null,
   "metadata": {},
   "outputs": [],
   "source": []
  }
 ],
 "metadata": {
  "kernelspec": {
   "display_name": "Python 3",
   "language": "python",
   "name": "python3"
  },
  "language_info": {
   "codemirror_mode": {
    "name": "ipython",
    "version": 3
   },
   "file_extension": ".py",
   "mimetype": "text/x-python",
   "name": "python",
   "nbconvert_exporter": "python",
   "pygments_lexer": "ipython3",
   "version": "3.6.12"
  }
 },
 "nbformat": 4,
 "nbformat_minor": 4
}
