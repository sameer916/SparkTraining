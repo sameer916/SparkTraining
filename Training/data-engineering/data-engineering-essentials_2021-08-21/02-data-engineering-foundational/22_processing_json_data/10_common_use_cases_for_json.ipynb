{
 "cells": [
  {
   "cell_type": "markdown",
   "id": "8e2ae6ae",
   "metadata": {},
   "source": [
    "## Common Use Cases for JSON\n",
    "\n",
    "Here are some of the common use cases for JSON.\n",
    "* Read data from JSON files.\n",
    "* Write data to JSON files.\n",
    "* We can use either `json` or `pandas` modules to read data from JSON files or write data to JSON files. One need to be familiar with both the approaches as each of them have different use cases and capabilities.\n",
    "* Read JSON based response payloads on REST API Calls. We use `requests` module to process the REST API response Payloads.\n",
    "* Once the payload is returned, we can use appropriate modules to process the data further."
   ]
  },
  {
   "cell_type": "markdown",
   "id": "77c0ca19",
   "metadata": {},
   "source": [
    "### Read Data from JSON files\n",
    "\n",
    "Here are the steps involved in reading data from JSON files.\n",
    "* Using `json` module\n",
    "  * Create file object using `open` in read only mode.\n",
    "  * Pass the the `file` object to `json.load`.\n",
    "  * `json.load` will return `dict`. We can process the data further using appropriate modules.\n",
    "* Using `pandas` module\n",
    "  * Use the path for the file to invoke `read_json`.\n",
    "  * A Pandas Data Frame will be created.\n",
    "  * We can process data further using rich APIs available in `pandas` module."
   ]
  },
  {
   "cell_type": "code",
   "execution_count": 1,
   "id": "5cef7116",
   "metadata": {},
   "outputs": [
    {
     "data": {
      "text/plain": [
       "dict"
      ]
     },
     "execution_count": 1,
     "metadata": {},
     "output_type": "execute_result"
    }
   ],
   "source": [
    "# Using json module\n",
    "import json\n",
    "\n",
    "yt_file = open('youtube_playlist_items.json')\n",
    "yt_items = json.load(yt_file)\n",
    "\n",
    "type(yt_items)"
   ]
  },
  {
   "cell_type": "code",
   "execution_count": 2,
   "id": "924c5a7a",
   "metadata": {},
   "outputs": [
    {
     "data": {
      "text/plain": [
       "dict_keys(['kind', 'etag', 'nextPageToken', 'items', 'pageInfo'])"
      ]
     },
     "execution_count": 2,
     "metadata": {},
     "output_type": "execute_result"
    }
   ],
   "source": [
    "yt_items.keys()"
   ]
  },
  {
   "cell_type": "code",
   "execution_count": 3,
   "id": "9b979689",
   "metadata": {},
   "outputs": [
    {
     "data": {
      "text/plain": [
       "[{'kind': 'youtube#playlistItem',\n",
       "  'etag': 'SGHDydc4dLsY2RjfXTPneb_zc_s',\n",
       "  'id': 'UExmMHN3VEZoVEk4cmtINHlJZm95VEFoZUVHaldJUnRQRy5EQkE3RTJCQTJEQkFBQTcz',\n",
       "  'contentDetails': {'videoId': 'ETZJln4jtAo',\n",
       "   'videoPublishedAt': '2020-11-28T16:29:47Z'},\n",
       "  'status': {'privacyStatus': 'public'}},\n",
       " {'kind': 'youtube#playlistItem',\n",
       "  'etag': '5EFUNhJBvcwXPxO416VYQsXGzMo',\n",
       "  'id': 'UExmMHN3VEZoVEk4cmtINHlJZm95VEFoZUVHaldJUnRQRy4yQzk4QTA5QjkzMTFFOEI1',\n",
       "  'contentDetails': {'videoId': '1OVHjHTkP3M',\n",
       "   'videoPublishedAt': '2020-11-28T16:30:12Z'},\n",
       "  'status': {'privacyStatus': 'public'}},\n",
       " {'kind': 'youtube#playlistItem',\n",
       "  'etag': 'TiKqB2aeYxJjMGKQ0yLMJY0vpQE',\n",
       "  'id': 'UExmMHN3VEZoVEk4cmtINHlJZm95VEFoZUVHaldJUnRQRy45NDlDQUFFOThDMTAxQjUw',\n",
       "  'contentDetails': {'videoId': 'qfUbPLsLQcQ',\n",
       "   'videoPublishedAt': '2020-11-28T16:30:33Z'},\n",
       "  'status': {'privacyStatus': 'public'}},\n",
       " {'kind': 'youtube#playlistItem',\n",
       "  'etag': 'vQrJOpYdXmGJuV32kjj2xqvSByc',\n",
       "  'id': 'UExmMHN3VEZoVEk4cmtINHlJZm95VEFoZUVHaldJUnRQRy4xN0Y2QjVBOEI2MzQ5OUM5',\n",
       "  'contentDetails': {'videoId': 'rLTbhSaXhSM',\n",
       "   'videoPublishedAt': '2020-11-28T16:30:52Z'},\n",
       "  'status': {'privacyStatus': 'public'}},\n",
       " {'kind': 'youtube#playlistItem',\n",
       "  'etag': '2CzGUToIgqywXAr4wuPswj9MuFg',\n",
       "  'id': 'UExmMHN3VEZoVEk4cmtINHlJZm95VEFoZUVHaldJUnRQRy5FQUY2Qzk4RUFDN0ZFRkZF',\n",
       "  'contentDetails': {'videoId': 'wP7BhXrJKR8',\n",
       "   'videoPublishedAt': '2020-11-28T16:31:14Z'},\n",
       "  'status': {'privacyStatus': 'public'}}]"
      ]
     },
     "execution_count": 3,
     "metadata": {},
     "output_type": "execute_result"
    }
   ],
   "source": [
    "yt_items['items']"
   ]
  },
  {
   "cell_type": "code",
   "execution_count": 4,
   "id": "e30d42a7",
   "metadata": {},
   "outputs": [
    {
     "data": {
      "text/plain": [
       "[{'videoId': 'ETZJln4jtAo', 'videoPublishedAt': '2020-11-28T16:29:47Z'},\n",
       " {'videoId': '1OVHjHTkP3M', 'videoPublishedAt': '2020-11-28T16:30:12Z'},\n",
       " {'videoId': 'qfUbPLsLQcQ', 'videoPublishedAt': '2020-11-28T16:30:33Z'},\n",
       " {'videoId': 'rLTbhSaXhSM', 'videoPublishedAt': '2020-11-28T16:30:52Z'},\n",
       " {'videoId': 'wP7BhXrJKR8', 'videoPublishedAt': '2020-11-28T16:31:14Z'}]"
      ]
     },
     "execution_count": 4,
     "metadata": {},
     "output_type": "execute_result"
    }
   ],
   "source": [
    "# Further data processing (get video id and published time)\n",
    "list(map(lambda rec: rec['contentDetails'], yt_items['items']))"
   ]
  },
  {
   "cell_type": "code",
   "execution_count": 9,
   "id": "546b924e",
   "metadata": {},
   "outputs": [],
   "source": [
    "# Using Pandas Module\n",
    "# As youtube items are part of nested json, we need to use both json and pandas\n",
    "\n",
    "import json\n",
    "import pandas as pd\n",
    "\n",
    "yt_file = open('youtube_playlist_items.json')\n",
    "yt_items = json.load(yt_file)"
   ]
  },
  {
   "cell_type": "code",
   "execution_count": 10,
   "id": "5fa6d22b",
   "metadata": {},
   "outputs": [
    {
     "data": {
      "text/plain": [
       "dict_keys(['kind', 'etag', 'nextPageToken', 'items', 'pageInfo'])"
      ]
     },
     "execution_count": 10,
     "metadata": {},
     "output_type": "execute_result"
    }
   ],
   "source": [
    "yt_items.keys()"
   ]
  },
  {
   "cell_type": "code",
   "execution_count": 11,
   "id": "52b58a89",
   "metadata": {},
   "outputs": [
    {
     "data": {
      "text/plain": [
       "{'kind': 'youtube#playlistItemListResponse',\n",
       " 'etag': 'lfs_qWNaczIydJ2Dlp1gmX9UTAc',\n",
       " 'nextPageToken': 'CAUQAA',\n",
       " 'items': [{'kind': 'youtube#playlistItem',\n",
       "   'etag': 'SGHDydc4dLsY2RjfXTPneb_zc_s',\n",
       "   'id': 'UExmMHN3VEZoVEk4cmtINHlJZm95VEFoZUVHaldJUnRQRy5EQkE3RTJCQTJEQkFBQTcz',\n",
       "   'contentDetails': {'videoId': 'ETZJln4jtAo',\n",
       "    'videoPublishedAt': '2020-11-28T16:29:47Z'},\n",
       "   'status': {'privacyStatus': 'public'}},\n",
       "  {'kind': 'youtube#playlistItem',\n",
       "   'etag': '5EFUNhJBvcwXPxO416VYQsXGzMo',\n",
       "   'id': 'UExmMHN3VEZoVEk4cmtINHlJZm95VEFoZUVHaldJUnRQRy4yQzk4QTA5QjkzMTFFOEI1',\n",
       "   'contentDetails': {'videoId': '1OVHjHTkP3M',\n",
       "    'videoPublishedAt': '2020-11-28T16:30:12Z'},\n",
       "   'status': {'privacyStatus': 'public'}},\n",
       "  {'kind': 'youtube#playlistItem',\n",
       "   'etag': 'TiKqB2aeYxJjMGKQ0yLMJY0vpQE',\n",
       "   'id': 'UExmMHN3VEZoVEk4cmtINHlJZm95VEFoZUVHaldJUnRQRy45NDlDQUFFOThDMTAxQjUw',\n",
       "   'contentDetails': {'videoId': 'qfUbPLsLQcQ',\n",
       "    'videoPublishedAt': '2020-11-28T16:30:33Z'},\n",
       "   'status': {'privacyStatus': 'public'}},\n",
       "  {'kind': 'youtube#playlistItem',\n",
       "   'etag': 'vQrJOpYdXmGJuV32kjj2xqvSByc',\n",
       "   'id': 'UExmMHN3VEZoVEk4cmtINHlJZm95VEFoZUVHaldJUnRQRy4xN0Y2QjVBOEI2MzQ5OUM5',\n",
       "   'contentDetails': {'videoId': 'rLTbhSaXhSM',\n",
       "    'videoPublishedAt': '2020-11-28T16:30:52Z'},\n",
       "   'status': {'privacyStatus': 'public'}},\n",
       "  {'kind': 'youtube#playlistItem',\n",
       "   'etag': '2CzGUToIgqywXAr4wuPswj9MuFg',\n",
       "   'id': 'UExmMHN3VEZoVEk4cmtINHlJZm95VEFoZUVHaldJUnRQRy5FQUY2Qzk4RUFDN0ZFRkZF',\n",
       "   'contentDetails': {'videoId': 'wP7BhXrJKR8',\n",
       "    'videoPublishedAt': '2020-11-28T16:31:14Z'},\n",
       "   'status': {'privacyStatus': 'public'}}],\n",
       " 'pageInfo': {'totalResults': 127, 'resultsPerPage': 5}}"
      ]
     },
     "execution_count": 11,
     "metadata": {},
     "output_type": "execute_result"
    }
   ],
   "source": [
    "yt_items"
   ]
  },
  {
   "cell_type": "code",
   "execution_count": null,
   "id": "8ab64533",
   "metadata": {},
   "outputs": [],
   "source": [
    "pd.json_normalize?"
   ]
  },
  {
   "cell_type": "code",
   "execution_count": 13,
   "id": "0597d6af",
   "metadata": {},
   "outputs": [],
   "source": [
    "yt_df = pd.json_normalize(yt_items, 'items')"
   ]
  },
  {
   "cell_type": "code",
   "execution_count": 14,
   "id": "692712de",
   "metadata": {},
   "outputs": [
    {
     "data": {
      "text/html": [
       "<div>\n",
       "<style scoped>\n",
       "    .dataframe tbody tr th:only-of-type {\n",
       "        vertical-align: middle;\n",
       "    }\n",
       "\n",
       "    .dataframe tbody tr th {\n",
       "        vertical-align: top;\n",
       "    }\n",
       "\n",
       "    .dataframe thead th {\n",
       "        text-align: right;\n",
       "    }\n",
       "</style>\n",
       "<table border=\"1\" class=\"dataframe\">\n",
       "  <thead>\n",
       "    <tr style=\"text-align: right;\">\n",
       "      <th></th>\n",
       "      <th>kind</th>\n",
       "      <th>etag</th>\n",
       "      <th>id</th>\n",
       "      <th>contentDetails.videoId</th>\n",
       "      <th>contentDetails.videoPublishedAt</th>\n",
       "      <th>status.privacyStatus</th>\n",
       "    </tr>\n",
       "  </thead>\n",
       "  <tbody>\n",
       "    <tr>\n",
       "      <th>0</th>\n",
       "      <td>youtube#playlistItem</td>\n",
       "      <td>SGHDydc4dLsY2RjfXTPneb_zc_s</td>\n",
       "      <td>UExmMHN3VEZoVEk4cmtINHlJZm95VEFoZUVHaldJUnRQRy...</td>\n",
       "      <td>ETZJln4jtAo</td>\n",
       "      <td>2020-11-28T16:29:47Z</td>\n",
       "      <td>public</td>\n",
       "    </tr>\n",
       "    <tr>\n",
       "      <th>1</th>\n",
       "      <td>youtube#playlistItem</td>\n",
       "      <td>5EFUNhJBvcwXPxO416VYQsXGzMo</td>\n",
       "      <td>UExmMHN3VEZoVEk4cmtINHlJZm95VEFoZUVHaldJUnRQRy...</td>\n",
       "      <td>1OVHjHTkP3M</td>\n",
       "      <td>2020-11-28T16:30:12Z</td>\n",
       "      <td>public</td>\n",
       "    </tr>\n",
       "    <tr>\n",
       "      <th>2</th>\n",
       "      <td>youtube#playlistItem</td>\n",
       "      <td>TiKqB2aeYxJjMGKQ0yLMJY0vpQE</td>\n",
       "      <td>UExmMHN3VEZoVEk4cmtINHlJZm95VEFoZUVHaldJUnRQRy...</td>\n",
       "      <td>qfUbPLsLQcQ</td>\n",
       "      <td>2020-11-28T16:30:33Z</td>\n",
       "      <td>public</td>\n",
       "    </tr>\n",
       "    <tr>\n",
       "      <th>3</th>\n",
       "      <td>youtube#playlistItem</td>\n",
       "      <td>vQrJOpYdXmGJuV32kjj2xqvSByc</td>\n",
       "      <td>UExmMHN3VEZoVEk4cmtINHlJZm95VEFoZUVHaldJUnRQRy...</td>\n",
       "      <td>rLTbhSaXhSM</td>\n",
       "      <td>2020-11-28T16:30:52Z</td>\n",
       "      <td>public</td>\n",
       "    </tr>\n",
       "    <tr>\n",
       "      <th>4</th>\n",
       "      <td>youtube#playlistItem</td>\n",
       "      <td>2CzGUToIgqywXAr4wuPswj9MuFg</td>\n",
       "      <td>UExmMHN3VEZoVEk4cmtINHlJZm95VEFoZUVHaldJUnRQRy...</td>\n",
       "      <td>wP7BhXrJKR8</td>\n",
       "      <td>2020-11-28T16:31:14Z</td>\n",
       "      <td>public</td>\n",
       "    </tr>\n",
       "  </tbody>\n",
       "</table>\n",
       "</div>"
      ],
      "text/plain": [
       "                   kind                         etag  \\\n",
       "0  youtube#playlistItem  SGHDydc4dLsY2RjfXTPneb_zc_s   \n",
       "1  youtube#playlistItem  5EFUNhJBvcwXPxO416VYQsXGzMo   \n",
       "2  youtube#playlistItem  TiKqB2aeYxJjMGKQ0yLMJY0vpQE   \n",
       "3  youtube#playlistItem  vQrJOpYdXmGJuV32kjj2xqvSByc   \n",
       "4  youtube#playlistItem  2CzGUToIgqywXAr4wuPswj9MuFg   \n",
       "\n",
       "                                                  id contentDetails.videoId  \\\n",
       "0  UExmMHN3VEZoVEk4cmtINHlJZm95VEFoZUVHaldJUnRQRy...            ETZJln4jtAo   \n",
       "1  UExmMHN3VEZoVEk4cmtINHlJZm95VEFoZUVHaldJUnRQRy...            1OVHjHTkP3M   \n",
       "2  UExmMHN3VEZoVEk4cmtINHlJZm95VEFoZUVHaldJUnRQRy...            qfUbPLsLQcQ   \n",
       "3  UExmMHN3VEZoVEk4cmtINHlJZm95VEFoZUVHaldJUnRQRy...            rLTbhSaXhSM   \n",
       "4  UExmMHN3VEZoVEk4cmtINHlJZm95VEFoZUVHaldJUnRQRy...            wP7BhXrJKR8   \n",
       "\n",
       "  contentDetails.videoPublishedAt status.privacyStatus  \n",
       "0            2020-11-28T16:29:47Z               public  \n",
       "1            2020-11-28T16:30:12Z               public  \n",
       "2            2020-11-28T16:30:33Z               public  \n",
       "3            2020-11-28T16:30:52Z               public  \n",
       "4            2020-11-28T16:31:14Z               public  "
      ]
     },
     "execution_count": 14,
     "metadata": {},
     "output_type": "execute_result"
    }
   ],
   "source": [
    "yt_df"
   ]
  },
  {
   "cell_type": "code",
   "execution_count": 15,
   "id": "d7ee5af6",
   "metadata": {},
   "outputs": [
    {
     "data": {
      "text/html": [
       "<div>\n",
       "<style scoped>\n",
       "    .dataframe tbody tr th:only-of-type {\n",
       "        vertical-align: middle;\n",
       "    }\n",
       "\n",
       "    .dataframe tbody tr th {\n",
       "        vertical-align: top;\n",
       "    }\n",
       "\n",
       "    .dataframe thead th {\n",
       "        text-align: right;\n",
       "    }\n",
       "</style>\n",
       "<table border=\"1\" class=\"dataframe\">\n",
       "  <thead>\n",
       "    <tr style=\"text-align: right;\">\n",
       "      <th></th>\n",
       "      <th>contentDetails.videoId</th>\n",
       "      <th>contentDetails.videoPublishedAt</th>\n",
       "    </tr>\n",
       "  </thead>\n",
       "  <tbody>\n",
       "    <tr>\n",
       "      <th>0</th>\n",
       "      <td>ETZJln4jtAo</td>\n",
       "      <td>2020-11-28T16:29:47Z</td>\n",
       "    </tr>\n",
       "    <tr>\n",
       "      <th>1</th>\n",
       "      <td>1OVHjHTkP3M</td>\n",
       "      <td>2020-11-28T16:30:12Z</td>\n",
       "    </tr>\n",
       "    <tr>\n",
       "      <th>2</th>\n",
       "      <td>qfUbPLsLQcQ</td>\n",
       "      <td>2020-11-28T16:30:33Z</td>\n",
       "    </tr>\n",
       "    <tr>\n",
       "      <th>3</th>\n",
       "      <td>rLTbhSaXhSM</td>\n",
       "      <td>2020-11-28T16:30:52Z</td>\n",
       "    </tr>\n",
       "    <tr>\n",
       "      <th>4</th>\n",
       "      <td>wP7BhXrJKR8</td>\n",
       "      <td>2020-11-28T16:31:14Z</td>\n",
       "    </tr>\n",
       "  </tbody>\n",
       "</table>\n",
       "</div>"
      ],
      "text/plain": [
       "  contentDetails.videoId contentDetails.videoPublishedAt\n",
       "0            ETZJln4jtAo            2020-11-28T16:29:47Z\n",
       "1            1OVHjHTkP3M            2020-11-28T16:30:12Z\n",
       "2            qfUbPLsLQcQ            2020-11-28T16:30:33Z\n",
       "3            rLTbhSaXhSM            2020-11-28T16:30:52Z\n",
       "4            wP7BhXrJKR8            2020-11-28T16:31:14Z"
      ]
     },
     "execution_count": 15,
     "metadata": {},
     "output_type": "execute_result"
    }
   ],
   "source": [
    "yt_df[['contentDetails.videoId', 'contentDetails.videoPublishedAt']]"
   ]
  },
  {
   "cell_type": "code",
   "execution_count": 17,
   "id": "56c57fab",
   "metadata": {},
   "outputs": [],
   "source": [
    "# Using json to process customers data\n",
    "# We have one customer per line\n",
    "# We need to read the data as string then use json.loads to convert each string to dict.\n",
    "\n",
    "import json\n",
    "\n",
    "customers_file = open('customers.json')\n",
    "customers_list = customers_file.read().splitlines()\n",
    "\n",
    "# Converting the records in the file into list of dicts\n",
    "# We are processing each element in customers_list\n",
    "customers = list(map(json.loads, customers_list))"
   ]
  },
  {
   "cell_type": "code",
   "execution_count": 18,
   "id": "5e45ab15",
   "metadata": {},
   "outputs": [
    {
     "data": {
      "text/plain": [
       "[{'id': 1,\n",
       "  'first_name': 'Frasco',\n",
       "  'last_name': 'Necolds',\n",
       "  'email': 'fnecolds0@vk.com',\n",
       "  'gender': 'Male',\n",
       "  'ip_address': '243.67.63.34'},\n",
       " {'id': 2,\n",
       "  'first_name': 'Dulce',\n",
       "  'last_name': 'Santos',\n",
       "  'email': 'dsantos1@mashable.com',\n",
       "  'gender': 'Female',\n",
       "  'ip_address': '60.30.246.227'},\n",
       " {'id': 3,\n",
       "  'first_name': 'Prissie',\n",
       "  'last_name': 'Tebbett',\n",
       "  'email': 'ptebbett2@infoseek.co.jp',\n",
       "  'gender': 'Genderfluid',\n",
       "  'ip_address': '22.21.162.56'},\n",
       " {'id': 4,\n",
       "  'first_name': 'Schuyler',\n",
       "  'last_name': 'Coppledike',\n",
       "  'email': 'scoppledike3@gnu.org',\n",
       "  'gender': 'Agender',\n",
       "  'ip_address': '120.35.186.161'},\n",
       " {'id': 5,\n",
       "  'first_name': 'Leopold',\n",
       "  'last_name': 'Jarred',\n",
       "  'email': 'ljarred4@wp.com',\n",
       "  'gender': 'Agender',\n",
       "  'ip_address': '30.119.34.4'},\n",
       " {'id': 6,\n",
       "  'first_name': 'Joanna',\n",
       "  'last_name': 'Teager',\n",
       "  'email': 'jteager5@apache.org',\n",
       "  'gender': 'Bigender',\n",
       "  'ip_address': '245.221.176.34'},\n",
       " {'id': 7,\n",
       "  'first_name': 'Lion',\n",
       "  'last_name': 'Beere',\n",
       "  'email': 'lbeere6@bloomberg.com',\n",
       "  'gender': 'Polygender',\n",
       "  'ip_address': '105.54.139.46'},\n",
       " {'id': 8,\n",
       "  'first_name': 'Marabel',\n",
       "  'last_name': 'Wornum',\n",
       "  'email': 'mwornum7@posterous.com',\n",
       "  'gender': 'Polygender',\n",
       "  'ip_address': '247.229.14.25'},\n",
       " {'id': 9,\n",
       "  'first_name': 'Helenka',\n",
       "  'last_name': 'Mullender',\n",
       "  'email': 'hmullender8@cloudflare.com',\n",
       "  'gender': 'Non-binary',\n",
       "  'ip_address': '133.216.118.88'},\n",
       " {'id': 10,\n",
       "  'first_name': 'Christine',\n",
       "  'last_name': 'Swane',\n",
       "  'email': 'cswane9@shop-pro.jp',\n",
       "  'gender': 'Polygender',\n",
       "  'ip_address': '86.16.210.164'}]"
      ]
     },
     "execution_count": 18,
     "metadata": {},
     "output_type": "execute_result"
    }
   ],
   "source": [
    "customers"
   ]
  },
  {
   "cell_type": "code",
   "execution_count": 19,
   "id": "ae7e6372",
   "metadata": {},
   "outputs": [],
   "source": [
    "# Using Pandas only to process customers data\n",
    "# For customers where we have one json per line, we can use Pandas directly\n",
    "\n",
    "import pandas as pd\n",
    "\n",
    "customers = pd.read_json('customers.json', lines=True)"
   ]
  },
  {
   "cell_type": "code",
   "execution_count": 20,
   "id": "a988cfdc",
   "metadata": {},
   "outputs": [
    {
     "data": {
      "text/html": [
       "<div>\n",
       "<style scoped>\n",
       "    .dataframe tbody tr th:only-of-type {\n",
       "        vertical-align: middle;\n",
       "    }\n",
       "\n",
       "    .dataframe tbody tr th {\n",
       "        vertical-align: top;\n",
       "    }\n",
       "\n",
       "    .dataframe thead th {\n",
       "        text-align: right;\n",
       "    }\n",
       "</style>\n",
       "<table border=\"1\" class=\"dataframe\">\n",
       "  <thead>\n",
       "    <tr style=\"text-align: right;\">\n",
       "      <th></th>\n",
       "      <th>id</th>\n",
       "      <th>first_name</th>\n",
       "      <th>last_name</th>\n",
       "      <th>email</th>\n",
       "      <th>gender</th>\n",
       "      <th>ip_address</th>\n",
       "    </tr>\n",
       "  </thead>\n",
       "  <tbody>\n",
       "    <tr>\n",
       "      <th>0</th>\n",
       "      <td>1</td>\n",
       "      <td>Frasco</td>\n",
       "      <td>Necolds</td>\n",
       "      <td>fnecolds0@vk.com</td>\n",
       "      <td>Male</td>\n",
       "      <td>243.67.63.34</td>\n",
       "    </tr>\n",
       "    <tr>\n",
       "      <th>1</th>\n",
       "      <td>2</td>\n",
       "      <td>Dulce</td>\n",
       "      <td>Santos</td>\n",
       "      <td>dsantos1@mashable.com</td>\n",
       "      <td>Female</td>\n",
       "      <td>60.30.246.227</td>\n",
       "    </tr>\n",
       "    <tr>\n",
       "      <th>2</th>\n",
       "      <td>3</td>\n",
       "      <td>Prissie</td>\n",
       "      <td>Tebbett</td>\n",
       "      <td>ptebbett2@infoseek.co.jp</td>\n",
       "      <td>Genderfluid</td>\n",
       "      <td>22.21.162.56</td>\n",
       "    </tr>\n",
       "    <tr>\n",
       "      <th>3</th>\n",
       "      <td>4</td>\n",
       "      <td>Schuyler</td>\n",
       "      <td>Coppledike</td>\n",
       "      <td>scoppledike3@gnu.org</td>\n",
       "      <td>Agender</td>\n",
       "      <td>120.35.186.161</td>\n",
       "    </tr>\n",
       "    <tr>\n",
       "      <th>4</th>\n",
       "      <td>5</td>\n",
       "      <td>Leopold</td>\n",
       "      <td>Jarred</td>\n",
       "      <td>ljarred4@wp.com</td>\n",
       "      <td>Agender</td>\n",
       "      <td>30.119.34.4</td>\n",
       "    </tr>\n",
       "    <tr>\n",
       "      <th>5</th>\n",
       "      <td>6</td>\n",
       "      <td>Joanna</td>\n",
       "      <td>Teager</td>\n",
       "      <td>jteager5@apache.org</td>\n",
       "      <td>Bigender</td>\n",
       "      <td>245.221.176.34</td>\n",
       "    </tr>\n",
       "    <tr>\n",
       "      <th>6</th>\n",
       "      <td>7</td>\n",
       "      <td>Lion</td>\n",
       "      <td>Beere</td>\n",
       "      <td>lbeere6@bloomberg.com</td>\n",
       "      <td>Polygender</td>\n",
       "      <td>105.54.139.46</td>\n",
       "    </tr>\n",
       "    <tr>\n",
       "      <th>7</th>\n",
       "      <td>8</td>\n",
       "      <td>Marabel</td>\n",
       "      <td>Wornum</td>\n",
       "      <td>mwornum7@posterous.com</td>\n",
       "      <td>Polygender</td>\n",
       "      <td>247.229.14.25</td>\n",
       "    </tr>\n",
       "    <tr>\n",
       "      <th>8</th>\n",
       "      <td>9</td>\n",
       "      <td>Helenka</td>\n",
       "      <td>Mullender</td>\n",
       "      <td>hmullender8@cloudflare.com</td>\n",
       "      <td>Non-binary</td>\n",
       "      <td>133.216.118.88</td>\n",
       "    </tr>\n",
       "    <tr>\n",
       "      <th>9</th>\n",
       "      <td>10</td>\n",
       "      <td>Christine</td>\n",
       "      <td>Swane</td>\n",
       "      <td>cswane9@shop-pro.jp</td>\n",
       "      <td>Polygender</td>\n",
       "      <td>86.16.210.164</td>\n",
       "    </tr>\n",
       "  </tbody>\n",
       "</table>\n",
       "</div>"
      ],
      "text/plain": [
       "   id first_name   last_name                       email       gender  \\\n",
       "0   1     Frasco     Necolds            fnecolds0@vk.com         Male   \n",
       "1   2      Dulce      Santos       dsantos1@mashable.com       Female   \n",
       "2   3    Prissie     Tebbett    ptebbett2@infoseek.co.jp  Genderfluid   \n",
       "3   4   Schuyler  Coppledike        scoppledike3@gnu.org      Agender   \n",
       "4   5    Leopold      Jarred             ljarred4@wp.com      Agender   \n",
       "5   6     Joanna      Teager         jteager5@apache.org     Bigender   \n",
       "6   7       Lion       Beere       lbeere6@bloomberg.com   Polygender   \n",
       "7   8    Marabel      Wornum      mwornum7@posterous.com   Polygender   \n",
       "8   9    Helenka   Mullender  hmullender8@cloudflare.com   Non-binary   \n",
       "9  10  Christine       Swane         cswane9@shop-pro.jp   Polygender   \n",
       "\n",
       "       ip_address  \n",
       "0    243.67.63.34  \n",
       "1   60.30.246.227  \n",
       "2    22.21.162.56  \n",
       "3  120.35.186.161  \n",
       "4     30.119.34.4  \n",
       "5  245.221.176.34  \n",
       "6   105.54.139.46  \n",
       "7   247.229.14.25  \n",
       "8  133.216.118.88  \n",
       "9   86.16.210.164  "
      ]
     },
     "execution_count": 20,
     "metadata": {},
     "output_type": "execute_result"
    }
   ],
   "source": [
    "customers"
   ]
  },
  {
   "cell_type": "markdown",
   "id": "529e8341",
   "metadata": {},
   "source": [
    "### Write Data to JSON files\n",
    "\n",
    "Here are the steps involved in writing data to JSON files.\n",
    "* Using `json` module\n",
    "  * Make sure the `dict` object is ready with processed data as per requirements before writing to the file.\n",
    "  * Create file object using `open` in write mode.\n",
    "  * Pass the `file` object to `json.dump`.\n",
    "  * The `dict` will be dumped in the form of JSON in the file.\n",
    "* Using `pandas` module\n",
    "  * Make sure the Data Frame is ready with processed data as per requirements before writing to the file.\n",
    "  * Use the path for the file to invoke `to_json`. It can be invoked using Data Frame object which have the processed data.\n",
    "  * The Pandas Data Frame will be written in the form of JSON in the file.\n",
    "  * We can leverage additional keyword arguments to control the behavior. For example `orient=records` can be used to write the data frame in the form of one JSON document per line."
   ]
  },
  {
   "cell_type": "code",
   "execution_count": null,
   "id": "0b693764",
   "metadata": {},
   "outputs": [],
   "source": []
  }
 ],
 "metadata": {
  "kernelspec": {
   "display_name": "Python 3",
   "language": "python",
   "name": "python3"
  },
  "language_info": {
   "codemirror_mode": {
    "name": "ipython",
    "version": 3
   },
   "file_extension": ".py",
   "mimetype": "text/x-python",
   "name": "python",
   "nbconvert_exporter": "python",
   "pygments_lexer": "ipython3",
   "version": "3.6.12"
  }
 },
 "nbformat": 4,
 "nbformat_minor": 5
}
