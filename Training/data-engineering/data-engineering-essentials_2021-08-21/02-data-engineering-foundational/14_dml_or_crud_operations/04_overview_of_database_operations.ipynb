{
 "cells": [
  {
   "cell_type": "markdown",
   "metadata": {},
   "source": [
    "## Database Operations - Overview\n",
    "\n",
    "Let us get an overview of Database Operations we typically perform on regular basis. They are broadly categorized into the following:"
   ]
  },
  {
   "cell_type": "code",
   "execution_count": 1,
   "metadata": {
    "tags": [
     "remove-cell"
    ]
   },
   "outputs": [
    {
     "data": {
      "text/html": [
       "<iframe width=\"560\" height=\"315\" src=\"https://www.youtube.com/embed/Ws3slfbSpC4?rel=0&amp;controls=1&amp;showinfo=0\" frameborder=\"0\" allowfullscreen></iframe>\n"
      ],
      "text/plain": [
       "<IPython.core.display.HTML object>"
      ]
     },
     "metadata": {},
     "output_type": "display_data"
    }
   ],
   "source": [
    "%%HTML\n",
    "<iframe width=\"560\" height=\"315\" src=\"https://www.youtube.com/embed/Ws3slfbSpC4?rel=0&amp;controls=1&amp;showinfo=0\" frameborder=\"0\" allowfullscreen></iframe>"
   ]
  },
  {
   "cell_type": "markdown",
   "metadata": {},
   "source": [
    "* DDL - Data Definition Language\n",
    "  * CREATE/ALTER/DROP Tables\n",
    "  * CREATE/ALTER/DROP Indexes\n",
    "  * Add constraints to tables\n",
    "  * CREATE/ALTER/DROP Views\n",
    "  * CREATE/ALTER/DROP Sequences\n",
    "* DML - Data Manipulation Language\n",
    "  * Inserting new data into the table\n",
    "  * Updating existing data in the table\n",
    "  * Deleting existing data from the table\n",
    "* DQL - Data Query Language\n",
    "  * Read the data from the table\n",
    "\n",
    "On top of these we also use TCL (Transaction Control Language) which include **COMMIT** and **ROLLBACK**. \n",
    "\n",
    "As part of this section in the subsequent topics we will primarily focus on basic DDL and DML."
   ]
  }
 ],
 "metadata": {
  "kernelspec": {
   "display_name": "Python 3",
   "language": "python",
   "name": "python3"
  },
  "language_info": {
   "codemirror_mode": {
    "name": "ipython",
    "version": 3
   },
   "file_extension": ".py",
   "mimetype": "text/x-python",
   "name": "python",
   "nbconvert_exporter": "python",
   "pygments_lexer": "ipython3",
   "version": "3.6.12"
  }
 },
 "nbformat": 4,
 "nbformat_minor": 4
}
