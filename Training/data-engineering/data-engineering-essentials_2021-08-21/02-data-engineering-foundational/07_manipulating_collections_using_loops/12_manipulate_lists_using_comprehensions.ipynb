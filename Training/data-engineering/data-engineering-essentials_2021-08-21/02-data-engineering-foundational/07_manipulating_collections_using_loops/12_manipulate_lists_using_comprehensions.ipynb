{
 "cells": [
  {
   "cell_type": "markdown",
   "id": "723083da",
   "metadata": {},
   "source": [
    "## Manipulate lists using comprehensions\n",
    "\n",
    "List Comprehensions is alternative way of manipulating lists using conventional loops.\n",
    "* List Comprehensions reduce the effort of coding and improves readability when we want to apply basic transformations on the data.\n",
    "* We can create a new list using list comprehensions by applying simple row level transformations.\n",
    "* We can also perform simple aggregations using list comprehensions."
   ]
  },
  {
   "cell_type": "code",
   "execution_count": null,
   "id": "d7ae7a91",
   "metadata": {},
   "outputs": [],
   "source": [
    "employees = [\n",
    "    '1,ktrett0@independent.co.uk,6998.95',\n",
    "    '2,khaddock1@deviantart.com,10572.4',\n",
    "    '3,ecraft2@dell.com,3967.35',\n",
    "    '4,drussam3@t-online.de,17672.44',\n",
    "    '5,graigatt4@github.io,11660.67',\n",
    "    '6,bjaxon5@salon.com,18614.93',\n",
    "    '7,araulston6@list-manage.com,11550.75',\n",
    "    '8,mcobb7@mozilla.com,17016.15',\n",
    "    '9,grobardley8@unesco.org,14141.25',\n",
    "    '10,bbuye9@vkontakte.ru,12193.2'\n",
    "]"
   ]
  },
  {
   "cell_type": "markdown",
   "id": "8da1d820",
   "metadata": {},
   "source": [
    "* Let us create list of tuples using id and email from the above employees using list comprehensions.\n",
    "* We will ensure that employee id is of type `int`.\n",
    "* Here is the approach with conventional loops.\n",
    "  * Create a global list.\n",
    "  * Process each string and extract id and email. Type cast id to `int`.\n",
    "  * Append to the list.\n",
    "  * By the time `employees` is processed, we will have a new list which contain tuples with id and email."
   ]
  },
  {
   "cell_type": "code",
   "execution_count": null,
   "id": "df80856c",
   "metadata": {},
   "outputs": [],
   "source": [
    "employees_emails = []\n",
    "for employee in employees:\n",
    "    employees_emails.append((int(employee.split(',')[0]), employee.split(',')[1]))"
   ]
  },
  {
   "cell_type": "code",
   "execution_count": null,
   "id": "99c7e040",
   "metadata": {},
   "outputs": [],
   "source": [
    "employees_emails"
   ]
  },
  {
   "cell_type": "markdown",
   "id": "88269f89",
   "metadata": {},
   "source": [
    "* Here is the approach using `list` comprehensions.\n",
    "  * We can directly write the code using `for` loop and assign it to a variable.\n",
    "  * The variable will be of type `list`.\n",
    "  * There is no need to initialize a list and use `append` function."
   ]
  },
  {
   "cell_type": "code",
   "execution_count": null,
   "id": "0290c90a",
   "metadata": {},
   "outputs": [],
   "source": [
    "employees_emails = [(int(employee.split(',')[0]), employee.split(',')[1]) for employee in employees]"
   ]
  },
  {
   "cell_type": "code",
   "execution_count": null,
   "id": "e77ac6b5",
   "metadata": {},
   "outputs": [],
   "source": [
    "employees_emails"
   ]
  },
  {
   "cell_type": "code",
   "execution_count": null,
   "id": "89ffc65f",
   "metadata": {},
   "outputs": [],
   "source": []
  }
 ],
 "metadata": {
  "kernelspec": {
   "display_name": "Python 3",
   "language": "python",
   "name": "python3"
  },
  "language_info": {
   "codemirror_mode": {
    "name": "ipython",
    "version": 3
   },
   "file_extension": ".py",
   "mimetype": "text/x-python",
   "name": "python",
   "nbconvert_exporter": "python",
   "pygments_lexer": "ipython3",
   "version": "3.6.12"
  }
 },
 "nbformat": 4,
 "nbformat_minor": 5
}
