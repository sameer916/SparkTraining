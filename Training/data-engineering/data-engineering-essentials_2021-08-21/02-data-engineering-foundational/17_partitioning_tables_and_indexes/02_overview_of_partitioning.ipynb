{
 "cells": [
  {
   "cell_type": "markdown",
   "metadata": {},
   "source": [
    "## Overview of Partitioning\n",
    "\n",
    "Most of the modern database technologies support wide variety of partitioning strategies. However, here are the most commonly used ones."
   ]
  },
  {
   "cell_type": "code",
   "execution_count": 14,
   "metadata": {
    "tags": [
     "remove-cell"
    ]
   },
   "outputs": [
    {
     "data": {
      "text/html": [
       "<iframe width=\"560\" height=\"315\" src=\"https://www.youtube.com/embed/cwL9iAaKHSw?rel=0&amp;controls=1&amp;showinfo=0\" frameborder=\"0\" allowfullscreen></iframe>\n"
      ],
      "text/plain": [
       "<IPython.core.display.HTML object>"
      ]
     },
     "metadata": {},
     "output_type": "display_data"
    }
   ],
   "source": [
    "%%HTML\n",
    "<iframe width=\"560\" height=\"315\" src=\"https://www.youtube.com/embed/cwL9iAaKHSw?rel=0&amp;controls=1&amp;showinfo=0\" frameborder=\"0\" allowfullscreen></iframe>"
   ]
  },
  {
   "cell_type": "markdown",
   "metadata": {},
   "source": [
    "* List Partitioning\n",
    "* Range Partitioning\n",
    "* Hash Partitioning\n",
    "* List and Range are more widely used compared to Hash Partitioning.\n",
    "* We can also mix and match these to have multi level partitioning. It is known as sub partitioning.\n",
    "* We can either partition a table with out primary key or partition a table with primary key when partition column is prime attribute (one of the primary key columns).\n",
    "* Indexes can be added to the partitioned table. If we create on the main table, it is global index and if we create index on each partition then it is partitioned index."
   ]
  }
 ],
 "metadata": {
  "kernelspec": {
   "display_name": "Python 3",
   "language": "python",
   "name": "python3"
  },
  "language_info": {
   "codemirror_mode": {
    "name": "ipython",
    "version": 3
   },
   "file_extension": ".py",
   "mimetype": "text/x-python",
   "name": "python",
   "nbconvert_exporter": "python",
   "pygments_lexer": "ipython3",
   "version": "3.6.12"
  }
 },
 "nbformat": 4,
 "nbformat_minor": 4
}
