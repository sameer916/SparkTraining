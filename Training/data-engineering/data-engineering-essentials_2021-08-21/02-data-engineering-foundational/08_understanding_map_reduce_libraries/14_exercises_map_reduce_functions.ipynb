{
 "cells": [
  {
   "cell_type": "markdown",
   "metadata": {},
   "source": [
    "## Exercises - Map Reduce Functions\n",
    "Here are the same exercises which you have solved before. Try to solve these using out-of-the-box Map Reduce APIs.\n",
    "\n",
    "* Get number of COMPLETE orders placed by each customer\n",
    "* Get total number of PENDING or PENDING_PAYMENT orders for the month of 2014 January.\n",
    "* Get outstanding amount for each month considering orders with status PAYMENT_REVIEW, PENDING, PENDING_PAYMENT and PROCESSING."
   ]
  },
  {
   "cell_type": "markdown",
   "metadata": {},
   "source": [
    "### Details of Data\n",
    "\n",
    "Here are the details about the orders data which you can leverage to take care of these exercises.\n",
    "* Location: `/data/retail_db/orders/part-00000`\n",
    "* Each record is line separated or line delimited.\n",
    "* Attribute in each record is comma separated.\n",
    "* Here are the columns in the orders data set.\n",
    "  * order_id\n",
    "  * order_date\n",
    "  * order_customer_id\n",
    "  * order_status"
   ]
  },
  {
   "cell_type": "code",
   "execution_count": 2,
   "metadata": {},
   "outputs": [
    {
     "name": "stdout",
     "output_type": "stream",
     "text": [
      "-rw-r--r-- 1 root root 2999944 Jan 21  2021 /data/retail_db/orders/part-00000\n"
     ]
    }
   ],
   "source": [
    "# Get the details about file\n",
    "!ls -ltr /data/retail_db/orders/part-00000"
   ]
  },
  {
   "cell_type": "code",
   "execution_count": 3,
   "metadata": {},
   "outputs": [
    {
     "name": "stdout",
     "output_type": "stream",
     "text": [
      "1,2013-07-25 00:00:00.0,11599,CLOSED\n",
      "2,2013-07-25 00:00:00.0,256,PENDING_PAYMENT\n",
      "3,2013-07-25 00:00:00.0,12111,COMPLETE\n",
      "4,2013-07-25 00:00:00.0,8827,CLOSED\n",
      "5,2013-07-25 00:00:00.0,11318,COMPLETE\n"
     ]
    }
   ],
   "source": [
    "# Get first five lines from the file\n",
    "!head -5 /data/retail_db/orders/part-00000"
   ]
  },
  {
   "cell_type": "code",
   "execution_count": 4,
   "metadata": {},
   "outputs": [
    {
     "name": "stdout",
     "output_type": "stream",
     "text": [
      "68883 /data/retail_db/orders/part-00000\n"
     ]
    }
   ],
   "source": [
    "# Get number of lines from the file\n",
    "# We can use linux command wc with -l\n",
    "!wc -l /data/retail_db/orders/part-00000"
   ]
  },
  {
   "cell_type": "markdown",
   "metadata": {},
   "source": [
    "Here are the details about the order_items data which you can leverage to take care of these exercises.\n",
    "* Location: `/data/retail_db/order_items/part-00000`\n",
    "* Each record is line separated or line delimited.\n",
    "* Attribute in each record is comma separated.\n",
    "* Here are the columns in the order_items data set.\n",
    "  * order_item_id\n",
    "  * order_item_order_id\n",
    "  * order_item_product_id\n",
    "  * order_item_quantity\n",
    "  * order_item_subtotal\n",
    "  * order_item_product_price"
   ]
  },
  {
   "cell_type": "code",
   "execution_count": 5,
   "metadata": {},
   "outputs": [
    {
     "name": "stdout",
     "output_type": "stream",
     "text": [
      "-rw-r--r-- 1 root root 5408880 Jan 21  2021 /data/retail_db/order_items/part-00000\n"
     ]
    }
   ],
   "source": [
    "# Get the details about file\n",
    "!ls -ltr /data/retail_db/order_items/part-00000"
   ]
  },
  {
   "cell_type": "code",
   "execution_count": 5,
   "metadata": {},
   "outputs": [
    {
     "name": "stdout",
     "output_type": "stream",
     "text": [
      "1,1,957,1,299.98,299.98\n",
      "2,2,1073,1,199.99,199.99\n",
      "3,2,502,5,250.0,50.0\n",
      "4,2,403,1,129.99,129.99\n",
      "5,4,897,2,49.98,24.99\n"
     ]
    }
   ],
   "source": [
    "# Get first five lines from the file\n",
    "!head -5 /data/retail_db/order_items/part-00000"
   ]
  },
  {
   "cell_type": "code",
   "execution_count": 6,
   "metadata": {},
   "outputs": [
    {
     "name": "stdout",
     "output_type": "stream",
     "text": [
      "172198 /data/retail_db/order_items/part-00000\n"
     ]
    }
   ],
   "source": [
    "# Get number of lines from the file\n",
    "# We can use linux command wc with -l\n",
    "!wc -l /data/retail_db/order_items/part-00000"
   ]
  },
  {
   "cell_type": "markdown",
   "metadata": {},
   "source": [
    "### Exercise 1 - Read data from file\n",
    "Before getting into problem statement, develop the code to read the file into list of elements.\n",
    "* We should be able to use this function to read any file with text data using line as record delimiter."
   ]
  },
  {
   "cell_type": "code",
   "execution_count": 1,
   "metadata": {},
   "outputs": [],
   "source": [
    "# Update the logic here\n",
    "def get_list_from_file(file_path):\n",
    "    file=open(file_path)\n",
    "    file_raw=file.read()\n",
    "    dlist=file_raw.splitlines()\n",
    "    data_list=[]\n",
    "    for data in dlist:\n",
    "        data_list.append(data.split(','))\n",
    "    return data_list"
   ]
  },
  {
   "cell_type": "markdown",
   "metadata": {},
   "source": [
    "* Run below cells to validate the function\n",
    "* You should see 68883 records as part of the output for the cell with `len(orders)` below.\n",
    "* You should see 172198 records as part of the output for the cell with `len(order_items)` below."
   ]
  },
  {
   "cell_type": "code",
   "execution_count": 2,
   "metadata": {},
   "outputs": [],
   "source": [
    "orders = get_list_from_file('/data/retail_db/orders/part-00000')"
   ]
  },
  {
   "cell_type": "code",
   "execution_count": 3,
   "metadata": {},
   "outputs": [
    {
     "data": {
      "text/plain": [
       "[['1', '2013-07-25 00:00:00.0', '11599', 'CLOSED'],\n",
       " ['2', '2013-07-25 00:00:00.0', '256', 'PENDING_PAYMENT'],\n",
       " ['3', '2013-07-25 00:00:00.0', '12111', 'COMPLETE'],\n",
       " ['4', '2013-07-25 00:00:00.0', '8827', 'CLOSED'],\n",
       " ['5', '2013-07-25 00:00:00.0', '11318', 'COMPLETE']]"
      ]
     },
     "execution_count": 3,
     "metadata": {},
     "output_type": "execute_result"
    }
   ],
   "source": [
    "orders[:5]"
   ]
  },
  {
   "cell_type": "code",
   "execution_count": 4,
   "metadata": {},
   "outputs": [
    {
     "data": {
      "text/plain": [
       "68883"
      ]
     },
     "execution_count": 4,
     "metadata": {},
     "output_type": "execute_result"
    }
   ],
   "source": [
    "len(orders)"
   ]
  },
  {
   "cell_type": "code",
   "execution_count": 17,
   "metadata": {},
   "outputs": [],
   "source": [
    "order_items = get_list_from_file('/data/retail_db/order_items/part-00000')"
   ]
  },
  {
   "cell_type": "code",
   "execution_count": 18,
   "metadata": {},
   "outputs": [
    {
     "data": {
      "text/plain": [
       "[['1', '1', '957', '1', '299.98', '299.98'],\n",
       " ['2', '2', '1073', '1', '199.99', '199.99'],\n",
       " ['3', '2', '502', '5', '250.0', '50.0'],\n",
       " ['4', '2', '403', '1', '129.99', '129.99'],\n",
       " ['5', '4', '897', '2', '49.98', '24.99']]"
      ]
     },
     "execution_count": 18,
     "metadata": {},
     "output_type": "execute_result"
    }
   ],
   "source": [
    "order_items[:5]"
   ]
  },
  {
   "cell_type": "code",
   "execution_count": 19,
   "metadata": {},
   "outputs": [
    {
     "data": {
      "text/plain": [
       "172198"
      ]
     },
     "execution_count": 19,
     "metadata": {},
     "output_type": "execute_result"
    }
   ],
   "source": [
    "len(order_items)"
   ]
  },
  {
   "cell_type": "markdown",
   "metadata": {},
   "source": [
    "### Exercise 2 - Complete Order Count by Customer\n",
    "\n",
    "Get number of COMPLETE orders placed by each customer. Develop a function which read the orders data and get us complete order count by each customer using **order_customer_id**.\n",
    "* The function should take the complete order list as argument and return count of complete orders by customer. The function should return **dict** type object.\n",
    "* The order is said to be complete if the **order_status** is **COMPLETE**.\n",
    "* You can review structure of the data under **Details of Data** section in this notebook."
   ]
  },
  {
   "cell_type": "code",
   "execution_count": 5,
   "metadata": {},
   "outputs": [],
   "source": [
    "# Update the logic here\n",
    "# You can use `filter` and `len` to solve this problem.\n",
    "def get_complete_order_count_by_customer(orders):\n",
    "    order_complete=filter(\n",
    "        lambda order:order[3]=='COMPLETE',\n",
    "        orders\n",
    "    )\n",
    "    order_complete_list=list(order_complete)\n",
    "    order_count_by_customer={}\n",
    "    for order in order_complete_list:\n",
    "        order_customer=int(order[2])\n",
    "        if order_customer in order_count_by_customer.keys():\n",
    "            order_count_by_customer[order_customer]+=1\n",
    "        else:\n",
    "            order_count_by_customer[order_customer]=1\n",
    "    return order_count_by_customer"
   ]
  },
  {
   "cell_type": "markdown",
   "metadata": {},
   "source": [
    "* Run below cell to validate the function. You should get **22899** as output."
   ]
  },
  {
   "cell_type": "code",
   "execution_count": 6,
   "metadata": {},
   "outputs": [],
   "source": [
    "orders = get_list_from_file('/data/retail_db/orders/part-00000')"
   ]
  },
  {
   "cell_type": "code",
   "execution_count": 7,
   "metadata": {},
   "outputs": [],
   "source": [
    "complete_order_count_by_customer = get_complete_order_count_by_customer(orders)"
   ]
  },
  {
   "cell_type": "code",
   "execution_count": 8,
   "metadata": {},
   "outputs": [
    {
     "data": {
      "text/plain": [
       "dict"
      ]
     },
     "execution_count": 8,
     "metadata": {},
     "output_type": "execute_result"
    }
   ],
   "source": [
    "# This should return dict\n",
    "type(complete_order_count_by_customer)"
   ]
  },
  {
   "cell_type": "code",
   "execution_count": 9,
   "metadata": {},
   "outputs": [
    {
     "data": {
      "text/plain": [
       "10538"
      ]
     },
     "execution_count": 9,
     "metadata": {},
     "output_type": "execute_result"
    }
   ],
   "source": [
    "# This should return 10538\n",
    "len(complete_order_count_by_customer)"
   ]
  },
  {
   "cell_type": "markdown",
   "metadata": {},
   "source": [
    "* Run below cell to preview the data."
   ]
  },
  {
   "cell_type": "code",
   "execution_count": 42,
   "metadata": {},
   "outputs": [
    {
     "name": "stdout",
     "output_type": "stream",
     "text": [
      "(1, 1)\n",
      "(2, 2)\n",
      "(3, 5)\n",
      "(4, 4)\n",
      "(5, 2)\n"
     ]
    }
   ],
   "source": [
    "for e in sorted(complete_order_count_by_customer.items())[:5]:\n",
    "    print(e)"
   ]
  },
  {
   "cell_type": "markdown",
   "metadata": {},
   "source": [
    "### Exercise 3 - Pending Order Count\n",
    "\n",
    "Get total number of PENDING or PENDING_PAYMENT orders for the month of 2014 January. Develop a function which read the orders data and get us pending order count.\n",
    "* The function should take the complete order list as argument and return count of pending orders.\n",
    "* The order is said to be complete if the status is **PENDING** or **PENDING_PAYMENT**. We should only consider the orders placed in the month of 2014 January.\n",
    "* The second element in each comma separated record gives us the date\n",
    "* The 4th or last element in each comma separated record gives us the order status.\n",
    "* This problem can also be solved using `filter` and `len`."
   ]
  },
  {
   "cell_type": "code",
   "execution_count": 45,
   "metadata": {},
   "outputs": [],
   "source": [
    "# Update the logic here\n",
    "# You need to use myFilter and myReduce for this\n",
    "from functools import reduce\n",
    "def get_pending_order_count(orders):\n",
    "    order_pending=filter(\n",
    "        lambda order:order[3] in ('PENDING','PENDING_PAYMENT') and order[1].startswith('2014-01'),\n",
    "        orders\n",
    "    )\n",
    "    order_pending_list=list(order_pending)\n",
    "    order_count=len(order_pending_list)\n",
    "    return order_count"
   ]
  },
  {
   "cell_type": "markdown",
   "metadata": {},
   "source": [
    "* Run below cell to validate your function. You should get **1969** as output."
   ]
  },
  {
   "cell_type": "code",
   "execution_count": 46,
   "metadata": {},
   "outputs": [
    {
     "data": {
      "text/plain": [
       "1969"
      ]
     },
     "execution_count": 46,
     "metadata": {},
     "output_type": "execute_result"
    }
   ],
   "source": [
    "get_pending_order_count(orders)"
   ]
  },
  {
   "cell_type": "markdown",
   "metadata": {},
   "source": [
    "* You can also validate results using simple linux scripts."
   ]
  },
  {
   "cell_type": "code",
   "execution_count": 47,
   "metadata": {},
   "outputs": [
    {
     "name": "stdout",
     "output_type": "stream",
     "text": [
      "1969\n"
     ]
    }
   ],
   "source": [
    "!egrep -w '(PENDING|PENDING_PAYMENT)' /data/retail_db/orders/part-00000|grep 2014-01|wc -l"
   ]
  },
  {
   "cell_type": "markdown",
   "metadata": {},
   "source": [
    "### Exercise 4 - Get Outstanding Revenue\n",
    "\n",
    "Get outstanding amount for each month considering orders with status PAYMENT_REVIEW, PENDING, PENDING_PAYMENT and PROCESSING.\n",
    "* You can use **order_item_subtotal** to compute the outstanding amount.\n",
    "* Here are the instructions for the solution.\n",
    "  * Create a list of tuples by name `pending_orders` for pending orders using `filter`. \n",
    "  * Use `map` function to convert the `pending_orders` to list of tuples so that we can join with order items data. Each tuple in the list should contain order_id and hard coded value 1. You can overwrite the `pending_orders` with this new list of tuples.\n",
    "  * Create a list of tuples by name `order_item` for order_items in which each tuple contain `order_id` and `order_item_subtotal`. You can use `map` function for this.\n",
    "  * Use the `myJoin` function which is developer as part of the previous topic.\n",
    "  * Create a new list by name `order_item_subtotals` by invoking `myJoin` using `pending_orders` and `order_items`. \n",
    "  * `order_item_subtotals` is of type `list` of tuples where first element in each tuple is order_id and second element is a nested tuple which contain elements related to `pending_orders` and `order_items`..\n",
    "  * We can then use `map` function to get `order_item_subtotal` and then use `sum` to get the outstanding revenue.\n",
    "  * Make sure to use `round` to round off to 2 decimals.\n",
    "* Review **Details of Data** section to get more details of columns."
   ]
  },
  {
   "cell_type": "code",
   "execution_count": 75,
   "metadata": {},
   "outputs": [
    {
     "ename": "SyntaxError",
     "evalue": "invalid syntax (<ipython-input-75-62606081af58>, line 21)",
     "output_type": "error",
     "traceback": [
      "\u001b[0;36m  File \u001b[0;32m\"<ipython-input-75-62606081af58>\"\u001b[0;36m, line \u001b[0;32m21\u001b[0m\n\u001b[0;31m    lambda tot,order[1][1]:tot+order[1][1],\u001b[0m\n\u001b[0m                    ^\u001b[0m\n\u001b[0;31mSyntaxError\u001b[0m\u001b[0;31m:\u001b[0m invalid syntax\n"
     ]
    }
   ],
   "source": [
    "pending_orders=list(filter(\n",
    "        lambda order:order[3] in ('PAYMENT_REVIEW','PENDING','PENDING_PAYMENT','PROCESSING'),\n",
    "        orders\n",
    "))\n",
    "pending_orders=list(map(\n",
    "        lambda order:(int(order[0]),1),\n",
    "        pending_orders\n",
    "))\n",
    "order_item=list(map(\n",
    "    lambda order:(int(order[1]),float(order[4])),\n",
    "    order_items\n",
    "))\n",
    "p_order=list(map(\n",
    "    lambda order:order[0],pending_orders\n",
    "))\n",
    "order_item_subtotal=[]\n",
    "for order in order_item:\n",
    "    if order[0] in p_order:\n",
    "        order_item_subtotal.append((order[0],(1,order[1])))\n",
    "reduce(\n",
    "    lambda tot,order:tot+order[1][1],\n",
    "    order_item_subtotal\n",
    ")"
   ]
  },
  {
   "cell_type": "code",
   "execution_count": null,
   "metadata": {},
   "outputs": [],
   "source": []
  }
 ],
 "metadata": {
  "kernelspec": {
   "display_name": "Python 3",
   "language": "python",
   "name": "python3"
  },
  "language_info": {
   "codemirror_mode": {
    "name": "ipython",
    "version": 3
   },
   "file_extension": ".py",
   "mimetype": "text/x-python",
   "name": "python",
   "nbconvert_exporter": "python",
   "pygments_lexer": "ipython3",
   "version": "3.6.12"
  }
 },
 "nbformat": 4,
 "nbformat_minor": 4
}
