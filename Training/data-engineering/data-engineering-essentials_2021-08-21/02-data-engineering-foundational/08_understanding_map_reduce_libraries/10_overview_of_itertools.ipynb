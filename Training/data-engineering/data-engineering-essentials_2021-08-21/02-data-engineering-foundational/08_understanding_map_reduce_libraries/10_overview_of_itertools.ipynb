{
 "cells": [
  {
   "cell_type": "markdown",
   "metadata": {},
   "source": [
    "## Overview of itertools\n",
    "\n",
    "Let us go through one of the important library to manipulate collections called as `itertools`.\n",
    "* Functions such as `filter` and `map` are part of core Python libraries.\n",
    "* `reduce` is part of `functools`.\n",
    "* It is not possible to use these functions to perform advanced operations such as grouped aggregations, joins etc.\n",
    "* Python have several higher level libraries which provide required functionality to perform advanced aggregations such as grouped aggregations, joins etc. `itertools` is one of the popular library to manipulate collections for such advanced operations."
   ]
  },
  {
   "cell_type": "code",
   "execution_count": 1,
   "metadata": {},
   "outputs": [],
   "source": [
    "import itertools"
   ]
  },
  {
   "cell_type": "code",
   "execution_count": 2,
   "metadata": {},
   "outputs": [
    {
     "data": {
      "text/plain": [
       "\u001b[0;31mType:\u001b[0m        module\n",
       "\u001b[0;31mString form:\u001b[0m <module 'itertools' (built-in)>\n",
       "\u001b[0;31mDocstring:\u001b[0m  \n",
       "Functional tools for creating and using iterators.\n",
       "\n",
       "Infinite iterators:\n",
       "count(start=0, step=1) --> start, start+step, start+2*step, ...\n",
       "cycle(p) --> p0, p1, ... plast, p0, p1, ...\n",
       "repeat(elem [,n]) --> elem, elem, elem, ... endlessly or up to n times\n",
       "\n",
       "Iterators terminating on the shortest input sequence:\n",
       "accumulate(p[, func]) --> p0, p0+p1, p0+p1+p2\n",
       "chain(p, q, ...) --> p0, p1, ... plast, q0, q1, ... \n",
       "chain.from_iterable([p, q, ...]) --> p0, p1, ... plast, q0, q1, ... \n",
       "compress(data, selectors) --> (d[0] if s[0]), (d[1] if s[1]), ...\n",
       "dropwhile(pred, seq) --> seq[n], seq[n+1], starting when pred fails\n",
       "groupby(iterable[, keyfunc]) --> sub-iterators grouped by value of keyfunc(v)\n",
       "filterfalse(pred, seq) --> elements of seq where pred(elem) is False\n",
       "islice(seq, [start,] stop [, step]) --> elements from\n",
       "       seq[start:stop:step]\n",
       "starmap(fun, seq) --> fun(*seq[0]), fun(*seq[1]), ...\n",
       "tee(it, n=2) --> (it1, it2 , ... itn) splits one iterator into n\n",
       "takewhile(pred, seq) --> seq[0], seq[1], until pred fails\n",
       "zip_longest(p, q, ...) --> (p[0], q[0]), (p[1], q[1]), ... \n",
       "\n",
       "Combinatoric generators:\n",
       "product(p, q, ... [repeat=1]) --> cartesian product\n",
       "permutations(p[, r])\n",
       "combinations(p, r)\n",
       "combinations_with_replacement(p, r)\n"
      ]
     },
     "metadata": {},
     "output_type": "display_data"
    }
   ],
   "source": [
    "itertools?"
   ]
  },
  {
   "cell_type": "markdown",
   "metadata": {},
   "source": [
    "### Task 1 - Cumulative Sales\n",
    "\n",
    "Get cumulative sales from list of transactions."
   ]
  },
  {
   "cell_type": "code",
   "execution_count": 2,
   "metadata": {},
   "outputs": [],
   "source": [
    "ns = [1, 2, 3, 4]"
   ]
  },
  {
   "cell_type": "code",
   "execution_count": 3,
   "metadata": {},
   "outputs": [],
   "source": [
    "import itertools as iter"
   ]
  },
  {
   "cell_type": "code",
   "execution_count": 4,
   "metadata": {},
   "outputs": [
    {
     "data": {
      "text/plain": [
       "\u001b[0;31mInit signature:\u001b[0m \u001b[0miter\u001b[0m\u001b[0;34m.\u001b[0m\u001b[0maccumulate\u001b[0m\u001b[0;34m(\u001b[0m\u001b[0mself\u001b[0m\u001b[0;34m,\u001b[0m \u001b[0;34m/\u001b[0m\u001b[0;34m,\u001b[0m \u001b[0;34m*\u001b[0m\u001b[0margs\u001b[0m\u001b[0;34m,\u001b[0m \u001b[0;34m**\u001b[0m\u001b[0mkwargs\u001b[0m\u001b[0;34m)\u001b[0m\u001b[0;34m\u001b[0m\u001b[0;34m\u001b[0m\u001b[0m\n",
       "\u001b[0;31mDocstring:\u001b[0m     \n",
       "accumulate(iterable[, func]) --> accumulate object\n",
       "\n",
       "Return series of accumulated sums (or other binary function results).\n",
       "\u001b[0;31mType:\u001b[0m           type\n",
       "\u001b[0;31mSubclasses:\u001b[0m     \n"
      ]
     },
     "metadata": {},
     "output_type": "display_data"
    }
   ],
   "source": [
    "iter.accumulate?"
   ]
  },
  {
   "cell_type": "code",
   "execution_count": 5,
   "metadata": {},
   "outputs": [
    {
     "data": {
      "text/plain": [
       "[1, 3, 6, 10]"
      ]
     },
     "execution_count": 5,
     "metadata": {},
     "output_type": "execute_result"
    }
   ],
   "source": [
    "list(iter.accumulate(ns))[:10]"
   ]
  },
  {
   "cell_type": "code",
   "execution_count": 6,
   "metadata": {},
   "outputs": [
    {
     "data": {
      "text/plain": [
       "[1, 2, 6, 24]"
      ]
     },
     "execution_count": 6,
     "metadata": {},
     "output_type": "execute_result"
    }
   ],
   "source": [
    "import operator as o\n",
    "list(iter.accumulate(ns, o.mul))[:10]"
   ]
  },
  {
   "cell_type": "code",
   "execution_count": 26,
   "metadata": {},
   "outputs": [],
   "source": [
    "sales = [\n",
    "    (202101, 10500),\n",
    "    (202102, 11250),\n",
    "    (202103, 13450),\n",
    "    (202104, 8500),\n",
    "    (202105, 9250),\n",
    "    (202106, 8760),\n",
    "    (202107, 12150),\n",
    "    (202108, 11850),\n",
    "    (202109, 10950),\n",
    "    (202110, 9250),\n",
    "    (202111, 14250),\n",
    "    (202112, 13650),\n",
    "]"
   ]
  },
  {
   "cell_type": "code",
   "execution_count": 29,
   "metadata": {},
   "outputs": [
    {
     "data": {
      "text/plain": [
       "\u001b[0;31mInit signature:\u001b[0m \u001b[0miter\u001b[0m\u001b[0;34m.\u001b[0m\u001b[0maccumulate\u001b[0m\u001b[0;34m(\u001b[0m\u001b[0mself\u001b[0m\u001b[0;34m,\u001b[0m \u001b[0;34m/\u001b[0m\u001b[0;34m,\u001b[0m \u001b[0;34m*\u001b[0m\u001b[0margs\u001b[0m\u001b[0;34m,\u001b[0m \u001b[0;34m**\u001b[0m\u001b[0mkwargs\u001b[0m\u001b[0;34m)\u001b[0m\u001b[0;34m\u001b[0m\u001b[0;34m\u001b[0m\u001b[0m\n",
       "\u001b[0;31mDocstring:\u001b[0m     \n",
       "accumulate(iterable[, func]) --> accumulate object\n",
       "\n",
       "Return series of accumulated sums (or other binary function results).\n",
       "\u001b[0;31mType:\u001b[0m           type\n",
       "\u001b[0;31mSubclasses:\u001b[0m     \n"
      ]
     },
     "metadata": {},
     "output_type": "display_data"
    }
   ],
   "source": [
    "iter.accumulate?"
   ]
  },
  {
   "cell_type": "code",
   "execution_count": 30,
   "metadata": {},
   "outputs": [
    {
     "data": {
      "text/plain": [
       "[(202101, 10500),\n",
       " (202102, 11250),\n",
       " (202103, 13450),\n",
       " (202104, 8500),\n",
       " (202105, 9250),\n",
       " (202106, 8760),\n",
       " (202107, 12150),\n",
       " (202108, 11850),\n",
       " (202109, 10950),\n",
       " (202110, 9250),\n",
       " (202111, 14250),\n",
       " (202112, 13650)]"
      ]
     },
     "execution_count": 30,
     "metadata": {},
     "output_type": "execute_result"
    }
   ],
   "source": [
    "sales"
   ]
  },
  {
   "cell_type": "code",
   "execution_count": 33,
   "metadata": {},
   "outputs": [
    {
     "data": {
      "text/plain": [
       "[10500,\n",
       " 21750,\n",
       " 35200,\n",
       " 43700,\n",
       " 52950,\n",
       " 61710,\n",
       " 73860,\n",
       " 85710,\n",
       " 96660,\n",
       " 105910,\n",
       " 120160,\n",
       " 133810]"
      ]
     },
     "execution_count": 33,
     "metadata": {},
     "output_type": "execute_result"
    }
   ],
   "source": [
    "list(iter.accumulate(map(lambda sale: sale[1], sales)))"
   ]
  },
  {
   "cell_type": "markdown",
   "metadata": {},
   "source": [
    "### Task 2 - Compute Commission Amount\n",
    "\n",
    "Create a collection with sales and commission percentage. Using that collection compute total commission amount. If the commission percent is None or not present, treat it as 0.\n",
    "* Each element in the collection should be a tuple.\n",
    "* First element is the sales amount and second element is commission percentage.\n",
    "* Commission for each sale can be computed by multiplying commission percentage with sales (make sure to divide commission percentage by 100).\n",
    "* Some of the records does not have commission percentage, in that case commission amount for that sale shall be 0"
   ]
  },
  {
   "cell_type": "code",
   "execution_count": 7,
   "metadata": {},
   "outputs": [],
   "source": [
    "transactions = [(376.0, 8),\n",
    "(548.23, 14),\n",
    "(107.93, 8),\n",
    "(838.22, 14),\n",
    "(846.85, 21),\n",
    "(234.84, None),\n",
    "(850.2, 21),\n",
    "(992.2, 21),\n",
    "(267.01, None),\n",
    "(958.91, 21),\n",
    "(412.59, None),\n",
    "(283.14, None),\n",
    "(350.01, 14),\n",
    "(226.95, None),\n",
    "(132.7, 14)]"
   ]
  },
  {
   "cell_type": "code",
   "execution_count": 8,
   "metadata": {},
   "outputs": [
    {
     "name": "stdout",
     "output_type": "stream",
     "text": [
      "Help on class starmap in module itertools:\n",
      "\n",
      "class starmap(builtins.object)\n",
      " |  starmap(function, sequence) --> starmap object\n",
      " |  \n",
      " |  Return an iterator whose values are returned from the function evaluated\n",
      " |  with an argument tuple taken from the given sequence.\n",
      " |  \n",
      " |  Methods defined here:\n",
      " |  \n",
      " |  __getattribute__(self, name, /)\n",
      " |      Return getattr(self, name).\n",
      " |  \n",
      " |  __iter__(self, /)\n",
      " |      Implement iter(self).\n",
      " |  \n",
      " |  __new__(*args, **kwargs) from builtins.type\n",
      " |      Create and return a new object.  See help(type) for accurate signature.\n",
      " |  \n",
      " |  __next__(self, /)\n",
      " |      Implement next(self).\n",
      " |  \n",
      " |  __reduce__(...)\n",
      " |      Return state information for pickling.\n",
      "\n"
     ]
    }
   ],
   "source": [
    "help(iter.starmap)"
   ]
  },
  {
   "cell_type": "code",
   "execution_count": 9,
   "metadata": {},
   "outputs": [],
   "source": [
    "a = iter.starmap(lambda rec: rec[0] * rec[1] if rec[1] else 0, transactions)"
   ]
  },
  {
   "cell_type": "code",
   "execution_count": 11,
   "metadata": {},
   "outputs": [
    {
     "ename": "TypeError",
     "evalue": "<lambda>() takes 1 positional argument but 2 were given",
     "output_type": "error",
     "traceback": [
      "\u001b[0;31m---------------------------------------------------------------------------\u001b[0m",
      "\u001b[0;31mTypeError\u001b[0m                                 Traceback (most recent call last)",
      "\u001b[0;32m<ipython-input-11-355950d5477c>\u001b[0m in \u001b[0;36m<module>\u001b[0;34m\u001b[0m\n\u001b[0;32m----> 1\u001b[0;31m \u001b[0;32mfor\u001b[0m \u001b[0mi\u001b[0m \u001b[0;32min\u001b[0m \u001b[0ma\u001b[0m\u001b[0;34m:\u001b[0m \u001b[0mprint\u001b[0m\u001b[0;34m(\u001b[0m\u001b[0mi\u001b[0m\u001b[0;34m)\u001b[0m \u001b[0;31m# This will fail. We have to pass elements from each tuple separately.\u001b[0m\u001b[0;34m\u001b[0m\u001b[0;34m\u001b[0m\u001b[0m\n\u001b[0m",
      "\u001b[0;31mTypeError\u001b[0m: <lambda>() takes 1 positional argument but 2 were given"
     ]
    }
   ],
   "source": [
    "for i in a: print(i) # This will fail. We have to pass elements from each tuple separately."
   ]
  },
  {
   "cell_type": "code",
   "execution_count": 12,
   "metadata": {},
   "outputs": [],
   "source": [
    "a = iter.starmap(lambda sale_amount, comm_pct: ((sale_amount, comm_pct), round(sale_amount * comm_pct, 2)) if comm_pct else ((sale_amount, comm_pct), 0), transactions)"
   ]
  },
  {
   "cell_type": "code",
   "execution_count": 13,
   "metadata": {},
   "outputs": [
    {
     "name": "stdout",
     "output_type": "stream",
     "text": [
      "((376.0, 8), 3008.0)\n",
      "((548.23, 14), 7675.22)\n",
      "((107.93, 8), 863.44)\n",
      "((838.22, 14), 11735.08)\n",
      "((846.85, 21), 17783.85)\n",
      "((234.84, None), 0)\n",
      "((850.2, 21), 17854.2)\n",
      "((992.2, 21), 20836.2)\n",
      "((267.01, None), 0)\n",
      "((958.91, 21), 20137.11)\n",
      "((412.59, None), 0)\n",
      "((283.14, None), 0)\n",
      "((350.01, 14), 4900.14)\n",
      "((226.95, None), 0)\n",
      "((132.7, 14), 1857.8)\n"
     ]
    }
   ],
   "source": [
    "for i in a: print(i)"
   ]
  },
  {
   "cell_type": "code",
   "execution_count": 8,
   "metadata": {},
   "outputs": [
    {
     "data": {
      "text/plain": [
       "\u001b[0;31mInit signature:\u001b[0m \u001b[0miter\u001b[0m\u001b[0;34m.\u001b[0m\u001b[0mchain\u001b[0m\u001b[0;34m(\u001b[0m\u001b[0mself\u001b[0m\u001b[0;34m,\u001b[0m \u001b[0;34m/\u001b[0m\u001b[0;34m,\u001b[0m \u001b[0;34m*\u001b[0m\u001b[0margs\u001b[0m\u001b[0;34m,\u001b[0m \u001b[0;34m**\u001b[0m\u001b[0mkwargs\u001b[0m\u001b[0;34m)\u001b[0m\u001b[0;34m\u001b[0m\u001b[0;34m\u001b[0m\u001b[0m\n",
       "\u001b[0;31mDocstring:\u001b[0m     \n",
       "chain(*iterables) --> chain object\n",
       "\n",
       "Return a chain object whose .__next__() method returns elements from the\n",
       "first iterable until it is exhausted, then elements from the next\n",
       "iterable, until all of the iterables are exhausted.\n",
       "\u001b[0;31mType:\u001b[0m           type\n",
       "\u001b[0;31mSubclasses:\u001b[0m     \n"
      ]
     },
     "metadata": {},
     "output_type": "display_data"
    }
   ],
   "source": [
    "iter.chain?"
   ]
  },
  {
   "cell_type": "code",
   "execution_count": 14,
   "metadata": {},
   "outputs": [
    {
     "data": {
      "text/plain": [
       "[1, 2, 3, 4, 4, 5, 6]"
      ]
     },
     "execution_count": 14,
     "metadata": {},
     "output_type": "execute_result"
    }
   ],
   "source": [
    "l1 = [1, 2, 3, 4]\n",
    "l2 = [4, 5, 6]\n",
    "\n",
    "list(iter.chain(l1, l2))"
   ]
  },
  {
   "cell_type": "code",
   "execution_count": null,
   "metadata": {},
   "outputs": [],
   "source": []
  }
 ],
 "metadata": {
  "kernelspec": {
   "display_name": "Python 3",
   "language": "python",
   "name": "python3"
  },
  "language_info": {
   "codemirror_mode": {
    "name": "ipython",
    "version": 3
   },
   "file_extension": ".py",
   "mimetype": "text/x-python",
   "name": "python",
   "nbconvert_exporter": "python",
   "pygments_lexer": "ipython3",
   "version": "3.6.12"
  }
 },
 "nbformat": 4,
 "nbformat_minor": 4
}
