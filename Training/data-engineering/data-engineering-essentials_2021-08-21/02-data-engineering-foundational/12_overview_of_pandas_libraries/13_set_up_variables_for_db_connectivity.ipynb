{
 "cells": [
  {
   "cell_type": "markdown",
   "id": "163d10ad",
   "metadata": {},
   "source": [
    "## Set up variables for DB Connectivity\n",
    "\n",
    "This notebook will be run from other notebooks. We are going to set up variables required for database connectivity.\n",
    "\n",
    "We will provide the required information. You can use the labs password which is assigned to you."
   ]
  },
  {
   "cell_type": "code",
   "execution_count": null,
   "id": "6dd33352",
   "metadata": {},
   "outputs": [],
   "source": [
    "import getpass"
   ]
  },
  {
   "cell_type": "code",
   "execution_count": 2,
   "id": "9d18c26a",
   "metadata": {},
   "outputs": [],
   "source": [
    "username = getpass.getuser()"
   ]
  },
  {
   "cell_type": "code",
   "execution_count": 3,
   "id": "4ece0f2e",
   "metadata": {},
   "outputs": [],
   "source": [
    "# Paste your password between the single quotes"
   ]
  },
  {
   "cell_type": "code",
   "execution_count": 4,
   "id": "58735e36",
   "metadata": {},
   "outputs": [],
   "source": [
    "password = 'Itv3rs1ty!23'"
   ]
  },
  {
   "cell_type": "code",
   "execution_count": 5,
   "id": "cf118d1e",
   "metadata": {},
   "outputs": [],
   "source": [
    "postgres_host = 'm01.itversity.com'"
   ]
  },
  {
   "cell_type": "code",
   "execution_count": 6,
   "id": "c9e92c49",
   "metadata": {},
   "outputs": [],
   "source": [
    "postgres_port = 5433"
   ]
  }
 ],
 "metadata": {
  "kernelspec": {
   "display_name": "Python 3",
   "language": "python",
   "name": "python3"
  },
  "language_info": {
   "codemirror_mode": {
    "name": "ipython",
    "version": 3
   },
   "file_extension": ".py",
   "mimetype": "text/x-python",
   "name": "python",
   "nbconvert_exporter": "python",
   "pygments_lexer": "ipython3",
   "version": "3.6.12"
  }
 },
 "nbformat": 4,
 "nbformat_minor": 5
}
