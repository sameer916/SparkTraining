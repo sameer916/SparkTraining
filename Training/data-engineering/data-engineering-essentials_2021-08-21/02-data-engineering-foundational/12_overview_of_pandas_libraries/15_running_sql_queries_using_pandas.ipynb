{
 "cells": [
  {
   "cell_type": "markdown",
   "id": "1e113cb5",
   "metadata": {},
   "source": [
    "## Running SQL Queries using Pandas\n",
    "\n",
    "Let us understand how to run SQL Queries using Pandas. Here are the steps that need to be followed to run SQL Queries against Postgres database.\n",
    "* Make sure Pandas, Psycopg2 as well as SQL Alchemy are installed.\n",
    "* Create database engine object using SQL Alchemy.\n",
    "* Make sure to build the query that is required to process the data as per the requirements.\n",
    "* Use Pandas `read_sql` using query and engine objects.\n",
    "* Even though we can run any query using `read_sql`, it will throw exceptions if the query or command does not return the data. For example, DML statements like `DELETE` throw exceptions as it does not return the rows even though data is successfully deleted satisfying the condition.\n",
    "\n",
    "**Note: We are going to see the demo using Postgres. Similar steps can be followed for database of any type that is supported using SQL Alchemy**."
   ]
  },
  {
   "cell_type": "code",
   "execution_count": null,
   "id": "64b31ae6",
   "metadata": {},
   "outputs": [],
   "source": [
    "!pip list|grep pandas"
   ]
  },
  {
   "cell_type": "code",
   "execution_count": null,
   "id": "4a05b935",
   "metadata": {},
   "outputs": [],
   "source": [
    "!pip list|grep psycopg2"
   ]
  },
  {
   "cell_type": "code",
   "execution_count": 4,
   "id": "ce391a78",
   "metadata": {},
   "outputs": [
    {
     "name": "stdout",
     "output_type": "stream",
     "text": [
      "SQLAlchemy                        1.4.18\n"
     ]
    }
   ],
   "source": [
    "!pip list|grep -i sqlalchemy"
   ]
  },
  {
   "cell_type": "code",
   "execution_count": 1,
   "id": "a90a8fd0",
   "metadata": {},
   "outputs": [],
   "source": [
    "%run 13_set_up_variables_for_db_connectivity.ipynb"
   ]
  },
  {
   "cell_type": "code",
   "execution_count": 5,
   "id": "889cba7d",
   "metadata": {},
   "outputs": [],
   "source": [
    "import pandas as pd"
   ]
  },
  {
   "cell_type": "code",
   "execution_count": 6,
   "id": "e29eb263",
   "metadata": {},
   "outputs": [],
   "source": [
    "import psycopg2\n",
    "import sqlalchemy as db\n",
    "from sqlalchemy.ext.declarative import declarative_base\n",
    "Base = declarative_base()\n",
    "\n",
    "engine = db.create_engine(f'postgresql://{username}_sms_user:{password}@{postgres_host}:{postgres_port}/{username}_sms_db')"
   ]
  },
  {
   "cell_type": "code",
   "execution_count": 7,
   "id": "c91a7c4c",
   "metadata": {},
   "outputs": [
    {
     "data": {
      "text/plain": [
       "sqlalchemy.engine.base.Engine"
      ]
     },
     "execution_count": 7,
     "metadata": {},
     "output_type": "execute_result"
    }
   ],
   "source": [
    "type(engine)"
   ]
  },
  {
   "cell_type": "code",
   "execution_count": 8,
   "id": "e59fe680",
   "metadata": {},
   "outputs": [],
   "source": [
    "courses_query = 'SELECT * FROM courses'"
   ]
  },
  {
   "cell_type": "code",
   "execution_count": 9,
   "id": "a9c5050b",
   "metadata": {},
   "outputs": [
    {
     "data": {
      "text/html": [
       "<div>\n",
       "<style scoped>\n",
       "    .dataframe tbody tr th:only-of-type {\n",
       "        vertical-align: middle;\n",
       "    }\n",
       "\n",
       "    .dataframe tbody tr th {\n",
       "        vertical-align: top;\n",
       "    }\n",
       "\n",
       "    .dataframe thead th {\n",
       "        text-align: right;\n",
       "    }\n",
       "</style>\n",
       "<table border=\"1\" class=\"dataframe\">\n",
       "  <thead>\n",
       "    <tr style=\"text-align: right;\">\n",
       "      <th></th>\n",
       "      <th>course_id</th>\n",
       "      <th>course_name</th>\n",
       "      <th>course_author</th>\n",
       "      <th>course_status</th>\n",
       "      <th>course_published_dt</th>\n",
       "    </tr>\n",
       "  </thead>\n",
       "  <tbody>\n",
       "    <tr>\n",
       "      <th>0</th>\n",
       "      <td>1</td>\n",
       "      <td>Programming using Python</td>\n",
       "      <td>Bob Dillon</td>\n",
       "      <td>published</td>\n",
       "      <td>2020-09-30</td>\n",
       "    </tr>\n",
       "    <tr>\n",
       "      <th>1</th>\n",
       "      <td>2</td>\n",
       "      <td>Data Engineering using Python</td>\n",
       "      <td>Bob Dillon</td>\n",
       "      <td>published</td>\n",
       "      <td>2020-07-15</td>\n",
       "    </tr>\n",
       "    <tr>\n",
       "      <th>2</th>\n",
       "      <td>3</td>\n",
       "      <td>Data Engineering using Scala</td>\n",
       "      <td>Elvis Presley</td>\n",
       "      <td>draft</td>\n",
       "      <td>None</td>\n",
       "    </tr>\n",
       "    <tr>\n",
       "      <th>3</th>\n",
       "      <td>4</td>\n",
       "      <td>Programming using Scala</td>\n",
       "      <td>Elvis Presley</td>\n",
       "      <td>published</td>\n",
       "      <td>2020-05-12</td>\n",
       "    </tr>\n",
       "    <tr>\n",
       "      <th>4</th>\n",
       "      <td>5</td>\n",
       "      <td>Programming using Java</td>\n",
       "      <td>Mike Jack</td>\n",
       "      <td>inactive</td>\n",
       "      <td>2020-08-10</td>\n",
       "    </tr>\n",
       "    <tr>\n",
       "      <th>5</th>\n",
       "      <td>6</td>\n",
       "      <td>Web Applications - Python Flask</td>\n",
       "      <td>Bob Dillon</td>\n",
       "      <td>inactive</td>\n",
       "      <td>2020-07-20</td>\n",
       "    </tr>\n",
       "    <tr>\n",
       "      <th>6</th>\n",
       "      <td>7</td>\n",
       "      <td>Web Applications - Java Spring</td>\n",
       "      <td>Mike Jack</td>\n",
       "      <td>draft</td>\n",
       "      <td>None</td>\n",
       "    </tr>\n",
       "    <tr>\n",
       "      <th>7</th>\n",
       "      <td>8</td>\n",
       "      <td>Pipeline Orchestration - Python</td>\n",
       "      <td>Bob Dillon</td>\n",
       "      <td>draft</td>\n",
       "      <td>None</td>\n",
       "    </tr>\n",
       "    <tr>\n",
       "      <th>8</th>\n",
       "      <td>9</td>\n",
       "      <td>Streaming Pipelines - Python</td>\n",
       "      <td>Bob Dillon</td>\n",
       "      <td>published</td>\n",
       "      <td>2020-10-05</td>\n",
       "    </tr>\n",
       "    <tr>\n",
       "      <th>9</th>\n",
       "      <td>10</td>\n",
       "      <td>Web Applications - Scala Play</td>\n",
       "      <td>Elvis Presley</td>\n",
       "      <td>inactive</td>\n",
       "      <td>2020-09-30</td>\n",
       "    </tr>\n",
       "    <tr>\n",
       "      <th>10</th>\n",
       "      <td>11</td>\n",
       "      <td>Web Applications - Python Django</td>\n",
       "      <td>Bob Dillon</td>\n",
       "      <td>published</td>\n",
       "      <td>2020-06-23</td>\n",
       "    </tr>\n",
       "    <tr>\n",
       "      <th>11</th>\n",
       "      <td>12</td>\n",
       "      <td>Server Automation - Ansible</td>\n",
       "      <td>Uncle Sam</td>\n",
       "      <td>published</td>\n",
       "      <td>2020-07-05</td>\n",
       "    </tr>\n",
       "  </tbody>\n",
       "</table>\n",
       "</div>"
      ],
      "text/plain": [
       "    course_id                       course_name  course_author course_status  \\\n",
       "0           1          Programming using Python     Bob Dillon     published   \n",
       "1           2     Data Engineering using Python     Bob Dillon     published   \n",
       "2           3      Data Engineering using Scala  Elvis Presley         draft   \n",
       "3           4           Programming using Scala  Elvis Presley     published   \n",
       "4           5            Programming using Java      Mike Jack      inactive   \n",
       "5           6   Web Applications - Python Flask     Bob Dillon      inactive   \n",
       "6           7    Web Applications - Java Spring      Mike Jack         draft   \n",
       "7           8   Pipeline Orchestration - Python     Bob Dillon         draft   \n",
       "8           9      Streaming Pipelines - Python     Bob Dillon     published   \n",
       "9          10     Web Applications - Scala Play  Elvis Presley      inactive   \n",
       "10         11  Web Applications - Python Django     Bob Dillon     published   \n",
       "11         12       Server Automation - Ansible      Uncle Sam     published   \n",
       "\n",
       "   course_published_dt  \n",
       "0           2020-09-30  \n",
       "1           2020-07-15  \n",
       "2                 None  \n",
       "3           2020-05-12  \n",
       "4           2020-08-10  \n",
       "5           2020-07-20  \n",
       "6                 None  \n",
       "7                 None  \n",
       "8           2020-10-05  \n",
       "9           2020-09-30  \n",
       "10          2020-06-23  \n",
       "11          2020-07-05  "
      ]
     },
     "execution_count": 9,
     "metadata": {},
     "output_type": "execute_result"
    }
   ],
   "source": [
    "pd.read_sql(courses_query, engine)"
   ]
  },
  {
   "cell_type": "code",
   "execution_count": null,
   "id": "81bb6898",
   "metadata": {},
   "outputs": [],
   "source": []
  }
 ],
 "metadata": {
  "kernelspec": {
   "display_name": "python37",
   "language": "python",
   "name": "python37"
  },
  "language_info": {
   "codemirror_mode": {
    "name": "ipython",
    "version": 3
   },
   "file_extension": ".py",
   "mimetype": "text/x-python",
   "name": "python",
   "nbconvert_exporter": "python",
   "pygments_lexer": "ipython3",
   "version": "3.7.10"
  }
 },
 "nbformat": 4,
 "nbformat_minor": 5
}
