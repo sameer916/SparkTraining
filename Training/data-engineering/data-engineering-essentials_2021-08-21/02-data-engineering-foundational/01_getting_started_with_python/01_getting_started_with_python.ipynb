{
 "cells": [
  {
   "cell_type": "markdown",
   "metadata": {
    "pycharm": {
     "name": "#%% md"
    }
   },
   "source": [
    "# Getting Started with Python\n",
    "\n",
    "As part of this section we will get started with Python.\n",
    "\n",
    "* Installing Python\n",
    "* Overview of Anaconda\n",
    "* Python CLI and Jupyter Notebook\n",
    "* Overview of Jupyter Lab\n",
    "* Using IDEs – Pycharm\n",
    "* Overview of Visual Studio Code\n",
    "* Using ITVersity Labs\n",
    "* Leveraging Google’s Colab"
   ]
  }
 ],
 "metadata": {
  "kernelspec": {
   "display_name": "Python 3",
   "language": "python",
   "name": "python3"
  },
  "language_info": {
   "codemirror_mode": {
    "name": "ipython",
    "version": 3
   },
   "file_extension": ".py",
   "mimetype": "text/x-python",
   "name": "python",
   "nbconvert_exporter": "python",
   "pygments_lexer": "ipython3",
   "version": "3.6.12"
  }
 },
 "nbformat": 4,
 "nbformat_minor": 4
}
