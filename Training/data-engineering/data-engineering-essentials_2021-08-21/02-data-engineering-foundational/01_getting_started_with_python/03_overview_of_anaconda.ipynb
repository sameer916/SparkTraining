{
 "cells": [
  {
   "cell_type": "markdown",
   "metadata": {},
   "source": [
    "## Overview of Anaconda\n",
    "\n",
    "Anaconda is another popular way of installing and managing Python. Let us get an overview of Anaconda."
   ]
  },
  {
   "cell_type": "code",
   "execution_count": 1,
   "metadata": {
    "tags": [
     "remove-cell"
    ]
   },
   "outputs": [
    {
     "data": {
      "text/html": [
       "<iframe width=\"560\" height=\"315\" src=\"https://www.youtube.com/embed/HTYx14NJ3hU?rel=0&amp;controls=1&amp;showinfo=0\" frameborder=\"0\" allowfullscreen></iframe>\n"
      ],
      "text/plain": [
       "<IPython.core.display.HTML object>"
      ]
     },
     "metadata": {},
     "output_type": "display_data"
    }
   ],
   "source": [
    "%%HTML\n",
    "<iframe width=\"560\" height=\"315\" src=\"https://www.youtube.com/embed/HTYx14NJ3hU?rel=0&amp;controls=1&amp;showinfo=0\" frameborder=\"0\" allowfullscreen></iframe>"
   ]
  },
  {
   "cell_type": "markdown",
   "metadata": {},
   "source": [
    "* Anaconda is available for all major OS platforms such as Windows, Mac, Ubuntu Linux, Red Hat or Centos Linux etc.\n",
    "* Here are some of the capabiliies of Anaconda\n",
    "  * Managing multiple versions of Python\n",
    "  * Ability to setup and manage other programming languages such as R\n",
    "  * Popular Data Science libraries are pre-installed\n",
    "  * Ability to setup and manage developer friendly tools such as Jupyter, JupyterLab, Pycharm and more.\n",
    "\n",
    "Even though it is straight forward to setup Anaconda, I would not recommend to setup unless your personal laptop is quad core and have 16 GB RAM. If your laptop have lesser configuration, there is a chance of impacting your laptop's performance."
   ]
  },
  {
   "cell_type": "code",
   "execution_count": null,
   "metadata": {},
   "outputs": [],
   "source": []
  }
 ],
 "metadata": {
  "kernelspec": {
   "display_name": "Python 3",
   "language": "python",
   "name": "python3"
  },
  "language_info": {
   "codemirror_mode": {
    "name": "ipython",
    "version": 3
   },
   "file_extension": ".py",
   "mimetype": "text/x-python",
   "name": "python",
   "nbconvert_exporter": "python",
   "pygments_lexer": "ipython3",
   "version": "3.6.12"
  }
 },
 "nbformat": 4,
 "nbformat_minor": 4
}
