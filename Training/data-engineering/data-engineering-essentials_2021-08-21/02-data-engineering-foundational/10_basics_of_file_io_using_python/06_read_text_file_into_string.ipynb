{
 "cells": [
  {
   "cell_type": "markdown",
   "id": "87a0a3ef",
   "metadata": {},
   "source": [
    "## Read text file into string\n",
    "\n",
    "Let us read text file into the string. We will use one of the file from the files related to retail_db data set.\n",
    "* We will use `orders` data set to see how to read text file into string using basic Python I/O libraries.\n",
    "* Location: `/data/retail_db/orders`.\n",
    "\n",
    "Here are the steps involved to read the file into string.\n",
    "* Check the type of the file.\n",
    "* Use `open` to create a file type object. It is nothing but a pointer to read the data from the file.\n",
    "* Invoke `read` to read the contents of the file into a string. At this time the contents of the file will be loaded as Python object of type `str` into the memory."
   ]
  },
  {
   "cell_type": "code",
   "execution_count": 1,
   "id": "8d869e6b",
   "metadata": {},
   "outputs": [
    {
     "name": "stdout",
     "output_type": "stream",
     "text": [
      "total 2932\n",
      "-rw-r--r-- 1 root root 2999944 Jan 21  2021 part-00000\n"
     ]
    }
   ],
   "source": [
    "!ls -ltr /data/retail_db/orders"
   ]
  },
  {
   "cell_type": "code",
   "execution_count": 2,
   "id": "fb34c09d",
   "metadata": {},
   "outputs": [
    {
     "name": "stdout",
     "output_type": "stream",
     "text": [
      "/data/retail_db/orders/part-00000: ASCII text\n"
     ]
    }
   ],
   "source": [
    "!file /data/retail_db/orders/part-00000"
   ]
  },
  {
   "cell_type": "markdown",
   "id": "be727003",
   "metadata": {},
   "source": [
    "* You can get help on open function using `help(open)`. You should review the below part from the help to see different modes supported. The default is `rt`. It will open the file for reading using text mode.\n",
    "\n",
    "```\n",
    "========= ===============================================================\n",
    "Character Meaning\n",
    "--------- ---------------------------------------------------------------\n",
    "'r'       open for reading (default)\n",
    "'w'       open for writing, truncating the file first\n",
    "'x'       create a new file and open it for writing\n",
    "'a'       open for writing, appending to the end of the file if it exists\n",
    "'b'       binary mode\n",
    "'t'       text mode (default)\n",
    "'+'       open a disk file for updating (reading and writing)\n",
    "'U'       universal newline mode (deprecated)\n",
    "========= ===============================================================\n",
    "```"
   ]
  },
  {
   "cell_type": "code",
   "execution_count": null,
   "id": "cc07490c",
   "metadata": {},
   "outputs": [],
   "source": [
    "help(open)"
   ]
  },
  {
   "cell_type": "code",
   "execution_count": 4,
   "id": "8a97e27b",
   "metadata": {},
   "outputs": [
    {
     "name": "stdout",
     "output_type": "stream",
     "text": [
      "-rw-r--r-- 1 root root 2999944 Jan 21  2021 /data/retail_db/orders/part-00000\n"
     ]
    }
   ],
   "source": [
    "!ls -ltr /data/retail_db/orders/part-00000"
   ]
  },
  {
   "cell_type": "code",
   "execution_count": 5,
   "id": "43d678cf",
   "metadata": {},
   "outputs": [],
   "source": [
    "# Creating file type object\n",
    "file = open('/data/retail_db/orders/part-00000')"
   ]
  },
  {
   "cell_type": "code",
   "execution_count": 6,
   "id": "d40e0ee4",
   "metadata": {},
   "outputs": [
    {
     "data": {
      "text/plain": [
       "_io.TextIOWrapper"
      ]
     },
     "execution_count": 6,
     "metadata": {},
     "output_type": "execute_result"
    }
   ],
   "source": [
    "# Checking type of the object created\n",
    "type(file)"
   ]
  },
  {
   "cell_type": "code",
   "execution_count": 7,
   "id": "d08483a4",
   "metadata": {},
   "outputs": [
    {
     "data": {
      "text/plain": [
       "\u001b[0;31mSignature:\u001b[0m \u001b[0mfile\u001b[0m\u001b[0;34m.\u001b[0m\u001b[0mread\u001b[0m\u001b[0;34m(\u001b[0m\u001b[0msize\u001b[0m\u001b[0;34m=\u001b[0m\u001b[0;34m-\u001b[0m\u001b[0;36m1\u001b[0m\u001b[0;34m,\u001b[0m \u001b[0;34m/\u001b[0m\u001b[0;34m)\u001b[0m\u001b[0;34m\u001b[0m\u001b[0;34m\u001b[0m\u001b[0m\n",
       "\u001b[0;31mDocstring:\u001b[0m\n",
       "Read at most n characters from stream.\n",
       "\n",
       "Read from underlying buffer until we have n characters or we hit EOF.\n",
       "If n is negative or omitted, read until EOF.\n",
       "\u001b[0;31mType:\u001b[0m      builtin_function_or_method\n"
      ]
     },
     "metadata": {},
     "output_type": "display_data"
    }
   ],
   "source": [
    "file.read?"
   ]
  },
  {
   "cell_type": "code",
   "execution_count": 8,
   "id": "3eed4019",
   "metadata": {},
   "outputs": [],
   "source": [
    "# Reading the contents of the file\n",
    "data = file.read()"
   ]
  },
  {
   "cell_type": "code",
   "execution_count": 9,
   "id": "cd2ed542",
   "metadata": {},
   "outputs": [
    {
     "data": {
      "text/plain": [
       "str"
      ]
     },
     "execution_count": 9,
     "metadata": {},
     "output_type": "execute_result"
    }
   ],
   "source": [
    "type(data)"
   ]
  },
  {
   "cell_type": "code",
   "execution_count": null,
   "id": "77eb5e81",
   "metadata": {},
   "outputs": [],
   "source": []
  }
 ],
 "metadata": {
  "kernelspec": {
   "display_name": "Python 3",
   "language": "python",
   "name": "python3"
  },
  "language_info": {
   "codemirror_mode": {
    "name": "ipython",
    "version": 3
   },
   "file_extension": ".py",
   "mimetype": "text/x-python",
   "name": "python",
   "nbconvert_exporter": "python",
   "pygments_lexer": "ipython3",
   "version": "3.6.12"
  }
 },
 "nbformat": 4,
 "nbformat_minor": 5
}
