{
 "cells": [
  {
   "cell_type": "markdown",
   "id": "88036529",
   "metadata": {},
   "source": [
    "## Write string to text file\n",
    "\n",
    "Let us understand how to write string to the text file. Here are the steps involved to write string to text file.\n",
    "* Make sure the target directory is available and the user have write permissions.\n",
    "* You need to have a string object to write into the file using default mode. The default mode is text or `t`.\n",
    "* The file object should be created in write mode using `open` function.\n",
    "* You can use `write` on file object to write the content into the file.\n",
    "* We need to make sure that file object is closed to reflect the data in the file. Until we close, we will not be able to read the contents of the file."
   ]
  },
  {
   "cell_type": "code",
   "execution_count": 2,
   "id": "41cdc800",
   "metadata": {},
   "outputs": [],
   "source": [
    "# Create folder to write the data to for practice.\n",
    "!mkdir -p data"
   ]
  },
  {
   "cell_type": "code",
   "execution_count": 3,
   "id": "b2353474",
   "metadata": {},
   "outputs": [
    {
     "name": "stdout",
     "output_type": "stream",
     "text": [
      "drwxr-xr-x 3 itversity itversity  4096 Jul 22 13:49 data\n",
      "-rw-r--r-- 1 itversity itversity  6485 Aug  3 00:58 05_overview_of_retail_data.ipynb\n"
     ]
    }
   ],
   "source": [
    "# We will use data folder in the current directory\n",
    "# As we have created the folder, we will typically have write permissions on it\n",
    "!ls -ltr|grep data"
   ]
  },
  {
   "cell_type": "code",
   "execution_count": 4,
   "id": "003fa331",
   "metadata": {},
   "outputs": [
    {
     "name": "stdout",
     "output_type": "stream",
     "text": [
      "total 20\n",
      "-rw-r--r-- 1 itversity itversity 41 Jul 14 10:11 sample_data.txt\n",
      "-rw-r--r-- 1 itversity itversity 27 Jul 22 13:21 overwrite.txt\n",
      "-rw-r--r-- 1 itversity itversity 54 Jul 22 13:23 append.txt\n",
      "-rw-r--r-- 1 itversity itversity 27 Jul 22 13:25 new_file.txt\n",
      "-rw-r--r-- 1 itversity itversity 60 Jul 22 13:49 departments.txt\n"
     ]
    }
   ],
   "source": [
    "# Check if the files exists\n",
    "!ls -ltr data"
   ]
  },
  {
   "cell_type": "code",
   "execution_count": 5,
   "id": "26a6e14f",
   "metadata": {},
   "outputs": [],
   "source": [
    "# You can also validate whether you are able to create files or not using touch command\n",
    "!touch data/validating_write_permissions"
   ]
  },
  {
   "cell_type": "code",
   "execution_count": 6,
   "id": "8fb8c640",
   "metadata": {},
   "outputs": [
    {
     "name": "stdout",
     "output_type": "stream",
     "text": [
      "total 20\n",
      "-rw-r--r-- 1 itversity itversity 41 Jul 14 10:11 sample_data.txt\n",
      "-rw-r--r-- 1 itversity itversity 27 Jul 22 13:21 overwrite.txt\n",
      "-rw-r--r-- 1 itversity itversity 54 Jul 22 13:23 append.txt\n",
      "-rw-r--r-- 1 itversity itversity 27 Jul 22 13:25 new_file.txt\n",
      "-rw-r--r-- 1 itversity itversity 60 Jul 22 13:49 departments.txt\n",
      "-rw-r--r-- 1 itversity itversity  0 Aug  3 01:18 validating_write_permissions\n"
     ]
    }
   ],
   "source": [
    "!ls -ltr data"
   ]
  },
  {
   "cell_type": "code",
   "execution_count": 7,
   "id": "450d36d0",
   "metadata": {},
   "outputs": [],
   "source": [
    "!rm data/validating_write_permissions"
   ]
  },
  {
   "cell_type": "code",
   "execution_count": 8,
   "id": "4f06c2b1",
   "metadata": {},
   "outputs": [
    {
     "name": "stdout",
     "output_type": "stream",
     "text": [
      "total 20\n",
      "-rw-r--r-- 1 itversity itversity 41 Jul 14 10:11 sample_data.txt\n",
      "-rw-r--r-- 1 itversity itversity 27 Jul 22 13:21 overwrite.txt\n",
      "-rw-r--r-- 1 itversity itversity 54 Jul 22 13:23 append.txt\n",
      "-rw-r--r-- 1 itversity itversity 27 Jul 22 13:25 new_file.txt\n",
      "-rw-r--r-- 1 itversity itversity 60 Jul 22 13:49 departments.txt\n"
     ]
    }
   ],
   "source": [
    "!ls -ltr data"
   ]
  },
  {
   "cell_type": "code",
   "execution_count": 9,
   "id": "3b447b55",
   "metadata": {},
   "outputs": [],
   "source": [
    "!rm data/sample_data.txt"
   ]
  },
  {
   "cell_type": "code",
   "execution_count": 10,
   "id": "51844847",
   "metadata": {},
   "outputs": [],
   "source": [
    "content = 'Sample Text which will be written to file'"
   ]
  },
  {
   "cell_type": "code",
   "execution_count": 11,
   "id": "14e6cf05",
   "metadata": {},
   "outputs": [
    {
     "data": {
      "text/plain": [
       "str"
      ]
     },
     "execution_count": 11,
     "metadata": {},
     "output_type": "execute_result"
    }
   ],
   "source": [
    "type(content)"
   ]
  },
  {
   "cell_type": "code",
   "execution_count": 12,
   "id": "385db6d4",
   "metadata": {},
   "outputs": [],
   "source": [
    "# Now let us create the file object in write mode\n",
    "# The default file format or mode is text\n",
    "file = open('data/sample_data.txt', 'w')"
   ]
  },
  {
   "cell_type": "code",
   "execution_count": 13,
   "id": "2d55f7c5",
   "metadata": {},
   "outputs": [
    {
     "data": {
      "text/plain": [
       "\u001b[0;31mSignature:\u001b[0m \u001b[0mfile\u001b[0m\u001b[0;34m.\u001b[0m\u001b[0mwrite\u001b[0m\u001b[0;34m(\u001b[0m\u001b[0mtext\u001b[0m\u001b[0;34m,\u001b[0m \u001b[0;34m/\u001b[0m\u001b[0;34m)\u001b[0m\u001b[0;34m\u001b[0m\u001b[0;34m\u001b[0m\u001b[0m\n",
       "\u001b[0;31mDocstring:\u001b[0m\n",
       "Write string to stream.\n",
       "Returns the number of characters written (which is always equal to\n",
       "the length of the string).\n",
       "\u001b[0;31mType:\u001b[0m      builtin_function_or_method\n"
      ]
     },
     "metadata": {},
     "output_type": "display_data"
    }
   ],
   "source": [
    "file.write?"
   ]
  },
  {
   "cell_type": "code",
   "execution_count": 14,
   "id": "fa7d4812",
   "metadata": {},
   "outputs": [
    {
     "data": {
      "text/plain": [
       "41"
      ]
     },
     "execution_count": 14,
     "metadata": {},
     "output_type": "execute_result"
    }
   ],
   "source": [
    "# Returns the size of the file\n",
    "# By default the contents of the file will be overwritten if the file already exists\n",
    "file.write(content)"
   ]
  },
  {
   "cell_type": "code",
   "execution_count": 15,
   "id": "b9a8a86b",
   "metadata": {},
   "outputs": [],
   "source": [
    "file.close()"
   ]
  },
  {
   "cell_type": "code",
   "execution_count": 16,
   "id": "55333fd4",
   "metadata": {},
   "outputs": [
    {
     "name": "stdout",
     "output_type": "stream",
     "text": [
      "Sample Text which will be written to file"
     ]
    }
   ],
   "source": [
    "!cat data/sample_data.txt"
   ]
  },
  {
   "cell_type": "code",
   "execution_count": null,
   "id": "54d98b6c",
   "metadata": {},
   "outputs": [],
   "source": []
  }
 ],
 "metadata": {
  "kernelspec": {
   "display_name": "Python 3",
   "language": "python",
   "name": "python3"
  },
  "language_info": {
   "codemirror_mode": {
    "name": "ipython",
    "version": 3
   },
   "file_extension": ".py",
   "mimetype": "text/x-python",
   "name": "python",
   "nbconvert_exporter": "python",
   "pygments_lexer": "ipython3",
   "version": "3.6.12"
  }
 },
 "nbformat": 4,
 "nbformat_minor": 5
}
