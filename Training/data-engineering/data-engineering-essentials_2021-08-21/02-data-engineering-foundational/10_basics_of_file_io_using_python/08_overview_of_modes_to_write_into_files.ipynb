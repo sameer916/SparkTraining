{
 "cells": [
  {
   "cell_type": "markdown",
   "id": "c00f1b17",
   "metadata": {},
   "source": [
    "## Overview of modes to write into files\n",
    "\n",
    "Let us go through the details related to the modes that are used to write data into files. Already we have seen `r` which is default as well as `w`. They are meant for read and write respectively.\n",
    "\n",
    "```\n",
    "========= ===============================================================\n",
    "Character Meaning\n",
    "--------- ---------------------------------------------------------------\n",
    "'r'       open for reading (default)\n",
    "'w'       open for writing, truncating the file first\n",
    "'x'       create a new file and open it for writing\n",
    "'a'       open for writing, appending to the end of the file if it exists\n",
    "'b'       binary mode\n",
    "'t'       text mode (default)\n",
    "'+'       open a disk file for updating (reading and writing)\n",
    "'U'       universal newline mode (deprecated)\n",
    "========= ===============================================================\n",
    "```\n",
    "\n",
    "* `r` is used for read and `w`, `a`, `x` are used for write.\n",
    "* We can read or write either in binary or text mode. Unless specified, operations are performed in text mode.\n",
    "* We need to combine `b` with read or write operations to perform read or write in binary mode."
   ]
  },
  {
   "cell_type": "markdown",
   "id": "5ee1bc36",
   "metadata": {},
   "source": [
    "### Overwriting the existing file using w\n",
    "\n",
    "If the file does not exists, it will create otherwise it will overwrite."
   ]
  },
  {
   "cell_type": "code",
   "execution_count": 1,
   "id": "2d517487",
   "metadata": {},
   "outputs": [
    {
     "name": "stdout",
     "output_type": "stream",
     "text": [
      "rm: cannot remove ‘data/overwrite.txt’: No such file or directory\n"
     ]
    }
   ],
   "source": [
    "!rm data/overwrite.txt"
   ]
  },
  {
   "cell_type": "code",
   "execution_count": 2,
   "id": "33dd9738",
   "metadata": {},
   "outputs": [],
   "source": [
    "file = open('data/overwrite.txt', 'w')"
   ]
  },
  {
   "cell_type": "code",
   "execution_count": 3,
   "id": "422a2098",
   "metadata": {},
   "outputs": [],
   "source": [
    "data = 'Writing in file - attempt 1'"
   ]
  },
  {
   "cell_type": "code",
   "execution_count": 5,
   "id": "20be4142",
   "metadata": {},
   "outputs": [
    {
     "data": {
      "text/plain": [
       "27"
      ]
     },
     "execution_count": 5,
     "metadata": {},
     "output_type": "execute_result"
    }
   ],
   "source": [
    "len(data)"
   ]
  },
  {
   "cell_type": "code",
   "execution_count": 4,
   "id": "33714c81",
   "metadata": {},
   "outputs": [
    {
     "data": {
      "text/plain": [
       "27"
      ]
     },
     "execution_count": 4,
     "metadata": {},
     "output_type": "execute_result"
    }
   ],
   "source": [
    "file.write(data)"
   ]
  },
  {
   "cell_type": "code",
   "execution_count": 6,
   "id": "73147cd4",
   "metadata": {},
   "outputs": [],
   "source": [
    "file.close()"
   ]
  },
  {
   "cell_type": "code",
   "execution_count": 7,
   "id": "583e2b7f",
   "metadata": {},
   "outputs": [
    {
     "name": "stdout",
     "output_type": "stream",
     "text": [
      "Writing in file - attempt 1"
     ]
    }
   ],
   "source": [
    "!cat data/overwrite.txt"
   ]
  },
  {
   "cell_type": "code",
   "execution_count": 8,
   "id": "5edda06d",
   "metadata": {},
   "outputs": [],
   "source": [
    "file = open('data/overwrite.txt', 'w')"
   ]
  },
  {
   "cell_type": "code",
   "execution_count": 9,
   "id": "16efcd53",
   "metadata": {},
   "outputs": [],
   "source": [
    "data = 'Writing in file - attempt 2'"
   ]
  },
  {
   "cell_type": "code",
   "execution_count": 10,
   "id": "b04d7e22",
   "metadata": {},
   "outputs": [
    {
     "data": {
      "text/plain": [
       "27"
      ]
     },
     "execution_count": 10,
     "metadata": {},
     "output_type": "execute_result"
    }
   ],
   "source": [
    "file.write(data)"
   ]
  },
  {
   "cell_type": "code",
   "execution_count": 11,
   "id": "a8339466",
   "metadata": {},
   "outputs": [],
   "source": [
    "file.close()"
   ]
  },
  {
   "cell_type": "code",
   "execution_count": 12,
   "id": "16373836",
   "metadata": {},
   "outputs": [
    {
     "name": "stdout",
     "output_type": "stream",
     "text": [
      "Writing in file - attempt 2"
     ]
    }
   ],
   "source": [
    "!cat data/overwrite.txt # Data is overwritten"
   ]
  },
  {
   "cell_type": "markdown",
   "id": "b1b97652",
   "metadata": {},
   "source": [
    "### Appending into existing file using a\n",
    "\n",
    "If the file does not exists, it will create otherwise it will append."
   ]
  },
  {
   "cell_type": "code",
   "execution_count": 24,
   "id": "14a3f481",
   "metadata": {},
   "outputs": [],
   "source": [
    "!rm data/append.txt"
   ]
  },
  {
   "cell_type": "code",
   "execution_count": 25,
   "id": "d9ff68a6",
   "metadata": {},
   "outputs": [],
   "source": [
    "file = open('data/append.txt', 'a')"
   ]
  },
  {
   "cell_type": "code",
   "execution_count": 26,
   "id": "2d6f65a8",
   "metadata": {},
   "outputs": [],
   "source": [
    "data = 'Writing in file - attempt 1'"
   ]
  },
  {
   "cell_type": "code",
   "execution_count": 27,
   "id": "1378208b",
   "metadata": {},
   "outputs": [
    {
     "data": {
      "text/plain": [
       "27"
      ]
     },
     "execution_count": 27,
     "metadata": {},
     "output_type": "execute_result"
    }
   ],
   "source": [
    "file.write(data)"
   ]
  },
  {
   "cell_type": "code",
   "execution_count": 28,
   "id": "113a6c18",
   "metadata": {},
   "outputs": [],
   "source": [
    "file.close()"
   ]
  },
  {
   "cell_type": "code",
   "execution_count": 29,
   "id": "eeed2d20",
   "metadata": {},
   "outputs": [
    {
     "name": "stdout",
     "output_type": "stream",
     "text": [
      "Writing in file - attempt 1"
     ]
    }
   ],
   "source": [
    "!cat data/append.txt"
   ]
  },
  {
   "cell_type": "code",
   "execution_count": 30,
   "id": "2c90c85e",
   "metadata": {},
   "outputs": [],
   "source": [
    "file = open('data/append.txt', 'a')"
   ]
  },
  {
   "cell_type": "code",
   "execution_count": 31,
   "id": "26873c2c",
   "metadata": {},
   "outputs": [],
   "source": [
    "data = 'Writing in file - attempt 2'"
   ]
  },
  {
   "cell_type": "code",
   "execution_count": 32,
   "id": "e1b1dfda",
   "metadata": {},
   "outputs": [
    {
     "data": {
      "text/plain": [
       "27"
      ]
     },
     "execution_count": 32,
     "metadata": {},
     "output_type": "execute_result"
    }
   ],
   "source": [
    "file.write(data)"
   ]
  },
  {
   "cell_type": "code",
   "execution_count": 34,
   "id": "c36fe4d6",
   "metadata": {},
   "outputs": [],
   "source": [
    "file.close()"
   ]
  },
  {
   "cell_type": "code",
   "execution_count": 35,
   "id": "038ff812",
   "metadata": {},
   "outputs": [
    {
     "name": "stdout",
     "output_type": "stream",
     "text": [
      "Writing in file - attempt 1Writing in file - attempt 2"
     ]
    }
   ],
   "source": [
    "!cat data/append.txt # Data is appended"
   ]
  },
  {
   "cell_type": "markdown",
   "id": "28ce2200",
   "metadata": {},
   "source": [
    "### Write into file using x\n",
    "\n",
    "If the file already exists, it will fail."
   ]
  },
  {
   "cell_type": "code",
   "execution_count": 36,
   "id": "da8f6fe7",
   "metadata": {},
   "outputs": [],
   "source": [
    "!rm data/new_file.txt"
   ]
  },
  {
   "cell_type": "code",
   "execution_count": 37,
   "id": "174b2839",
   "metadata": {},
   "outputs": [],
   "source": [
    "file = open('data/new_file.txt', 'x')"
   ]
  },
  {
   "cell_type": "code",
   "execution_count": 38,
   "id": "f7e016e3",
   "metadata": {},
   "outputs": [],
   "source": [
    "data = 'Writing in file - attempt 1'"
   ]
  },
  {
   "cell_type": "code",
   "execution_count": 39,
   "id": "62426843",
   "metadata": {},
   "outputs": [
    {
     "data": {
      "text/plain": [
       "27"
      ]
     },
     "execution_count": 39,
     "metadata": {},
     "output_type": "execute_result"
    }
   ],
   "source": [
    "file.write(data)"
   ]
  },
  {
   "cell_type": "code",
   "execution_count": 40,
   "id": "409378cb",
   "metadata": {},
   "outputs": [],
   "source": [
    "file.close()"
   ]
  },
  {
   "cell_type": "code",
   "execution_count": 41,
   "id": "ca76d251",
   "metadata": {},
   "outputs": [
    {
     "name": "stdout",
     "output_type": "stream",
     "text": [
      "Writing in file - attempt 1"
     ]
    }
   ],
   "source": [
    "!cat data/new_file.txt"
   ]
  },
  {
   "cell_type": "code",
   "execution_count": 42,
   "id": "1585ebb9",
   "metadata": {},
   "outputs": [
    {
     "ename": "FileExistsError",
     "evalue": "[Errno 17] File exists: 'data/new_file.txt'",
     "output_type": "error",
     "traceback": [
      "\u001b[0;31m---------------------------------------------------------------------------\u001b[0m",
      "\u001b[0;31mFileExistsError\u001b[0m                           Traceback (most recent call last)",
      "\u001b[0;32m<ipython-input-42-792d3664a7c7>\u001b[0m in \u001b[0;36m<module>\u001b[0;34m\u001b[0m\n\u001b[0;32m----> 1\u001b[0;31m \u001b[0mfile\u001b[0m \u001b[0;34m=\u001b[0m \u001b[0mopen\u001b[0m\u001b[0;34m(\u001b[0m\u001b[0;34m'data/new_file.txt'\u001b[0m\u001b[0;34m,\u001b[0m \u001b[0;34m'x'\u001b[0m\u001b[0;34m)\u001b[0m \u001b[0;31m# Fails, as the file already exists\u001b[0m\u001b[0;34m\u001b[0m\u001b[0;34m\u001b[0m\u001b[0m\n\u001b[0m",
      "\u001b[0;31mFileExistsError\u001b[0m: [Errno 17] File exists: 'data/new_file.txt'"
     ]
    }
   ],
   "source": [
    "file = open('data/new_file.txt', 'x') # Fails, as the file already exists"
   ]
  },
  {
   "cell_type": "code",
   "execution_count": null,
   "id": "9fd07cdf",
   "metadata": {},
   "outputs": [],
   "source": []
  }
 ],
 "metadata": {
  "kernelspec": {
   "display_name": "Python 3",
   "language": "python",
   "name": "python3"
  },
  "language_info": {
   "codemirror_mode": {
    "name": "ipython",
    "version": 3
   },
   "file_extension": ".py",
   "mimetype": "text/x-python",
   "name": "python",
   "nbconvert_exporter": "python",
   "pygments_lexer": "ipython3",
   "version": "3.6.12"
  }
 },
 "nbformat": 4,
 "nbformat_minor": 5
}
