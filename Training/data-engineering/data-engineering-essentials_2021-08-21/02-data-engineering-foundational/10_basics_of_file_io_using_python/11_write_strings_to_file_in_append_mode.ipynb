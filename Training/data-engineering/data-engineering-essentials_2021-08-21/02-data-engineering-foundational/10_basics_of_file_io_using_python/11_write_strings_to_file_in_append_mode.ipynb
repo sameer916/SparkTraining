{
 "cells": [
  {
   "cell_type": "markdown",
   "id": "2f2510ee",
   "metadata": {},
   "source": [
    "## Write strings to file in append mode\n",
    "\n",
    "Let us see how we can write multiple strings from a list to file in append mode.\n",
    "* We cannot write the list of strings into file properly all at once."
   ]
  },
  {
   "cell_type": "code",
   "execution_count": null,
   "id": "468d764e",
   "metadata": {},
   "outputs": [],
   "source": [
    "departments = [\n",
    "    '2,Fitness', \n",
    "    '3,Footwear', \n",
    "    '4,Apparel', \n",
    "    '5,Golf', \n",
    "    '6,Outdoors', \n",
    "    '7,Fan Shop'\n",
    "]"
   ]
  },
  {
   "cell_type": "code",
   "execution_count": null,
   "id": "868be42d",
   "metadata": {},
   "outputs": [],
   "source": [
    "file = open('data/departments.txt', 'w')"
   ]
  },
  {
   "cell_type": "code",
   "execution_count": null,
   "id": "172c7112",
   "metadata": {},
   "outputs": [],
   "source": [
    "file.write(departments) # Fails"
   ]
  },
  {
   "cell_type": "code",
   "execution_count": null,
   "id": "69334f8d",
   "metadata": {},
   "outputs": [],
   "source": [
    "file.close()"
   ]
  },
  {
   "cell_type": "markdown",
   "id": "1ac9e1c2",
   "metadata": {},
   "source": [
    "Here are the steps involved in writing list of strings in the form of CSV to a file.\n",
    "* Make sure that data in the list contains delimited strings.\n",
    "* Open the file in append mode.\n",
    "* Iterate through the list and write one element at a time into the file.\n",
    "* Close the file.\n",
    "\n",
    "Make sure to validate whether data is written properly or not in the file."
   ]
  },
  {
   "cell_type": "code",
   "execution_count": null,
   "id": "657c1659",
   "metadata": {},
   "outputs": [],
   "source": [
    "departments = [\n",
    "    '2,Fitness', \n",
    "    '3,Footwear', \n",
    "    '4,Apparel', \n",
    "    '5,Golf', \n",
    "    '6,Outdoors', \n",
    "    '7,Fan Shop'\n",
    "]"
   ]
  },
  {
   "cell_type": "code",
   "execution_count": null,
   "id": "d1255246",
   "metadata": {},
   "outputs": [],
   "source": [
    "file = open('data/departments.txt', 'a')"
   ]
  },
  {
   "cell_type": "code",
   "execution_count": null,
   "id": "5649b910",
   "metadata": {},
   "outputs": [],
   "source": [
    "for department in departments:\n",
    "    file.write(department)"
   ]
  },
  {
   "cell_type": "code",
   "execution_count": null,
   "id": "ac8c3ccd",
   "metadata": {},
   "outputs": [],
   "source": [
    "file.close()"
   ]
  },
  {
   "cell_type": "code",
   "execution_count": null,
   "id": "5d6b02d9",
   "metadata": {},
   "outputs": [],
   "source": [
    "!ls -ltr data/departments.txt"
   ]
  },
  {
   "cell_type": "code",
   "execution_count": null,
   "id": "d7c8da68",
   "metadata": {},
   "outputs": [],
   "source": [
    "!cat data/departments.txt # No new line characters"
   ]
  },
  {
   "cell_type": "code",
   "execution_count": null,
   "id": "2e2a90b7",
   "metadata": {},
   "outputs": [],
   "source": [
    "!rm data/departments.txt"
   ]
  },
  {
   "cell_type": "code",
   "execution_count": null,
   "id": "ed08df93",
   "metadata": {},
   "outputs": [],
   "source": [
    "departments = [\n",
    "    '2,Fitness', \n",
    "    '3,Footwear', \n",
    "    '4,Apparel', \n",
    "    '5,Golf', \n",
    "    '6,Outdoors', \n",
    "    '7,Fan Shop'\n",
    "]"
   ]
  },
  {
   "cell_type": "code",
   "execution_count": null,
   "id": "260c4d10",
   "metadata": {},
   "outputs": [],
   "source": [
    "file = open('data/departments.txt', 'a')"
   ]
  },
  {
   "cell_type": "code",
   "execution_count": null,
   "id": "7bbedcc0",
   "metadata": {},
   "outputs": [],
   "source": [
    "for department in departments:\n",
    "    file.write(f'{department}\\n')"
   ]
  },
  {
   "cell_type": "code",
   "execution_count": null,
   "id": "d41ced2b",
   "metadata": {},
   "outputs": [],
   "source": [
    "file.close()"
   ]
  },
  {
   "cell_type": "code",
   "execution_count": null,
   "id": "4e78f3d1",
   "metadata": {},
   "outputs": [],
   "source": [
    "!ls -ltr data/departments.txt"
   ]
  },
  {
   "cell_type": "code",
   "execution_count": null,
   "id": "4efba783",
   "metadata": {},
   "outputs": [],
   "source": [
    "!cat data/departments.txt # With new line characters"
   ]
  },
  {
   "cell_type": "code",
   "execution_count": null,
   "id": "95ef017f",
   "metadata": {},
   "outputs": [],
   "source": [
    "!wc -l data/departments.txt"
   ]
  },
  {
   "cell_type": "markdown",
   "id": "b5b228bb",
   "metadata": {},
   "source": [
    "* You can also build one big string and write into the file in one shot. However you need to ensure that the line delimiter is placed between the elements."
   ]
  },
  {
   "cell_type": "code",
   "execution_count": null,
   "id": "4d3e8980",
   "metadata": {},
   "outputs": [],
   "source": [
    "!rm data/departments.txt"
   ]
  },
  {
   "cell_type": "code",
   "execution_count": null,
   "id": "1bb934ad",
   "metadata": {},
   "outputs": [],
   "source": [
    "departments = [\n",
    "    '2,Fitness', \n",
    "    '3,Footwear', \n",
    "    '4,Apparel', \n",
    "    '5,Golf', \n",
    "    '6,Outdoors', \n",
    "    '7,Fan Shop'\n",
    "]"
   ]
  },
  {
   "cell_type": "code",
   "execution_count": null,
   "id": "5325f803",
   "metadata": {},
   "outputs": [],
   "source": [
    "data = '\\n'.join(departments)"
   ]
  },
  {
   "cell_type": "code",
   "execution_count": null,
   "id": "db0b7190",
   "metadata": {},
   "outputs": [],
   "source": [
    "file = open('data/departments.txt', 'a')"
   ]
  },
  {
   "cell_type": "code",
   "execution_count": null,
   "id": "a75a9435",
   "metadata": {},
   "outputs": [],
   "source": [
    "file.write(data)"
   ]
  },
  {
   "cell_type": "code",
   "execution_count": null,
   "id": "27e2be5a",
   "metadata": {},
   "outputs": [],
   "source": [
    "file.close()"
   ]
  },
  {
   "cell_type": "code",
   "execution_count": null,
   "id": "11f34e27",
   "metadata": {},
   "outputs": [],
   "source": [
    "!ls -ltr data/departments.txt"
   ]
  },
  {
   "cell_type": "code",
   "execution_count": null,
   "id": "b2cb2b39",
   "metadata": {},
   "outputs": [],
   "source": [
    "!cat data/departments.txt # With new line characters"
   ]
  },
  {
   "cell_type": "code",
   "execution_count": null,
   "id": "334a8ae7",
   "metadata": {},
   "outputs": [],
   "source": [
    "!wc -l data/departments.txt"
   ]
  },
  {
   "cell_type": "code",
   "execution_count": null,
   "id": "be9690a1",
   "metadata": {},
   "outputs": [],
   "source": []
  }
 ],
 "metadata": {
  "kernelspec": {
   "display_name": "Python 3",
   "language": "python",
   "name": "python3"
  },
  "language_info": {
   "codemirror_mode": {
    "name": "ipython",
    "version": 3
   },
   "file_extension": ".py",
   "mimetype": "text/x-python",
   "name": "python",
   "nbconvert_exporter": "python",
   "pygments_lexer": "ipython3",
   "version": "3.6.12"
  }
 },
 "nbformat": 4,
 "nbformat_minor": 5
}
