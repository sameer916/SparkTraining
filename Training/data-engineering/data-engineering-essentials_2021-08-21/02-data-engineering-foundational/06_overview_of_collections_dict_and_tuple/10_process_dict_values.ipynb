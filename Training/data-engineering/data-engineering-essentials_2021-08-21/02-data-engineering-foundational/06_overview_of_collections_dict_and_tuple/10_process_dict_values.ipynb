{
 "cells": [
  {
   "cell_type": "markdown",
   "id": "00cd4be6",
   "metadata": {},
   "source": [
    "## Process dict values\n",
    "\n",
    "Let us understand how we can process the values in dicts.\n",
    "* We have already seen a function called as `values` which return all the values as a list like object."
   ]
  },
  {
   "cell_type": "code",
   "execution_count": 1,
   "id": "209e2057",
   "metadata": {},
   "outputs": [],
   "source": [
    "order_item_subtotals = {\n",
    "    1: 299.98,\n",
    "    2: 199.99,\n",
    "    3: 250.0,\n",
    "    4: 129.99\n",
    "}"
   ]
  },
  {
   "cell_type": "code",
   "execution_count": 2,
   "id": "e96460d9",
   "metadata": {},
   "outputs": [
    {
     "data": {
      "text/plain": [
       "{1: 299.98, 2: 199.99, 3: 250.0, 4: 129.99}"
      ]
     },
     "execution_count": 2,
     "metadata": {},
     "output_type": "execute_result"
    }
   ],
   "source": [
    "order_item_subtotals"
   ]
  },
  {
   "cell_type": "code",
   "execution_count": 3,
   "id": "119514ae",
   "metadata": {},
   "outputs": [
    {
     "data": {
      "text/plain": [
       "dict"
      ]
     },
     "execution_count": 3,
     "metadata": {},
     "output_type": "execute_result"
    }
   ],
   "source": [
    "type(order_item_subtotals)"
   ]
  },
  {
   "cell_type": "code",
   "execution_count": 4,
   "id": "c4022eeb",
   "metadata": {},
   "outputs": [
    {
     "data": {
      "text/plain": [
       "dict_values([299.98, 199.99, 250.0, 129.99])"
      ]
     },
     "execution_count": 4,
     "metadata": {},
     "output_type": "execute_result"
    }
   ],
   "source": [
    "order_item_subtotals.values()"
   ]
  },
  {
   "cell_type": "markdown",
   "id": "b573eca4",
   "metadata": {},
   "source": [
    "* If we would like to get total revenue by adding all the values, we can apply `sum`."
   ]
  },
  {
   "cell_type": "code",
   "execution_count": 5,
   "id": "52fefcc3",
   "metadata": {},
   "outputs": [
    {
     "data": {
      "text/plain": [
       "879.96"
      ]
     },
     "execution_count": 5,
     "metadata": {},
     "output_type": "execute_result"
    }
   ],
   "source": [
    "sum(order_item_subtotals.values())"
   ]
  },
  {
   "cell_type": "code",
   "execution_count": 6,
   "id": "5ba261cf",
   "metadata": {},
   "outputs": [
    {
     "data": {
      "text/plain": [
       "129.99"
      ]
     },
     "execution_count": 6,
     "metadata": {},
     "output_type": "execute_result"
    }
   ],
   "source": [
    "# min\n",
    "min(order_item_subtotals.values())"
   ]
  },
  {
   "cell_type": "code",
   "execution_count": 7,
   "id": "4bbb1d05",
   "metadata": {},
   "outputs": [
    {
     "data": {
      "text/plain": [
       "299.98"
      ]
     },
     "execution_count": 7,
     "metadata": {},
     "output_type": "execute_result"
    }
   ],
   "source": [
    "# max\n",
    "max(order_item_subtotals.values())"
   ]
  },
  {
   "cell_type": "code",
   "execution_count": 8,
   "id": "b3dfc45e",
   "metadata": {},
   "outputs": [
    {
     "data": {
      "text/plain": [
       "[129.99, 199.99, 250.0, 299.98]"
      ]
     },
     "execution_count": 8,
     "metadata": {},
     "output_type": "execute_result"
    }
   ],
   "source": [
    "# sort\n",
    "sorted(order_item_subtotals.values())"
   ]
  },
  {
   "cell_type": "markdown",
   "id": "4cca2fab",
   "metadata": {},
   "source": [
    "* We can convert the values to `list` and perform all available list operations."
   ]
  },
  {
   "cell_type": "code",
   "execution_count": 9,
   "id": "80d33640",
   "metadata": {},
   "outputs": [
    {
     "data": {
      "text/plain": [
       "[299.98, 199.99, 250.0, 129.99]"
      ]
     },
     "execution_count": 9,
     "metadata": {},
     "output_type": "execute_result"
    }
   ],
   "source": [
    "list(order_item_subtotals.values())"
   ]
  },
  {
   "cell_type": "markdown",
   "id": "5c8d89b4",
   "metadata": {},
   "source": [
    "* The values in the `dict` need not be unique. Sometimes, we might want to get all the unique values.\n",
    "* For example, get all the unique sports that is part of this dict. In this `dict`, the key is name of the sports person and the value is the sport the person plays.\n",
    "\n",
    "```{note}\n",
    "You can always use `set` to get unique elements from any list type object.\n",
    "```"
   ]
  },
  {
   "cell_type": "code",
   "execution_count": 13,
   "id": "8ce30ee6",
   "metadata": {},
   "outputs": [],
   "source": [
    "famous_players = {\n",
    "    'Pete Sampras': 'Tennis',\n",
    "    'Sachin Tendulkar': 'Cricket',\n",
    "    'Brian Lara': 'Cricket',\n",
    "    'Diego Maradona': 'Soccer',\n",
    "    'Roger Federer': 'Tennis',\n",
    "    'Ian Thorpe': 'Swimming',\n",
    "    'Ronaldo': 'Soccer',\n",
    "    'Usain Bolt': 'Running',\n",
    "    'P. V. Sindhu': 'Badminton',\n",
    "    'Shane Warne': 'Cricket',\n",
    "    'David Beckham': 'Cricket',\n",
    "    'Michael Phelps': 'Swimming'\n",
    "}"
   ]
  },
  {
   "cell_type": "code",
   "execution_count": 15,
   "id": "6f9da41c",
   "metadata": {},
   "outputs": [
    {
     "data": {
      "text/plain": [
       "dict_values(['Tennis', 'Cricket', 'Cricket', 'Soccer', 'Tennis', 'Swimming', 'Soccer', 'Running', 'Badminton', 'Cricket', 'Cricket', 'Swimming'])"
      ]
     },
     "execution_count": 15,
     "metadata": {},
     "output_type": "execute_result"
    }
   ],
   "source": [
    "famous_players.values()"
   ]
  },
  {
   "cell_type": "code",
   "execution_count": 16,
   "id": "6762bd88",
   "metadata": {},
   "outputs": [
    {
     "data": {
      "text/plain": [
       "12"
      ]
     },
     "execution_count": 16,
     "metadata": {},
     "output_type": "execute_result"
    }
   ],
   "source": [
    "len(famous_players.values())"
   ]
  },
  {
   "cell_type": "code",
   "execution_count": 17,
   "id": "917b17c6",
   "metadata": {},
   "outputs": [
    {
     "data": {
      "text/plain": [
       "{'Badminton', 'Cricket', 'Running', 'Soccer', 'Swimming', 'Tennis'}"
      ]
     },
     "execution_count": 17,
     "metadata": {},
     "output_type": "execute_result"
    }
   ],
   "source": [
    "set(famous_players.values())"
   ]
  },
  {
   "cell_type": "code",
   "execution_count": 18,
   "id": "5fd514b1",
   "metadata": {},
   "outputs": [
    {
     "data": {
      "text/plain": [
       "6"
      ]
     },
     "execution_count": 18,
     "metadata": {},
     "output_type": "execute_result"
    }
   ],
   "source": [
    "len(set(famous_players.values()))"
   ]
  },
  {
   "cell_type": "code",
   "execution_count": null,
   "id": "1a0bd256",
   "metadata": {},
   "outputs": [],
   "source": []
  }
 ],
 "metadata": {
  "kernelspec": {
   "display_name": "Python 3",
   "language": "python",
   "name": "python3"
  },
  "language_info": {
   "codemirror_mode": {
    "name": "ipython",
    "version": 3
   },
   "file_extension": ".py",
   "mimetype": "text/x-python",
   "name": "python",
   "nbconvert_exporter": "python",
   "pygments_lexer": "ipython3",
   "version": "3.6.12"
  }
 },
 "nbformat": 4,
 "nbformat_minor": 5
}
