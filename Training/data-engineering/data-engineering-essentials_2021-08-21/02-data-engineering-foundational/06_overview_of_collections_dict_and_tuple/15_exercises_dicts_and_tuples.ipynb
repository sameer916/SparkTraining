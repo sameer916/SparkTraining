{
 "cells": [
  {
   "cell_type": "markdown",
   "id": "847ef3a9",
   "metadata": {},
   "source": [
    "## Exercises - Dicts and Tuples\n",
    "\n",
    "Let us go through some exercises related to dict and tuple."
   ]
  },
  {
   "cell_type": "markdown",
   "id": "4b5e1392",
   "metadata": {},
   "source": [
    "### Exercise 1 - Access all the values\n",
    "\n",
    "Get the values from the below dict in the form of a list."
   ]
  },
  {
   "cell_type": "code",
   "execution_count": 1,
   "id": "942ea11f",
   "metadata": {},
   "outputs": [],
   "source": [
    "d = {\n",
    "    'order_id': 1,\n",
    "    'order_date': '2013-07-25',\n",
    "    'order_customer_id': 100,\n",
    "    'order_status': 'COMPLETE'\n",
    "}"
   ]
  },
  {
   "cell_type": "code",
   "execution_count": 2,
   "id": "89615579",
   "metadata": {},
   "outputs": [],
   "source": [
    "def get_values(d):\n",
    "    l=list(d.values())\n",
    "    return l"
   ]
  },
  {
   "cell_type": "code",
   "execution_count": 3,
   "id": "dadf6c43",
   "metadata": {},
   "outputs": [
    {
     "data": {
      "text/plain": [
       "[1, '2013-07-25', 100, 'COMPLETE']"
      ]
     },
     "execution_count": 3,
     "metadata": {},
     "output_type": "execute_result"
    }
   ],
   "source": [
    "get_values(d) # Desired output: [1, '2013-07-25', 100, 'COMPLETE']"
   ]
  },
  {
   "cell_type": "code",
   "execution_count": 4,
   "id": "d26aa2fc",
   "metadata": {},
   "outputs": [
    {
     "data": {
      "text/plain": [
       "list"
      ]
     },
     "execution_count": 4,
     "metadata": {},
     "output_type": "execute_result"
    }
   ],
   "source": [
    "type(get_values(d)) # list"
   ]
  },
  {
   "cell_type": "markdown",
   "id": "e35b45a7",
   "metadata": {},
   "source": [
    "### Exercise 2 - Get Data types of values\n",
    "\n",
    "Continue on previous exercise and print data type of each value returned by get_values."
   ]
  },
  {
   "cell_type": "code",
   "execution_count": 5,
   "id": "1b23a546",
   "metadata": {},
   "outputs": [],
   "source": [
    "l = get_values(d)"
   ]
  },
  {
   "cell_type": "markdown",
   "id": "53869d6c",
   "metadata": {},
   "source": [
    "* As l is list, you will be able to use `for` loop to access the elements from l. Here is the desired output."
   ]
  },
  {
   "cell_type": "code",
   "execution_count": 7,
   "id": "4f8bc0c8",
   "metadata": {},
   "outputs": [
    {
     "name": "stdout",
     "output_type": "stream",
     "text": [
      "<class 'int'>\n",
      "<class 'str'>\n",
      "<class 'int'>\n",
      "<class 'str'>\n"
     ]
    }
   ],
   "source": [
    "for e in l: print(type(e))"
   ]
  },
  {
   "cell_type": "markdown",
   "id": "b2b131f6",
   "metadata": {},
   "source": [
    "### Exercise 3 - Data Type Conversion\n",
    "\n",
    "As part of the below dict object, order_date is of type string. You need to convert the data type of **order_date** to date type."
   ]
  },
  {
   "cell_type": "code",
   "execution_count": 8,
   "id": "52a674f7",
   "metadata": {},
   "outputs": [],
   "source": [
    "d = {\n",
    "    'order_id': 1,\n",
    "    'order_date': '2013-07-25',\n",
    "    'order_customer_id': 100,\n",
    "    'order_status': 'COMPLETE'\n",
    "}"
   ]
  },
  {
   "cell_type": "code",
   "execution_count": 13,
   "id": "bf2bbe48",
   "metadata": {},
   "outputs": [],
   "source": [
    "import datetime as dt\n",
    "\n",
    "def convert_date_type(d):\n",
    "    d['order_date']=dt.datetime.strptime(d['order_date'],'%Y-%m-%d')\n",
    "    return d"
   ]
  },
  {
   "cell_type": "markdown",
   "id": "b06646a5",
   "metadata": {},
   "source": [
    "* Run below cell to validate the output. Here is the desired output.\n",
    "\n",
    "```python\n",
    "{'order_id': 1,\n",
    " 'order_date': datetime.datetime(2013, 7, 25, 0, 0),\n",
    " 'order_customer_id': 100,\n",
    " 'order_status': 'COMPLETE'}\n",
    "```"
   ]
  },
  {
   "cell_type": "code",
   "execution_count": 14,
   "id": "176ce3fc",
   "metadata": {},
   "outputs": [
    {
     "data": {
      "text/plain": [
       "{'order_id': 1,\n",
       " 'order_date': datetime.datetime(2013, 7, 25, 0, 0),\n",
       " 'order_customer_id': 100,\n",
       " 'order_status': 'COMPLETE'}"
      ]
     },
     "execution_count": 14,
     "metadata": {},
     "output_type": "execute_result"
    }
   ],
   "source": [
    "d_converted = convert_date_type(d)\n",
    "d_converted"
   ]
  },
  {
   "cell_type": "code",
   "execution_count": 15,
   "id": "4d19689c",
   "metadata": {},
   "outputs": [
    {
     "data": {
      "text/plain": [
       "datetime.datetime"
      ]
     },
     "execution_count": 15,
     "metadata": {},
     "output_type": "execute_result"
    }
   ],
   "source": [
    "type(d_converted['order_date']) # Output: datetime.datetime"
   ]
  },
  {
   "cell_type": "markdown",
   "id": "a022e519",
   "metadata": {},
   "source": [
    "### Exercise 4 - Create list of dicts\n",
    "\n",
    "Create list of dicts for the following data.\n",
    "* Each element in the list should be of type dict.\n",
    "* The dict should contain **order_item_order_id** and **order_item_subtotal** as keys.\n",
    "\n",
    "|order_item_order_id|order_item_subtotal|\n",
    "|---|---|\n",
    "|1|299.98|\n",
    "|2|199.99|\n",
    "|2|250.0|\n",
    "|2|129.99|\n",
    "|4|49.98|\n",
    "|4|299.95|\n",
    "|4|150.0|\n",
    "|4|199.92|"
   ]
  },
  {
   "cell_type": "code",
   "execution_count": null,
   "id": "8f98fead",
   "metadata": {},
   "outputs": [],
   "source": []
  },
  {
   "cell_type": "markdown",
   "id": "5a865bd2",
   "metadata": {},
   "source": [
    "### Exercise 5: Dict with max value\n",
    "\n",
    "Create a dict with order id and max order item subtotal using the below dict. The below dict contains order id as key and order item subtotals list as corresponding value."
   ]
  },
  {
   "cell_type": "code",
   "execution_count": 16,
   "id": "b1da9686",
   "metadata": {},
   "outputs": [],
   "source": [
    "order_item_subtotals = {\n",
    "    1: [299.98],\n",
    "    2: [199.99, 250.0, 129.99],\n",
    "    4: [49.98, 150.0, 199.92],\n",
    "    5: [299.98, 299.95, 99.96, 299.98, 129.99],\n",
    "    7: [199.99, 299.98, 79.95],\n",
    "    8: [179.97, 299.95, 199.92, 50.0]\n",
    "}"
   ]
  },
  {
   "cell_type": "code",
   "execution_count": 18,
   "id": "9fe9d814",
   "metadata": {},
   "outputs": [
    {
     "data": {
      "text/plain": [
       "{1: 299.98, 2: 250.0, 4: 199.92, 5: 299.98, 7: 299.98, 8: 299.95}"
      ]
     },
     "execution_count": 18,
     "metadata": {},
     "output_type": "execute_result"
    }
   ],
   "source": [
    "# Your solution should go here\n",
    "max_value_list=[]\n",
    "for order in order_item_subtotals.items():\n",
    "    max_value_list.append((order[0],max(order[1])))\n",
    "max_value_dict=dict(max_value_list)\n",
    "max_value_dict"
   ]
  },
  {
   "cell_type": "markdown",
   "id": "ee4cedef",
   "metadata": {},
   "source": [
    "* Here is the desired output.\n",
    "\n",
    "```python\n",
    "{1: 299.98, 2: 250.0, 4: 199.92, 5: 299.98, 7: 299.98, 8: 299.95}\n",
    "```"
   ]
  },
  {
   "cell_type": "markdown",
   "id": "292beae1",
   "metadata": {},
   "source": [
    "### Exercise 6: Dict with order revenue\n",
    "\n",
    "Create a dict with order item id and order item subtotal. The input dict will contain order item id as key and quantity along with price as value. **order item subtotal** is product of quantity and price."
   ]
  },
  {
   "cell_type": "code",
   "execution_count": 19,
   "id": "3df5b5cd",
   "metadata": {},
   "outputs": [],
   "source": [
    "order_items = {1: (1, 299.98),\n",
    " 2: (1, 199.99),\n",
    " 3: (5, 50.0),\n",
    " 4: (1, 129.99),\n",
    " 5: (2, 24.99),\n",
    " 6: (5, 59.99),\n",
    " 7: (3, 50.0),\n",
    " 8: (4, 49.98),\n",
    " 9: (1, 299.98),\n",
    " 10: (5, 59.99)}"
   ]
  },
  {
   "cell_type": "code",
   "execution_count": 23,
   "id": "50936cc9",
   "metadata": {},
   "outputs": [
    {
     "data": {
      "text/plain": [
       "{1: 299.98,\n",
       " 2: 199.99,\n",
       " 3: 250.0,\n",
       " 4: 129.99,\n",
       " 5: 49.98,\n",
       " 6: 299.95,\n",
       " 7: 150.0,\n",
       " 8: 199.92,\n",
       " 9: 299.98,\n",
       " 10: 299.95}"
      ]
     },
     "execution_count": 23,
     "metadata": {},
     "output_type": "execute_result"
    }
   ],
   "source": [
    "# Your solution should go here\n",
    "order_item_list=[]\n",
    "for order in order_items.items():\n",
    "    order_item_list.append((order[0],order[1][0]*order[1][1]))\n",
    "order_item_dict=dict(order_item_list)\n",
    "order_item_dict"
   ]
  },
  {
   "cell_type": "markdown",
   "id": "366fc354",
   "metadata": {},
   "source": [
    "* Here is the expected output.\n",
    "\n",
    "```python\n",
    "{1: 299.98,\n",
    " 2: 199.99,\n",
    " 3: 250.0,\n",
    " 4: 129.99,\n",
    " 5: 49.98,\n",
    " 6: 299.95,\n",
    " 7: 150.0,\n",
    " 8: 199.92,\n",
    " 9: 299.98,\n",
    " 10: 299.95}\n",
    "```"
   ]
  },
  {
   "cell_type": "code",
   "execution_count": null,
   "id": "1ea7af1b",
   "metadata": {},
   "outputs": [],
   "source": []
  }
 ],
 "metadata": {
  "kernelspec": {
   "display_name": "Python 3",
   "language": "python",
   "name": "python3"
  },
  "language_info": {
   "codemirror_mode": {
    "name": "ipython",
    "version": 3
   },
   "file_extension": ".py",
   "mimetype": "text/x-python",
   "name": "python",
   "nbconvert_exporter": "python",
   "pygments_lexer": "ipython3",
   "version": "3.6.12"
  }
 },
 "nbformat": 4,
 "nbformat_minor": 5
}
