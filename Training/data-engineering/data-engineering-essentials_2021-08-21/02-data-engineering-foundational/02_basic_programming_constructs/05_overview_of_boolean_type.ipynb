{
 "cells": [
  {
   "cell_type": "markdown",
   "id": "2a6a1103",
   "metadata": {},
   "source": [
    "## Overview of Boolean Type\n",
    "\n",
    "Let us get into the details related to Boolean.\n",
    "* Boolean typically will have `True` or `False`. In Python it is defined as `bool`.\n",
    "* You can assign boolean value by saying `a = True` or `a = False`.\n",
    "* All comparison operators which we will be seeing as part of the next topic will return bool type.\n",
    "* `not` can be used to get the negation of the `bool` value."
   ]
  },
  {
   "cell_type": "code",
   "execution_count": null,
   "id": "97fd8b0f",
   "metadata": {},
   "outputs": [],
   "source": [
    "a = True"
   ]
  },
  {
   "cell_type": "code",
   "execution_count": null,
   "id": "ff7911fd",
   "metadata": {},
   "outputs": [],
   "source": [
    "type(a)"
   ]
  },
  {
   "cell_type": "code",
   "execution_count": null,
   "id": "846bc2fd",
   "metadata": {},
   "outputs": [],
   "source": [
    "a = False"
   ]
  },
  {
   "cell_type": "code",
   "execution_count": null,
   "id": "aae238b7",
   "metadata": {},
   "outputs": [],
   "source": [
    "type(a)"
   ]
  },
  {
   "cell_type": "code",
   "execution_count": null,
   "id": "02b38deb",
   "metadata": {},
   "outputs": [],
   "source": [
    "# Assigning 10 to i\n",
    "i = 10"
   ]
  },
  {
   "cell_type": "code",
   "execution_count": null,
   "id": "2bce3e49",
   "metadata": {},
   "outputs": [],
   "source": [
    "# Comparing i with some number\n",
    "# Returns True\n",
    "i == 10"
   ]
  },
  {
   "cell_type": "code",
   "execution_count": null,
   "id": "9bf0c9b1",
   "metadata": {},
   "outputs": [],
   "source": [
    "# Comparing i with some value of type string\n",
    "# Returns False\n",
    "i == '10'"
   ]
  },
  {
   "cell_type": "code",
   "execution_count": null,
   "id": "ed9aceec",
   "metadata": {},
   "outputs": [],
   "source": [
    "type(i == 10)"
   ]
  },
  {
   "cell_type": "code",
   "execution_count": null,
   "id": "935c70ff",
   "metadata": {},
   "outputs": [],
   "source": [
    "type(i == '10')"
   ]
  },
  {
   "cell_type": "code",
   "execution_count": null,
   "id": "9ab2c452",
   "metadata": {},
   "outputs": [],
   "source": [
    "i = 10"
   ]
  },
  {
   "cell_type": "code",
   "execution_count": null,
   "id": "eb7d645a",
   "metadata": {},
   "outputs": [],
   "source": [
    "i == 10"
   ]
  },
  {
   "cell_type": "code",
   "execution_count": null,
   "id": "f8a673f0",
   "metadata": {},
   "outputs": [],
   "source": [
    "not i == 10"
   ]
  }
 ],
 "metadata": {
  "kernelspec": {
   "display_name": "Python 3",
   "language": "python",
   "name": "python3"
  },
  "language_info": {
   "codemirror_mode": {
    "name": "ipython",
    "version": 3
   },
   "file_extension": ".py",
   "mimetype": "text/x-python",
   "name": "python",
   "nbconvert_exporter": "python",
   "pygments_lexer": "ipython3",
   "version": "3.6.12"
  }
 },
 "nbformat": 4,
 "nbformat_minor": 5
}
