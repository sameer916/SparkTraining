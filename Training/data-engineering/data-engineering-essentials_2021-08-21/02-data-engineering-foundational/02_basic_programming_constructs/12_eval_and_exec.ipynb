{
 "cells": [
  {
   "cell_type": "markdown",
   "id": "2c27a8cc",
   "metadata": {},
   "source": [
    "## eval and exec\n",
    "\n",
    "Let us understand how we can use `eval` and `exec` in Python.\n",
    "\n",
    "* Typically we perform arithmetic operations like this `a = b + c`.\n",
    "* We can also use `eval` and `exec` for the same.\n",
    "* `eval` typically evaluates the expression. We need to assign the value to some variable when we use `eval`.\n",
    "* `exec` executes the statement."
   ]
  },
  {
   "cell_type": "code",
   "execution_count": 1,
   "id": "749680d8",
   "metadata": {},
   "outputs": [],
   "source": [
    "b = 10"
   ]
  },
  {
   "cell_type": "code",
   "execution_count": 2,
   "id": "c68312a0",
   "metadata": {},
   "outputs": [],
   "source": [
    "c = 20"
   ]
  },
  {
   "cell_type": "code",
   "execution_count": 3,
   "id": "0024cede",
   "metadata": {},
   "outputs": [],
   "source": [
    "a = b + c"
   ]
  },
  {
   "cell_type": "code",
   "execution_count": 4,
   "id": "8bb96fdf",
   "metadata": {},
   "outputs": [
    {
     "data": {
      "text/plain": [
       "30"
      ]
     },
     "execution_count": 4,
     "metadata": {},
     "output_type": "execute_result"
    }
   ],
   "source": [
    "a"
   ]
  },
  {
   "cell_type": "code",
   "execution_count": 5,
   "id": "151dcd80",
   "metadata": {},
   "outputs": [
    {
     "data": {
      "text/plain": [
       "30"
      ]
     },
     "execution_count": 5,
     "metadata": {},
     "output_type": "execute_result"
    }
   ],
   "source": [
    "eval('b + c') # Typically we assign the result of eval to a variable or object"
   ]
  },
  {
   "cell_type": "code",
   "execution_count": 6,
   "id": "17068312",
   "metadata": {},
   "outputs": [],
   "source": [
    "exec('d = b + c') # variable or object will be created when we use exec"
   ]
  },
  {
   "cell_type": "code",
   "execution_count": 7,
   "id": "c00d04e1",
   "metadata": {},
   "outputs": [
    {
     "data": {
      "text/plain": [
       "30"
      ]
     },
     "execution_count": 7,
     "metadata": {},
     "output_type": "execute_result"
    }
   ],
   "source": [
    "d"
   ]
  },
  {
   "cell_type": "code",
   "execution_count": null,
   "id": "682b2acc",
   "metadata": {},
   "outputs": [],
   "source": []
  }
 ],
 "metadata": {
  "kernelspec": {
   "display_name": "Python 3",
   "language": "python",
   "name": "python3"
  },
  "language_info": {
   "codemirror_mode": {
    "name": "ipython",
    "version": 3
   },
   "file_extension": ".py",
   "mimetype": "text/x-python",
   "name": "python",
   "nbconvert_exporter": "python",
   "pygments_lexer": "ipython3",
   "version": "3.6.12"
  }
 },
 "nbformat": 4,
 "nbformat_minor": 5
}
