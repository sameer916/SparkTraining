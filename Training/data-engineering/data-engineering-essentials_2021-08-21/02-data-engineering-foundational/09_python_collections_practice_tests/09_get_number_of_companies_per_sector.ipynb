{
 "cells": [
  {
   "cell_type": "markdown",
   "id": "0f45c0c7",
   "metadata": {},
   "source": [
    "## Get number of companies per sector\n",
    "\n",
    "Develop the function to get the number of companies per sector. As part of this Python Practice Test, we are primarily evaluating the ability to manipulate the dicts especially to group by a key and perform aggregations.\n",
    "* This scanerio can be solved by the help of conventional loops or itertools.\n",
    "* The input dictionary contains the name of company and it's sector.\n",
    "* The output dictionary should contain sector as key and number of companies per sector as it's values. \n",
    "* The output dictionary should be sorted in ascending order by sector name."
   ]
  },
  {
   "cell_type": "code",
   "execution_count": 2,
   "id": "72f6d3aa",
   "metadata": {},
   "outputs": [],
   "source": [
    "companies={\n",
    "    'Accenture': 'IT',\n",
    "    'Apple': 'IT',\n",
    "    'Adobe Systems Inc': 'IT',\n",
    "    'Alphabet': 'IT',\n",
    "    'Bank of America Corp': 'Financials',\n",
    "    'Biogen Inc': 'Health Care',\n",
    "    'Campbell Soup': 'Consumer Staples',\n",
    "    'Dr Pepper Snapple Group': 'Consumer Staples',\n",
    "    'ebay Inc': 'IT',\n",
    "    'FedEx Corporation': 'Industrials',\n",
    "    'Ford Motors': 'Consumer Products',\n",
    "    'General Motors': 'Consumer Products',\n",
    "    'Harley-Davidson': 'Consumer Products',\n",
    "    'Hewlett Packard Enterprise': 'IT',\n",
    "    'Intel Corp': 'IT',\n",
    "    'JP Morgan': 'Financials',\n",
    "    'Johnson & Johnson': 'Health Care',\n",
    "    'Microsft Corp': 'IT',\n",
    "    'Netflix Inc': 'IT',\n",
    "    'Nike': 'Consumer Products'}"
   ]
  },
  {
   "cell_type": "markdown",
   "id": "061ad30e",
   "metadata": {},
   "source": [
    "### Step 1: Preview the data\n",
    "\n",
    "Let us first preview the data."
   ]
  },
  {
   "cell_type": "code",
   "execution_count": 3,
   "id": "a4d0ab23",
   "metadata": {},
   "outputs": [
    {
     "data": {
      "text/plain": [
       "{'Accenture': 'IT',\n",
       " 'Apple': 'IT',\n",
       " 'Adobe Systems Inc': 'IT',\n",
       " 'Alphabet': 'IT',\n",
       " 'Bank of America Corp': 'Financials',\n",
       " 'Biogen Inc': 'Health Care',\n",
       " 'Campbell Soup': 'Consumer Staples',\n",
       " 'Dr Pepper Snapple Group': 'Consumer Staples',\n",
       " 'ebay Inc': 'IT',\n",
       " 'FedEx Corporation': 'Industrials',\n",
       " 'Ford Motors': 'Consumer Products',\n",
       " 'General Motors': 'Consumer Products',\n",
       " 'Harley-Davidson': 'Consumer Products',\n",
       " 'Hewlett Packard Enterprise': 'IT',\n",
       " 'Intel Corp': 'IT',\n",
       " 'JP Morgan': 'Financials',\n",
       " 'Johnson & Johnson': 'Health Care',\n",
       " 'Microsft Corp': 'IT',\n",
       " 'Netflix Inc': 'IT',\n",
       " 'Nike': 'Consumer Products'}"
      ]
     },
     "execution_count": 3,
     "metadata": {},
     "output_type": "execute_result"
    }
   ],
   "source": [
    "companies"
   ]
  },
  {
   "cell_type": "code",
   "execution_count": 4,
   "id": "79e7ab33",
   "metadata": {},
   "outputs": [
    {
     "data": {
      "text/plain": [
       "dict"
      ]
     },
     "execution_count": 4,
     "metadata": {},
     "output_type": "execute_result"
    }
   ],
   "source": [
    "type(companies)"
   ]
  },
  {
   "cell_type": "code",
   "execution_count": 5,
   "id": "0ab085d6",
   "metadata": {},
   "outputs": [
    {
     "data": {
      "text/plain": [
       "20"
      ]
     },
     "execution_count": 5,
     "metadata": {},
     "output_type": "execute_result"
    }
   ],
   "source": [
    "len(companies)"
   ]
  },
  {
   "cell_type": "markdown",
   "id": "66856dde",
   "metadata": {},
   "source": [
    "### Step 2: Provide the solution\n",
    "\n",
    "Now come up with the solution by developing the required logic. Once the function is developed, go to the next step to take care of the validation."
   ]
  },
  {
   "cell_type": "code",
   "execution_count": 15,
   "id": "1d45352c",
   "metadata": {},
   "outputs": [],
   "source": [
    "def get_company_count_per_sector(companies):\n",
    "    # Develop your logic here\n",
    "    company_count_per_sector={}\n",
    "    for c in companies.items():\n",
    "        if(c[1] not in company_count_per_sector.keys()):\n",
    "            company_count_per_sector[c[1]]=1\n",
    "        else:\n",
    "            company_count_per_sector[c[1]]+=1\n",
    "    company_count_per_sector=sorted(company_count_per_sector.items())\n",
    "    company_count_per_sector=dict(company_count_per_sector)\n",
    "    return company_count_per_sector"
   ]
  },
  {
   "cell_type": "markdown",
   "id": "11824bf3",
   "metadata": {},
   "source": [
    "### Step 3: Validate the function\n",
    "\n",
    "Let us validate the function by running below cells.\n",
    "* Here is the expected output.\n",
    "\n",
    "```python\n",
    "{'Consumer Products': 4,\n",
    "'Consumer Staples': 2,\n",
    "'Financials': 2,\n",
    "'Health Care': 2,\n",
    "'Industrials': 1,\n",
    "'IT': 9}\n",
    "```"
   ]
  },
  {
   "cell_type": "code",
   "execution_count": 16,
   "id": "61e3a843",
   "metadata": {},
   "outputs": [
    {
     "data": {
      "text/plain": [
       "{'Consumer Products': 4,\n",
       " 'Consumer Staples': 2,\n",
       " 'Financials': 2,\n",
       " 'Health Care': 2,\n",
       " 'IT': 9,\n",
       " 'Industrials': 1}"
      ]
     },
     "execution_count": 16,
     "metadata": {},
     "output_type": "execute_result"
    }
   ],
   "source": [
    "company_count_per_sector = get_company_count_per_sector(companies)\n",
    "company_count_per_sector"
   ]
  },
  {
   "cell_type": "code",
   "execution_count": 17,
   "id": "6aa1e80c",
   "metadata": {},
   "outputs": [
    {
     "data": {
      "text/plain": [
       "dict"
      ]
     },
     "execution_count": 17,
     "metadata": {},
     "output_type": "execute_result"
    }
   ],
   "source": [
    "type(company_count_per_sector) # dict"
   ]
  },
  {
   "cell_type": "code",
   "execution_count": 18,
   "id": "c323c99b",
   "metadata": {},
   "outputs": [
    {
     "data": {
      "text/plain": [
       "9"
      ]
     },
     "execution_count": 18,
     "metadata": {},
     "output_type": "execute_result"
    }
   ],
   "source": [
    "company_count_per_sector['IT'] # 9"
   ]
  },
  {
   "cell_type": "code",
   "execution_count": null,
   "id": "5894d488",
   "metadata": {},
   "outputs": [],
   "source": []
  }
 ],
 "metadata": {
  "kernelspec": {
   "display_name": "Python 3",
   "language": "python",
   "name": "python3"
  },
  "language_info": {
   "codemirror_mode": {
    "name": "ipython",
    "version": 3
   },
   "file_extension": ".py",
   "mimetype": "text/x-python",
   "name": "python",
   "nbconvert_exporter": "python",
   "pygments_lexer": "ipython3",
   "version": "3.6.12"
  }
 },
 "nbformat": 4,
 "nbformat_minor": 5
}
