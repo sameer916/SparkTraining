{
 "cells": [
  {
   "cell_type": "markdown",
   "id": "1762c5c1",
   "metadata": {},
   "source": [
    "## Check color in list of tuples\n",
    "Develop a function to check the element is present in a tuple. The function should check whether the color exists or not.\n",
    "* The input data is in the form of list. Each element in the list is of type tuple.\n",
    "* Each tuple contain multiple colors.\n",
    "* The function should take 2 arguments. The first argument is list of tuples which contain colors. The second argument is the color which you want to check.\n",
    "* If the color that is passed as second argument, exists in any of the tuples, then the function should return `True` else the function should return `false`.\n",
    "* The characters in the second argument might be passed in any case. However, we need to perform case insensitive search.\n",
    "\n",
    "**Restrictions: The program shall be solved using loops**"
   ]
  },
  {
   "cell_type": "code",
   "execution_count": 3,
   "id": "15f1ce91",
   "metadata": {},
   "outputs": [],
   "source": [
    "colors = [\n",
    "    ('Red', 'White', 'Blue'),\n",
    "    ('Green', 'Pink', 'Purple'),\n",
    "    ('Orange', 'Yellow', 'Lime')\n",
    "]"
   ]
  },
  {
   "cell_type": "markdown",
   "id": "933b932a",
   "metadata": {},
   "source": [
    "## Step 1: Preview the data\n",
    "* Let us first preview the data."
   ]
  },
  {
   "cell_type": "code",
   "execution_count": 4,
   "id": "f0ca0b62",
   "metadata": {},
   "outputs": [
    {
     "data": {
      "text/plain": [
       "[('Red', 'White', 'Blue'),\n",
       " ('Green', 'Pink', 'Purple'),\n",
       " ('Orange', 'Yellow', 'Lime')]"
      ]
     },
     "execution_count": 4,
     "metadata": {},
     "output_type": "execute_result"
    }
   ],
   "source": [
    "colors"
   ]
  },
  {
   "cell_type": "code",
   "execution_count": 5,
   "id": "dfca7e9f",
   "metadata": {},
   "outputs": [
    {
     "data": {
      "text/plain": [
       "list"
      ]
     },
     "execution_count": 5,
     "metadata": {},
     "output_type": "execute_result"
    }
   ],
   "source": [
    "type(colors)"
   ]
  },
  {
   "cell_type": "code",
   "execution_count": 6,
   "id": "764eaf6c",
   "metadata": {},
   "outputs": [
    {
     "data": {
      "text/plain": [
       "3"
      ]
     },
     "execution_count": 6,
     "metadata": {},
     "output_type": "execute_result"
    }
   ],
   "source": [
    "len(colors)"
   ]
  },
  {
   "cell_type": "code",
   "execution_count": 7,
   "id": "6690ec73",
   "metadata": {},
   "outputs": [
    {
     "name": "stdout",
     "output_type": "stream",
     "text": [
      "The type of the record ('Red', 'White', 'Blue') is <class 'tuple'>\n",
      "The type of the record ('Green', 'Pink', 'Purple') is <class 'tuple'>\n",
      "The type of the record ('Orange', 'Yellow', 'Lime') is <class 'tuple'>\n"
     ]
    }
   ],
   "source": [
    "for color in colors:\n",
    "    print(f'The type of the record {color} is {type(color)}')"
   ]
  },
  {
   "cell_type": "markdown",
   "id": "0a07838d",
   "metadata": {},
   "source": [
    "## Step 2: Provide the solution\n",
    "Now come up with the solution by developing the required logic. Once the function is developed, go to the next step to take care of the validation."
   ]
  },
  {
   "cell_type": "code",
   "execution_count": 10,
   "id": "393ebdce",
   "metadata": {},
   "outputs": [],
   "source": [
    "def check_in_tuples(colors, color):\n",
    "    # your code should go here\n",
    "    color=color.capitalize()\n",
    "    for c in colors:\n",
    "        if color in c:\n",
    "            return True\n",
    "    return False"
   ]
  },
  {
   "cell_type": "markdown",
   "id": "ba808c37",
   "metadata": {},
   "source": [
    "### Step 3: Validate the function\n",
    "\n",
    "* Here is the expected output."
   ]
  },
  {
   "cell_type": "code",
   "execution_count": 11,
   "id": "28b64e7d",
   "metadata": {},
   "outputs": [
    {
     "data": {
      "text/plain": [
       "True"
      ]
     },
     "execution_count": 11,
     "metadata": {},
     "output_type": "execute_result"
    }
   ],
   "source": [
    "check_in_tuples(colors, 'Red') # True"
   ]
  },
  {
   "cell_type": "code",
   "execution_count": 12,
   "id": "41b043ae",
   "metadata": {},
   "outputs": [
    {
     "data": {
      "text/plain": [
       "True"
      ]
     },
     "execution_count": 12,
     "metadata": {},
     "output_type": "execute_result"
    }
   ],
   "source": [
    "check_in_tuples(colors, 'red') # True"
   ]
  },
  {
   "cell_type": "code",
   "execution_count": 13,
   "id": "e7b6fe04",
   "metadata": {},
   "outputs": [
    {
     "data": {
      "text/plain": [
       "False"
      ]
     },
     "execution_count": 13,
     "metadata": {},
     "output_type": "execute_result"
    }
   ],
   "source": [
    "check_in_tuples(colors, 'Black') # False"
   ]
  },
  {
   "cell_type": "code",
   "execution_count": 14,
   "id": "ab967ba3",
   "metadata": {},
   "outputs": [
    {
     "data": {
      "text/plain": [
       "bool"
      ]
     },
     "execution_count": 14,
     "metadata": {},
     "output_type": "execute_result"
    }
   ],
   "source": [
    "type((check_in_tuples(colors, 'red'))) #It should be bool"
   ]
  },
  {
   "cell_type": "code",
   "execution_count": null,
   "id": "201ce989",
   "metadata": {},
   "outputs": [],
   "source": []
  }
 ],
 "metadata": {
  "kernelspec": {
   "display_name": "Python 3",
   "language": "python",
   "name": "python3"
  },
  "language_info": {
   "codemirror_mode": {
    "name": "ipython",
    "version": 3
   },
   "file_extension": ".py",
   "mimetype": "text/x-python",
   "name": "python",
   "nbconvert_exporter": "python",
   "pygments_lexer": "ipython3",
   "version": "3.6.12"
  }
 },
 "nbformat": 4,
 "nbformat_minor": 5
}
