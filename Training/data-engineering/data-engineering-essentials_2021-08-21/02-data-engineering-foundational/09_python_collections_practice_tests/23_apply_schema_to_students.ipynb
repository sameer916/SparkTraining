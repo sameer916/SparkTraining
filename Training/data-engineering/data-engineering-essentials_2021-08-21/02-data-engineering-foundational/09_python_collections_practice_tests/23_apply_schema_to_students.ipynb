{
 "cells": [
  {
   "cell_type": "markdown",
   "id": "1466a787",
   "metadata": {},
   "source": [
    "## Apply Schema to Students\n",
    "\n",
    "Develop a function to convert the list of tuples to dict by using zip funtion. As part of this Python Practice Test, we are primarily evaluating the ability to understand zip function as well as manipulating collections.\n",
    "* We will provide list of tuples and the attributes are **student_id**, **math_score**, **reading_score** and **writing_score**.\n",
    "* Develop a function which takes students as input and the output should be a dict where keys are based up on the attributes provided.\n",
    "* The output should be sorted in descending order by total.\n",
    "* This scenario can be easily solved by zip finction.\n",
    "\n",
    "**Restrictions: Solve this problem either by using conventional loops or first class functions such as `map`. You are not supposed to use Pandas.**"
   ]
  },
  {
   "cell_type": "code",
   "execution_count": 1,
   "id": "33e22f7d",
   "metadata": {},
   "outputs": [],
   "source": [
    "students = [(1, 72, 72, 74), (2, 69, 90, 88), (3, 90, 95, 93), (4, 47, 47, 44), (5, 76, 78, 75), (6, 71, 83, 78)]"
   ]
  },
  {
   "cell_type": "markdown",
   "id": "6f2e2f3e",
   "metadata": {},
   "source": [
    "### Step 1: Preview the data\n",
    "\n",
    "Let us first preview the data."
   ]
  },
  {
   "cell_type": "code",
   "execution_count": 2,
   "id": "00a10b5e",
   "metadata": {},
   "outputs": [
    {
     "data": {
      "text/plain": [
       "[(1, 72, 72, 74),\n",
       " (2, 69, 90, 88),\n",
       " (3, 90, 95, 93),\n",
       " (4, 47, 47, 44),\n",
       " (5, 76, 78, 75),\n",
       " (6, 71, 83, 78)]"
      ]
     },
     "execution_count": 2,
     "metadata": {},
     "output_type": "execute_result"
    }
   ],
   "source": [
    "students"
   ]
  },
  {
   "cell_type": "code",
   "execution_count": 3,
   "id": "874a60d8",
   "metadata": {},
   "outputs": [
    {
     "data": {
      "text/plain": [
       "list"
      ]
     },
     "execution_count": 3,
     "metadata": {},
     "output_type": "execute_result"
    }
   ],
   "source": [
    "type(students)"
   ]
  },
  {
   "cell_type": "code",
   "execution_count": 4,
   "id": "99e5295c",
   "metadata": {},
   "outputs": [
    {
     "data": {
      "text/plain": [
       "6"
      ]
     },
     "execution_count": 4,
     "metadata": {},
     "output_type": "execute_result"
    }
   ],
   "source": [
    "len(students)"
   ]
  },
  {
   "cell_type": "markdown",
   "id": "15d553b2",
   "metadata": {},
   "source": [
    "### Step 2: Provide the solution\n",
    "\n",
    "Now come up with the solution by developing the required logic. Once the function is developed, go to the next step to take care of the validation."
   ]
  },
  {
   "cell_type": "code",
   "execution_count": 19,
   "id": "6040c162",
   "metadata": {},
   "outputs": [],
   "source": [
    "def get_students_with_schema(students):\n",
    "    ## your code should go here\n",
    "    keys=('student_id','math_score','reading_score','writing_score')\n",
    "    students_with_schema=[]\n",
    "    for student in students:\n",
    "        students_with_schema.append(dict(zip(keys,student)))\n",
    "    students_with_schema=sorted(students_with_schema,key=lambda detail:(detail['math_score']+detail['reading_score']+detail['writing_score']),reverse=True)\n",
    "    return students_with_schema"
   ]
  },
  {
   "cell_type": "markdown",
   "id": "035b5614",
   "metadata": {},
   "source": [
    "### Step 3: Validate the function\n",
    "\n",
    "Let us validate the function by running below cells.\n",
    "* Here is the expected output.\n",
    "\n",
    "```python\n",
    "[{'student_id': 3, 'math_score': 90, 'reading_score': 95, 'writing_score': 93},\n",
    " {'student_id': 2, 'math_score': 69, 'reading_score': 90, 'writing_score': 88},\n",
    " {'student_id': 6, 'math_score': 71, 'reading_score': 83, 'writing_score': 78},\n",
    " {'student_id': 5, 'math_score': 76, 'reading_score': 78, 'writing_score': 75},\n",
    " {'student_id': 1, 'math_score': 72, 'reading_score': 72, 'writing_score': 74},\n",
    " {'student_id': 4, 'math_score': 47, 'reading_score': 47, 'writing_score': 44}]\n",
    "```"
   ]
  },
  {
   "cell_type": "code",
   "execution_count": 20,
   "id": "f45df642",
   "metadata": {},
   "outputs": [
    {
     "data": {
      "text/plain": [
       "[{'student_id': 3, 'math_score': 90, 'reading_score': 95, 'writing_score': 93},\n",
       " {'student_id': 2, 'math_score': 69, 'reading_score': 90, 'writing_score': 88},\n",
       " {'student_id': 6, 'math_score': 71, 'reading_score': 83, 'writing_score': 78},\n",
       " {'student_id': 5, 'math_score': 76, 'reading_score': 78, 'writing_score': 75},\n",
       " {'student_id': 1, 'math_score': 72, 'reading_score': 72, 'writing_score': 74},\n",
       " {'student_id': 4, 'math_score': 47, 'reading_score': 47, 'writing_score': 44}]"
      ]
     },
     "execution_count": 20,
     "metadata": {},
     "output_type": "execute_result"
    }
   ],
   "source": [
    "students_with_schema = get_students_with_schema(students)\n",
    "students_with_schema"
   ]
  },
  {
   "cell_type": "code",
   "execution_count": 21,
   "id": "89c47d0b",
   "metadata": {},
   "outputs": [
    {
     "data": {
      "text/plain": [
       "6"
      ]
     },
     "execution_count": 21,
     "metadata": {},
     "output_type": "execute_result"
    }
   ],
   "source": [
    "len(students_with_schema) # 6"
   ]
  },
  {
   "cell_type": "code",
   "execution_count": 22,
   "id": "6ef13529",
   "metadata": {},
   "outputs": [
    {
     "data": {
      "text/plain": [
       "list"
      ]
     },
     "execution_count": 22,
     "metadata": {},
     "output_type": "execute_result"
    }
   ],
   "source": [
    "type(students_with_schema) # list"
   ]
  },
  {
   "cell_type": "code",
   "execution_count": 23,
   "id": "2b2c2889",
   "metadata": {},
   "outputs": [
    {
     "data": {
      "text/plain": [
       "dict"
      ]
     },
     "execution_count": 23,
     "metadata": {},
     "output_type": "execute_result"
    }
   ],
   "source": [
    "type(students_with_schema[0]) # dict"
   ]
  },
  {
   "cell_type": "code",
   "execution_count": null,
   "id": "c6aafb38",
   "metadata": {},
   "outputs": [],
   "source": []
  }
 ],
 "metadata": {
  "kernelspec": {
   "display_name": "Python 3",
   "language": "python",
   "name": "python3"
  },
  "language_info": {
   "codemirror_mode": {
    "name": "ipython",
    "version": 3
   },
   "file_extension": ".py",
   "mimetype": "text/x-python",
   "name": "python",
   "nbconvert_exporter": "python",
   "pygments_lexer": "ipython3",
   "version": "3.6.12"
  }
 },
 "nbformat": 4,
 "nbformat_minor": 5
}
