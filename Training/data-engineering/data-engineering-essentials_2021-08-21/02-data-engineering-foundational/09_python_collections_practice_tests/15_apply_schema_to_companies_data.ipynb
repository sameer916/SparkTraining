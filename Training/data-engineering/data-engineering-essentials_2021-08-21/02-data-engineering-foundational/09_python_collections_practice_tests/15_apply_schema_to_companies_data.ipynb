{
 "cells": [
  {
   "cell_type": "markdown",
   "id": "c850c2b5",
   "metadata": {},
   "source": [
    "## Apply Schema to Companies Data\n",
    "\n",
    "Develop a function which applies schema on top of data. The function shall take 2 arguments - data and attributes.\n",
    "* Data should be passed in the form list of comma separated strings.\n",
    "* Attributes should be passed in the form of a comma separated string.\n",
    "* The function should return list of dicts. Refer to desired output.\n",
    "* Make sure the numeric types in the dict are of type float.\n",
    "\n",
    "**Hint: This scanerio is to be solved by using zip() function**"
   ]
  },
  {
   "cell_type": "code",
   "execution_count": 2,
   "id": "45ab3032",
   "metadata": {},
   "outputs": [],
   "source": [
    "fields = 'Name,Sector,Price,Dividend,EarningsPerShare'"
   ]
  },
  {
   "cell_type": "code",
   "execution_count": 3,
   "id": "9e38abcd",
   "metadata": {},
   "outputs": [],
   "source": [
    "companies = [\n",
    "'Accenture,IT,222.89,2.33,7.92',\n",
    "'Apple,IT,155.15,1.57,9.2',\n",
    "'Adobe Systems Inc,IT,185.16,0,3.39',\n",
    "'Alphabet,IT,1007.71,0,22.27',\n",
    "'ebay Inc,IT,41.02,0,-1.07',\n",
    "'Hewlett Packard Enterprise,IT,15.04,1.92,0.21',\n",
    "'Intel Corp,IT,42.75,2.65,1.98',\n",
    "'Microsoft Corp,IT,85.01,1.87,2.97',\n",
    "'Netflix Inc,IT,250.01,0,1.25']"
   ]
  },
  {
   "cell_type": "markdown",
   "id": "b230cae2",
   "metadata": {},
   "source": [
    "### Step 1: Preview the Data\n",
    "Let us preview the data."
   ]
  },
  {
   "cell_type": "code",
   "execution_count": 4,
   "id": "f48a50d2",
   "metadata": {},
   "outputs": [
    {
     "data": {
      "text/plain": [
       "'Name,Sector,Price,Dividend,EarningsPerShare'"
      ]
     },
     "execution_count": 4,
     "metadata": {},
     "output_type": "execute_result"
    }
   ],
   "source": [
    "fields"
   ]
  },
  {
   "cell_type": "code",
   "execution_count": 5,
   "id": "602395a6",
   "metadata": {},
   "outputs": [
    {
     "data": {
      "text/plain": [
       "str"
      ]
     },
     "execution_count": 5,
     "metadata": {},
     "output_type": "execute_result"
    }
   ],
   "source": [
    "type(fields)"
   ]
  },
  {
   "cell_type": "code",
   "execution_count": 6,
   "id": "4c76de1f",
   "metadata": {},
   "outputs": [
    {
     "data": {
      "text/plain": [
       "['Accenture,IT,222.89,2.33,7.92',\n",
       " 'Apple,IT,155.15,1.57,9.2',\n",
       " 'Adobe Systems Inc,IT,185.16,0,3.39',\n",
       " 'Alphabet,IT,1007.71,0,22.27',\n",
       " 'ebay Inc,IT,41.02,0,-1.07',\n",
       " 'Hewlett Packard Enterprise,IT,15.04,1.92,0.21',\n",
       " 'Intel Corp,IT,42.75,2.65,1.98',\n",
       " 'Microsoft Corp,IT,85.01,1.87,2.97',\n",
       " 'Netflix Inc,IT,250.01,0,1.25']"
      ]
     },
     "execution_count": 6,
     "metadata": {},
     "output_type": "execute_result"
    }
   ],
   "source": [
    "companies"
   ]
  },
  {
   "cell_type": "code",
   "execution_count": 7,
   "id": "9113960b",
   "metadata": {},
   "outputs": [
    {
     "data": {
      "text/plain": [
       "list"
      ]
     },
     "execution_count": 7,
     "metadata": {},
     "output_type": "execute_result"
    }
   ],
   "source": [
    "type(companies)"
   ]
  },
  {
   "cell_type": "code",
   "execution_count": 8,
   "id": "fcfabf98",
   "metadata": {},
   "outputs": [
    {
     "data": {
      "text/plain": [
       "'Accenture,IT,222.89,2.33,7.92'"
      ]
     },
     "execution_count": 8,
     "metadata": {},
     "output_type": "execute_result"
    }
   ],
   "source": [
    "companies[0]"
   ]
  },
  {
   "cell_type": "code",
   "execution_count": 9,
   "id": "dba92e52",
   "metadata": {},
   "outputs": [
    {
     "data": {
      "text/plain": [
       "str"
      ]
     },
     "execution_count": 9,
     "metadata": {},
     "output_type": "execute_result"
    }
   ],
   "source": [
    "type(companies[0])"
   ]
  },
  {
   "cell_type": "markdown",
   "id": "a86180a3",
   "metadata": {},
   "source": [
    "### Step 2: Provide the Solution\n",
    "Provide the solution below."
   ]
  },
  {
   "cell_type": "code",
   "execution_count": 12,
   "id": "a424d616",
   "metadata": {},
   "outputs": [],
   "source": [
    "def get_companies_with_attrs(companies, fields):\n",
    "    # Develop your logic here\n",
    "    companies_with_attrs=[]\n",
    "    feild_list=fields.split(',')\n",
    "    for company in companies:\n",
    "        temp_dict={}\n",
    "        temp_dict[feild_list[0]]=company.split(',')[0]\n",
    "        temp_dict[feild_list[1]]=company.split(',')[1]\n",
    "        temp_dict[feild_list[2]]=float(company.split(',')[2])\n",
    "        temp_dict[feild_list[3]]=float(company.split(',')[3])\n",
    "        temp_dict[feild_list[4]]=float(company.split(',')[4])\n",
    "        companies_with_attrs.append(temp_dict)\n",
    "    return companies_with_attrs"
   ]
  },
  {
   "cell_type": "markdown",
   "id": "51239f54",
   "metadata": {},
   "source": [
    "### Step 3: Validate the function\n",
    "Let us validate the function by running the below cells.\n",
    "\n",
    "Here is the desired output\n",
    "```python\n",
    "[{'Name': 'Accenture',\n",
    "  'Sector': 'IT',\n",
    "  'Price': 222.89,\n",
    "  'Dividend': 2.33,\n",
    "  'EarningsPerShare': 7.92},\n",
    " {'Name': 'Apple',\n",
    "  'Sector': 'IT',\n",
    "  'Price': 155.15,\n",
    "  'Dividend': 1.57,\n",
    "  'EarningsPerShare': 9.2},\n",
    " {'Name': 'Adobe Systems Inc',\n",
    "  'Sector': 'IT',\n",
    "  'Price': 185.16,\n",
    "  'Dividend': 0.0,\n",
    "  'EarningsPerShare': 3.39},\n",
    " {'Name': 'Alphabet',\n",
    "  'Sector': 'IT',\n",
    "  'Price': 1007.71,\n",
    "  'Dividend': 0.0,\n",
    "  'EarningsPerShare': 22.27},\n",
    " {'Name': 'ebay Inc',\n",
    "  'Sector': 'IT',\n",
    "  'Price': 41.02,\n",
    "  'Dividend': 0.0,\n",
    "  'EarningsPerShare': -1.07},\n",
    " {'Name': 'Hewlett Packard Enterprise',\n",
    "  'Sector': 'IT',\n",
    "  'Price': 15.04,\n",
    "  'Dividend': 1.92,\n",
    "  'EarningsPerShare': 0.21},\n",
    " {'Name': 'Intel Corp',\n",
    "  'Sector': 'IT',\n",
    "  'Price': 42.75,\n",
    "  'Dividend': 2.65,\n",
    "  'EarningsPerShare': 1.98},\n",
    " {'Name': 'Microsoft Corp',\n",
    "  'Sector': 'IT',\n",
    "  'Price': 85.01,\n",
    "  'Dividend': 1.87,\n",
    "  'EarningsPerShare': 2.97},\n",
    " {'Name': 'Netflix Inc',\n",
    "  'Sector': 'IT',\n",
    "  'Price': 250.01,\n",
    "  'Dividend': 0.0,\n",
    "  'EarningsPerShare': 1.25}]\n",
    "```"
   ]
  },
  {
   "cell_type": "code",
   "execution_count": 13,
   "id": "5e3d34d3",
   "metadata": {},
   "outputs": [
    {
     "data": {
      "text/plain": [
       "[{'Name': 'Accenture',\n",
       "  'Sector': 'IT',\n",
       "  'Price': 222.89,\n",
       "  'Dividend': 2.33,\n",
       "  'EarningsPerShare': 7.92},\n",
       " {'Name': 'Apple',\n",
       "  'Sector': 'IT',\n",
       "  'Price': 155.15,\n",
       "  'Dividend': 1.57,\n",
       "  'EarningsPerShare': 9.2},\n",
       " {'Name': 'Adobe Systems Inc',\n",
       "  'Sector': 'IT',\n",
       "  'Price': 185.16,\n",
       "  'Dividend': 0.0,\n",
       "  'EarningsPerShare': 3.39},\n",
       " {'Name': 'Alphabet',\n",
       "  'Sector': 'IT',\n",
       "  'Price': 1007.71,\n",
       "  'Dividend': 0.0,\n",
       "  'EarningsPerShare': 22.27},\n",
       " {'Name': 'ebay Inc',\n",
       "  'Sector': 'IT',\n",
       "  'Price': 41.02,\n",
       "  'Dividend': 0.0,\n",
       "  'EarningsPerShare': -1.07},\n",
       " {'Name': 'Hewlett Packard Enterprise',\n",
       "  'Sector': 'IT',\n",
       "  'Price': 15.04,\n",
       "  'Dividend': 1.92,\n",
       "  'EarningsPerShare': 0.21},\n",
       " {'Name': 'Intel Corp',\n",
       "  'Sector': 'IT',\n",
       "  'Price': 42.75,\n",
       "  'Dividend': 2.65,\n",
       "  'EarningsPerShare': 1.98},\n",
       " {'Name': 'Microsoft Corp',\n",
       "  'Sector': 'IT',\n",
       "  'Price': 85.01,\n",
       "  'Dividend': 1.87,\n",
       "  'EarningsPerShare': 2.97},\n",
       " {'Name': 'Netflix Inc',\n",
       "  'Sector': 'IT',\n",
       "  'Price': 250.01,\n",
       "  'Dividend': 0.0,\n",
       "  'EarningsPerShare': 1.25}]"
      ]
     },
     "execution_count": 13,
     "metadata": {},
     "output_type": "execute_result"
    }
   ],
   "source": [
    "companies_with_attrs=get_companies_with_attrs(companies, fields)\n",
    "companies_with_attrs"
   ]
  },
  {
   "cell_type": "code",
   "execution_count": 14,
   "id": "f776ad90",
   "metadata": {},
   "outputs": [
    {
     "data": {
      "text/plain": [
       "list"
      ]
     },
     "execution_count": 14,
     "metadata": {},
     "output_type": "execute_result"
    }
   ],
   "source": [
    "type(companies_with_attrs) # list"
   ]
  },
  {
   "cell_type": "code",
   "execution_count": 15,
   "id": "20bdce17",
   "metadata": {},
   "outputs": [
    {
     "data": {
      "text/plain": [
       "9"
      ]
     },
     "execution_count": 15,
     "metadata": {},
     "output_type": "execute_result"
    }
   ],
   "source": [
    "len(companies_with_attrs) # 9"
   ]
  },
  {
   "cell_type": "code",
   "execution_count": 16,
   "id": "39868e01",
   "metadata": {},
   "outputs": [
    {
     "data": {
      "text/plain": [
       "{'Name': 'Accenture',\n",
       " 'Sector': 'IT',\n",
       " 'Price': 222.89,\n",
       " 'Dividend': 2.33,\n",
       " 'EarningsPerShare': 7.92}"
      ]
     },
     "execution_count": 16,
     "metadata": {},
     "output_type": "execute_result"
    }
   ],
   "source": [
    "companies_with_attrs[0] # {'Name': 'Accenture','Sector': 'IT','Price': 222.89,'Dividend': 2.33,'EarningsPerShare': 7.92}"
   ]
  },
  {
   "cell_type": "code",
   "execution_count": 17,
   "id": "90189501",
   "metadata": {},
   "outputs": [
    {
     "data": {
      "text/plain": [
       "dict"
      ]
     },
     "execution_count": 17,
     "metadata": {},
     "output_type": "execute_result"
    }
   ],
   "source": [
    "type(companies_with_attrs[0]) # dict"
   ]
  },
  {
   "cell_type": "code",
   "execution_count": 18,
   "id": "345e057a",
   "metadata": {},
   "outputs": [
    {
     "data": {
      "text/plain": [
       "float"
      ]
     },
     "execution_count": 18,
     "metadata": {},
     "output_type": "execute_result"
    }
   ],
   "source": [
    "type(companies_with_attrs[0]['Price']) # float"
   ]
  },
  {
   "cell_type": "code",
   "execution_count": null,
   "id": "dec66ab1",
   "metadata": {},
   "outputs": [],
   "source": []
  }
 ],
 "metadata": {
  "kernelspec": {
   "display_name": "Python 3",
   "language": "python",
   "name": "python3"
  },
  "language_info": {
   "codemirror_mode": {
    "name": "ipython",
    "version": 3
   },
   "file_extension": ".py",
   "mimetype": "text/x-python",
   "name": "python",
   "nbconvert_exporter": "python",
   "pygments_lexer": "ipython3",
   "version": "3.6.12"
  }
 },
 "nbformat": 4,
 "nbformat_minor": 5
}
