{
 "cells": [
  {
   "cell_type": "markdown",
   "id": "1a24e61c",
   "metadata": {},
   "source": [
    "## Sort Data by Scheduled Dates\n",
    "\n",
    "Develop logic to sort the data by scheduled dates. We will be providing list of tuples which contain Name, Location, Scheduled Date.\n",
    "* Create a function which take list (which contain tuples) as argument and return sorted list with tuples.\n",
    "* Data should be sorted in ascending order by date and then in ascending order by name.\n",
    "\n",
    "**Hint: Use `sorted` function to come up with the solution**"
   ]
  },
  {
   "cell_type": "code",
   "execution_count": 1,
   "id": "6fccf319",
   "metadata": {},
   "outputs": [],
   "source": [
    "aspirants = [('Pardha Saradhi', 'India', '7/31/2021'),\n",
    " ('Asasri', 'India', '8/10/2021'),\n",
    " ('Sai Akshith', 'India', '7/30/2021'),\n",
    " ('Anmol', 'India', '7/5/2021'),\n",
    " ('Shravan', 'India', '7/28/2021'),\n",
    " ('Aditya', 'USA', '7/31/2021'),\n",
    " ('Prasanth ', 'USA', '8/14/2021'),\n",
    " ('Sahana', 'India', '7/26/2021'),\n",
    " ('Surendranatha Reddy', 'India', '7/25/2021'),\n",
    " ('Venkat ', 'USA', '7/26/2021')]"
   ]
  },
  {
   "cell_type": "markdown",
   "id": "4a7bed0b",
   "metadata": {},
   "source": [
    "### Step 1: Preview the data\n",
    "\n",
    "Let us first preview the data."
   ]
  },
  {
   "cell_type": "code",
   "execution_count": 2,
   "id": "8a9a0262",
   "metadata": {},
   "outputs": [
    {
     "data": {
      "text/plain": [
       "[('Pardha Saradhi', 'India', '7/31/2021'),\n",
       " ('Asasri', 'India', '8/10/2021'),\n",
       " ('Sai Akshith', 'India', '7/30/2021'),\n",
       " ('Anmol', 'India', '7/5/2021'),\n",
       " ('Shravan', 'India', '7/28/2021'),\n",
       " ('Aditya', 'USA', '7/31/2021'),\n",
       " ('Prasanth ', 'USA', '8/14/2021'),\n",
       " ('Sahana', 'India', '7/26/2021'),\n",
       " ('Surendranatha Reddy', 'India', '7/25/2021'),\n",
       " ('Venkat ', 'USA', '7/26/2021')]"
      ]
     },
     "execution_count": 2,
     "metadata": {},
     "output_type": "execute_result"
    }
   ],
   "source": [
    "aspirants"
   ]
  },
  {
   "cell_type": "code",
   "execution_count": 3,
   "id": "23de3885",
   "metadata": {},
   "outputs": [
    {
     "data": {
      "text/plain": [
       "list"
      ]
     },
     "execution_count": 3,
     "metadata": {},
     "output_type": "execute_result"
    }
   ],
   "source": [
    "type(aspirants)"
   ]
  },
  {
   "cell_type": "code",
   "execution_count": 4,
   "id": "b42b4a2e",
   "metadata": {},
   "outputs": [
    {
     "data": {
      "text/plain": [
       "10"
      ]
     },
     "execution_count": 4,
     "metadata": {},
     "output_type": "execute_result"
    }
   ],
   "source": [
    "len(aspirants)"
   ]
  },
  {
   "cell_type": "code",
   "execution_count": 5,
   "id": "e8a9f8b3",
   "metadata": {},
   "outputs": [
    {
     "name": "stdout",
     "output_type": "stream",
     "text": [
      "The type of value ('Pardha Saradhi', 'India', '7/31/2021') is <class 'tuple'>\n",
      "The type of value ('Asasri', 'India', '8/10/2021') is <class 'tuple'>\n",
      "The type of value ('Sai Akshith', 'India', '7/30/2021') is <class 'tuple'>\n",
      "The type of value ('Anmol', 'India', '7/5/2021') is <class 'tuple'>\n",
      "The type of value ('Shravan', 'India', '7/28/2021') is <class 'tuple'>\n",
      "The type of value ('Aditya', 'USA', '7/31/2021') is <class 'tuple'>\n",
      "The type of value ('Prasanth ', 'USA', '8/14/2021') is <class 'tuple'>\n",
      "The type of value ('Sahana', 'India', '7/26/2021') is <class 'tuple'>\n",
      "The type of value ('Surendranatha Reddy', 'India', '7/25/2021') is <class 'tuple'>\n",
      "The type of value ('Venkat ', 'USA', '7/26/2021') is <class 'tuple'>\n"
     ]
    }
   ],
   "source": [
    "for aspirant in aspirants:\n",
    "    print(f'The type of value {aspirant} is {type(aspirant)}')"
   ]
  },
  {
   "cell_type": "markdown",
   "id": "bb73903b",
   "metadata": {},
   "source": [
    "### Step 2: Provide the solution\n",
    "\n",
    "Now come up with the solution by developing the required logic. Once the function is developed, go to the next step to take care of the validation."
   ]
  },
  {
   "cell_type": "code",
   "execution_count": 26,
   "id": "9f041610",
   "metadata": {},
   "outputs": [],
   "source": [
    "# The logic should go here\n",
    "import datetime\n",
    "from datetime import datetime as dt\n",
    "def sort_data_by_scheduled_date(aspirants):\n",
    "    sorted_aspirants=sorted(aspirants,key=lambda value:(dt.strptime(value[2],'%m/%d/%Y'),value[0]))\n",
    "    return sorted_aspirants"
   ]
  },
  {
   "cell_type": "markdown",
   "id": "86e94a50",
   "metadata": {},
   "source": [
    "### Step 3: Validate the function\n",
    "\n",
    "Let us validate the function by running below cells.\n",
    "* Here is the expected output.\n",
    "\n",
    "```python\n",
    "[('Anmol', 'India', '7/5/2021'),\n",
    " ('Surendranatha Reddy', 'India', '7/25/2021'),\n",
    " ('Sahana', 'India', '7/26/2021'),\n",
    " ('Venkat ', 'USA', '7/26/2021'),\n",
    " ('Shravan', 'India', '7/28/2021'),\n",
    " ('Sai Akshith', 'India', '7/30/2021'),\n",
    " ('Aditya', 'USA', '7/31/2021'),\n",
    " ('Pardha Saradhi', 'India', '7/31/2021'),\n",
    " ('Asasri', 'India', '8/10/2021'),\n",
    " ('Prasanth ', 'USA', '8/14/2021')]\n",
    "```"
   ]
  },
  {
   "cell_type": "code",
   "execution_count": 27,
   "id": "90da1b42",
   "metadata": {},
   "outputs": [
    {
     "data": {
      "text/plain": [
       "[('Anmol', 'India', '7/5/2021'),\n",
       " ('Surendranatha Reddy', 'India', '7/25/2021'),\n",
       " ('Sahana', 'India', '7/26/2021'),\n",
       " ('Venkat ', 'USA', '7/26/2021'),\n",
       " ('Shravan', 'India', '7/28/2021'),\n",
       " ('Sai Akshith', 'India', '7/30/2021'),\n",
       " ('Aditya', 'USA', '7/31/2021'),\n",
       " ('Pardha Saradhi', 'India', '7/31/2021'),\n",
       " ('Asasri', 'India', '8/10/2021'),\n",
       " ('Prasanth ', 'USA', '8/14/2021')]"
      ]
     },
     "execution_count": 27,
     "metadata": {},
     "output_type": "execute_result"
    }
   ],
   "source": [
    "sorted_aspirants = sort_data_by_scheduled_date(aspirants)\n",
    "sorted_aspirants"
   ]
  },
  {
   "cell_type": "code",
   "execution_count": 28,
   "id": "fe1b326d",
   "metadata": {},
   "outputs": [
    {
     "data": {
      "text/plain": [
       "list"
      ]
     },
     "execution_count": 28,
     "metadata": {},
     "output_type": "execute_result"
    }
   ],
   "source": [
    "type(sorted_aspirants) # It should be list"
   ]
  },
  {
   "cell_type": "code",
   "execution_count": 29,
   "id": "d2e55896",
   "metadata": {},
   "outputs": [
    {
     "data": {
      "text/plain": [
       "10"
      ]
     },
     "execution_count": 29,
     "metadata": {},
     "output_type": "execute_result"
    }
   ],
   "source": [
    "len(sorted_aspirants) # It should be 10"
   ]
  },
  {
   "cell_type": "code",
   "execution_count": 30,
   "id": "bcdada71",
   "metadata": {},
   "outputs": [
    {
     "data": {
      "text/plain": [
       "tuple"
      ]
     },
     "execution_count": 30,
     "metadata": {},
     "output_type": "execute_result"
    }
   ],
   "source": [
    "type(sorted_aspirants[0]) # It should be tuple."
   ]
  },
  {
   "cell_type": "code",
   "execution_count": null,
   "id": "5f141c71",
   "metadata": {},
   "outputs": [],
   "source": []
  }
 ],
 "metadata": {
  "kernelspec": {
   "display_name": "Python 3",
   "language": "python",
   "name": "python3"
  },
  "language_info": {
   "codemirror_mode": {
    "name": "ipython",
    "version": 3
   },
   "file_extension": ".py",
   "mimetype": "text/x-python",
   "name": "python",
   "nbconvert_exporter": "python",
   "pygments_lexer": "ipython3",
   "version": "3.6.12"
  }
 },
 "nbformat": 4,
 "nbformat_minor": 5
}
