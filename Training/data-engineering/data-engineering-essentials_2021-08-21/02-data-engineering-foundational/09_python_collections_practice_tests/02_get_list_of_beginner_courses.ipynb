{
 "cells": [
  {
   "cell_type": "markdown",
   "id": "9230f272",
   "metadata": {},
   "source": [
    "## Get list of Beginner courses\n",
    "\n",
    "Develop logic to filter the courses which are suitable for `Beginners`. As part of this Python Practice Test, we are primarily evaluating the ability to understand lists, dicts and ability to filter from list of dicts.\n",
    "* We will provide course data which will be of type list of dicts.\n",
    "* Get the courses which are suitable for Beginners - `suitable_for` should be equal to `Beginner`.\n",
    "* Data should be sorted in descending order by `number_of_ratings`.\n",
    "* Here is the data provided below in the form of list of dicts."
   ]
  },
  {
   "cell_type": "code",
   "execution_count": 1,
   "id": "faced681",
   "metadata": {},
   "outputs": [],
   "source": [
    "courses = [{'course_id': 1,\n",
    "  'course_name': '2020 Complete Python Bootcamp: From Zero to Hero in Python',\n",
    "  'suitable_for': 'Beginner',\n",
    "  'enrollment': 1100093,\n",
    "  'stars': 4.6,\n",
    "  'number_of_ratings': 318066},\n",
    " {'course_id': 4,\n",
    "  'course_name': 'Angular - The Complete Guide (2020 Edition)',\n",
    "  'suitable_for': 'Intermediate',\n",
    "  'enrollment': 422557,\n",
    "  'stars': 4.6,\n",
    "  'number_of_ratings': 129984},\n",
    " {'course_id': 12,\n",
    "  'course_name': 'Automate the Boring Stuff with Python Programming',\n",
    "  'suitable_for': 'Advanced',\n",
    "  'enrollment': 692617,\n",
    "  'stars': 4.6,\n",
    "  'number_of_ratings': 70508},\n",
    " {'course_id': 10,\n",
    "  'course_name': 'Complete C# Unity Game Developer 2D',\n",
    "  'suitable_for': 'Advanced',\n",
    "  'enrollment': 364934,\n",
    "  'stars': 4.6,\n",
    "  'number_of_ratings': 78989},\n",
    " {'course_id': 5,\n",
    "  'course_name': 'Java Programming Masterclass for Software Developers',\n",
    "  'suitable_for': 'Advanced',\n",
    "  'enrollment': 502572,\n",
    "  'stars': 4.6,\n",
    "  'number_of_ratings': 123798},\n",
    " {'course_id': 15,\n",
    "  'course_name': 'Learn Python Programming Masterclass',\n",
    "  'suitable_for': 'Advanced',\n",
    "  'enrollment': 240790,\n",
    "  'stars': 4.5,\n",
    "  'number_of_ratings': 58677},\n",
    " {'course_id': 3,\n",
    "  'course_name': 'Machine Learning A-Z™: Hands-On Python & R In Data Science',\n",
    "  'suitable_for': 'Intermediate',\n",
    "  'enrollment': 692812,\n",
    "  'stars': 4.5,\n",
    "  'number_of_ratings': 132228},\n",
    " {'course_id': 14,\n",
    "  'course_name': 'Modern React with Redux [2020 Update]',\n",
    "  'suitable_for': 'Intermediate',\n",
    "  'enrollment': 203214,\n",
    "  'stars': 4.7,\n",
    "  'number_of_ratings': 60835},\n",
    " {'course_id': 8,\n",
    "  'course_name': 'Python for Data Science and Machine Learning Bootcamp',\n",
    "  'suitable_for': 'Intermediate',\n",
    "  'enrollment': 387789,\n",
    "  'stars': 4.6,\n",
    "  'number_of_ratings': 87403},\n",
    " {'course_id': 6,\n",
    "  'course_name': 'React - The Complete Guide (incl Hooks, React Router, Redux)',\n",
    "  'suitable_for': 'Intermediate',\n",
    "  'enrollment': 304670,\n",
    "  'stars': 4.6,\n",
    "  'number_of_ratings': 90964},\n",
    " {'course_id': 18,\n",
    "  'course_name': 'Selenium WebDriver with Java -Basics to Advanced+Frameworks',\n",
    "  'suitable_for': 'Advanced',\n",
    "  'enrollment': 148562,\n",
    "  'stars': 4.6,\n",
    "  'number_of_ratings': 49947},\n",
    " {'course_id': 21,\n",
    "  'course_name': 'Spring & Hibernate for Beginners (includes Spring Boot)',\n",
    "  'suitable_for': 'Advanced',\n",
    "  'enrollment': 177053,\n",
    "  'stars': 4.6,\n",
    "  'number_of_ratings': 45329},\n",
    " {'course_id': 7,\n",
    "  'course_name': 'The Complete 2020 Web Development Bootcamp',\n",
    "  'suitable_for': 'Beginner',\n",
    "  'enrollment': 270656,\n",
    "  'stars': 4.7,\n",
    "  'number_of_ratings': 88098},\n",
    " {'course_id': 9,\n",
    "  'course_name': 'The Complete JavaScript Course 2020: Build Real Projects!',\n",
    "  'suitable_for': 'Intermediate',\n",
    "  'enrollment': 347979,\n",
    "  'stars': 4.6,\n",
    "  'number_of_ratings': 83521},\n",
    " {'course_id': 16,\n",
    "  'course_name': 'The Complete Node.js Developer Course (3rd Edition)',\n",
    "  'suitable_for': 'Advanced',\n",
    "  'enrollment': 202922,\n",
    "  'stars': 4.7,\n",
    "  'number_of_ratings': 50885},\n",
    " {'course_id': 13,\n",
    "  'course_name': 'The Complete Web Developer Course 2.0',\n",
    "  'suitable_for': 'Intermediate',\n",
    "  'enrollment': 273598,\n",
    "  'stars': 4.5,\n",
    "  'number_of_ratings': 63175},\n",
    " {'course_id': 11,\n",
    "  'course_name': 'The Data Science Course 2020: Complete Data Science Bootcamp',\n",
    "  'suitable_for': 'Beginner',\n",
    "  'enrollment': 325047,\n",
    "  'stars': 4.5,\n",
    "  'number_of_ratings': 76907},\n",
    " {'course_id': 20,\n",
    "  'course_name': 'The Ultimate MySQL Bootcamp: Go from SQL Beginner to Expert',\n",
    "  'suitable_for': 'Beginner',\n",
    "  'enrollment': 203366,\n",
    "  'stars': 4.6,\n",
    "  'number_of_ratings': 45382},\n",
    " {'course_id': 2,\n",
    "  'course_name': 'The Web Developer Bootcamp',\n",
    "  'suitable_for': 'Beginner',\n",
    "  'enrollment': 596726,\n",
    "  'stars': 4.6,\n",
    "  'number_of_ratings': 182997},\n",
    " {'course_id': 19,\n",
    "  'course_name': 'Unreal Engine C++ Developer: Learn C++ and Make Video Games',\n",
    "  'suitable_for': 'Advanced',\n",
    "  'enrollment': 229005,\n",
    "  'stars': 4.5,\n",
    "  'number_of_ratings': 45860},\n",
    " {'course_id': 17,\n",
    "  'course_name': 'iOS 13 & Swift 5 - The Complete iOS App Development Bootcamp',\n",
    "  'suitable_for': 'Advanced',\n",
    "  'enrollment': 179598,\n",
    "  'stars': 4.8,\n",
    "  'number_of_ratings': 49972}]"
   ]
  },
  {
   "cell_type": "markdown",
   "id": "323fc5b3",
   "metadata": {},
   "source": [
    "### Step 1: Preview the data\n",
    "\n",
    "Let us first preview the data."
   ]
  },
  {
   "cell_type": "code",
   "execution_count": 2,
   "id": "f1980281",
   "metadata": {},
   "outputs": [
    {
     "data": {
      "text/plain": [
       "[{'course_id': 1,\n",
       "  'course_name': '2020 Complete Python Bootcamp: From Zero to Hero in Python',\n",
       "  'suitable_for': 'Beginner',\n",
       "  'enrollment': 1100093,\n",
       "  'stars': 4.6,\n",
       "  'number_of_ratings': 318066},\n",
       " {'course_id': 4,\n",
       "  'course_name': 'Angular - The Complete Guide (2020 Edition)',\n",
       "  'suitable_for': 'Intermediate',\n",
       "  'enrollment': 422557,\n",
       "  'stars': 4.6,\n",
       "  'number_of_ratings': 129984},\n",
       " {'course_id': 12,\n",
       "  'course_name': 'Automate the Boring Stuff with Python Programming',\n",
       "  'suitable_for': 'Advanced',\n",
       "  'enrollment': 692617,\n",
       "  'stars': 4.6,\n",
       "  'number_of_ratings': 70508},\n",
       " {'course_id': 10,\n",
       "  'course_name': 'Complete C# Unity Game Developer 2D',\n",
       "  'suitable_for': 'Advanced',\n",
       "  'enrollment': 364934,\n",
       "  'stars': 4.6,\n",
       "  'number_of_ratings': 78989},\n",
       " {'course_id': 5,\n",
       "  'course_name': 'Java Programming Masterclass for Software Developers',\n",
       "  'suitable_for': 'Advanced',\n",
       "  'enrollment': 502572,\n",
       "  'stars': 4.6,\n",
       "  'number_of_ratings': 123798},\n",
       " {'course_id': 15,\n",
       "  'course_name': 'Learn Python Programming Masterclass',\n",
       "  'suitable_for': 'Advanced',\n",
       "  'enrollment': 240790,\n",
       "  'stars': 4.5,\n",
       "  'number_of_ratings': 58677},\n",
       " {'course_id': 3,\n",
       "  'course_name': 'Machine Learning A-Z™: Hands-On Python & R In Data Science',\n",
       "  'suitable_for': 'Intermediate',\n",
       "  'enrollment': 692812,\n",
       "  'stars': 4.5,\n",
       "  'number_of_ratings': 132228},\n",
       " {'course_id': 14,\n",
       "  'course_name': 'Modern React with Redux [2020 Update]',\n",
       "  'suitable_for': 'Intermediate',\n",
       "  'enrollment': 203214,\n",
       "  'stars': 4.7,\n",
       "  'number_of_ratings': 60835},\n",
       " {'course_id': 8,\n",
       "  'course_name': 'Python for Data Science and Machine Learning Bootcamp',\n",
       "  'suitable_for': 'Intermediate',\n",
       "  'enrollment': 387789,\n",
       "  'stars': 4.6,\n",
       "  'number_of_ratings': 87403},\n",
       " {'course_id': 6,\n",
       "  'course_name': 'React - The Complete Guide (incl Hooks, React Router, Redux)',\n",
       "  'suitable_for': 'Intermediate',\n",
       "  'enrollment': 304670,\n",
       "  'stars': 4.6,\n",
       "  'number_of_ratings': 90964},\n",
       " {'course_id': 18,\n",
       "  'course_name': 'Selenium WebDriver with Java -Basics to Advanced+Frameworks',\n",
       "  'suitable_for': 'Advanced',\n",
       "  'enrollment': 148562,\n",
       "  'stars': 4.6,\n",
       "  'number_of_ratings': 49947},\n",
       " {'course_id': 21,\n",
       "  'course_name': 'Spring & Hibernate for Beginners (includes Spring Boot)',\n",
       "  'suitable_for': 'Advanced',\n",
       "  'enrollment': 177053,\n",
       "  'stars': 4.6,\n",
       "  'number_of_ratings': 45329},\n",
       " {'course_id': 7,\n",
       "  'course_name': 'The Complete 2020 Web Development Bootcamp',\n",
       "  'suitable_for': 'Beginner',\n",
       "  'enrollment': 270656,\n",
       "  'stars': 4.7,\n",
       "  'number_of_ratings': 88098},\n",
       " {'course_id': 9,\n",
       "  'course_name': 'The Complete JavaScript Course 2020: Build Real Projects!',\n",
       "  'suitable_for': 'Intermediate',\n",
       "  'enrollment': 347979,\n",
       "  'stars': 4.6,\n",
       "  'number_of_ratings': 83521},\n",
       " {'course_id': 16,\n",
       "  'course_name': 'The Complete Node.js Developer Course (3rd Edition)',\n",
       "  'suitable_for': 'Advanced',\n",
       "  'enrollment': 202922,\n",
       "  'stars': 4.7,\n",
       "  'number_of_ratings': 50885},\n",
       " {'course_id': 13,\n",
       "  'course_name': 'The Complete Web Developer Course 2.0',\n",
       "  'suitable_for': 'Intermediate',\n",
       "  'enrollment': 273598,\n",
       "  'stars': 4.5,\n",
       "  'number_of_ratings': 63175},\n",
       " {'course_id': 11,\n",
       "  'course_name': 'The Data Science Course 2020: Complete Data Science Bootcamp',\n",
       "  'suitable_for': 'Beginner',\n",
       "  'enrollment': 325047,\n",
       "  'stars': 4.5,\n",
       "  'number_of_ratings': 76907},\n",
       " {'course_id': 20,\n",
       "  'course_name': 'The Ultimate MySQL Bootcamp: Go from SQL Beginner to Expert',\n",
       "  'suitable_for': 'Beginner',\n",
       "  'enrollment': 203366,\n",
       "  'stars': 4.6,\n",
       "  'number_of_ratings': 45382},\n",
       " {'course_id': 2,\n",
       "  'course_name': 'The Web Developer Bootcamp',\n",
       "  'suitable_for': 'Beginner',\n",
       "  'enrollment': 596726,\n",
       "  'stars': 4.6,\n",
       "  'number_of_ratings': 182997},\n",
       " {'course_id': 19,\n",
       "  'course_name': 'Unreal Engine C++ Developer: Learn C++ and Make Video Games',\n",
       "  'suitable_for': 'Advanced',\n",
       "  'enrollment': 229005,\n",
       "  'stars': 4.5,\n",
       "  'number_of_ratings': 45860},\n",
       " {'course_id': 17,\n",
       "  'course_name': 'iOS 13 & Swift 5 - The Complete iOS App Development Bootcamp',\n",
       "  'suitable_for': 'Advanced',\n",
       "  'enrollment': 179598,\n",
       "  'stars': 4.8,\n",
       "  'number_of_ratings': 49972}]"
      ]
     },
     "execution_count": 2,
     "metadata": {},
     "output_type": "execute_result"
    }
   ],
   "source": [
    "courses"
   ]
  },
  {
   "cell_type": "code",
   "execution_count": 3,
   "id": "81b60bf7",
   "metadata": {},
   "outputs": [
    {
     "data": {
      "text/plain": [
       "list"
      ]
     },
     "execution_count": 3,
     "metadata": {},
     "output_type": "execute_result"
    }
   ],
   "source": [
    "type(courses)"
   ]
  },
  {
   "cell_type": "code",
   "execution_count": 4,
   "id": "e97b06d8",
   "metadata": {},
   "outputs": [
    {
     "data": {
      "text/plain": [
       "21"
      ]
     },
     "execution_count": 4,
     "metadata": {},
     "output_type": "execute_result"
    }
   ],
   "source": [
    "len(courses)"
   ]
  },
  {
   "cell_type": "code",
   "execution_count": 5,
   "id": "a2ddb670",
   "metadata": {},
   "outputs": [
    {
     "name": "stdout",
     "output_type": "stream",
     "text": [
      "The type of value 1 with attribute course_id is <class 'int'>\n",
      "The type of value 2020 Complete Python Bootcamp: From Zero to Hero in Python with attribute course_name is <class 'str'>\n",
      "The type of value Beginner with attribute suitable_for is <class 'str'>\n",
      "The type of value 1100093 with attribute enrollment is <class 'int'>\n",
      "The type of value 4.6 with attribute stars is <class 'float'>\n",
      "The type of value 318066 with attribute number_of_ratings is <class 'int'>\n"
     ]
    }
   ],
   "source": [
    "for course in courses[0].items():\n",
    "    print(f'The type of value {course[1]} with attribute {course[0]} is {type(course[1])}')"
   ]
  },
  {
   "cell_type": "markdown",
   "id": "2201c468",
   "metadata": {},
   "source": [
    "### Step 2: Provide the solution\n",
    "\n",
    "Now come up with the solution by developing the required logic. Once the function is developed, go to the next step to take care of the validation."
   ]
  },
  {
   "cell_type": "code",
   "execution_count": 6,
   "id": "af221baf",
   "metadata": {},
   "outputs": [],
   "source": [
    "# The logic should go here\n",
    "def get_courses_for_beginners(courses, suitable_for):\n",
    "    courses_for_beginners=list(filter(\n",
    "        lambda course:course['suitable_for']==suitable_for,\n",
    "        courses\n",
    "    ))\n",
    "    return courses_for_beginners"
   ]
  },
  {
   "cell_type": "markdown",
   "id": "a03b9775",
   "metadata": {},
   "source": [
    "### Step 3: Validate the function\n",
    "\n",
    "Let us validate the function by running below cells.\n",
    "* Here is the expected output.\n",
    "\n",
    "```python\n",
    "[{'course_id': 1,\n",
    "  'course_name': '2020 Complete Python Bootcamp: From Zero to Hero in Python',\n",
    "  'suitable_for': 'Beginner',\n",
    "  'enrollment': 1100093,\n",
    "  'stars': 4.6,\n",
    "  'number_of_ratings': 318066},\n",
    " {'course_id': 2,\n",
    "  'course_name': 'The Web Developer Bootcamp',\n",
    "  'suitable_for': 'Beginner',\n",
    "  'enrollment': 596726,\n",
    "  'stars': 4.6,\n",
    "  'number_of_ratings': 182997},\n",
    " {'course_id': 7,\n",
    "  'course_name': 'The Complete 2020 Web Development Bootcamp',\n",
    "  'suitable_for': 'Beginner',\n",
    "  'enrollment': 270656,\n",
    "  'stars': 4.7,\n",
    "  'number_of_ratings': 88098},\n",
    " {'course_id': 11,\n",
    "  'course_name': 'The Data Science Course 2020: Complete Data Science Bootcamp',\n",
    "  'suitable_for': 'Beginner',\n",
    "  'enrollment': 325047,\n",
    "  'stars': 4.5,\n",
    "  'number_of_ratings': 76907},\n",
    " {'course_id': 20,\n",
    "  'course_name': 'The Ultimate MySQL Bootcamp: Go from SQL Beginner to Expert',\n",
    "  'suitable_for': 'Beginner',\n",
    "  'enrollment': 203366,\n",
    "  'stars': 4.6,\n",
    "  'number_of_ratings': 45382}]\n",
    "```"
   ]
  },
  {
   "cell_type": "code",
   "execution_count": 7,
   "id": "ca58ca46",
   "metadata": {},
   "outputs": [
    {
     "data": {
      "text/plain": [
       "[{'course_id': 1,\n",
       "  'course_name': '2020 Complete Python Bootcamp: From Zero to Hero in Python',\n",
       "  'suitable_for': 'Beginner',\n",
       "  'enrollment': 1100093,\n",
       "  'stars': 4.6,\n",
       "  'number_of_ratings': 318066},\n",
       " {'course_id': 7,\n",
       "  'course_name': 'The Complete 2020 Web Development Bootcamp',\n",
       "  'suitable_for': 'Beginner',\n",
       "  'enrollment': 270656,\n",
       "  'stars': 4.7,\n",
       "  'number_of_ratings': 88098},\n",
       " {'course_id': 11,\n",
       "  'course_name': 'The Data Science Course 2020: Complete Data Science Bootcamp',\n",
       "  'suitable_for': 'Beginner',\n",
       "  'enrollment': 325047,\n",
       "  'stars': 4.5,\n",
       "  'number_of_ratings': 76907},\n",
       " {'course_id': 20,\n",
       "  'course_name': 'The Ultimate MySQL Bootcamp: Go from SQL Beginner to Expert',\n",
       "  'suitable_for': 'Beginner',\n",
       "  'enrollment': 203366,\n",
       "  'stars': 4.6,\n",
       "  'number_of_ratings': 45382},\n",
       " {'course_id': 2,\n",
       "  'course_name': 'The Web Developer Bootcamp',\n",
       "  'suitable_for': 'Beginner',\n",
       "  'enrollment': 596726,\n",
       "  'stars': 4.6,\n",
       "  'number_of_ratings': 182997}]"
      ]
     },
     "execution_count": 7,
     "metadata": {},
     "output_type": "execute_result"
    }
   ],
   "source": [
    "courses_for_beginners = get_courses_for_beginners(courses, 'Beginner')\n",
    "courses_for_beginners"
   ]
  },
  {
   "cell_type": "code",
   "execution_count": 8,
   "id": "e2e4b850",
   "metadata": {},
   "outputs": [
    {
     "data": {
      "text/plain": [
       "list"
      ]
     },
     "execution_count": 8,
     "metadata": {},
     "output_type": "execute_result"
    }
   ],
   "source": [
    "type(courses_for_beginners) # It should be list"
   ]
  },
  {
   "cell_type": "code",
   "execution_count": 9,
   "id": "828a274e",
   "metadata": {},
   "outputs": [
    {
     "data": {
      "text/plain": [
       "5"
      ]
     },
     "execution_count": 9,
     "metadata": {},
     "output_type": "execute_result"
    }
   ],
   "source": [
    "len(courses_for_beginners) # It should be 5"
   ]
  },
  {
   "cell_type": "code",
   "execution_count": 10,
   "id": "cb57507d",
   "metadata": {},
   "outputs": [
    {
     "data": {
      "text/plain": [
       "dict"
      ]
     },
     "execution_count": 10,
     "metadata": {},
     "output_type": "execute_result"
    }
   ],
   "source": [
    "type(courses_for_beginners[0]) # It should be dict."
   ]
  },
  {
   "cell_type": "code",
   "execution_count": null,
   "id": "f6846cb1",
   "metadata": {},
   "outputs": [],
   "source": []
  }
 ],
 "metadata": {
  "kernelspec": {
   "display_name": "Python 3",
   "language": "python",
   "name": "python3"
  },
  "language_info": {
   "codemirror_mode": {
    "name": "ipython",
    "version": 3
   },
   "file_extension": ".py",
   "mimetype": "text/x-python",
   "name": "python",
   "nbconvert_exporter": "python",
   "pygments_lexer": "ipython3",
   "version": "3.6.12"
  }
 },
 "nbformat": 4,
 "nbformat_minor": 5
}
