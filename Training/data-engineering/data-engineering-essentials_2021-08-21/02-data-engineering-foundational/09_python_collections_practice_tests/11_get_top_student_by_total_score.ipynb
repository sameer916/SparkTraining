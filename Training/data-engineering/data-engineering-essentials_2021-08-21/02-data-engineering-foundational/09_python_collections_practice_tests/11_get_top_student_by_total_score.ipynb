{
 "cells": [
  {
   "cell_type": "markdown",
   "id": "ce4d67d2",
   "metadata": {},
   "source": [
    "## Get Top Student by Total Score\n",
    "\n",
    "Develop a function to get the top student by total score. This is primarily to test the ability to manipulate collections, sort the data and get the ranks.\n",
    "* We will provide list of tuples with student id followed by scores for different subjects.\n",
    "* Develop a function which takes students as input and return the topper with highest total score.\n",
    "\n",
    "**Restrictions: Solve this problem either by using conventional loops or first class functions such as `map`. You are not supposed to use Pandas.**"
   ]
  },
  {
   "cell_type": "code",
   "execution_count": 1,
   "id": "102b01e1",
   "metadata": {},
   "outputs": [],
   "source": [
    "students = [(1, 72, 72, 74), (2, 69, 90, 88), (3, 90, 95, 93), (4, 47, 47, 44), (5, 76, 78, 75), (6, 71, 83, 78)]"
   ]
  },
  {
   "cell_type": "markdown",
   "id": "a5c8d82d",
   "metadata": {},
   "source": [
    "### Step 1: Preview the data\n",
    "\n",
    "Let us first preview the data."
   ]
  },
  {
   "cell_type": "code",
   "execution_count": 2,
   "id": "2ca74be9",
   "metadata": {},
   "outputs": [
    {
     "data": {
      "text/plain": [
       "[(1, 72, 72, 74),\n",
       " (2, 69, 90, 88),\n",
       " (3, 90, 95, 93),\n",
       " (4, 47, 47, 44),\n",
       " (5, 76, 78, 75),\n",
       " (6, 71, 83, 78)]"
      ]
     },
     "execution_count": 2,
     "metadata": {},
     "output_type": "execute_result"
    }
   ],
   "source": [
    "students"
   ]
  },
  {
   "cell_type": "code",
   "execution_count": 3,
   "id": "908da256",
   "metadata": {},
   "outputs": [
    {
     "data": {
      "text/plain": [
       "list"
      ]
     },
     "execution_count": 3,
     "metadata": {},
     "output_type": "execute_result"
    }
   ],
   "source": [
    "type(students)"
   ]
  },
  {
   "cell_type": "code",
   "execution_count": 4,
   "id": "2f20a3e2",
   "metadata": {},
   "outputs": [
    {
     "data": {
      "text/plain": [
       "6"
      ]
     },
     "execution_count": 4,
     "metadata": {},
     "output_type": "execute_result"
    }
   ],
   "source": [
    "len(students)"
   ]
  },
  {
   "cell_type": "markdown",
   "id": "078e45cc",
   "metadata": {},
   "source": [
    "### Step 2: Provide the solution\n",
    "\n",
    "Now come up with the solution by developing the required logic. Once the function is developed, go to the next step to take care of the validation."
   ]
  },
  {
   "cell_type": "code",
   "execution_count": 5,
   "id": "39073431",
   "metadata": {},
   "outputs": [],
   "source": [
    "def get_topper_by_total_score(students):\n",
    "    ## your code should go here\n",
    "    marks_list=list(map(\n",
    "        lambda marks:(marks[0],(marks[1]+marks[2]+marks[3])),\n",
    "        students\n",
    "    ))\n",
    "    topper_by_total_score=max(marks_list,key=lambda mark:mark[1])[0]\n",
    "        \n",
    "    return topper_by_total_score"
   ]
  },
  {
   "cell_type": "markdown",
   "id": "860be55d",
   "metadata": {},
   "source": [
    "### Step 3: Validate the function\n",
    "\n",
    "Let us validate the function by running below cells.\n",
    "* The student id with highest total score is **3**."
   ]
  },
  {
   "cell_type": "code",
   "execution_count": 6,
   "id": "87f9962f",
   "metadata": {},
   "outputs": [
    {
     "data": {
      "text/plain": [
       "3"
      ]
     },
     "execution_count": 6,
     "metadata": {},
     "output_type": "execute_result"
    }
   ],
   "source": [
    "topper_by_total_score = get_topper_by_total_score(students)\n",
    "topper_by_total_score"
   ]
  },
  {
   "cell_type": "code",
   "execution_count": 7,
   "id": "2bdcad8d",
   "metadata": {},
   "outputs": [
    {
     "data": {
      "text/plain": [
       "int"
      ]
     },
     "execution_count": 7,
     "metadata": {},
     "output_type": "execute_result"
    }
   ],
   "source": [
    "type(topper_by_total_score) # int"
   ]
  },
  {
   "cell_type": "code",
   "execution_count": null,
   "id": "ec17eb15",
   "metadata": {},
   "outputs": [],
   "source": []
  }
 ],
 "metadata": {
  "kernelspec": {
   "display_name": "Python 3",
   "language": "python",
   "name": "python3"
  },
  "language_info": {
   "codemirror_mode": {
    "name": "ipython",
    "version": 3
   },
   "file_extension": ".py",
   "mimetype": "text/x-python",
   "name": "python",
   "nbconvert_exporter": "python",
   "pygments_lexer": "ipython3",
   "version": "3.6.12"
  }
 },
 "nbformat": 4,
 "nbformat_minor": 5
}
