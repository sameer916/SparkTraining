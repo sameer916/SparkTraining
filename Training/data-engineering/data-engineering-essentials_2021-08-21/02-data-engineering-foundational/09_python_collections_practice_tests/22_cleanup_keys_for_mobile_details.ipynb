{
 "cells": [
  {
   "cell_type": "markdown",
   "id": "72e8e54f",
   "metadata": {},
   "source": [
    "## Cleanup keys for mobile details\n",
    "\n",
    "Develop a function to get mobile details to remove **mobile** from the keys in all the list of phone details. The elements in the list are of type `dict`.\n",
    "* The input data will be given in the form of list of dicts with mobile phone specifications.\n",
    "* The output should contain the same elements in the form of list of dicts, however the keys should not contain **mobile** in them."
   ]
  },
  {
   "cell_type": "code",
   "execution_count": 1,
   "id": "e4edd19c",
   "metadata": {},
   "outputs": [],
   "source": [
    "mobile_details = [{'mobile_company': 'Apple',\n",
    "  'mobile_model': 'Iphone 12',\n",
    "  'mobile_ram': 4,\n",
    "  'mobile_storage': 256,\n",
    "  'mobile_os': 'iOS'},\n",
    " {'mobile_company': 'Xiaomi',\n",
    "  'mobile_model': 'Redmi 9',\n",
    "  'mobile_ram': 4,\n",
    "  'mobile_storage': 64,\n",
    "  'mobile_os': 'android'},\n",
    " {'mobile_company': 'One plus',\n",
    "  'mobile_model': 'One plus 9R',\n",
    "  'mobile_ram': 6,\n",
    "  'mobile_storage': 128,\n",
    "  'mobile_os': 'android'},\n",
    " {'mobile_company': 'Samsung',\n",
    "  'mobile_model': 'Galaxy M32',\n",
    "  'mobile_ram': 4,\n",
    "  'mobile_storage': 64,\n",
    "  'mobile_os': 'android'},\n",
    " {'mobile_company': 'Xiaomi',\n",
    "  'mobile_model': 'Redmi note 10 pro',\n",
    "  'mobile_ram': 8,\n",
    "  'mobile_storage': 128,\n",
    "  'mobile_os': 'android'},\n",
    " {'mobile_company': 'One plus',\n",
    "  'mobile_model': 'One plus Nord',\n",
    "  'mobile_ram': 4,\n",
    "  'mobile_storage': 128,\n",
    "  'mobile_os': 'android'},\n",
    " {'mobile_company': 'Apple',\n",
    "  'mobile_model': 'Iphone X',\n",
    "  'mobile_ram': 4,\n",
    "  'mobile_storage': 256,\n",
    "  'mobile_os': 'android'},\n",
    " {'mobile_company': 'Oppo',\n",
    "  'mobile_model': 'Oppo A31',\n",
    "  'mobile_ram': 4,\n",
    "  'mobile_storage': 64,\n",
    "  'mobile_os': 'iOS'}]"
   ]
  },
  {
   "cell_type": "markdown",
   "id": "84c0ee78",
   "metadata": {},
   "source": [
    "### Step 1: Preview the data\n",
    "* Let us first preview the data."
   ]
  },
  {
   "cell_type": "code",
   "execution_count": null,
   "id": "714b8c81",
   "metadata": {},
   "outputs": [],
   "source": [
    "mobile_details"
   ]
  },
  {
   "cell_type": "code",
   "execution_count": null,
   "id": "3258dc25",
   "metadata": {},
   "outputs": [],
   "source": [
    "type(mobile_details)"
   ]
  },
  {
   "cell_type": "code",
   "execution_count": null,
   "id": "87989ae3",
   "metadata": {},
   "outputs": [],
   "source": [
    "len(mobile_details)"
   ]
  },
  {
   "cell_type": "code",
   "execution_count": 2,
   "id": "baf1e450",
   "metadata": {},
   "outputs": [
    {
     "data": {
      "text/plain": [
       "{'mobile_company': 'Apple',\n",
       " 'mobile_model': 'Iphone 12',\n",
       " 'mobile_ram': 4,\n",
       " 'mobile_storage': 256,\n",
       " 'mobile_os': 'iOS'}"
      ]
     },
     "execution_count": 2,
     "metadata": {},
     "output_type": "execute_result"
    }
   ],
   "source": [
    "mobile_details[0]"
   ]
  },
  {
   "cell_type": "code",
   "execution_count": null,
   "id": "abbb00a2",
   "metadata": {},
   "outputs": [],
   "source": [
    "type(mobile_details[0])"
   ]
  },
  {
   "cell_type": "code",
   "execution_count": null,
   "id": "c60a2f29",
   "metadata": {},
   "outputs": [],
   "source": [
    "len(mobile_details[0])"
   ]
  },
  {
   "cell_type": "markdown",
   "id": "d260ae70",
   "metadata": {},
   "source": [
    "### Step 2: Provide the solution\n",
    "Now come up with the solution by developing the required logic. Once the function is developed, go to the next step to take care of the validation."
   ]
  },
  {
   "cell_type": "code",
   "execution_count": 3,
   "id": "da10e9d1",
   "metadata": {},
   "outputs": [],
   "source": [
    "def get_mobile_details(mobile_details):\n",
    "    mobiles=[]\n",
    "    for mobile in mobile_details:\n",
    "        temp_dict={}\n",
    "        temp_dict['company']=mobile['mobile_company']\n",
    "        temp_dict['model']=mobile['mobile_model']\n",
    "        temp_dict['ram']=mobile['mobile_ram']\n",
    "        temp_dict['storage']=mobile['mobile_storage']\n",
    "        temp_dict['os']=mobile['mobile_os']\n",
    "        mobiles.append(temp_dict)\n",
    "    return mobiles"
   ]
  },
  {
   "cell_type": "markdown",
   "id": "c7acb1da",
   "metadata": {},
   "source": [
    "### Step 3: Validate the function\n",
    "Here is the expected output.\n",
    "```python\n",
    "[{'company': 'Apple',\n",
    "  'model': 'Iphone 12',\n",
    "  'ram': 4,\n",
    "  'storage': 256,\n",
    "  'os': 'iOS'},\n",
    " {'company': 'Xiaomi',\n",
    "  'model': 'Redmi 9',\n",
    "  'ram': 4,\n",
    "  'storage': 64,\n",
    "  'os': 'android'},\n",
    " {'company': 'One plus',\n",
    "  'model': 'One plus 9R',\n",
    "  'ram': 6,\n",
    "  'storage': 128,\n",
    "  'os': 'android'},\n",
    " {'company': 'Samsung',\n",
    "  'model': 'Galaxy M32',\n",
    "  'ram': 4,\n",
    "  'storage': 64,\n",
    "  'os': 'android'},\n",
    " {'company': 'Xiaomi',\n",
    "  'model': 'Redmi note 10 pro',\n",
    "  'ram': 8,\n",
    "  'storage': 128,\n",
    "  'os': 'android'},\n",
    " {'company': 'One plus',\n",
    "  'model': 'One plus Nord',\n",
    "  'ram': 4,\n",
    "  'storage': 128,\n",
    "  'os': 'android'},\n",
    " {'company': 'Apple',\n",
    "  'model': 'Iphone X',\n",
    "  'ram': 4,\n",
    "  'storage': 256,\n",
    "  'os': 'android'},\n",
    " {'company': 'Oppo',\n",
    "  'model': 'Oppo A31',\n",
    "  'ram': 4,\n",
    "  'storage': 64,\n",
    "  'os': 'iOS'}]\n",
    "```"
   ]
  },
  {
   "cell_type": "code",
   "execution_count": 4,
   "id": "14a2840b",
   "metadata": {},
   "outputs": [
    {
     "data": {
      "text/plain": [
       "[{'company': 'Apple',\n",
       "  'model': 'Iphone 12',\n",
       "  'ram': 4,\n",
       "  'storage': 256,\n",
       "  'os': 'iOS'},\n",
       " {'company': 'Xiaomi',\n",
       "  'model': 'Redmi 9',\n",
       "  'ram': 4,\n",
       "  'storage': 64,\n",
       "  'os': 'android'},\n",
       " {'company': 'One plus',\n",
       "  'model': 'One plus 9R',\n",
       "  'ram': 6,\n",
       "  'storage': 128,\n",
       "  'os': 'android'},\n",
       " {'company': 'Samsung',\n",
       "  'model': 'Galaxy M32',\n",
       "  'ram': 4,\n",
       "  'storage': 64,\n",
       "  'os': 'android'},\n",
       " {'company': 'Xiaomi',\n",
       "  'model': 'Redmi note 10 pro',\n",
       "  'ram': 8,\n",
       "  'storage': 128,\n",
       "  'os': 'android'},\n",
       " {'company': 'One plus',\n",
       "  'model': 'One plus Nord',\n",
       "  'ram': 4,\n",
       "  'storage': 128,\n",
       "  'os': 'android'},\n",
       " {'company': 'Apple',\n",
       "  'model': 'Iphone X',\n",
       "  'ram': 4,\n",
       "  'storage': 256,\n",
       "  'os': 'android'},\n",
       " {'company': 'Oppo',\n",
       "  'model': 'Oppo A31',\n",
       "  'ram': 4,\n",
       "  'storage': 64,\n",
       "  'os': 'iOS'}]"
      ]
     },
     "execution_count": 4,
     "metadata": {},
     "output_type": "execute_result"
    }
   ],
   "source": [
    "mobiles = get_mobile_details(mobile_details)\n",
    "mobiles"
   ]
  },
  {
   "cell_type": "code",
   "execution_count": 5,
   "id": "3ed6d991",
   "metadata": {},
   "outputs": [
    {
     "data": {
      "text/plain": [
       "list"
      ]
     },
     "execution_count": 5,
     "metadata": {},
     "output_type": "execute_result"
    }
   ],
   "source": [
    "type(mobiles) # list"
   ]
  },
  {
   "cell_type": "code",
   "execution_count": 6,
   "id": "77035f34",
   "metadata": {},
   "outputs": [
    {
     "data": {
      "text/plain": [
       "8"
      ]
     },
     "execution_count": 6,
     "metadata": {},
     "output_type": "execute_result"
    }
   ],
   "source": [
    "len(mobiles) # 3"
   ]
  },
  {
   "cell_type": "code",
   "execution_count": 7,
   "id": "8f2a2d5c",
   "metadata": {},
   "outputs": [
    {
     "data": {
      "text/plain": [
       "{'company': 'Apple',\n",
       " 'model': 'Iphone 12',\n",
       " 'ram': 4,\n",
       " 'storage': 256,\n",
       " 'os': 'iOS'}"
      ]
     },
     "execution_count": 7,
     "metadata": {},
     "output_type": "execute_result"
    }
   ],
   "source": [
    "mobiles[0] # Check that keys does not contain mobile_"
   ]
  },
  {
   "cell_type": "code",
   "execution_count": null,
   "id": "0a72f8e2",
   "metadata": {},
   "outputs": [],
   "source": []
  }
 ],
 "metadata": {
  "kernelspec": {
   "display_name": "Python 3",
   "language": "python",
   "name": "python3"
  },
  "language_info": {
   "codemirror_mode": {
    "name": "ipython",
    "version": 3
   },
   "file_extension": ".py",
   "mimetype": "text/x-python",
   "name": "python",
   "nbconvert_exporter": "python",
   "pygments_lexer": "ipython3",
   "version": "3.6.12"
  }
 },
 "nbformat": 4,
 "nbformat_minor": 5
}
