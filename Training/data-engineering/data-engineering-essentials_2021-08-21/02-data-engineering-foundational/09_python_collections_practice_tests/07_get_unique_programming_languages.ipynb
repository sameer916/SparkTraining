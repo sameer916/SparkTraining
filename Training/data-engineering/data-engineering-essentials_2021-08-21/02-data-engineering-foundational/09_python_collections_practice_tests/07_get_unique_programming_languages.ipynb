{
 "cells": [
  {
   "cell_type": "markdown",
   "id": "9dfd1279",
   "metadata": {},
   "source": [
    "## Get unique programming languages\n",
    "\n",
    "Develop a function which takes a delimited string as input and returns unique values ignoring the case.\n",
    "* We have a string of programming languages which are delimited by `,`.\n",
    "* However the programming languages might be in mixed case. Also some of the programming languages have spaces in the beginning or the end.\n",
    "* We need to ignore spaces and also ignore the case to get unique list of programming languages.\n",
    "* Output should all be lower case, without leading or trailing spaces. The data type of the output should be `list`. Data should be sorted in ascending order."
   ]
  },
  {
   "cell_type": "code",
   "execution_count": 1,
   "id": "65bc2b5b",
   "metadata": {},
   "outputs": [],
   "source": [
    "programming_languages = 'Python, Java , java,python, Scala, java script, python, Go, scala,java, Ruby, go, ruby, Java Script'"
   ]
  },
  {
   "cell_type": "markdown",
   "id": "c1c4b92d",
   "metadata": {},
   "source": [
    "### Step 1: Preview the data\n",
    "* Let us first preview the data."
   ]
  },
  {
   "cell_type": "code",
   "execution_count": 2,
   "id": "5c540429",
   "metadata": {},
   "outputs": [
    {
     "data": {
      "text/plain": [
       "'Python, Java , java,python, Scala, java script, python, Go, scala,java, Ruby, go, ruby, Java Script'"
      ]
     },
     "execution_count": 2,
     "metadata": {},
     "output_type": "execute_result"
    }
   ],
   "source": [
    "programming_languages"
   ]
  },
  {
   "cell_type": "code",
   "execution_count": 3,
   "id": "7b0fb944",
   "metadata": {},
   "outputs": [
    {
     "data": {
      "text/plain": [
       "str"
      ]
     },
     "execution_count": 3,
     "metadata": {},
     "output_type": "execute_result"
    }
   ],
   "source": [
    "type(programming_languages)"
   ]
  },
  {
   "cell_type": "markdown",
   "id": "eb04a3b0",
   "metadata": {},
   "source": [
    "### Step 2: Provide the solution\n",
    "Now come up with the solution by developing the required logic. Once the function is developed, go to the next step to take care of the validation."
   ]
  },
  {
   "cell_type": "code",
   "execution_count": 31,
   "id": "3f6d489f",
   "metadata": {},
   "outputs": [],
   "source": [
    "def get_unique_programming_languages(programming_languages):\n",
    "    # Your solution should go here\n",
    "    language_list=list(programming_languages.split(','))\n",
    "    language_set=set()\n",
    "    unique_programming_languages=[]\n",
    "    for l in language_list:\n",
    "        l1=l.lower().strip()\n",
    "        if l1 not in language_set:\n",
    "            language_set.add(l1)\n",
    "            unique_programming_languages.append(l1)\n",
    "    unique_programming_languages=sorted(unique_programming_languages)\n",
    "    return unique_programming_languages"
   ]
  },
  {
   "cell_type": "markdown",
   "id": "2b93fedf",
   "metadata": {},
   "source": [
    "### Step 3: Validate the function\n",
    "\n",
    "Here is the expected output.\n",
    "\n",
    "```python\n",
    "['go', 'java', 'java script', 'python', 'ruby', 'scala']\n",
    "```"
   ]
  },
  {
   "cell_type": "code",
   "execution_count": 32,
   "id": "e8a43dea",
   "metadata": {},
   "outputs": [
    {
     "data": {
      "text/plain": [
       "['go', 'java', 'java script', 'python', 'ruby', 'scala']"
      ]
     },
     "execution_count": 32,
     "metadata": {},
     "output_type": "execute_result"
    }
   ],
   "source": [
    "unique_programming_languages = get_unique_programming_languages(programming_languages)\n",
    "unique_programming_languages"
   ]
  },
  {
   "cell_type": "code",
   "execution_count": 33,
   "id": "a2d5ddef",
   "metadata": {},
   "outputs": [
    {
     "data": {
      "text/plain": [
       "list"
      ]
     },
     "execution_count": 33,
     "metadata": {},
     "output_type": "execute_result"
    }
   ],
   "source": [
    "type(unique_programming_languages) # list"
   ]
  },
  {
   "cell_type": "code",
   "execution_count": 34,
   "id": "cf56d0f7",
   "metadata": {},
   "outputs": [
    {
     "data": {
      "text/plain": [
       "6"
      ]
     },
     "execution_count": 34,
     "metadata": {},
     "output_type": "execute_result"
    }
   ],
   "source": [
    "len(unique_programming_languages) # 6"
   ]
  },
  {
   "cell_type": "code",
   "execution_count": null,
   "id": "08c2b40a",
   "metadata": {},
   "outputs": [],
   "source": []
  }
 ],
 "metadata": {
  "kernelspec": {
   "display_name": "Python 3",
   "language": "python",
   "name": "python3"
  },
  "language_info": {
   "codemirror_mode": {
    "name": "ipython",
    "version": 3
   },
   "file_extension": ".py",
   "mimetype": "text/x-python",
   "name": "python",
   "nbconvert_exporter": "python",
   "pygments_lexer": "ipython3",
   "version": "3.6.12"
  }
 },
 "nbformat": 4,
 "nbformat_minor": 5
}
