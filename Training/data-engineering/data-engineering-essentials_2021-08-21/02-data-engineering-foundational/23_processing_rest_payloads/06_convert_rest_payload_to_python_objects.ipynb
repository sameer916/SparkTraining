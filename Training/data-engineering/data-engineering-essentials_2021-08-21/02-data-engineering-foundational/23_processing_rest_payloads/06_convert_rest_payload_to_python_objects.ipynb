{
 "cells": [
  {
   "cell_type": "markdown",
   "id": "3d620962",
   "metadata": {},
   "source": [
    "## Convert REST Payload to Python Objects\n",
    "\n",
    "Let us understand how we can convert REST `GET` Payload to appropriate Python Objects.\n",
    "* We have already seen that the `payload` is of type `str`. Also, it contains valid `json`. It can be a simple JSON Document or JSON Array.\n",
    "\n",
    "Here are the steps involved in converting REST Payload to Python Objects.\n",
    "* Invoke REST API by passing valid URI. It will create response object.\n",
    "* Using response object, we can invoke `json()`. It will return Python dict or Python list. The list typically contain dicts.\n",
    "* Once it is converted to Python dict or list we can further process data using appropriate Python APIs as per our requirements."
   ]
  },
  {
   "cell_type": "code",
   "execution_count": 1,
   "id": "25d5dc09",
   "metadata": {},
   "outputs": [],
   "source": [
    "import requests"
   ]
  },
  {
   "cell_type": "markdown",
   "id": "bf8853b9",
   "metadata": {},
   "source": [
    "* Example for simple JSON to `dict`."
   ]
  },
  {
   "cell_type": "code",
   "execution_count": 2,
   "id": "ae053a12",
   "metadata": {},
   "outputs": [
    {
     "name": "stdout",
     "output_type": "stream",
     "text": [
      "{\"current_user_url\":\"https://api.github.com/user\",\"current_user_authorizations_html_url\":\"https://github.com/settings/connections/applications{/client_id}\",\"authorizations_url\":\"https://api.github.com/authorizations\",\"code_search_url\":\"https://api.github.com/search/code?q={query}{&page,per_page,sort,order}\",\"commit_search_url\":\"https://api.github.com/search/commits?q={query}{&page,per_page,sort,order}\",\"emails_url\":\"https://api.github.com/user/emails\",\"emojis_url\":\"https://api.github.com/emojis\",\"events_url\":\"https://api.github.com/events\",\"feeds_url\":\"https://api.github.com/feeds\",\"followers_url\":\"https://api.github.com/user/followers\",\"following_url\":\"https://api.github.com/user/following{/target}\",\"gists_url\":\"https://api.github.com/gists{/gist_id}\",\"hub_url\":\"https://api.github.com/hub\",\"issue_search_url\":\"https://api.github.com/search/issues?q={query}{&page,per_page,sort,order}\",\"issues_url\":\"https://api.github.com/issues\",\"keys_url\":\"https://api.github.com/user/keys\",\"label_search_url\":\"https://api.github.com/search/labels?q={query}&repository_id={repository_id}{&page,per_page}\",\"notifications_url\":\"https://api.github.com/notifications\",\"organization_url\":\"https://api.github.com/orgs/{org}\",\"organization_repositories_url\":\"https://api.github.com/orgs/{org}/repos{?type,page,per_page,sort}\",\"organization_teams_url\":\"https://api.github.com/orgs/{org}/teams\",\"public_gists_url\":\"https://api.github.com/gists/public\",\"rate_limit_url\":\"https://api.github.com/rate_limit\",\"repository_url\":\"https://api.github.com/repos/{owner}/{repo}\",\"repository_search_url\":\"https://api.github.com/search/repositories?q={query}{&page,per_page,sort,order}\",\"current_user_repositories_url\":\"https://api.github.com/user/repos{?type,page,per_page,sort}\",\"starred_url\":\"https://api.github.com/user/starred{/owner}{/repo}\",\"starred_gists_url\":\"https://api.github.com/gists/starred\",\"user_url\":\"https://api.github.com/users/{user}\",\"user_organizations_url\":\"https://api.github.com/user/orgs\",\"user_repositories_url\":\"https://api.github.com/users/{user}/repos{?type,page,per_page,sort}\",\"user_search_url\":\"https://api.github.com/search/users?q={query}{&page,per_page,sort,order}\"}"
     ]
    }
   ],
   "source": [
    "!curl https://api.github.com"
   ]
  },
  {
   "cell_type": "code",
   "execution_count": 3,
   "id": "2a20a697",
   "metadata": {},
   "outputs": [],
   "source": [
    "payload = requests.get('https://api.github.com').content.decode('utf-8')"
   ]
  },
  {
   "cell_type": "code",
   "execution_count": 4,
   "id": "770ef3cc",
   "metadata": {},
   "outputs": [
    {
     "data": {
      "text/plain": [
       "'{\"current_user_url\":\"https://api.github.com/user\",\"current_user_authorizations_html_url\":\"https://github.com/settings/connections/applications{/client_id}\",\"authorizations_url\":\"https://api.github.com/authorizations\",\"code_search_url\":\"https://api.github.com/search/code?q={query}{&page,per_page,sort,order}\",\"commit_search_url\":\"https://api.github.com/search/commits?q={query}{&page,per_page,sort,order}\",\"emails_url\":\"https://api.github.com/user/emails\",\"emojis_url\":\"https://api.github.com/emojis\",\"events_url\":\"https://api.github.com/events\",\"feeds_url\":\"https://api.github.com/feeds\",\"followers_url\":\"https://api.github.com/user/followers\",\"following_url\":\"https://api.github.com/user/following{/target}\",\"gists_url\":\"https://api.github.com/gists{/gist_id}\",\"hub_url\":\"https://api.github.com/hub\",\"issue_search_url\":\"https://api.github.com/search/issues?q={query}{&page,per_page,sort,order}\",\"issues_url\":\"https://api.github.com/issues\",\"keys_url\":\"https://api.github.com/user/keys\",\"label_search_url\":\"https://api.github.com/search/labels?q={query}&repository_id={repository_id}{&page,per_page}\",\"notifications_url\":\"https://api.github.com/notifications\",\"organization_url\":\"https://api.github.com/orgs/{org}\",\"organization_repositories_url\":\"https://api.github.com/orgs/{org}/repos{?type,page,per_page,sort}\",\"organization_teams_url\":\"https://api.github.com/orgs/{org}/teams\",\"public_gists_url\":\"https://api.github.com/gists/public\",\"rate_limit_url\":\"https://api.github.com/rate_limit\",\"repository_url\":\"https://api.github.com/repos/{owner}/{repo}\",\"repository_search_url\":\"https://api.github.com/search/repositories?q={query}{&page,per_page,sort,order}\",\"current_user_repositories_url\":\"https://api.github.com/user/repos{?type,page,per_page,sort}\",\"starred_url\":\"https://api.github.com/user/starred{/owner}{/repo}\",\"starred_gists_url\":\"https://api.github.com/gists/starred\",\"user_url\":\"https://api.github.com/users/{user}\",\"user_organizations_url\":\"https://api.github.com/user/orgs\",\"user_repositories_url\":\"https://api.github.com/users/{user}/repos{?type,page,per_page,sort}\",\"user_search_url\":\"https://api.github.com/search/users?q={query}{&page,per_page,sort,order}\"}'"
      ]
     },
     "execution_count": 4,
     "metadata": {},
     "output_type": "execute_result"
    }
   ],
   "source": [
    "payload # A string with valid json"
   ]
  },
  {
   "cell_type": "code",
   "execution_count": 5,
   "id": "68ef6c2d",
   "metadata": {},
   "outputs": [],
   "source": [
    "payload_dict = requests.get('https://api.github.com').json() # returns Python dict directly"
   ]
  },
  {
   "cell_type": "code",
   "execution_count": 6,
   "id": "feb32d50",
   "metadata": {},
   "outputs": [
    {
     "data": {
      "text/plain": [
       "dict"
      ]
     },
     "execution_count": 6,
     "metadata": {},
     "output_type": "execute_result"
    }
   ],
   "source": [
    "type(payload_dict)"
   ]
  },
  {
   "cell_type": "code",
   "execution_count": 7,
   "id": "b64df6d8",
   "metadata": {},
   "outputs": [
    {
     "data": {
      "text/plain": [
       "{'current_user_url': 'https://api.github.com/user',\n",
       " 'current_user_authorizations_html_url': 'https://github.com/settings/connections/applications{/client_id}',\n",
       " 'authorizations_url': 'https://api.github.com/authorizations',\n",
       " 'code_search_url': 'https://api.github.com/search/code?q={query}{&page,per_page,sort,order}',\n",
       " 'commit_search_url': 'https://api.github.com/search/commits?q={query}{&page,per_page,sort,order}',\n",
       " 'emails_url': 'https://api.github.com/user/emails',\n",
       " 'emojis_url': 'https://api.github.com/emojis',\n",
       " 'events_url': 'https://api.github.com/events',\n",
       " 'feeds_url': 'https://api.github.com/feeds',\n",
       " 'followers_url': 'https://api.github.com/user/followers',\n",
       " 'following_url': 'https://api.github.com/user/following{/target}',\n",
       " 'gists_url': 'https://api.github.com/gists{/gist_id}',\n",
       " 'hub_url': 'https://api.github.com/hub',\n",
       " 'issue_search_url': 'https://api.github.com/search/issues?q={query}{&page,per_page,sort,order}',\n",
       " 'issues_url': 'https://api.github.com/issues',\n",
       " 'keys_url': 'https://api.github.com/user/keys',\n",
       " 'label_search_url': 'https://api.github.com/search/labels?q={query}&repository_id={repository_id}{&page,per_page}',\n",
       " 'notifications_url': 'https://api.github.com/notifications',\n",
       " 'organization_url': 'https://api.github.com/orgs/{org}',\n",
       " 'organization_repositories_url': 'https://api.github.com/orgs/{org}/repos{?type,page,per_page,sort}',\n",
       " 'organization_teams_url': 'https://api.github.com/orgs/{org}/teams',\n",
       " 'public_gists_url': 'https://api.github.com/gists/public',\n",
       " 'rate_limit_url': 'https://api.github.com/rate_limit',\n",
       " 'repository_url': 'https://api.github.com/repos/{owner}/{repo}',\n",
       " 'repository_search_url': 'https://api.github.com/search/repositories?q={query}{&page,per_page,sort,order}',\n",
       " 'current_user_repositories_url': 'https://api.github.com/user/repos{?type,page,per_page,sort}',\n",
       " 'starred_url': 'https://api.github.com/user/starred{/owner}{/repo}',\n",
       " 'starred_gists_url': 'https://api.github.com/gists/starred',\n",
       " 'user_url': 'https://api.github.com/users/{user}',\n",
       " 'user_organizations_url': 'https://api.github.com/user/orgs',\n",
       " 'user_repositories_url': 'https://api.github.com/users/{user}/repos{?type,page,per_page,sort}',\n",
       " 'user_search_url': 'https://api.github.com/search/users?q={query}{&page,per_page,sort,order}'}"
      ]
     },
     "execution_count": 7,
     "metadata": {},
     "output_type": "execute_result"
    }
   ],
   "source": [
    "payload_dict # It is of type dict"
   ]
  },
  {
   "cell_type": "code",
   "execution_count": 8,
   "id": "a83aa377",
   "metadata": {},
   "outputs": [
    {
     "data": {
      "text/plain": [
       "dict_keys(['current_user_url', 'current_user_authorizations_html_url', 'authorizations_url', 'code_search_url', 'commit_search_url', 'emails_url', 'emojis_url', 'events_url', 'feeds_url', 'followers_url', 'following_url', 'gists_url', 'hub_url', 'issue_search_url', 'issues_url', 'keys_url', 'label_search_url', 'notifications_url', 'organization_url', 'organization_repositories_url', 'organization_teams_url', 'public_gists_url', 'rate_limit_url', 'repository_url', 'repository_search_url', 'current_user_repositories_url', 'starred_url', 'starred_gists_url', 'user_url', 'user_organizations_url', 'user_repositories_url', 'user_search_url'])"
      ]
     },
     "execution_count": 8,
     "metadata": {},
     "output_type": "execute_result"
    }
   ],
   "source": [
    "payload_dict.keys()"
   ]
  },
  {
   "cell_type": "code",
   "execution_count": 9,
   "id": "b4e82a79",
   "metadata": {},
   "outputs": [
    {
     "data": {
      "text/plain": [
       "dict_values(['https://api.github.com/user', 'https://github.com/settings/connections/applications{/client_id}', 'https://api.github.com/authorizations', 'https://api.github.com/search/code?q={query}{&page,per_page,sort,order}', 'https://api.github.com/search/commits?q={query}{&page,per_page,sort,order}', 'https://api.github.com/user/emails', 'https://api.github.com/emojis', 'https://api.github.com/events', 'https://api.github.com/feeds', 'https://api.github.com/user/followers', 'https://api.github.com/user/following{/target}', 'https://api.github.com/gists{/gist_id}', 'https://api.github.com/hub', 'https://api.github.com/search/issues?q={query}{&page,per_page,sort,order}', 'https://api.github.com/issues', 'https://api.github.com/user/keys', 'https://api.github.com/search/labels?q={query}&repository_id={repository_id}{&page,per_page}', 'https://api.github.com/notifications', 'https://api.github.com/orgs/{org}', 'https://api.github.com/orgs/{org}/repos{?type,page,per_page,sort}', 'https://api.github.com/orgs/{org}/teams', 'https://api.github.com/gists/public', 'https://api.github.com/rate_limit', 'https://api.github.com/repos/{owner}/{repo}', 'https://api.github.com/search/repositories?q={query}{&page,per_page,sort,order}', 'https://api.github.com/user/repos{?type,page,per_page,sort}', 'https://api.github.com/user/starred{/owner}{/repo}', 'https://api.github.com/gists/starred', 'https://api.github.com/users/{user}', 'https://api.github.com/user/orgs', 'https://api.github.com/users/{user}/repos{?type,page,per_page,sort}', 'https://api.github.com/search/users?q={query}{&page,per_page,sort,order}'])"
      ]
     },
     "execution_count": 9,
     "metadata": {},
     "output_type": "execute_result"
    }
   ],
   "source": [
    "payload_dict.values()"
   ]
  },
  {
   "cell_type": "code",
   "execution_count": 10,
   "id": "44f920da",
   "metadata": {},
   "outputs": [
    {
     "data": {
      "text/plain": [
       "'https://api.github.com/user'"
      ]
     },
     "execution_count": 10,
     "metadata": {},
     "output_type": "execute_result"
    }
   ],
   "source": [
    "payload_dict['current_user_url']"
   ]
  },
  {
   "cell_type": "markdown",
   "id": "a8025353",
   "metadata": {},
   "source": [
    "* Example for JSON Array to `list`."
   ]
  },
  {
   "cell_type": "code",
   "execution_count": null,
   "id": "04a7b1e0",
   "metadata": {},
   "outputs": [],
   "source": [
    "!curl https://api.github.com/users/dgadiraju/repos"
   ]
  },
  {
   "cell_type": "code",
   "execution_count": 12,
   "id": "9b43a124",
   "metadata": {},
   "outputs": [],
   "source": [
    "import requests"
   ]
  },
  {
   "cell_type": "code",
   "execution_count": 13,
   "id": "d6f0e3e0",
   "metadata": {},
   "outputs": [],
   "source": [
    "url = \"https://api.github.com/users/dgadiraju/repos\""
   ]
  },
  {
   "cell_type": "code",
   "execution_count": 14,
   "id": "7cedb27c",
   "metadata": {},
   "outputs": [
    {
     "data": {
      "text/plain": [
       "str"
      ]
     },
     "execution_count": 14,
     "metadata": {},
     "output_type": "execute_result"
    }
   ],
   "source": [
    "type(url)"
   ]
  },
  {
   "cell_type": "code",
   "execution_count": 15,
   "id": "7d074b50",
   "metadata": {},
   "outputs": [],
   "source": [
    "response = requests.get(url)"
   ]
  },
  {
   "cell_type": "code",
   "execution_count": 16,
   "id": "0dc44eca",
   "metadata": {},
   "outputs": [
    {
     "data": {
      "text/plain": [
       "requests.models.Response"
      ]
     },
     "execution_count": 16,
     "metadata": {},
     "output_type": "execute_result"
    }
   ],
   "source": [
    "type(response)"
   ]
  },
  {
   "cell_type": "code",
   "execution_count": null,
   "id": "a7ef4492",
   "metadata": {},
   "outputs": [],
   "source": [
    "response.json()"
   ]
  },
  {
   "cell_type": "code",
   "execution_count": 18,
   "id": "06383f47",
   "metadata": {},
   "outputs": [],
   "source": [
    "repos = response.json()"
   ]
  },
  {
   "cell_type": "code",
   "execution_count": 19,
   "id": "68de2aa0",
   "metadata": {},
   "outputs": [
    {
     "data": {
      "text/plain": [
       "list"
      ]
     },
     "execution_count": 19,
     "metadata": {},
     "output_type": "execute_result"
    }
   ],
   "source": [
    "type(repos)"
   ]
  },
  {
   "cell_type": "code",
   "execution_count": 20,
   "id": "5b3c7a8b",
   "metadata": {},
   "outputs": [
    {
     "data": {
      "text/plain": [
       "30"
      ]
     },
     "execution_count": 20,
     "metadata": {},
     "output_type": "execute_result"
    }
   ],
   "source": [
    "len(repos)"
   ]
  },
  {
   "cell_type": "code",
   "execution_count": 21,
   "id": "2aed3841",
   "metadata": {},
   "outputs": [
    {
     "data": {
      "text/plain": [
       "{'id': 353113931,\n",
       " 'node_id': 'MDEwOlJlcG9zaXRvcnkzNTMxMTM5MzE=',\n",
       " 'name': 'airflow-dags',\n",
       " 'full_name': 'dgadiraju/airflow-dags',\n",
       " 'private': False,\n",
       " 'owner': {'login': 'dgadiraju',\n",
       "  'id': 6260409,\n",
       "  'node_id': 'MDQ6VXNlcjYyNjA0MDk=',\n",
       "  'avatar_url': 'https://avatars.githubusercontent.com/u/6260409?v=4',\n",
       "  'gravatar_id': '',\n",
       "  'url': 'https://api.github.com/users/dgadiraju',\n",
       "  'html_url': 'https://github.com/dgadiraju',\n",
       "  'followers_url': 'https://api.github.com/users/dgadiraju/followers',\n",
       "  'following_url': 'https://api.github.com/users/dgadiraju/following{/other_user}',\n",
       "  'gists_url': 'https://api.github.com/users/dgadiraju/gists{/gist_id}',\n",
       "  'starred_url': 'https://api.github.com/users/dgadiraju/starred{/owner}{/repo}',\n",
       "  'subscriptions_url': 'https://api.github.com/users/dgadiraju/subscriptions',\n",
       "  'organizations_url': 'https://api.github.com/users/dgadiraju/orgs',\n",
       "  'repos_url': 'https://api.github.com/users/dgadiraju/repos',\n",
       "  'events_url': 'https://api.github.com/users/dgadiraju/events{/privacy}',\n",
       "  'received_events_url': 'https://api.github.com/users/dgadiraju/received_events',\n",
       "  'type': 'User',\n",
       "  'site_admin': False},\n",
       " 'html_url': 'https://github.com/dgadiraju/airflow-dags',\n",
       " 'description': None,\n",
       " 'fork': True,\n",
       " 'url': 'https://api.github.com/repos/dgadiraju/airflow-dags',\n",
       " 'forks_url': 'https://api.github.com/repos/dgadiraju/airflow-dags/forks',\n",
       " 'keys_url': 'https://api.github.com/repos/dgadiraju/airflow-dags/keys{/key_id}',\n",
       " 'collaborators_url': 'https://api.github.com/repos/dgadiraju/airflow-dags/collaborators{/collaborator}',\n",
       " 'teams_url': 'https://api.github.com/repos/dgadiraju/airflow-dags/teams',\n",
       " 'hooks_url': 'https://api.github.com/repos/dgadiraju/airflow-dags/hooks',\n",
       " 'issue_events_url': 'https://api.github.com/repos/dgadiraju/airflow-dags/issues/events{/number}',\n",
       " 'events_url': 'https://api.github.com/repos/dgadiraju/airflow-dags/events',\n",
       " 'assignees_url': 'https://api.github.com/repos/dgadiraju/airflow-dags/assignees{/user}',\n",
       " 'branches_url': 'https://api.github.com/repos/dgadiraju/airflow-dags/branches{/branch}',\n",
       " 'tags_url': 'https://api.github.com/repos/dgadiraju/airflow-dags/tags',\n",
       " 'blobs_url': 'https://api.github.com/repos/dgadiraju/airflow-dags/git/blobs{/sha}',\n",
       " 'git_tags_url': 'https://api.github.com/repos/dgadiraju/airflow-dags/git/tags{/sha}',\n",
       " 'git_refs_url': 'https://api.github.com/repos/dgadiraju/airflow-dags/git/refs{/sha}',\n",
       " 'trees_url': 'https://api.github.com/repos/dgadiraju/airflow-dags/git/trees{/sha}',\n",
       " 'statuses_url': 'https://api.github.com/repos/dgadiraju/airflow-dags/statuses/{sha}',\n",
       " 'languages_url': 'https://api.github.com/repos/dgadiraju/airflow-dags/languages',\n",
       " 'stargazers_url': 'https://api.github.com/repos/dgadiraju/airflow-dags/stargazers',\n",
       " 'contributors_url': 'https://api.github.com/repos/dgadiraju/airflow-dags/contributors',\n",
       " 'subscribers_url': 'https://api.github.com/repos/dgadiraju/airflow-dags/subscribers',\n",
       " 'subscription_url': 'https://api.github.com/repos/dgadiraju/airflow-dags/subscription',\n",
       " 'commits_url': 'https://api.github.com/repos/dgadiraju/airflow-dags/commits{/sha}',\n",
       " 'git_commits_url': 'https://api.github.com/repos/dgadiraju/airflow-dags/git/commits{/sha}',\n",
       " 'comments_url': 'https://api.github.com/repos/dgadiraju/airflow-dags/comments{/number}',\n",
       " 'issue_comment_url': 'https://api.github.com/repos/dgadiraju/airflow-dags/issues/comments{/number}',\n",
       " 'contents_url': 'https://api.github.com/repos/dgadiraju/airflow-dags/contents/{+path}',\n",
       " 'compare_url': 'https://api.github.com/repos/dgadiraju/airflow-dags/compare/{base}...{head}',\n",
       " 'merges_url': 'https://api.github.com/repos/dgadiraju/airflow-dags/merges',\n",
       " 'archive_url': 'https://api.github.com/repos/dgadiraju/airflow-dags/{archive_format}{/ref}',\n",
       " 'downloads_url': 'https://api.github.com/repos/dgadiraju/airflow-dags/downloads',\n",
       " 'issues_url': 'https://api.github.com/repos/dgadiraju/airflow-dags/issues{/number}',\n",
       " 'pulls_url': 'https://api.github.com/repos/dgadiraju/airflow-dags/pulls{/number}',\n",
       " 'milestones_url': 'https://api.github.com/repos/dgadiraju/airflow-dags/milestones{/number}',\n",
       " 'notifications_url': 'https://api.github.com/repos/dgadiraju/airflow-dags/notifications{?since,all,participating}',\n",
       " 'labels_url': 'https://api.github.com/repos/dgadiraju/airflow-dags/labels{/name}',\n",
       " 'releases_url': 'https://api.github.com/repos/dgadiraju/airflow-dags/releases{/id}',\n",
       " 'deployments_url': 'https://api.github.com/repos/dgadiraju/airflow-dags/deployments',\n",
       " 'created_at': '2021-03-30T19:11:04Z',\n",
       " 'updated_at': '2021-03-30T20:51:57Z',\n",
       " 'pushed_at': '2021-03-30T20:51:55Z',\n",
       " 'git_url': 'git://github.com/dgadiraju/airflow-dags.git',\n",
       " 'ssh_url': 'git@github.com:dgadiraju/airflow-dags.git',\n",
       " 'clone_url': 'https://github.com/dgadiraju/airflow-dags.git',\n",
       " 'svn_url': 'https://github.com/dgadiraju/airflow-dags',\n",
       " 'homepage': None,\n",
       " 'size': 4,\n",
       " 'stargazers_count': 0,\n",
       " 'watchers_count': 0,\n",
       " 'language': 'Python',\n",
       " 'has_issues': False,\n",
       " 'has_projects': True,\n",
       " 'has_downloads': True,\n",
       " 'has_wiki': True,\n",
       " 'has_pages': False,\n",
       " 'forks_count': 1,\n",
       " 'mirror_url': None,\n",
       " 'archived': False,\n",
       " 'disabled': False,\n",
       " 'open_issues_count': 0,\n",
       " 'license': None,\n",
       " 'forks': 1,\n",
       " 'open_issues': 0,\n",
       " 'watchers': 0,\n",
       " 'default_branch': 'master'}"
      ]
     },
     "execution_count": 21,
     "metadata": {},
     "output_type": "execute_result"
    }
   ],
   "source": [
    "repos[0]"
   ]
  },
  {
   "cell_type": "code",
   "execution_count": 22,
   "id": "125cdb97",
   "metadata": {},
   "outputs": [
    {
     "data": {
      "text/plain": [
       "['airflow-dags',\n",
       " 'airflow-eks-config',\n",
       " 'airflow-eks-docker',\n",
       " 'bigdatalabs',\n",
       " 'bypr',\n",
       " 'ccdemo',\n",
       " 'charts',\n",
       " 'clive-demo',\n",
       " 'code',\n",
       " 'data',\n",
       " 'data-copier',\n",
       " 'data-copier-live',\n",
       " 'demomr',\n",
       " 'dgadiraju.github.io',\n",
       " 'dockit',\n",
       " 'dockit-core',\n",
       " 'etl-demo',\n",
       " 'Fargate-ECSCluster-Cloudformation',\n",
       " 'flask-biy-profile',\n",
       " 'gen-logs-python3',\n",
       " 'gen_logs',\n",
       " 'gmail-puller',\n",
       " 'hr_db',\n",
       " 'itversity',\n",
       " 'itversity-books',\n",
       " 'itversity-boxes',\n",
       " 'java-spark-exercises',\n",
       " 'jupyter-book',\n",
       " 'jupyter-docker-stacks',\n",
       " 'kafka-ansible-roles-playbook']"
      ]
     },
     "execution_count": 22,
     "metadata": {},
     "output_type": "execute_result"
    }
   ],
   "source": [
    "# Get names of the repos\n",
    "list(map(lambda repo: repo['name'], repos))"
   ]
  },
  {
   "cell_type": "code",
   "execution_count": 24,
   "id": "ea81ea7f",
   "metadata": {},
   "outputs": [
    {
     "data": {
      "text/plain": [
       "[('airflow-dags', 'https://api.github.com/repos/dgadiraju/airflow-dags'),\n",
       " ('airflow-eks-config',\n",
       "  'https://api.github.com/repos/dgadiraju/airflow-eks-config'),\n",
       " ('airflow-eks-docker',\n",
       "  'https://api.github.com/repos/dgadiraju/airflow-eks-docker'),\n",
       " ('bigdatalabs', 'https://api.github.com/repos/dgadiraju/bigdatalabs'),\n",
       " ('bypr', 'https://api.github.com/repos/dgadiraju/bypr'),\n",
       " ('ccdemo', 'https://api.github.com/repos/dgadiraju/ccdemo'),\n",
       " ('charts', 'https://api.github.com/repos/dgadiraju/charts'),\n",
       " ('clive-demo', 'https://api.github.com/repos/dgadiraju/clive-demo'),\n",
       " ('code', 'https://api.github.com/repos/dgadiraju/code'),\n",
       " ('data', 'https://api.github.com/repos/dgadiraju/data'),\n",
       " ('data-copier', 'https://api.github.com/repos/dgadiraju/data-copier'),\n",
       " ('data-copier-live',\n",
       "  'https://api.github.com/repos/dgadiraju/data-copier-live'),\n",
       " ('demomr', 'https://api.github.com/repos/dgadiraju/demomr'),\n",
       " ('dgadiraju.github.io',\n",
       "  'https://api.github.com/repos/dgadiraju/dgadiraju.github.io'),\n",
       " ('dockit', 'https://api.github.com/repos/dgadiraju/dockit'),\n",
       " ('dockit-core', 'https://api.github.com/repos/dgadiraju/dockit-core'),\n",
       " ('etl-demo', 'https://api.github.com/repos/dgadiraju/etl-demo'),\n",
       " ('Fargate-ECSCluster-Cloudformation',\n",
       "  'https://api.github.com/repos/dgadiraju/Fargate-ECSCluster-Cloudformation'),\n",
       " ('flask-biy-profile',\n",
       "  'https://api.github.com/repos/dgadiraju/flask-biy-profile'),\n",
       " ('gen-logs-python3',\n",
       "  'https://api.github.com/repos/dgadiraju/gen-logs-python3'),\n",
       " ('gen_logs', 'https://api.github.com/repos/dgadiraju/gen_logs'),\n",
       " ('gmail-puller', 'https://api.github.com/repos/dgadiraju/gmail-puller'),\n",
       " ('hr_db', 'https://api.github.com/repos/dgadiraju/hr_db'),\n",
       " ('itversity', 'https://api.github.com/repos/dgadiraju/itversity'),\n",
       " ('itversity-books', 'https://api.github.com/repos/dgadiraju/itversity-books'),\n",
       " ('itversity-boxes', 'https://api.github.com/repos/dgadiraju/itversity-boxes'),\n",
       " ('java-spark-exercises',\n",
       "  'https://api.github.com/repos/dgadiraju/java-spark-exercises'),\n",
       " ('jupyter-book', 'https://api.github.com/repos/dgadiraju/jupyter-book'),\n",
       " ('jupyter-docker-stacks',\n",
       "  'https://api.github.com/repos/dgadiraju/jupyter-docker-stacks'),\n",
       " ('kafka-ansible-roles-playbook',\n",
       "  'https://api.github.com/repos/dgadiraju/kafka-ansible-roles-playbook')]"
      ]
     },
     "execution_count": 24,
     "metadata": {},
     "output_type": "execute_result"
    }
   ],
   "source": [
    "list(map(lambda repo: (repo['name'], repo['url']), repos))"
   ]
  },
  {
   "cell_type": "code",
   "execution_count": null,
   "id": "8173d6e8",
   "metadata": {},
   "outputs": [],
   "source": []
  }
 ],
 "metadata": {
  "kernelspec": {
   "display_name": "Python 3",
   "language": "python",
   "name": "python3"
  },
  "language_info": {
   "codemirror_mode": {
    "name": "ipython",
    "version": 3
   },
   "file_extension": ".py",
   "mimetype": "text/x-python",
   "name": "python",
   "nbconvert_exporter": "python",
   "pygments_lexer": "ipython3",
   "version": "3.6.12"
  }
 },
 "nbformat": 4,
 "nbformat_minor": 5
}
