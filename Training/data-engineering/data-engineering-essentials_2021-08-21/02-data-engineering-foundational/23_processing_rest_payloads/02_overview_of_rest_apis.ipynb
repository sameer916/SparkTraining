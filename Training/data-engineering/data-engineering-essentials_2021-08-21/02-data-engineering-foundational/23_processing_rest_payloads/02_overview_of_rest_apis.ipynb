{
 "cells": [
  {
   "cell_type": "markdown",
   "id": "a94e5edb",
   "metadata": {},
   "source": [
    "## Overview of REST APIs\n",
    "\n",
    "Let us get an overview of REST APIs. REST based APIs are extensively used for building large scale applications.\n",
    "* REST stands for **Representational State Transfer**.\n",
    "* It is extensively used to build modern applications as it simplifies the process of building complex and large scale applications.\n",
    "* Here are the use cases where REST APIs are extensively used.\n",
    "  * Mobile applications\n",
    "  * Web applications\n",
    "  * Data integration between multiple applications\n",
    "* For mobile and web applications, we typically develop frontend and backend separately and integrate them over REST.\n",
    "* Here are the commonly used REST based requests.\n",
    "  * GET - Get the data from the backend\n",
    "  * POST - Insert or update the data in the backend\n",
    "  * PUT - Update the data in the backend\n",
    "  * DELETE - Delete the data in the backend\n",
    "* As part of data engineering projects, we typically use REST to get the data from external applications.\n",
    "* If required, we can take care of authentication and authorization by leveraging **Headers** while placing the requests.\n",
    "* Let us see an example using GitHub REST APIs. As a developer you might want to do the following:\n",
    "  * Get your repositories or public repositories. You can place **GET** request from external applications.\n",
    "  * Create a new repository under your GitHub Account. You can place **POST** request from external application.\n",
    "  * Delete an existing repository under your GitHub Account. You can place **DELETE** request form external application.\n",
    "* Here are different ways you can validate REST APIs without getting into programming.\n",
    "  * Using browser (it might not work for complex requests)\n",
    "  * Using `curl` command.\n",
    "  * Using a client based utility called as **postman**."
   ]
  },
  {
   "cell_type": "code",
   "execution_count": 1,
   "id": "40c1f1f1",
   "metadata": {},
   "outputs": [
    {
     "name": "stdout",
     "output_type": "stream",
     "text": [
      "{\"current_user_url\":\"https://api.github.com/user\",\"current_user_authorizations_html_url\":\"https://github.com/settings/connections/applications{/client_id}\",\"authorizations_url\":\"https://api.github.com/authorizations\",\"code_search_url\":\"https://api.github.com/search/code?q={query}{&page,per_page,sort,order}\",\"commit_search_url\":\"https://api.github.com/search/commits?q={query}{&page,per_page,sort,order}\",\"emails_url\":\"https://api.github.com/user/emails\",\"emojis_url\":\"https://api.github.com/emojis\",\"events_url\":\"https://api.github.com/events\",\"feeds_url\":\"https://api.github.com/feeds\",\"followers_url\":\"https://api.github.com/user/followers\",\"following_url\":\"https://api.github.com/user/following{/target}\",\"gists_url\":\"https://api.github.com/gists{/gist_id}\",\"hub_url\":\"https://api.github.com/hub\",\"issue_search_url\":\"https://api.github.com/search/issues?q={query}{&page,per_page,sort,order}\",\"issues_url\":\"https://api.github.com/issues\",\"keys_url\":\"https://api.github.com/user/keys\",\"label_search_url\":\"https://api.github.com/search/labels?q={query}&repository_id={repository_id}{&page,per_page}\",\"notifications_url\":\"https://api.github.com/notifications\",\"organization_url\":\"https://api.github.com/orgs/{org}\",\"organization_repositories_url\":\"https://api.github.com/orgs/{org}/repos{?type,page,per_page,sort}\",\"organization_teams_url\":\"https://api.github.com/orgs/{org}/teams\",\"public_gists_url\":\"https://api.github.com/gists/public\",\"rate_limit_url\":\"https://api.github.com/rate_limit\",\"repository_url\":\"https://api.github.com/repos/{owner}/{repo}\",\"repository_search_url\":\"https://api.github.com/search/repositories?q={query}{&page,per_page,sort,order}\",\"current_user_repositories_url\":\"https://api.github.com/user/repos{?type,page,per_page,sort}\",\"starred_url\":\"https://api.github.com/user/starred{/owner}{/repo}\",\"starred_gists_url\":\"https://api.github.com/gists/starred\",\"user_url\":\"https://api.github.com/users/{user}\",\"user_organizations_url\":\"https://api.github.com/user/orgs\",\"user_repositories_url\":\"https://api.github.com/users/{user}/repos{?type,page,per_page,sort}\",\"user_search_url\":\"https://api.github.com/search/users?q={query}{&page,per_page,sort,order}\"}"
     ]
    }
   ],
   "source": [
    "!curl https://api.github.com"
   ]
  },
  {
   "cell_type": "code",
   "execution_count": null,
   "id": "64801b66",
   "metadata": {},
   "outputs": [],
   "source": []
  }
 ],
 "metadata": {
  "kernelspec": {
   "display_name": "Python 3",
   "language": "python",
   "name": "python3"
  },
  "language_info": {
   "codemirror_mode": {
    "name": "ipython",
    "version": 3
   },
   "file_extension": ".py",
   "mimetype": "text/x-python",
   "name": "python",
   "nbconvert_exporter": "python",
   "pygments_lexer": "ipython3",
   "version": "3.6.12"
  }
 },
 "nbformat": 4,
 "nbformat_minor": 5
}
