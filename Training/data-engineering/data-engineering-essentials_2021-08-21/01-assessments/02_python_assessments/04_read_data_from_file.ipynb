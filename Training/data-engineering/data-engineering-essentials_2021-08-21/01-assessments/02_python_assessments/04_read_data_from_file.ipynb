{
 "cells": [
  {
   "cell_type": "markdown",
   "id": "16da1d4b",
   "metadata": {},
   "source": [
    "## Read Data from file\n",
    "\n",
    "Develop logic to read the data from tab delimited file into list of tuples.\n",
    "* The file which you are supposed to use is **03_courses.csv** in the current folder.\n",
    "* It is a text file where lines are delimited by new line character.\n",
    "* Each line contain data for multiple attributes related to courses table. Each attribute value in each line is separated by '\\t' (tab) character.\n",
    "* You need to develop a function which will return list of tuples with all the values from the file.\n",
    "\n",
    "**Hint: Using Pandas or csv will facilitate you to come up with the solution faster**"
   ]
  },
  {
   "cell_type": "code",
   "execution_count": 4,
   "id": "2f28f004",
   "metadata": {},
   "outputs": [],
   "source": [
    "# Provide the solution here\n",
    "import pandas as pd\n",
    "\n",
    "def get_courses(path):\n",
    "    courses_df=pd.read_csv(path,delimiter='\\t')\n",
    "    courses=[tuple(x) for x in courses_df.values]\n",
    "    return courses"
   ]
  },
  {
   "cell_type": "code",
   "execution_count": 5,
   "id": "712c6bf2",
   "metadata": {},
   "outputs": [],
   "source": [
    "courses = get_courses('03_courses.csv')"
   ]
  },
  {
   "cell_type": "code",
   "execution_count": 6,
   "id": "61e9d87c",
   "metadata": {},
   "outputs": [
    {
     "data": {
      "text/plain": [
       "list"
      ]
     },
     "execution_count": 6,
     "metadata": {},
     "output_type": "execute_result"
    }
   ],
   "source": [
    "type(courses) # should be list"
   ]
  },
  {
   "cell_type": "code",
   "execution_count": 7,
   "id": "75a1ca19",
   "metadata": {},
   "outputs": [
    {
     "data": {
      "text/plain": [
       "12"
      ]
     },
     "execution_count": 7,
     "metadata": {},
     "output_type": "execute_result"
    }
   ],
   "source": [
    "len(courses) # should be 12"
   ]
  },
  {
   "cell_type": "code",
   "execution_count": 8,
   "id": "1a669fce",
   "metadata": {},
   "outputs": [
    {
     "data": {
      "text/plain": [
       "('Programming using Python', 'Bob Dillon', 'published', '2020-09-30')"
      ]
     },
     "execution_count": 8,
     "metadata": {},
     "output_type": "execute_result"
    }
   ],
   "source": [
    "courses[0] # Output: ('Programming using Python', 'Bob Dillon', 'published', '2020-09-30')"
   ]
  },
  {
   "cell_type": "code",
   "execution_count": 9,
   "id": "5957ef19",
   "metadata": {},
   "outputs": [
    {
     "data": {
      "text/plain": [
       "tuple"
      ]
     },
     "execution_count": 9,
     "metadata": {},
     "output_type": "execute_result"
    }
   ],
   "source": [
    "type(courses[0]) # tuple"
   ]
  },
  {
   "cell_type": "code",
   "execution_count": null,
   "id": "c5e25a16",
   "metadata": {},
   "outputs": [],
   "source": []
  }
 ],
 "metadata": {
  "kernelspec": {
   "display_name": "Python 3",
   "language": "python",
   "name": "python3"
  },
  "language_info": {
   "codemirror_mode": {
    "name": "ipython",
    "version": 3
   },
   "file_extension": ".py",
   "mimetype": "text/x-python",
   "name": "python",
   "nbconvert_exporter": "python",
   "pygments_lexer": "ipython3",
   "version": "3.6.12"
  }
 },
 "nbformat": 4,
 "nbformat_minor": 5
}
