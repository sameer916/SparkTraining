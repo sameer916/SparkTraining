{
 "cells": [
  {
   "cell_type": "markdown",
   "metadata": {},
   "source": [
    "## Exercises - Basic SQL Queries\n",
    "\n",
    "Here are some of the exercises for which you can write SQL queries to self evaluate."
   ]
  },
  {
   "cell_type": "markdown",
   "metadata": {},
   "source": [
    "Let us start spark context for this Notebook so that we can execute the code provided. You can sign up for our [10 node state of the art cluster/labs](https://labs.itversity.com/plans) to learn Spark SQL using our unique integrated LMS."
   ]
  },
  {
   "cell_type": "code",
   "execution_count": 1,
   "metadata": {},
   "outputs": [
    {
     "data": {
      "text/plain": [
       "username = itv001477\n"
      ]
     },
     "metadata": {},
     "output_type": "display_data",
     "source": "user"
    },
    {
     "data": {
      "text/plain": [
       "itv001477"
      ]
     },
     "execution_count": 1,
     "metadata": {},
     "output_type": "execute_result"
    }
   ],
   "source": [
    "val username = System.getProperty(\"user.name\")"
   ]
  },
  {
   "cell_type": "code",
   "execution_count": 2,
   "metadata": {},
   "outputs": [
    {
     "data": {
      "text/plain": [
       "username = itv001477\n",
       "spark = org.apache.spark.sql.SparkSession@55cc6f38\n"
      ]
     },
     "metadata": {},
     "output_type": "display_data",
     "source": "user"
    },
    {
     "data": {
      "text/plain": [
       "org.apache.spark.sql.SparkSession@55cc6f38"
      ]
     },
     "execution_count": 2,
     "metadata": {},
     "output_type": "execute_result"
    }
   ],
   "source": [
    "import org.apache.spark.sql.SparkSession\n",
    "\n",
    "val username = System.getProperty(\"user.name\")\n",
    "val spark = SparkSession.\n",
    "    builder.\n",
    "    config(\"spark.ui.port\", \"0\").\n",
    "    config(\"spark.sql.warehouse.dir\", s\"/user/${username}/warehouse\").\n",
    "    enableHiveSupport.\n",
    "    appName(s\"${username} | Spark SQL - Basic Transformations\").\n",
    "    master(\"yarn\").\n",
    "    getOrCreate"
   ]
  },
  {
   "cell_type": "markdown",
   "metadata": {},
   "source": [
    "If you are going to use CLIs, you can use Spark SQL using one of the 3 approaches.\n",
    "\n",
    "**Using Spark SQL**\n",
    "\n",
    "```\n",
    "spark2-sql \\\n",
    "    --master yarn \\\n",
    "    --conf spark.ui.port=0 \\\n",
    "    --conf spark.sql.warehouse.dir=/user/${USER}/warehouse\n",
    "```\n",
    "\n",
    "**Using Scala**\n",
    "\n",
    "```\n",
    "spark2-shell \\\n",
    "    --master yarn \\\n",
    "    --conf spark.ui.port=0 \\\n",
    "    --conf spark.sql.warehouse.dir=/user/${USER}/warehouse\n",
    "```\n",
    "\n",
    "**Using Pyspark**\n",
    "\n",
    "```\n",
    "pyspark2 \\\n",
    "    --master yarn \\\n",
    "    --conf spark.ui.port=0 \\\n",
    "    --conf spark.sql.warehouse.dir=/user/${USER}/warehouse\n",
    "```"
   ]
  },
  {
   "cell_type": "code",
   "execution_count": null,
   "metadata": {},
   "outputs": [],
   "source": [
    "%%sql\n",
    "CREATE DATABASE itv001477_retail_db"
   ]
  },
  {
   "cell_type": "code",
   "execution_count": 3,
   "metadata": {},
   "outputs": [
    {
     "data": {
      "text/plain": [
       "Waiting for a Spark session to start..."
      ]
     },
     "metadata": {},
     "output_type": "display_data",
     "source": "user"
    },
    {
     "data": {
      "text/plain": [
       "++\n",
       "||\n",
       "++\n",
       "++\n",
       "\n"
      ]
     },
     "execution_count": 3,
     "metadata": {},
     "output_type": "execute_result"
    }
   ],
   "source": [
    "%%sql\n",
    "USE itv001477_retail_db"
   ]
  },
  {
   "cell_type": "code",
   "execution_count": null,
   "metadata": {},
   "outputs": [],
   "source": [
    "%%sql\n",
    "CREATE TABLE orders (\n",
    "    order_id INT,\n",
    "    order_date STRING,\n",
    "    order_customer_id INT,\n",
    "    order_status STRING\n",
    ") ROW FORMAT DELIMITED FIELDS TERMINATED BY ','"
   ]
  },
  {
   "cell_type": "code",
   "execution_count": null,
   "metadata": {},
   "outputs": [],
   "source": [
    "%%sql\n",
    "LOAD DATA LOCAL INPATH '/data/retail_db/orders' INTO TABLE orders"
   ]
  },
  {
   "cell_type": "code",
   "execution_count": null,
   "metadata": {},
   "outputs": [],
   "source": [
    "%%sql\n",
    "select * from orders"
   ]
  },
  {
   "cell_type": "code",
   "execution_count": null,
   "metadata": {},
   "outputs": [],
   "source": [
    "%%sql\n",
    "CREATE TABLE customers(\n",
    " customer_id int, \n",
    " customer_fname STRING, \n",
    " customer_lname STRING, \n",
    " customer_email STRING, \n",
    " customer_password STRING, \n",
    " customer_street STRING, \n",
    " customer_city STRING,\n",
    " customer_state STRING,\n",
    " customer_zipcode STRING \n",
    ") ROW FORMAT DELIMITED FIELDS TERMINATED BY ','"
   ]
  },
  {
   "cell_type": "code",
   "execution_count": null,
   "metadata": {},
   "outputs": [],
   "source": [
    "%%sql\n",
    "LOAD DATA LOCAL INPATH '/data/retail_db/customers' INTO TABLE customers"
   ]
  },
  {
   "cell_type": "code",
   "execution_count": null,
   "metadata": {},
   "outputs": [],
   "source": [
    "%%sql\n",
    "select * from customers"
   ]
  },
  {
   "cell_type": "code",
   "execution_count": null,
   "metadata": {},
   "outputs": [],
   "source": [
    "%%sql\n",
    "CREATE TABLE order_items(\n",
    " order_item_id int,\n",
    " order_item_order_id int, \n",
    " order_item_product_id int,\n",
    " order_item_quantity int,\n",
    " order_item_subtotal double, \n",
    " order_item_product_price double\n",
    ") ROW FORMAT DELIMITED FIELDS TERMINATED BY ','"
   ]
  },
  {
   "cell_type": "code",
   "execution_count": null,
   "metadata": {},
   "outputs": [],
   "source": [
    "%%sql\n",
    "LOAD DATA LOCAL INPATH '/data/retail_db/order_items' INTO TABLE order_items"
   ]
  },
  {
   "cell_type": "code",
   "execution_count": null,
   "metadata": {},
   "outputs": [],
   "source": [
    "%%sql\n",
    "select * from order_items"
   ]
  },
  {
   "cell_type": "code",
   "execution_count": null,
   "metadata": {},
   "outputs": [],
   "source": [
    "%%sql\n",
    "CREATE TABLE products(\n",
    "    product_id int,\n",
    " product_category_id int, \n",
    " product_name STRING,\n",
    " product_description STRING,\n",
    " product_price double, \n",
    " product_image STRING\n",
    ") ROW FORMAT DELIMITED FIELDS TERMINATED BY ','"
   ]
  },
  {
   "cell_type": "code",
   "execution_count": null,
   "metadata": {},
   "outputs": [],
   "source": [
    "%%sql\n",
    "LOAD DATA LOCAL INPATH '/data/retail_db/products' INTO TABLE products"
   ]
  },
  {
   "cell_type": "code",
   "execution_count": null,
   "metadata": {},
   "outputs": [],
   "source": [
    "%%sql\n",
    "select * from products"
   ]
  },
  {
   "cell_type": "code",
   "execution_count": null,
   "metadata": {},
   "outputs": [],
   "source": [
    "%%sql\n",
    "CREATE TABLE categories(\n",
    "    category_id int,\n",
    " category_department_id int, \n",
    " category_name STRING\n",
    ") ROW FORMAT DELIMITED FIELDS TERMINATED BY ','"
   ]
  },
  {
   "cell_type": "code",
   "execution_count": null,
   "metadata": {},
   "outputs": [],
   "source": [
    "%%sql\n",
    "LOAD DATA LOCAL INPATH '/data/retail_db/categories' INTO TABLE categories "
   ]
  },
  {
   "cell_type": "code",
   "execution_count": null,
   "metadata": {},
   "outputs": [],
   "source": [
    "%%sql\n",
    "CREATE TABLE departments(\n",
    "     department_id int,\n",
    " department_name string\n",
    ") ROW FORMAT DELIMITED FIELDS TERMINATED BY ','"
   ]
  },
  {
   "cell_type": "code",
   "execution_count": null,
   "metadata": {},
   "outputs": [],
   "source": [
    "%%sql\n",
    "LOAD DATA LOCAL INPATH '/data/retail_db/departments' INTO TABLE departments"
   ]
  },
  {
   "cell_type": "markdown",
   "metadata": {},
   "source": [
    "### Exercise 1 - Customer order count\n",
    "\n",
    "Get order count per customer for the month of 2014 January.\n",
    "* Tables - orders and customers\n",
    "* Data should be sorted in descending order by count and ascending order by customer id.\n",
    "* Output should contain customer_id, customer_first_name, customer_last_name and customer_order_count."
   ]
  },
  {
   "cell_type": "code",
   "execution_count": 5,
   "metadata": {},
   "outputs": [
    {
     "data": {
      "text/plain": [
       "| ...\n"
      ]
     },
     "metadata": {},
     "output_type": "display_data",
     "source": "user"
    },
    {
     "data": {
      "text/plain": [
       "+-----------+--------------+--------------+--------------------+\n",
       "|customer_id|customer_fname|customer_lname|customer_order_count|\n",
       "+-----------+--------------+--------------+--------------------+\n",
       "|          7|       Melissa|        Wilcox|                   4|\n",
       "|          8|         Megan|         Smith|                   2|\n",
       "|         13|          Mary|       Baldwin|                   1|\n",
       "|         14|     Katherine|         Smith|                   1|\n",
       "|         15|          Jane|          Luna|                   1|\n",
       "|         17|          Mary|      Robinson|                   1|\n",
       "|         18|        Robert|         Smith|                   2|\n",
       "|         24|          Mary|         Smith|                   2|\n",
       "|         26|        Johnny|          Hood|                   2|\n",
       "|         27|          Mary|       Vincent|                   1|\n",
       "+-----------+--------------+--------------+--------------------+\n",
       "only showing top 10 rows\n",
       "\n"
      ]
     },
     "execution_count": 5,
     "metadata": {},
     "output_type": "execute_result"
    }
   ],
   "source": [
    "%%sql\n",
    "SELECT c.customer_id,c.customer_fname,c.customer_lname,count(o.order_id) as customer_order_count from orders o\n",
    "JOIN customers c on c.customer_id=o.order_customer_id\n",
    "WHERE o.order_date LIKE '2014-01%'\n",
    "GROUP BY c.customer_id,c.customer_fname,c.customer_lname\n",
    "ORDER BY c.customer_id,customer_order_count desc\n"
   ]
  },
  {
   "cell_type": "markdown",
   "metadata": {},
   "source": [
    "### Exercise 2 - Dormant Customers\n",
    "\n",
    "Get the customer details who have not placed any order for the month of 2014 January.\n",
    "* Tables - orders and customers\n",
    "* Data should be sorted in ascending order by customer_id\n",
    "* Output should contain all the fields from customers"
   ]
  },
  {
   "cell_type": "code",
   "execution_count": 4,
   "metadata": {},
   "outputs": [
    {
     "data": {
      "text/plain": [
       "+-----------+--------------+--------------+--------------+-----------------+---------------+-------------+--------------+----------------+\n",
       "|customer_id|customer_fname|customer_lname|customer_email|customer_password|customer_street|customer_city|customer_state|customer_zipcode|\n",
       "+-----------+--------------+--------------+--------------+-----------------+---------------+-------------+--------------+----------------+\n",
       "+-----------+--------------+--------------+--------------+-----------------+---------------+-------------+--------------+----------------+\n",
       "\n"
      ]
     },
     "execution_count": 4,
     "metadata": {},
     "output_type": "execute_result"
    }
   ],
   "source": [
    "%%sql\n",
    "\n",
    "SELECT c.* from customers c\n",
    "LEFT OUTER JOIN orders o on c.customer_id= o.order_customer_id\n",
    "WHERE o.order_date LIKE '2014-01%' AND o.order_id IS NULL\n",
    "ORDER BY c.customer_id "
   ]
  },
  {
   "cell_type": "markdown",
   "metadata": {},
   "source": [
    "### Exercise 3 - Revenue Per Customer\n",
    "\n",
    "Get the revenue generated by each customer for the month of 2014 January\n",
    "* Tables - orders, order_items and customers\n",
    "* Data should be sorted in descending order by revenue and then ascending order by customer_id\n",
    "* Output should contain customer_id, customer_first_name, customer_last_name, customer_revenue.\n",
    "* If there are no orders placed by customer, then the corresponding revenue for a give customer should be 0.\n",
    "* Consider only COMPLETE and CLOSED orders"
   ]
  },
  {
   "cell_type": "code",
   "execution_count": 6,
   "metadata": {},
   "outputs": [
    {
     "data": {
      "text/plain": [
       "|         43|          Mary|       Herring|   ...\n"
      ]
     },
     "metadata": {},
     "output_type": "display_data",
     "source": "user"
    },
    {
     "data": {
      "text/plain": [
       "+-----------+--------------+--------------+----------------+\n",
       "|customer_id|customer_fname|customer_lname|customer_revenue|\n",
       "+-----------+--------------+--------------+----------------+\n",
       "|          8|         Megan|         Smith|          353.93|\n",
       "|         14|     Katherine|         Smith|          704.93|\n",
       "|         17|          Mary|      Robinson|          569.95|\n",
       "|         18|        Robert|         Smith|         1309.85|\n",
       "|         26|        Johnny|          Hood|          699.96|\n",
       "|         28|       Timothy|         Smith|           59.99|\n",
       "|         38|          Mary|         Smith|         1209.83|\n",
       "|         42|         Ethan|         Smith|          559.94|\n",
       "|         43|          Mary|       Herring|          119.98|\n",
       "|         51|       Jessica|         Smith|           59.99|\n",
       "+-----------+--------------+--------------+----------------+\n",
       "only showing top 10 rows\n",
       "\n"
      ]
     },
     "execution_count": 6,
     "metadata": {},
     "output_type": "execute_result"
    }
   ],
   "source": [
    "%%sql\n",
    "\n",
    "SELECT c.customer_id,c.customer_fname,c.customer_lname,COALESCE(round(sum(oi.order_item_subtotal),2),0) as customer_revenue\n",
    "FROM customers c\n",
    "LEFT OUTER JOIN orders o on o.order_customer_id=c.customer_id\n",
    "JOIN order_items oi on oi.order_item_order_id=o.order_id\n",
    "WHERE o.order_date LIKE '2014-01%' AND o.order_status IN ('COMPLETE','CLOSED')\n",
    "GROUP BY c.customer_id,c.customer_fname,c.customer_lname\n",
    "ORDER BY c.customer_id,customer_revenue desc"
   ]
  },
  {
   "cell_type": "markdown",
   "metadata": {},
   "source": [
    "### Exercise 4 - Revenue Per Category\n",
    "\n",
    "Get the revenue generated for each category for the month of 2014 January\n",
    "* Tables - orders, order_items, products and categories\n",
    "* Data should be sorted in ascending order by category_id.\n",
    "* Output should contain all the fields from category along with the revenue as category_revenue.\n",
    "* Consider only COMPLETE and CLOSED orders"
   ]
  },
  {
   "cell_type": "code",
   "execution_count": 7,
   "metadata": {},
   "outputs": [
    {
     "data": {
      "text/plain": [
       "|          9|                     3|   Cardio Equip...\n"
      ]
     },
     "metadata": {},
     "output_type": "display_data",
     "source": "user"
    },
    {
     "data": {
      "text/plain": [
       "+-----------+----------------------+-------------------+----------------+\n",
       "|category_id|category_department_id|      category_name|category_revenue|\n",
       "+-----------+----------------------+-------------------+----------------+\n",
       "|          2|                     2|             Soccer|         1094.88|\n",
       "|          3|                     2|Baseball & Softball|         3214.41|\n",
       "|          4|                     2|         Basketball|         1299.98|\n",
       "|          5|                     2|           Lacrosse|         1299.69|\n",
       "|          6|                     2|   Tennis & Racquet|         1124.75|\n",
       "|          7|                     2|             Hockey|          1433.0|\n",
       "|          9|                     3|   Cardio Equipment|       133156.77|\n",
       "|         10|                     3|  Strength Training|         3388.96|\n",
       "|         11|                     3|Fitness Accessories|         1509.73|\n",
       "|         12|                     3|       Boxing & MMA|         3998.46|\n",
       "+-----------+----------------------+-------------------+----------------+\n",
       "only showing top 10 rows\n",
       "\n"
      ]
     },
     "execution_count": 7,
     "metadata": {},
     "output_type": "execute_result"
    }
   ],
   "source": [
    "%%sql\n",
    "SELECT c.*,round(sum(oi.order_item_subtotal),2) as category_revenue from categories c\n",
    "JOIN products p on p.product_category_id=c.category_id\n",
    "JOIN order_items oi on oi.order_item_product_id=p.product_id\n",
    "JOIN orders o on o.order_id=oi.order_item_order_id\n",
    "WHERE order_date LIKE '2014-01%' AND o.order_status IN ('COMPLETE','CLOSED')\n",
    "GROUP BY c.category_id,c.category_department_id,c.category_name\n",
    "ORDER BY c.category_id"
   ]
  },
  {
   "cell_type": "markdown",
   "metadata": {},
   "source": [
    "### Exercise 5 - Product Count Per Department\n",
    "\n",
    "Get the products for each department.\n",
    "* Tables - departments, categories, products\n",
    "* Data should be sorted in ascending order by department_id\n",
    "* Output should contain all the fields from department and the product count as product_count"
   ]
  },
  {
   "cell_type": "code",
   "execution_count": 8,
   "metadata": {},
   "outputs": [
    {
     "data": {
      "text/plain": [
       "+-------------+---------------+-------------+\n",
       "|department_id|department_name|product_count|\n",
       "+-------------+---------------+-------------+\n",
       "|            2|        Fitness|          168|\n",
       "|            3|       Footwear|          168|\n",
       "|            4|        Apparel|          140|\n",
       "|            5|           Golf|          120|\n",
       "|            6|       Outdoors|          336|\n",
       "|            7|       Fan Shop|          149|\n",
       "+-------------+---------------+-------------+\n",
       "\n"
      ]
     },
     "execution_count": 8,
     "metadata": {},
     "output_type": "execute_result"
    }
   ],
   "source": [
    "%%sql\n",
    "SELECT d.*,count(p.product_id) AS product_count FROM departments d\n",
    "JOIN categories c on c.category_department_id=d.department_id\n",
    "JOIN products p on p.product_category_id=c.category_id\n",
    "GROUP BY d.department_id,d.department_name\n",
    "ORDER BY d.department_id"
   ]
  },
  {
   "cell_type": "code",
   "execution_count": null,
   "metadata": {},
   "outputs": [],
   "source": []
  }
 ],
 "metadata": {
  "celltoolbar": "Tags",
  "kernelspec": {
   "display_name": "Spark 2 - Scala",
   "language": "scala",
   "name": "spark_2_scala"
  },
  "language_info": {
   "codemirror_mode": "text/x-scala",
   "file_extension": ".scala",
   "mimetype": "text/x-scala",
   "name": "scala",
   "pygments_lexer": "scala",
   "version": "2.11.12"
  }
 },
 "nbformat": 4,
 "nbformat_minor": 4
}
