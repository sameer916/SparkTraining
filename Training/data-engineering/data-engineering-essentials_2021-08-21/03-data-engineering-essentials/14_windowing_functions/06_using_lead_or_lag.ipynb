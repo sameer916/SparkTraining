{
 "cells": [
  {
   "cell_type": "markdown",
   "metadata": {},
   "source": [
    "## Using LEAD or LAG\n",
    "\n",
    "Let us understand the usage of `LEAD` or `LAG` functions. Both are used for similar scenarios."
   ]
  },
  {
   "cell_type": "markdown",
   "metadata": {},
   "source": [
    "Let us start spark context for this Notebook so that we can execute the code provided. You can sign up for our [10 node state of the art cluster/labs](https://labs.itversity.com/plans) to learn Spark SQL using our unique integrated LMS."
   ]
  },
  {
   "cell_type": "code",
   "execution_count": 1,
   "metadata": {},
   "outputs": [],
   "source": [
    "from pyspark.sql import SparkSession\n",
    "\n",
    "import getpass\n",
    "username = getpass.getuser()\n",
    "\n",
    "spark = SparkSession. \\\n",
    "    builder. \\\n",
    "    config('spark.ui.port', '0'). \\\n",
    "    config(\"spark.sql.warehouse.dir\", f\"/user/{username}/warehouse\"). \\\n",
    "    enableHiveSupport(). \\\n",
    "    appName(f'{username} | Python - Windowing Functions'). \\\n",
    "    master('yarn'). \\\n",
    "    getOrCreate()"
   ]
  },
  {
   "cell_type": "markdown",
   "metadata": {},
   "source": [
    "If you are going to use CLIs, you can use Spark SQL using one of the 3 approaches.\n",
    "\n",
    "**Using Spark SQL**\n",
    "\n",
    "```\n",
    "spark2-sql \\\n",
    "    --master yarn \\\n",
    "    --conf spark.ui.port=0 \\\n",
    "    --conf spark.sql.warehouse.dir=/user/${USER}/warehouse\n",
    "```\n",
    "\n",
    "**Using Scala**\n",
    "\n",
    "```\n",
    "spark2-shell \\\n",
    "    --master yarn \\\n",
    "    --conf spark.ui.port=0 \\\n",
    "    --conf spark.sql.warehouse.dir=/user/${USER}/warehouse\n",
    "```\n",
    "\n",
    "**Using Pyspark**\n",
    "\n",
    "```\n",
    "pyspark2 \\\n",
    "    --master yarn \\\n",
    "    --conf spark.ui.port=0 \\\n",
    "    --conf spark.sql.warehouse.dir=/user/${USER}/warehouse\n",
    "```"
   ]
  },
  {
   "cell_type": "code",
   "execution_count": 2,
   "metadata": {},
   "outputs": [],
   "source": [
    "spark.conf.set('spark.sql.shuffle.partitions', '2')"
   ]
  },
  {
   "cell_type": "code",
   "execution_count": 3,
   "metadata": {},
   "outputs": [],
   "source": [
    "airtraffic_path = \"/public/airtraffic_all/airtraffic-part/flightmonth=200801\""
   ]
  },
  {
   "cell_type": "code",
   "execution_count": 4,
   "metadata": {},
   "outputs": [],
   "source": [
    "airtraffic = spark. \\\n",
    "  read. \\\n",
    "  parquet(airtraffic_path)"
   ]
  },
  {
   "cell_type": "code",
   "execution_count": 5,
   "metadata": {},
   "outputs": [],
   "source": [
    "from pyspark.sql.functions import col, lit, lpad, concat"
   ]
  },
  {
   "cell_type": "code",
   "execution_count": 6,
   "metadata": {},
   "outputs": [],
   "source": [
    "from pyspark.sql.functions import lead"
   ]
  },
  {
   "cell_type": "code",
   "execution_count": 7,
   "metadata": {},
   "outputs": [],
   "source": [
    "from pyspark.sql.window import Window"
   ]
  },
  {
   "cell_type": "code",
   "execution_count": 8,
   "metadata": {},
   "outputs": [],
   "source": [
    "spec = Window. \\\n",
    "    partitionBy(\"FlightDate\", \"Origin\"). \\\n",
    "    orderBy(col(\"CRSDepTime\"))"
   ]
  },
  {
   "cell_type": "code",
   "execution_count": 9,
   "metadata": {},
   "outputs": [
    {
     "name": "stdout",
     "output_type": "stream",
     "text": [
      "+----------+------+-------------+---------+----------+------------+--------+-----------------+-------------+--------------+------------+\n",
      "|FlightDate|Origin|UniqueCarrier|FlightNum|CRSDepTime|IsDepDelayed|DepDelay|LeadUniqueCarrier|LeadFlightNum|LeadCRSDepTime|LeadDepDelay|\n",
      "+----------+------+-------------+---------+----------+------------+--------+-----------------+-------------+--------------+------------+\n",
      "|  20080101|   ABE|           OO|     5873|       720|         YES|       1|               9E|         2940|          1215|          70|\n",
      "|  20080101|   ABE|           9E|     2940|      1215|         YES|      70|               YV|         7263|          1230|         137|\n",
      "|  20080101|   ABE|           YV|     7263|      1230|         YES|     137|               XE|         2578|          1410|          22|\n",
      "|  20080101|   ABE|           XE|     2578|      1410|         YES|      22|               9E|         2936|          1615|          34|\n",
      "|  20080101|   ABE|           9E|     2936|      1615|         YES|      34|               OH|         5457|          1720|          14|\n",
      "|  20080101|   ABE|           OH|     5457|      1720|         YES|      14|               XE|         2594|          1740|          34|\n",
      "|  20080101|   ABE|           XE|     2594|      1740|         YES|      34|               YV|         7138|          1741|         175|\n",
      "|  20080101|   ABE|           YV|     7138|      1741|         YES|     175|             null|         null|          null|        null|\n",
      "|  20080101|   ABI|           MQ|     3214|      1735|         YES|       3|             null|         null|          null|        null|\n",
      "|  20080101|   ABQ|           DL|     1601|       740|         YES|      65|               WN|           88|           755|           2|\n",
      "|  20080101|   ABQ|           WN|       88|       755|         YES|       2|               UA|          782|           805|          48|\n",
      "|  20080101|   ABQ|           UA|      782|       805|         YES|      48|               AA|         1814|           925|         100|\n",
      "|  20080101|   ABQ|           AA|     1814|       925|         YES|     100|               WN|         2976|          1040|           1|\n",
      "|  20080101|   ABQ|           WN|     2976|      1040|         YES|       1|               WN|         1185|          1140|           9|\n",
      "|  20080101|   ABQ|           WN|     1185|      1140|         YES|       9|               WN|         1297|          1155|          12|\n",
      "|  20080101|   ABQ|           WN|     1297|      1155|         YES|      12|               WN|         2480|          1200|          16|\n",
      "|  20080101|   ABQ|           WN|     2480|      1200|         YES|      16|               WN|          137|          1220|          10|\n",
      "|  20080101|   ABQ|           WN|      137|      1220|         YES|      10|               WN|         1328|          1245|          78|\n",
      "|  20080101|   ABQ|           WN|     1328|      1245|         YES|      78|               WN|         3245|          1250|          24|\n",
      "|  20080101|   ABQ|           WN|     3245|      1250|         YES|      24|               WN|           61|          1320|           1|\n",
      "+----------+------+-------------+---------+----------+------------+--------+-----------------+-------------+--------------+------------+\n",
      "only showing top 20 rows\n",
      "\n"
     ]
    }
   ],
   "source": [
    "airtraffic. \\\n",
    "    filter(\"IsDepDelayed = 'YES' and Cancelled = 0\"). \\\n",
    "    select(concat(\"Year\", \n",
    "                  lpad(\"Month\", 2, \"0\"), \n",
    "                  lpad(\"DayOfMonth\", 2, \"0\")\n",
    "                 ).alias(\"FlightDate\"),\n",
    "           \"Origin\",\n",
    "           \"UniqueCarrier\",\n",
    "           \"FlightNum\",\n",
    "           \"CRSDepTime\",\n",
    "           \"IsDepDelayed\",\n",
    "           col(\"DepDelay\").cast(\"int\").alias(\"DepDelay\")\n",
    "          ). \\\n",
    "    withColumn(\"LeadUniqueCarrier\", lead(\"UniqueCarrier\").over(spec)). \\\n",
    "    withColumn(\"LeadFlightNum\", lead(\"FlightNum\").over(spec)). \\\n",
    "    withColumn(\"LeadCRSDepTime\", lead(\"CRSDepTime\").over(spec)). \\\n",
    "    withColumn(\"LeadDepDelay\", lead(\"DepDelay\").over(spec)). \\\n",
    "    orderBy(\"FlightDate\", \"Origin\", \"CRSDepTime\"). \\\n",
    "    show()"
   ]
  },
  {
   "cell_type": "markdown",
   "metadata": {},
   "source": [
    "### Using LEAD or LAG with 7"
   ]
  },
  {
   "cell_type": "code",
   "execution_count": 10,
   "metadata": {},
   "outputs": [],
   "source": [
    "airtraffic_path = \"/public/airtraffic_all/airtraffic-part/flightmonth=200801\""
   ]
  },
  {
   "cell_type": "code",
   "execution_count": 11,
   "metadata": {},
   "outputs": [],
   "source": [
    "airtraffic = spark. \\\n",
    "    read. \\\n",
    "    parquet(airtraffic_path)"
   ]
  },
  {
   "cell_type": "code",
   "execution_count": 12,
   "metadata": {},
   "outputs": [],
   "source": [
    "from pyspark.sql.functions import col, lit, lpad, concat"
   ]
  },
  {
   "cell_type": "code",
   "execution_count": 13,
   "metadata": {},
   "outputs": [],
   "source": [
    "from pyspark.sql.functions import sum, lead, substring"
   ]
  },
  {
   "cell_type": "code",
   "execution_count": 14,
   "metadata": {},
   "outputs": [],
   "source": [
    "from pyspark.sql.window import Window"
   ]
  },
  {
   "cell_type": "code",
   "execution_count": 15,
   "metadata": {},
   "outputs": [],
   "source": [
    "spec = Window. \\\n",
    "    partitionBy(substring(\"FlightDate\", 1, 6), \"Origin\"). \\\n",
    "    orderBy(\"FlightDate\", col(\"TotalDepDelay\").desc())"
   ]
  },
  {
   "cell_type": "code",
   "execution_count": 16,
   "metadata": {},
   "outputs": [
    {
     "name": "stdout",
     "output_type": "stream",
     "text": [
      "+----------+------+-------------+--------------+----------+-----------------+\n",
      "|FlightDate|Origin|TotalDepDelay|LeadFlightDate|LeadOrigin|LeadTotalDepDelay|\n",
      "+----------+------+-------------+--------------+----------+-----------------+\n",
      "|  20080101|   ORD|        49353|      20080108|       ORD|            35658|\n",
      "|  20080102|   ORD|        41545|      20080109|       ORD|            10075|\n",
      "|  20080103|   ORD|        15784|      20080110|       ORD|            18431|\n",
      "|  20080104|   ORD|        13442|      20080111|       ORD|            15372|\n",
      "|  20080105|   ORD|        23800|      20080112|       ORD|             5785|\n",
      "|  20080106|   ORD|        31148|      20080113|       ORD|             9630|\n",
      "|  20080107|   ORD|        47817|      20080114|       ORD|            24969|\n",
      "|  20080108|   ORD|        35658|          null|      null|             null|\n",
      "|  20080109|   ORD|        10075|          null|      null|             null|\n",
      "|  20080110|   ORD|        18431|          null|      null|             null|\n",
      "|  20080111|   ORD|        15372|          null|      null|             null|\n",
      "|  20080112|   ORD|         5785|          null|      null|             null|\n",
      "|  20080113|   ORD|         9630|          null|      null|             null|\n",
      "|  20080114|   ORD|        24969|          null|      null|             null|\n",
      "+----------+------+-------------+--------------+----------+-----------------+\n",
      "\n"
     ]
    }
   ],
   "source": [
    "airtraffic. \\\n",
    "    filter(\"\"\"IsDepDelayed = 'YES' \n",
    "              AND Cancelled = 0\n",
    "              AND concat(Year, \n",
    "                         lpad(Month, 2, '0'),\n",
    "                         lpad(DayOfMonth, 2, '0')\n",
    "                        ) BETWEEN 20080101 AND 20080114\n",
    "              AND Origin IN ('ATL', 'DFW', 'JFK', 'LAX', 'SFO', 'ORD')\n",
    "           \"\"\"\n",
    "          ). \\\n",
    "    groupBy(concat(\"Year\", \n",
    "                   lpad(\"Month\", 2, \"0\"), \n",
    "                   lpad(\"DayOfMonth\", 2, \"0\")\n",
    "                  ).alias(\"FlightDate\"), \n",
    "            \"Origin\"\n",
    "           ). \\\n",
    "    agg(sum(col(\"DepDelay\").cast(\"int\")).alias(\"TotalDepDelay\")). \\\n",
    "    withColumn(\"LeadFlightDate\", lead(\"FlightDate\", 7).over(spec)). \\\n",
    "    withColumn(\"LeadOrigin\", lead(\"Origin\", 7).over(spec)). \\\n",
    "    withColumn(\"LeadTotalDepDelay\", lead(\"TotalDepDelay\", 7).over(spec)). \\\n",
    "    filter('Origin = \"ORD\"'). \\\n",
    "    orderBy(\"FlightDate\", col(\"TotalDepDelay\").desc()). \\\n",
    "    show()"
   ]
  },
  {
   "cell_type": "code",
   "execution_count": 17,
   "metadata": {},
   "outputs": [
    {
     "name": "stdout",
     "output_type": "stream",
     "text": [
      "+----------+------+-------------+--------------+----------+-----------------+\n",
      "|FlightDate|Origin|TotalDepDelay|LeadFlightDate|LeadOrigin|LeadTotalDepDelay|\n",
      "+----------+------+-------------+--------------+----------+-----------------+\n",
      "|  20080101|   ORD|        49353|      20080108|       ORD|            35658|\n",
      "|  20080102|   ORD|        41545|      20080109|       ORD|            10075|\n",
      "|  20080103|   ORD|        15784|      20080110|       ORD|            18431|\n",
      "|  20080104|   ORD|        13442|      20080111|       ORD|            15372|\n",
      "|  20080105|   ORD|        23800|      20080112|       ORD|             5785|\n",
      "|  20080106|   ORD|        31148|      20080113|       ORD|             9630|\n",
      "|  20080107|   ORD|        47817|      20080114|       ORD|            24969|\n",
      "+----------+------+-------------+--------------+----------+-----------------+\n",
      "\n"
     ]
    }
   ],
   "source": [
    "airtraffic. \\\n",
    "    filter(\"\"\"IsDepDelayed = 'YES' \n",
    "              AND Cancelled = 0\n",
    "              AND concat(Year, \n",
    "                         lpad(Month, 2, '0'),\n",
    "                         lpad(DayOfMonth, 2, '0')\n",
    "                        ) BETWEEN 20080101 AND 20080114\n",
    "              AND Origin IN ('ATL', 'DFW', 'JFK', 'LAX', 'SFO', 'ORD')\n",
    "           \"\"\"\n",
    "          ). \\\n",
    "    groupBy(concat(\"Year\", \n",
    "                   lpad(\"Month\", 2, \"0\"), \n",
    "                   lpad(\"DayOfMonth\", 2, \"0\")\n",
    "                  ).alias(\"FlightDate\"), \n",
    "            \"Origin\"\n",
    "           ). \\\n",
    "    agg(sum(col(\"DepDelay\").cast(\"int\")).alias(\"TotalDepDelay\")). \\\n",
    "    withColumn(\"LeadFlightDate\", lead(\"FlightDate\", 7).over(spec)). \\\n",
    "    withColumn(\"LeadOrigin\", lead(\"Origin\", 7).over(spec)). \\\n",
    "    withColumn(\"LeadTotalDepDelay\", lead(\"TotalDepDelay\", 7).over(spec)). \\\n",
    "    filter('Origin = \"ORD\" AND FlightDate BETWEEN 20080101 AND 20080107'). \\\n",
    "    orderBy(\"FlightDate\", col(\"TotalDepDelay\").desc()). \\\n",
    "    show()"
   ]
  },
  {
   "cell_type": "code",
   "execution_count": 18,
   "metadata": {},
   "outputs": [
    {
     "name": "stdout",
     "output_type": "stream",
     "text": [
      "+----------+------+-------------+--------------+----------+-----------------+\n",
      "|FlightDate|Origin|TotalDepDelay|LeadFlightDate|LeadOrigin|LeadTotalDepDelay|\n",
      "+----------+------+-------------+--------------+----------+-----------------+\n",
      "|  20080101|   ORD|        49353|      20080108|       ORD|            35658|\n",
      "|  20080101|   DFW|        13741|      20080108|       DFW|             8277|\n",
      "|  20080101|   ATL|        11592|      20080108|       ATL|             9988|\n",
      "|  20080101|   LAX|        10360|      20080108|       LAX|             8767|\n",
      "|  20080101|   JFK|         6948|      20080108|       JFK|             2261|\n",
      "|  20080101|   SFO|         5359|      20080108|       SFO|            18095|\n",
      "|  20080102|   ORD|        41545|      20080109|       ORD|            10075|\n",
      "|  20080102|   ATL|        25127|      20080109|       ATL|             6404|\n",
      "|  20080102|   DFW|        12827|      20080109|       DFW|             4532|\n",
      "|  20080102|   JFK|         9734|      20080109|       JFK|             1980|\n",
      "|  20080102|   LAX|         9253|      20080109|       LAX|             4121|\n",
      "|  20080102|   SFO|         6150|      20080109|       SFO|             8033|\n",
      "|  20080103|   ATL|        22603|      20080110|       ATL|             9760|\n",
      "|  20080103|   SFO|        21957|      20080110|       SFO|            17650|\n",
      "|  20080103|   ORD|        15784|      20080110|       ORD|            18431|\n",
      "|  20080103|   LAX|        11837|      20080110|       LAX|             6327|\n",
      "|  20080103|   DFW|         9585|      20080110|       DFW|             6786|\n",
      "|  20080103|   JFK|         8031|      20080110|       JFK|             1722|\n",
      "|  20080104|   SFO|        40137|      20080111|       SFO|             8734|\n",
      "|  20080104|   LAX|        26441|      20080111|       LAX|             5852|\n",
      "+----------+------+-------------+--------------+----------+-----------------+\n",
      "only showing top 20 rows\n",
      "\n"
     ]
    }
   ],
   "source": [
    "airtraffic. \\\n",
    "    filter(\"\"\"IsDepDelayed = 'YES' \n",
    "              AND Cancelled = 0\n",
    "              AND concat(Year, \n",
    "                         lpad(Month, 2, '0'),\n",
    "                         lpad(DayOfMonth, 2, '0')\n",
    "                        ) BETWEEN 20080101 AND 20080114\n",
    "              AND Origin IN ('ATL', 'DFW', 'JFK', 'LAX', 'SFO', 'ORD')\n",
    "           \"\"\"\n",
    "          ). \\\n",
    "    groupBy(concat(\"Year\", \n",
    "                   lpad(\"Month\", 2, \"0\"), \n",
    "                   lpad(\"DayOfMonth\", 2, \"0\")\n",
    "                  ).alias(\"FlightDate\"), \n",
    "            \"Origin\"\n",
    "           ). \\\n",
    "    agg(sum(col(\"DepDelay\").cast(\"int\")).alias(\"TotalDepDelay\")). \\\n",
    "    withColumn(\"LeadFlightDate\", lead(\"FlightDate\", 7).over(spec)). \\\n",
    "    withColumn(\"LeadOrigin\", lead(\"Origin\", 7).over(spec)). \\\n",
    "    withColumn(\"LeadTotalDepDelay\", lead(\"TotalDepDelay\", 7).over(spec)). \\\n",
    "    filter('FlightDate BETWEEN 20080101 AND 20080107'). \\\n",
    "    orderBy(\"FlightDate\", col(\"TotalDepDelay\").desc()). \\\n",
    "    show()"
   ]
  },
  {
   "cell_type": "code",
   "execution_count": null,
   "metadata": {},
   "outputs": [],
   "source": []
  }
 ],
 "metadata": {
  "kernelspec": {
   "display_name": "Pyspark 2",
   "language": "python",
   "name": "pyspark2"
  },
  "language_info": {
   "codemirror_mode": {
    "name": "ipython",
    "version": 3
   },
   "file_extension": ".py",
   "mimetype": "text/x-python",
   "name": "python",
   "nbconvert_exporter": "python",
   "pygments_lexer": "ipython3",
   "version": "3.6.12"
  }
 },
 "nbformat": 4,
 "nbformat_minor": 4
}
