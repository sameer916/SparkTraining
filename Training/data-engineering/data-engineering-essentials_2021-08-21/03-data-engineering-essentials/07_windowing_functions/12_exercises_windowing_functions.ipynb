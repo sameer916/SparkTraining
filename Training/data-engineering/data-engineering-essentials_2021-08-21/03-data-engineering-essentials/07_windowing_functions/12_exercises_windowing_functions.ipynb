{
 "cells": [
  {
   "cell_type": "markdown",
   "metadata": {},
   "source": [
    "## Exercises - Windowing Functions\n",
    "\n",
    "Let us take care of the exercises related to windowing or analytics functions. We will be using HR database for the same.\n",
    "\n",
    "* Get all the employees who is making more than average salary with in each department.\n",
    "* Get cumulative salary for one of the department along with department name.\n",
    "* Get top 3 paid employees with in each department by salary (use dense_rank)\n",
    "* Get top 3 products sold in the month of 2014 January by revenue.\n",
    "* Get top 3 products in each category sold in the month of 2014 January by revenue."
   ]
  },
  {
   "cell_type": "markdown",
   "metadata": {},
   "source": [
    "Let us start spark context for this Notebook so that we can execute the code provided. You can sign up for our [10 node state of the art cluster/labs](https://labs.itversity.com/plans) to learn Spark SQL using our unique integrated LMS."
   ]
  },
  {
   "cell_type": "code",
   "execution_count": 1,
   "metadata": {},
   "outputs": [
    {
     "data": {
      "text/plain": [
       "username = itv001477\n"
      ]
     },
     "metadata": {},
     "output_type": "display_data",
     "source": "user"
    },
    {
     "data": {
      "text/plain": [
       "itv001477"
      ]
     },
     "execution_count": 1,
     "metadata": {},
     "output_type": "execute_result"
    }
   ],
   "source": [
    "val username = System.getProperty(\"user.name\")"
   ]
  },
  {
   "cell_type": "code",
   "execution_count": 2,
   "metadata": {},
   "outputs": [
    {
     "data": {
      "text/plain": [
       "username = itv001477\n",
       "spark = org.apache.spark.sql.SparkSession@82d13ff\n"
      ]
     },
     "metadata": {},
     "output_type": "display_data",
     "source": "user"
    },
    {
     "data": {
      "text/plain": [
       "org.apache.spark.sql.SparkSession@82d13ff"
      ]
     },
     "execution_count": 2,
     "metadata": {},
     "output_type": "execute_result"
    }
   ],
   "source": [
    "import org.apache.spark.sql.SparkSession\n",
    "\n",
    "val username = System.getProperty(\"user.name\")\n",
    "val spark = SparkSession.\n",
    "    builder.\n",
    "    config(\"spark.ui.port\", \"0\").\n",
    "    config(\"spark.sql.warehouse.dir\", s\"/user/${username}/warehouse\").\n",
    "    enableHiveSupport.\n",
    "    appName(s\"${username} | Spark SQL - Windowing Functions\").\n",
    "    master(\"yarn\").\n",
    "    getOrCreate"
   ]
  },
  {
   "cell_type": "code",
   "execution_count": 4,
   "metadata": {},
   "outputs": [
    {
     "data": {
      "text/plain": [
       "++\n",
       "||\n",
       "++\n",
       "++\n",
       "\n"
      ]
     },
     "execution_count": 4,
     "metadata": {},
     "output_type": "execute_result"
    }
   ],
   "source": [
    "%%sql\n",
    "CREATE DATABASE itv001477_hr_db"
   ]
  },
  {
   "cell_type": "code",
   "execution_count": 5,
   "metadata": {},
   "outputs": [
    {
     "data": {
      "text/plain": [
       "++\n",
       "||\n",
       "++\n",
       "++\n",
       "\n"
      ]
     },
     "execution_count": 5,
     "metadata": {},
     "output_type": "execute_result"
    }
   ],
   "source": [
    "%%sql\n",
    "\n",
    "USE itv001477_hr_db"
   ]
  },
  {
   "cell_type": "code",
   "execution_count": 6,
   "metadata": {},
   "outputs": [
    {
     "data": {
      "text/plain": [
       "++\n",
       "||\n",
       "++\n",
       "++\n",
       "\n"
      ]
     },
     "execution_count": 6,
     "metadata": {},
     "output_type": "execute_result"
    }
   ],
   "source": [
    "%%sql\n",
    "\n",
    "CREATE TABLE employees (\n",
    "  employee_id     int,\n",
    "  first_name      varchar(20),\n",
    "  last_name       varchar(25),\n",
    "  email           varchar(25),\n",
    "  phone_number    varchar(20),\n",
    "  hire_date       date,\n",
    "  job_id          varchar(10),\n",
    "  salary          decimal(8,2),\n",
    "  commission_pct  decimal(2,2),\n",
    "  manager_id      int,\n",
    "  department_id   int\n",
    ") ROW FORMAT DELIMITED FIELDS TERMINATED BY '\\t'"
   ]
  },
  {
   "cell_type": "code",
   "execution_count": 7,
   "metadata": {},
   "outputs": [
    {
     "data": {
      "text/plain": [
       "++\n",
       "||\n",
       "++\n",
       "++\n",
       "\n"
      ]
     },
     "execution_count": 7,
     "metadata": {},
     "output_type": "execute_result"
    }
   ],
   "source": [
    "%%sql\n",
    "\n",
    "LOAD DATA LOCAL INPATH '/data/hr_db/employees' \n",
    "INTO TABLE employees"
   ]
  },
  {
   "cell_type": "code",
   "execution_count": 8,
   "metadata": {},
   "outputs": [
    {
     "data": {
      "text/plain": [
       "|        157|   Patrick|    Sully|  PSULLY|011.44.1345.929268|1996-...\n"
      ]
     },
     "metadata": {},
     "output_type": "display_data",
     "source": "user"
    },
    {
     "data": {
      "text/plain": [
       "+-----------+----------+---------+--------+------------------+----------+------+--------+--------------+----------+-------------+\n",
       "|employee_id|first_name|last_name|   email|      phone_number| hire_date|job_id|  salary|commission_pct|manager_id|department_id|\n",
       "+-----------+----------+---------+--------+------------------+----------+------+--------+--------------+----------+-------------+\n",
       "|        155|    Oliver|  Tuvault|OTUVAULT|011.44.1344.486508|1999-11-23|SA_REP| 7000.00|          0.15|       145|           80|\n",
       "|        156|   Janette|     King|   JKING|011.44.1345.429268|1996-01-30|SA_REP|10000.00|          0.35|       146|           80|\n",
       "|        157|   Patrick|    Sully|  PSULLY|011.44.1345.929268|1996-03-04|SA_REP| 9500.00|          0.35|       146|           80|\n",
       "|        158|     Allan|   McEwen| AMCEWEN|011.44.1345.829268|1996-08-01|SA_REP| 9000.00|          0.35|       146|           80|\n",
       "|        159|   Lindsey|    Smith|  LSMITH|011.44.1345.729268|1997-03-10|SA_REP| 8000.00|          0.30|       146|           80|\n",
       "|        160|    Louise|    Doran|  LDORAN|011.44.1345.629268|1997-12-15|SA_REP| 7500.00|          0.30|       146|           80|\n",
       "|        161|    Sarath|   Sewall| SSEWALL|011.44.1345.529268|1998-11-03|SA_REP| 7000.00|          0.25|       146|           80|\n",
       "|        162|     Clara|  Vishney|CVISHNEY|011.44.1346.129268|1997-11-11|SA_REP|10500.00|          0.25|       147|           80|\n",
       "|        163|  Danielle|   Greene| DGREENE|011.44.1346.229268|1999-03-19|SA_REP| 9500.00|          0.15|       147|           80|\n",
       "|        164|    Mattea|  Marvins|MMARVINS|011.44.1346.329268|2000-01-24|SA_REP| 7200.00|          0.10|       147|           80|\n",
       "+-----------+----------+---------+--------+------------------+----------+------+--------+--------------+----------+-------------+\n",
       "\n"
      ]
     },
     "execution_count": 8,
     "metadata": {},
     "output_type": "execute_result"
    }
   ],
   "source": [
    "%%sql\n",
    "\n",
    "SELECT * FROM employees LIMIT 10"
   ]
  },
  {
   "cell_type": "code",
   "execution_count": 10,
   "metadata": {},
   "outputs": [
    {
     "data": {
      "text/plain": [
       "++\n",
       "||\n",
       "++\n",
       "++\n",
       "\n"
      ]
     },
     "execution_count": 10,
     "metadata": {},
     "output_type": "execute_result"
    }
   ],
   "source": [
    "%%sql\n",
    "CREATE TABLE departments(\n",
    "     department_id int,\n",
    " department_name STRING,\n",
    " manager_id int,\n",
    " location_id int\n",
    ") ROW FORMAT DELIMITED FIELDS TERMINATED BY '\\t'"
   ]
  },
  {
   "cell_type": "code",
   "execution_count": 11,
   "metadata": {},
   "outputs": [
    {
     "data": {
      "text/plain": [
       "++\n",
       "||\n",
       "++\n",
       "++\n",
       "\n"
      ]
     },
     "execution_count": 11,
     "metadata": {},
     "output_type": "execute_result"
    }
   ],
   "source": [
    "%%sql\n",
    "LOAD DATA LOCAL INPATH '/data/hr_db/departments' \n",
    "INTO TABLE departments"
   ]
  },
  {
   "cell_type": "code",
   "execution_count": 12,
   "metadata": {},
   "outputs": [
    {
     "data": {
      "text/plain": [
       "|          100|         Finance|       108|  ...\n"
      ]
     },
     "metadata": {},
     "output_type": "display_data",
     "source": "user"
    },
    {
     "data": {
      "text/plain": [
       "+-------------+----------------+----------+-----------+\n",
       "|department_id| department_name|manager_id|location_id|\n",
       "+-------------+----------------+----------+-----------+\n",
       "|           10|  Administration|       200|       1700|\n",
       "|           20|       Marketing|       201|       1800|\n",
       "|           30|      Purchasing|       114|       1700|\n",
       "|           40| Human Resources|       203|       2400|\n",
       "|           50|        Shipping|       121|       1500|\n",
       "|           60|              IT|       103|       1400|\n",
       "|           70|Public Relations|       204|       2700|\n",
       "|           80|           Sales|       145|       2500|\n",
       "|           90|       Executive|       100|       1700|\n",
       "|          100|         Finance|       108|       1700|\n",
       "+-------------+----------------+----------+-----------+\n",
       "only showing top 10 rows\n",
       "\n"
      ]
     },
     "execution_count": 12,
     "metadata": {},
     "output_type": "execute_result"
    }
   ],
   "source": [
    "%%sql\n",
    "select * from departments"
   ]
  },
  {
   "cell_type": "markdown",
   "metadata": {},
   "source": [
    "If you are going to use CLIs, you can use Spark SQL using one of the 3 approaches.\n",
    "\n",
    "**Using Spark SQL**\n",
    "\n",
    "```\n",
    "spark2-sql \\\n",
    "    --master yarn \\\n",
    "    --conf spark.ui.port=0 \\\n",
    "    --conf spark.sql.warehouse.dir=/user/${USER}/warehouse\n",
    "```\n",
    "\n",
    "**Using Scala**\n",
    "\n",
    "```\n",
    "spark2-shell \\\n",
    "    --master yarn \\\n",
    "    --conf spark.ui.port=0 \\\n",
    "    --conf spark.sql.warehouse.dir=/user/${USER}/warehouse\n",
    "```\n",
    "\n",
    "**Using Pyspark**\n",
    "\n",
    "```\n",
    "pyspark2 \\\n",
    "    --master yarn \\\n",
    "    --conf spark.ui.port=0 \\\n",
    "    --conf spark.sql.warehouse.dir=/user/${USER}/warehouse\n",
    "```"
   ]
  },
  {
   "cell_type": "markdown",
   "metadata": {},
   "source": [
    "### Exercise 1\n",
    "\n",
    "Get all the employees who is making more than average salary with in each department.\n",
    "\n",
    "* Use HR database employees and department tables for this problem.\n",
    "* Compute average salary expense for each department and get those employee details who are making more salary than average salary.\n",
    "* Make sure average salary expense per department is rounded off to 2 decimals.\n",
    "* Output should contain employee_id, department_name, salary and avg_salary_expense (derived field).\n",
    "* Data should be sorted in ascending order by department_id and descending order by salary.\n",
    "\n",
    "|employee_id|department_name|salary|avg_salary_expense|\n",
    "|---|---|---|---|\n",
    "|201|Marketing|13000.00|9500.00|\n",
    "|114|Purchasing|11000.00|4150.00|\n",
    "|121|Shipping|8200.00|3475.56|\n",
    "|120|Shipping|8000.00|3475.56|\n",
    "|122|Shipping|7900.00|3475.56|\n",
    "|123|Shipping|6500.00|3475.56|\n",
    "|124|Shipping|5800.00|3475.56|\n",
    "|184|Shipping|4200.00|3475.56|\n",
    "|185|Shipping|4100.00|3475.56|\n",
    "|192|Shipping|4000.00|3475.56|\n",
    "|193|Shipping|3900.00|3475.56|\n",
    "|188|Shipping|3800.00|3475.56|\n",
    "|137|Shipping|3600.00|3475.56|\n",
    "|189|Shipping|3600.00|3475.56|\n",
    "|141|Shipping|3500.00|3475.56|\n",
    "|103|IT|9000.00|5760.00|\n",
    "|104|IT|6000.00|5760.00|\n",
    "|145|Sales|14000.00|8955.88|\n",
    "|146|Sales|13500.00|8955.88|\n",
    "|147|Sales|12000.00|8955.88|\n",
    "|168|Sales|11500.00|8955.88|\n",
    "|148|Sales|11000.00|8955.88|\n",
    "|174|Sales|11000.00|8955.88|\n",
    "|149|Sales|10500.00|8955.88|\n",
    "|162|Sales|10500.00|8955.88|\n",
    "|156|Sales|10000.00|8955.88|\n",
    "|150|Sales|10000.00|8955.88|\n",
    "|169|Sales|10000.00|8955.88|\n",
    "|170|Sales|9600.00|8955.88|\n",
    "|163|Sales|9500.00|8955.88|\n",
    "|151|Sales|9500.00|8955.88|\n",
    "|157|Sales|9500.00|8955.88|\n",
    "|158|Sales|9000.00|8955.88|\n",
    "|152|Sales|9000.00|8955.88|\n",
    "|100|Executive|24000.00|19333.33|\n",
    "|108|Finance|12000.00|8600.00|\n",
    "|109|Finance|9000.00|8600.00|\n",
    "|205|Accounting|12000.00|10150.00|"
   ]
  },
  {
   "cell_type": "code",
   "execution_count": 13,
   "metadata": {},
   "outputs": [
    {
     "data": {
      "text/plain": [
       "|        192|       S...\n"
      ]
     },
     "metadata": {},
     "output_type": "display_data",
     "source": "user"
    },
    {
     "data": {
      "text/plain": [
       "+-----------+---------------+--------+------------------+\n",
       "|employee_id|department_name|  salary|avg_salary_expense|\n",
       "+-----------+---------------+--------+------------------+\n",
       "|        201|      Marketing|13000.00|           9500.00|\n",
       "|        114|     Purchasing|11000.00|           4150.00|\n",
       "|        121|       Shipping| 8200.00|           3475.56|\n",
       "|        120|       Shipping| 8000.00|           3475.56|\n",
       "|        122|       Shipping| 7900.00|           3475.56|\n",
       "|        123|       Shipping| 6500.00|           3475.56|\n",
       "|        124|       Shipping| 5800.00|           3475.56|\n",
       "|        184|       Shipping| 4200.00|           3475.56|\n",
       "|        185|       Shipping| 4100.00|           3475.56|\n",
       "|        192|       Shipping| 4000.00|           3475.56|\n",
       "+-----------+---------------+--------+------------------+\n",
       "only showing top 10 rows\n",
       "\n"
      ]
     },
     "execution_count": 13,
     "metadata": {},
     "output_type": "execute_result"
    }
   ],
   "source": [
    "%%sql\n",
    "SELECT * FROM( \n",
    "    SELECT e.employee_id,d.department_name,e.salary,ROUND(AVG(e.salary) OVER (PARTITION BY d.department_name),2) AS avg_salary_expense \n",
    "    FROM employees e\n",
    "    JOIN departments d ON d.department_id=e.department_id\n",
    "    ORDER BY d.department_id,e.salary desc) q\n",
    "WHERE q.salary>q.avg_salary_expense"
   ]
  },
  {
   "cell_type": "markdown",
   "metadata": {},
   "source": [
    "### Exercise 2\n",
    "\n",
    "Get cumulative salary with in each department for Finance and IT department along with department name.\n",
    "\n",
    "* Use HR database employees and department tables for this problem.\n",
    "* Compute cumulative salary expense for **Finance** as well as **IT** departments with in respective departments.\n",
    "* Make sure cumulative salary expense per department is rounded off to 2 decimals.\n",
    "* Output should contain employee_id, department_name, salary and cum_salary_expense (derived field).\n",
    "* Data should be sorted in ascending order by department_name and then salary.\n",
    "\n",
    "|employee_id|department_name|salary|cum_salary_expense|\n",
    "|---|---|---|---|\n",
    "|113|Finance|6900.00|6900.00|\n",
    "|111|Finance|7700.00|14600.00|\n",
    "|112|Finance|7800.00|22400.00|\n",
    "|110|Finance|8200.00|30600.00|\n",
    "|109|Finance|9000.00|39600.00|\n",
    "|108|Finance|12000.00|51600.00|\n",
    "|107|IT|4200.00|4200.00|\n",
    "|106|IT|4800.00|9000.00|\n",
    "|105|IT|4800.00|13800.00|\n",
    "|104|IT|6000.00|19800.00|\n",
    "|103|IT|9000.00|28800.00|"
   ]
  },
  {
   "cell_type": "code",
   "execution_count": 15,
   "metadata": {},
   "outputs": [
    {
     "data": {
      "text/plain": [
       "+-...\n"
      ]
     },
     "metadata": {},
     "output_type": "display_data",
     "source": "user"
    },
    {
     "data": {
      "text/plain": [
       "+-----------+---------------+--------+---------------+\n",
       "|employee_id|department_name|  salary|cum_sal_expense|\n",
       "+-----------+---------------+--------+---------------+\n",
       "|        113|        Finance| 6900.00|        6900.00|\n",
       "|        111|        Finance| 7700.00|       14600.00|\n",
       "|        112|        Finance| 7800.00|       22400.00|\n",
       "|        110|        Finance| 8200.00|       30600.00|\n",
       "|        109|        Finance| 9000.00|       39600.00|\n",
       "|        108|        Finance|12000.00|       51600.00|\n",
       "|        107|             IT| 4200.00|        4200.00|\n",
       "|        106|             IT| 4800.00|       13800.00|\n",
       "|        105|             IT| 4800.00|        9000.00|\n",
       "|        104|             IT| 6000.00|       19800.00|\n",
       "+-----------+---------------+--------+---------------+\n",
       "only showing top 10 rows\n",
       "\n"
      ]
     },
     "execution_count": 15,
     "metadata": {},
     "output_type": "execute_result"
    }
   ],
   "source": [
    "%%sql\n",
    "\n",
    "SELECT e.employee_id,d.department_name,e.salary,ROUND(SUM(e.salary) OVER (PARTITION BY d.department_name\n",
    "                                                                   ORDER BY e.salary\n",
    "                                                                   ROWS BETWEEN UNBOUNDED PRECEDING AND CURRENT ROW),2)\n",
    "AS cum_sal_expense FROM employees e\n",
    "JOIN departments d on d.department_id=e.department_id\n",
    "WHERE d.department_name IN ('Finance','IT')\n",
    "ORDER BY d.department_name,e.salary"
   ]
  },
  {
   "cell_type": "markdown",
   "metadata": {},
   "source": [
    "### Exercise 3\n",
    "\n",
    "Get top 3 paid employees with in each department by salary (use dense_rank)\n",
    "\n",
    "* Use HR database employees and department tables for this problem.\n",
    "* Highest paid employee should be ranked first.\n",
    "* Output should contain employee_id, department_id, department_name, salary and employee_rank (derived field).\n",
    "* Data should be sorted in ascending order by department_id in ascending order and then salary in descending order.\n",
    "\n",
    "|employee_id|department_id|department_name|salary|employee_rank|\n",
    "|---|---|---|---|---|\n",
    "|200|10|Administration|4400.00|1|\n",
    "|201|20|Marketing|13000.00|1|\n",
    "|202|20|Marketing|6000.00|2|\n",
    "|114|30|Purchasing|11000.00|1|\n",
    "|115|30|Purchasing|3100.00|2|\n",
    "|116|30|Purchasing|2900.00|3|\n",
    "|203|40|Human Resources|6500.00|1|\n",
    "|121|50|Shipping|8200.00|1|\n",
    "|120|50|Shipping|8000.00|2|\n",
    "|122|50|Shipping|7900.00|3|\n",
    "|103|60|IT|9000.00|1|\n",
    "|104|60|IT|6000.00|2|\n",
    "|105|60|IT|4800.00|3|\n",
    "|106|60|IT|4800.00|3|\n",
    "|204|70|Public Relations|10000.00|1|\n",
    "|145|80|Sales|14000.00|1|\n",
    "|146|80|Sales|13500.00|2|\n",
    "|147|80|Sales|12000.00|3|\n",
    "|100|90|Executive|24000.00|1|\n",
    "|101|90|Executive|17000.00|2|\n",
    "|102|90|Executive|17000.00|2|\n",
    "|108|100|Finance|12000.00|1|\n",
    "|109|100|Finance|9000.00|2|\n",
    "|110|100|Finance|8200.00|3|\n",
    "|205|110|Accounting|12000.00|1|\n",
    "|206|110|Accounting|8300.00|2|"
   ]
  },
  {
   "cell_type": "code",
   "execution_count": 19,
   "metadata": {},
   "outputs": [
    {
     "data": {
      "text/plain": [
       "|        121|           50|       Shipping| 820...\n"
      ]
     },
     "metadata": {},
     "output_type": "display_data",
     "source": "user"
    },
    {
     "data": {
      "text/plain": [
       "+-----------+-------------+---------------+--------+-------------+\n",
       "|employee_id|department_id|department_name|  salary|employee_rank|\n",
       "+-----------+-------------+---------------+--------+-------------+\n",
       "|        200|           10| Administration| 4400.00|            1|\n",
       "|        201|           20|      Marketing|13000.00|            1|\n",
       "|        202|           20|      Marketing| 6000.00|            2|\n",
       "|        114|           30|     Purchasing|11000.00|            1|\n",
       "|        115|           30|     Purchasing| 3100.00|            2|\n",
       "|        116|           30|     Purchasing| 2900.00|            3|\n",
       "|        203|           40|Human Resources| 6500.00|            1|\n",
       "|        121|           50|       Shipping| 8200.00|            1|\n",
       "|        120|           50|       Shipping| 8000.00|            2|\n",
       "|        122|           50|       Shipping| 7900.00|            3|\n",
       "+-----------+-------------+---------------+--------+-------------+\n",
       "only showing top 10 rows\n",
       "\n"
      ]
     },
     "execution_count": 19,
     "metadata": {},
     "output_type": "execute_result"
    }
   ],
   "source": [
    "%%sql\n",
    "\n",
    "SELECT * FROM(\n",
    "    SELECT e.employee_id,e.department_id,d.department_name,e.salary,DENSE_RANK(e.salary) OVER (PARTITION BY d.department_name\n",
    "                                                                                     ORDER BY e.salary desc) AS employee_rank\n",
    "    FROM employees e\n",
    "    JOIN departments d ON d.department_id=e.department_id\n",
    "    \n",
    ") q\n",
    "WHERE q.employee_rank <=3\n",
    "ORDER BY q.department_id,q.salary desc"
   ]
  },
  {
   "cell_type": "markdown",
   "metadata": {},
   "source": [
    "### Exercise 4\n",
    "\n",
    "Get top 3 products sold in the month of 2014 January by revenue.\n",
    "\n",
    "* Use retail database tables such as orders, order_items and products.\n",
    "* Highest revenue generating product should come at top.\n",
    "* Output should contain product_id, product_name, revenue, product_rank. **revenue** and **product_rank** are derived fields.\n",
    "* Data should be sorted in descending order by revenue.\n",
    "\n",
    "|product_id|product_name|revenue|product_rank|\n",
    "|---|---|---|---|\n",
    "|1004|Field & Stream Sportsman 16 Gun Fire Safe|250787.46|1|\n",
    "|365|Perfect Fitness Perfect Rip Deck|151474.75|2|\n",
    "|957|Diamondback Women's Serene Classic Comfort Bi|148190.12|3|"
   ]
  },
  {
   "cell_type": "code",
   "execution_count": 3,
   "metadata": {},
   "outputs": [
    {
     "data": {
      "text/plain": [
       "Waiting for a Spark session to start..."
      ]
     },
     "metadata": {},
     "output_type": "display_data",
     "source": "user"
    },
    {
     "data": {
      "text/plain": [
       "++\n",
       "||\n",
       "++\n",
       "++\n",
       "\n"
      ]
     },
     "execution_count": 3,
     "metadata": {},
     "output_type": "execute_result"
    }
   ],
   "source": [
    "%%sql\n",
    "USE itv001477_retail_db"
   ]
  },
  {
   "cell_type": "code",
   "execution_count": 10,
   "metadata": {},
   "outputs": [
    {
     "data": {
      "text/plain": [
       "+----------+--------------------+---------+------------+\n",
       "|product_id|        product_name|  revenue|product_rank|\n",
       "+----------+--------------------+---------+------------+\n",
       "|      1004|Field & Stream Sp...|250787.46|           1|\n",
       "|       365|Perfect Fitness P...|151474.75|           2|\n",
       "|       957|Diamondback Women...|148190.12|           3|\n",
       "+----------+--------------------+---------+------------+\n",
       "\n"
      ]
     },
     "execution_count": 10,
     "metadata": {},
     "output_type": "execute_result"
    }
   ],
   "source": [
    "%%sql\n",
    "\n",
    "SELECT * FROM(\n",
    "    SELECT p.product_id,p.product_name,ROUND(SUM(oi.order_item_subtotal),2) AS revenue,\n",
    "    RANK() OVER (ORDER BY ROUND(SUM(oi.order_item_subtotal),2) desc) as product_rank\n",
    "    FROM products p\n",
    "    JOIN order_items oi on oi.order_item_product_id=p.product_id\n",
    "    JOIN orders o ON oi.order_item_order_id=o.order_id\n",
    "    WHERE o.order_date LIKE '2014-01%' and o.order_status in ('COMPLETE','CLOSED')\n",
    "    GROUP BY p.product_id,p.product_name\n",
    "    \n",
    ") q\n",
    "WHERE product_rank <= 3\n",
    "ORDER BY q.revenue desc"
   ]
  },
  {
   "cell_type": "markdown",
   "metadata": {},
   "source": [
    "### Exercise 5\n",
    "\n",
    "Get top 3 products sold in the month of 2014 January under selected categories by revenue. The categories are **Cardio Equipment** and **Strength Training**.\n",
    "\n",
    "* Use retail database tables such as orders, order_items, products as well as categories.\n",
    "* Highest revenue generating product should come at top.\n",
    "* Output should contain category_id, category_name, product_id, product_name, revenue, product_rank. revenue and product_rank are derived fields.\n",
    "* Data should be sorted in ascending order by category_id and descending order by revenue.\n",
    "\n",
    "|category_id|category_name|product_id|product_name|revenue|product_rank|\n",
    "|---|---|---|---|---|---|\n",
    "|9|Cardio Equipment|191|Nike Men's Free 5.0+ Running Shoe|132286.77|1|\n",
    "|9|Cardio Equipment|172|Nike Women's Tempo Shorts|870.00|2|\n",
    "|10|Strength Training|208|SOLE E35 Elliptical|1999.99|1|\n",
    "|10|Strength Training|203|GoPro HERO3+ Black Edition Camera|1199.97|2|\n",
    "|10|Strength Training|216|Yakima DoubleDown Ace Hitch Mount 4-Bike Rack|189.00|3|"
   ]
  },
  {
   "cell_type": "code",
   "execution_count": 17,
   "metadata": {},
   "outputs": [
    {
     "data": {
      "text/plain": [
       "+-----------+--------...\n"
      ]
     },
     "metadata": {},
     "output_type": "display_data",
     "source": "user"
    },
    {
     "data": {
      "text/plain": [
       "+-----------+-----------------+----------+--------------------+---------+------------+\n",
       "|category_id|    category_name|product_id|        product_name|  revenue|product_rank|\n",
       "+-----------+-----------------+----------+--------------------+---------+------------+\n",
       "|          9| Cardio Equipment|       191|Nike Men's Free 5...|132286.77|           1|\n",
       "|          9| Cardio Equipment|       172|Nike Women's Temp...|    870.0|           2|\n",
       "|         10|Strength Training|       208| SOLE E35 Elliptical|  1999.99|           1|\n",
       "|         10|Strength Training|       203|GoPro HERO3+ Blac...|  1199.97|           2|\n",
       "|         10|Strength Training|       216|Yakima DoubleDown...|    189.0|           3|\n",
       "+-----------+-----------------+----------+--------------------+---------+------------+\n",
       "\n"
      ]
     },
     "execution_count": 17,
     "metadata": {},
     "output_type": "execute_result"
    }
   ],
   "source": [
    "%%sql\n",
    "select * from (\n",
    "    select c.category_id,c.category_name,p.product_id,p.product_name,round(sum(oi.order_item_subtotal),2) as revenue,\n",
    "    DENSE_RANK() over (partition by c.category_name\n",
    "                      order by round(sum(oi.order_item_subtotal),2) desc) as product_rank\n",
    "    from products p\n",
    "    join order_items oi on oi.order_item_product_id=p.product_id\n",
    "    join categories c on c.category_id=p.product_category_id\n",
    "    join orders o on o.order_id=oi.order_item_order_id\n",
    "    where o.order_status in ('COMPLETE','CLOSED') and c.category_name in ('Cardio Equipment','Strength Training') and\n",
    "    o.order_date LIKE '2014-01%'\n",
    "    group by c.category_id,c.category_name,p.product_id,p.product_name\n",
    ") q\n",
    "where q.product_rank <=3\n",
    "ORDER BY q.category_id"
   ]
  },
  {
   "cell_type": "code",
   "execution_count": null,
   "metadata": {},
   "outputs": [],
   "source": []
  }
 ],
 "metadata": {
  "kernelspec": {
   "display_name": "Spark 2 - Scala",
   "language": "scala",
   "name": "spark_2_scala"
  },
  "language_info": {
   "codemirror_mode": "text/x-scala",
   "file_extension": ".scala",
   "mimetype": "text/x-scala",
   "name": "scala",
   "pygments_lexer": "scala",
   "version": "2.11.12"
  }
 },
 "nbformat": 4,
 "nbformat_minor": 4
}
