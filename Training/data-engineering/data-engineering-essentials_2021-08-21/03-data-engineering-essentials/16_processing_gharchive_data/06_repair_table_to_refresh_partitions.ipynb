{
 "cells": [
  {
   "cell_type": "markdown",
   "metadata": {},
   "source": [
    "## Repair table to refresh partitions\n",
    "\n",
    "Let us understand how the folder structures in the table and metadata in metastore for the same table can be kept in synch.\n",
    "* The data, processing engine and catalog (metastore) are decoupled in Spark.\n",
    "* As data, processing and catalog are decoupled, we can deal with the data directly.\n",
    "* If we load the data directly into the metastore tables, the metadata in catalog (or metastore) can be out of synch.\n",
    "* We can use `MSCK REPAIR TABLE` to keep the folder structures and metadata in catalog in synch."
   ]
  },
  {
   "cell_type": "code",
   "execution_count": null,
   "metadata": {},
   "outputs": [],
   "source": [
    "%%sh\n",
    "\n",
    "hdfs dfs -ls /user/${USER}/itvgithub/landing"
   ]
  },
  {
   "cell_type": "code",
   "execution_count": 1,
   "metadata": {},
   "outputs": [],
   "source": [
    "from pyspark.sql import SparkSession\n",
    "\n",
    "import getpass\n",
    "username = getpass.getuser()\n",
    "\n",
    "spark = SparkSession. \\\n",
    "    builder. \\\n",
    "    config('spark.ui.port', '0'). \\\n",
    "    config(\"spark.sql.warehouse.dir\", f\"/user/{username}/warehouse\"). \\\n",
    "    enableHiveSupport(). \\\n",
    "    appName(f'{username} | Analyze GitHub Archive Data'). \\\n",
    "    master('yarn'). \\\n",
    "    getOrCreate()"
   ]
  },
  {
   "cell_type": "code",
   "execution_count": 2,
   "metadata": {},
   "outputs": [],
   "source": [
    "spark.conf.set('spark.sql.shuffle.partitions', 8)"
   ]
  },
  {
   "cell_type": "markdown",
   "metadata": {},
   "source": [
    "* As part of the previous topic, we have already data related to one day. Let us review the data which is already added to the table when table is created using `saveAsTable`."
   ]
  },
  {
   "cell_type": "code",
   "execution_count": 3,
   "metadata": {},
   "outputs": [
    {
     "name": "stdout",
     "output_type": "stream",
     "text": [
      "+-------------------------+\n",
      "|partition                |\n",
      "+-------------------------+\n",
      "|year=2021/month=01/day=13|\n",
      "+-------------------------+\n",
      "\n"
     ]
    }
   ],
   "source": [
    "# There is only one partition at this time\n",
    "spark.sql(f'SHOW PARTITIONS {username}_ghraw_db.ghactivity').show(truncate=False)"
   ]
  },
  {
   "cell_type": "code",
   "execution_count": 4,
   "metadata": {},
   "outputs": [
    {
     "name": "stdout",
     "output_type": "stream",
     "text": [
      "+----------+--------+\n",
      "|created_dt|count(1)|\n",
      "+----------+--------+\n",
      "|2021-01-13| 2829111|\n",
      "+----------+--------+\n",
      "\n"
     ]
    }
   ],
   "source": [
    "# You can see the count for the day for which the partition belongs to.\n",
    "spark.sql(f'''\n",
    "    SELECT substring(created_at, 1, 10) AS created_dt, count(1)\n",
    "    FROM {username}_ghraw_db.ghactivity\n",
    "    GROUP BY created_dt\n",
    "    ORDER BY created_dt\n",
    "'''). \\\n",
    "    show()"
   ]
  },
  {
   "cell_type": "markdown",
   "metadata": {},
   "source": [
    "* Now let us load the data for **2021-01-14**. Here we are loading the data directly using the path of the folder. There is no reference to table any where."
   ]
  },
  {
   "cell_type": "code",
   "execution_count": 5,
   "metadata": {},
   "outputs": [],
   "source": [
    "from pyspark.sql.functions import substring, col\n",
    "process_dt = '2021-01-14'\n",
    "spark.conf.set('spark.sql.shuffle.partitions', 8)\n",
    "ghdata = spark. \\\n",
    "    read. \\\n",
    "    json(f'/user/{username}/itvgithub/landing/{process_dt}-*.json.gz')\n",
    "ghdata = ghdata. \\\n",
    "    withColumn('year', substring('created_at', 1, 4)). \\\n",
    "    withColumn('month', substring('created_at', 6, 2)). \\\n",
    "    withColumn('day', substring('created_at', 9, 2))\n",
    "ghdata. \\\n",
    "    write. \\\n",
    "    mode('append'). \\\n",
    "    partitionBy('year', 'month', 'day'). \\\n",
    "    parquet(f'/user/{username}/warehouse/{username}_ghraw_db.db/ghactivity')"
   ]
  },
  {
   "cell_type": "markdown",
   "metadata": {},
   "source": [
    "* You can run `SHOW PARTITIONS` to list the current partitions based upon the metadata in the metastore.\n",
    "* At this time you will only see one partition as we have directly copied data into the target folder with out referenct to tables.\n",
    "* The metadata in the metastore and the table folder structures related to **ghactivity** are not in sync."
   ]
  },
  {
   "cell_type": "code",
   "execution_count": 6,
   "metadata": {},
   "outputs": [
    {
     "name": "stdout",
     "output_type": "stream",
     "text": [
      "+-------------------------+\n",
      "|partition                |\n",
      "+-------------------------+\n",
      "|year=2021/month=01/day=13|\n",
      "+-------------------------+\n",
      "\n"
     ]
    }
   ],
   "source": [
    "spark.sql(f'SHOW PARTITIONS {username}_ghraw_db.ghactivity').show(truncate=False)"
   ]
  },
  {
   "cell_type": "markdown",
   "metadata": {},
   "source": [
    "* You can confirm that the target location have folders related to both `year=2021/month=01/day=13` as well as `year=2021/month=01/day=14` by running below HDFS Command."
   ]
  },
  {
   "cell_type": "code",
   "execution_count": 7,
   "metadata": {},
   "outputs": [
    {
     "name": "stdout",
     "output_type": "stream",
     "text": [
      "-rw-r--r--   3 itv001477 supergroup          0 2021-12-06 01:31 /user/itv001477/warehouse/itv001477_ghraw_db.db/ghactivity/_SUCCESS\n",
      "drwxr-xr-x   - itv001477 supergroup          0 2021-12-06 00:55 /user/itv001477/warehouse/itv001477_ghraw_db.db/ghactivity/year=2021\n",
      "drwxr-xr-x   - itv001477 supergroup          0 2021-12-06 01:31 /user/itv001477/warehouse/itv001477_ghraw_db.db/ghactivity/year=2021/month=01\n",
      "drwxr-xr-x   - itv001477 supergroup          0 2021-12-06 01:04 /user/itv001477/warehouse/itv001477_ghraw_db.db/ghactivity/year=2021/month=01/day=13\n",
      "-rw-r--r--   3 itv001477 supergroup  172701438 2021-12-06 00:56 /user/itv001477/warehouse/itv001477_ghraw_db.db/ghactivity/year=2021/month=01/day=13/part-00000-6e194789-615a-4cdf-b0dd-68f0e575d685.c000.snappy.parquet\n",
      "-rw-r--r--   3 itv001477 supergroup  176429914 2021-12-06 00:56 /user/itv001477/warehouse/itv001477_ghraw_db.db/ghactivity/year=2021/month=01/day=13/part-00001-6e194789-615a-4cdf-b0dd-68f0e575d685.c000.snappy.parquet\n",
      "-rw-r--r--   3 itv001477 supergroup  165479681 2021-12-06 00:57 /user/itv001477/warehouse/itv001477_ghraw_db.db/ghactivity/year=2021/month=01/day=13/part-00002-6e194789-615a-4cdf-b0dd-68f0e575d685.c000.snappy.parquet\n",
      "-rw-r--r--   3 itv001477 supergroup  165883199 2021-12-06 00:57 /user/itv001477/warehouse/itv001477_ghraw_db.db/ghactivity/year=2021/month=01/day=13/part-00003-6e194789-615a-4cdf-b0dd-68f0e575d685.c000.snappy.parquet\n",
      "-rw-r--r--   3 itv001477 supergroup  156594786 2021-12-06 00:58 /user/itv001477/warehouse/itv001477_ghraw_db.db/ghactivity/year=2021/month=01/day=13/part-00004-6e194789-615a-4cdf-b0dd-68f0e575d685.c000.snappy.parquet\n",
      "-rw-r--r--   3 itv001477 supergroup  147908078 2021-12-06 00:58 /user/itv001477/warehouse/itv001477_ghraw_db.db/ghactivity/year=2021/month=01/day=13/part-00005-6e194789-615a-4cdf-b0dd-68f0e575d685.c000.snappy.parquet\n",
      "-rw-r--r--   3 itv001477 supergroup  152370166 2021-12-06 00:59 /user/itv001477/warehouse/itv001477_ghraw_db.db/ghactivity/year=2021/month=01/day=13/part-00006-6e194789-615a-4cdf-b0dd-68f0e575d685.c000.snappy.parquet\n",
      "-rw-r--r--   3 itv001477 supergroup  147053434 2021-12-06 00:59 /user/itv001477/warehouse/itv001477_ghraw_db.db/ghactivity/year=2021/month=01/day=13/part-00007-6e194789-615a-4cdf-b0dd-68f0e575d685.c000.snappy.parquet\n",
      "-rw-r--r--   3 itv001477 supergroup  143472231 2021-12-06 01:00 /user/itv001477/warehouse/itv001477_ghraw_db.db/ghactivity/year=2021/month=01/day=13/part-00008-6e194789-615a-4cdf-b0dd-68f0e575d685.c000.snappy.parquet\n",
      "-rw-r--r--   3 itv001477 supergroup  139896146 2021-12-06 01:00 /user/itv001477/warehouse/itv001477_ghraw_db.db/ghactivity/year=2021/month=01/day=13/part-00009-6e194789-615a-4cdf-b0dd-68f0e575d685.c000.snappy.parquet\n",
      "-rw-r--r--   3 itv001477 supergroup  127478459 2021-12-06 01:01 /user/itv001477/warehouse/itv001477_ghraw_db.db/ghactivity/year=2021/month=01/day=13/part-00010-6e194789-615a-4cdf-b0dd-68f0e575d685.c000.snappy.parquet\n",
      "-rw-r--r--   3 itv001477 supergroup  123516435 2021-12-06 01:01 /user/itv001477/warehouse/itv001477_ghraw_db.db/ghactivity/year=2021/month=01/day=13/part-00011-6e194789-615a-4cdf-b0dd-68f0e575d685.c000.snappy.parquet\n",
      "-rw-r--r--   3 itv001477 supergroup  124802647 2021-12-06 01:01 /user/itv001477/warehouse/itv001477_ghraw_db.db/ghactivity/year=2021/month=01/day=13/part-00012-6e194789-615a-4cdf-b0dd-68f0e575d685.c000.snappy.parquet\n",
      "-rw-r--r--   3 itv001477 supergroup  246157042 2021-12-06 01:02 /user/itv001477/warehouse/itv001477_ghraw_db.db/ghactivity/year=2021/month=01/day=13/part-00013-6e194789-615a-4cdf-b0dd-68f0e575d685.c000.snappy.parquet\n",
      "-rw-r--r--   3 itv001477 supergroup  227290691 2021-12-06 01:02 /user/itv001477/warehouse/itv001477_ghraw_db.db/ghactivity/year=2021/month=01/day=13/part-00014-6e194789-615a-4cdf-b0dd-68f0e575d685.c000.snappy.parquet\n",
      "-rw-r--r--   3 itv001477 supergroup  199035857 2021-12-06 01:03 /user/itv001477/warehouse/itv001477_ghraw_db.db/ghactivity/year=2021/month=01/day=13/part-00015-6e194789-615a-4cdf-b0dd-68f0e575d685.c000.snappy.parquet\n",
      "-rw-r--r--   3 itv001477 supergroup  178538899 2021-12-06 01:03 /user/itv001477/warehouse/itv001477_ghraw_db.db/ghactivity/year=2021/month=01/day=13/part-00016-6e194789-615a-4cdf-b0dd-68f0e575d685.c000.snappy.parquet\n",
      "-rw-r--r--   3 itv001477 supergroup  169838596 2021-12-06 01:04 /user/itv001477/warehouse/itv001477_ghraw_db.db/ghactivity/year=2021/month=01/day=13/part-00017-6e194789-615a-4cdf-b0dd-68f0e575d685.c000.snappy.parquet\n",
      "-rw-r--r--   3 itv001477 supergroup   74013163 2021-12-06 01:04 /user/itv001477/warehouse/itv001477_ghraw_db.db/ghactivity/year=2021/month=01/day=13/part-00018-6e194789-615a-4cdf-b0dd-68f0e575d685.c000.snappy.parquet\n",
      "drwxr-xr-x   - itv001477 supergroup          0 2021-12-06 01:31 /user/itv001477/warehouse/itv001477_ghraw_db.db/ghactivity/year=2021/month=01/day=14\n",
      "-rw-r--r--   3 itv001477 supergroup  229514490 2021-12-06 01:22 /user/itv001477/warehouse/itv001477_ghraw_db.db/ghactivity/year=2021/month=01/day=14/part-00000-12702168-80f1-49a7-ae0b-aaa4cc809afc.c000.snappy.parquet\n",
      "-rw-r--r--   3 itv001477 supergroup  167352055 2021-12-06 01:22 /user/itv001477/warehouse/itv001477_ghraw_db.db/ghactivity/year=2021/month=01/day=14/part-00001-12702168-80f1-49a7-ae0b-aaa4cc809afc.c000.snappy.parquet\n",
      "-rw-r--r--   3 itv001477 supergroup  162946401 2021-12-06 01:23 /user/itv001477/warehouse/itv001477_ghraw_db.db/ghactivity/year=2021/month=01/day=14/part-00002-12702168-80f1-49a7-ae0b-aaa4cc809afc.c000.snappy.parquet\n",
      "-rw-r--r--   3 itv001477 supergroup  164018361 2021-12-06 01:23 /user/itv001477/warehouse/itv001477_ghraw_db.db/ghactivity/year=2021/month=01/day=14/part-00003-12702168-80f1-49a7-ae0b-aaa4cc809afc.c000.snappy.parquet\n",
      "-rw-r--r--   3 itv001477 supergroup  160898165 2021-12-06 01:24 /user/itv001477/warehouse/itv001477_ghraw_db.db/ghactivity/year=2021/month=01/day=14/part-00004-12702168-80f1-49a7-ae0b-aaa4cc809afc.c000.snappy.parquet\n",
      "-rw-r--r--   3 itv001477 supergroup  153518023 2021-12-06 01:24 /user/itv001477/warehouse/itv001477_ghraw_db.db/ghactivity/year=2021/month=01/day=14/part-00005-12702168-80f1-49a7-ae0b-aaa4cc809afc.c000.snappy.parquet\n",
      "-rw-r--r--   3 itv001477 supergroup  145973857 2021-12-06 01:24 /user/itv001477/warehouse/itv001477_ghraw_db.db/ghactivity/year=2021/month=01/day=14/part-00006-12702168-80f1-49a7-ae0b-aaa4cc809afc.c000.snappy.parquet\n",
      "-rw-r--r--   3 itv001477 supergroup  141606405 2021-12-06 01:25 /user/itv001477/warehouse/itv001477_ghraw_db.db/ghactivity/year=2021/month=01/day=14/part-00007-12702168-80f1-49a7-ae0b-aaa4cc809afc.c000.snappy.parquet\n",
      "-rw-r--r--   3 itv001477 supergroup  142665430 2021-12-06 01:25 /user/itv001477/warehouse/itv001477_ghraw_db.db/ghactivity/year=2021/month=01/day=14/part-00008-12702168-80f1-49a7-ae0b-aaa4cc809afc.c000.snappy.parquet\n",
      "-rw-r--r--   3 itv001477 supergroup  137987856 2021-12-06 01:25 /user/itv001477/warehouse/itv001477_ghraw_db.db/ghactivity/year=2021/month=01/day=14/part-00009-12702168-80f1-49a7-ae0b-aaa4cc809afc.c000.snappy.parquet\n",
      "-rw-r--r--   3 itv001477 supergroup  125728771 2021-12-06 01:26 /user/itv001477/warehouse/itv001477_ghraw_db.db/ghactivity/year=2021/month=01/day=14/part-00010-12702168-80f1-49a7-ae0b-aaa4cc809afc.c000.snappy.parquet\n",
      "-rw-r--r--   3 itv001477 supergroup  110531553 2021-12-06 01:26 /user/itv001477/warehouse/itv001477_ghraw_db.db/ghactivity/year=2021/month=01/day=14/part-00011-12702168-80f1-49a7-ae0b-aaa4cc809afc.c000.snappy.parquet\n",
      "-rw-r--r--   3 itv001477 supergroup  254754996 2021-12-06 01:28 /user/itv001477/warehouse/itv001477_ghraw_db.db/ghactivity/year=2021/month=01/day=14/part-00012-12702168-80f1-49a7-ae0b-aaa4cc809afc.c000.snappy.parquet\n",
      "-rw-r--r--   3 itv001477 supergroup  242003741 2021-12-06 01:28 /user/itv001477/warehouse/itv001477_ghraw_db.db/ghactivity/year=2021/month=01/day=14/part-00013-12702168-80f1-49a7-ae0b-aaa4cc809afc.c000.snappy.parquet\n",
      "-rw-r--r--   3 itv001477 supergroup  221677036 2021-12-06 01:30 /user/itv001477/warehouse/itv001477_ghraw_db.db/ghactivity/year=2021/month=01/day=14/part-00014-12702168-80f1-49a7-ae0b-aaa4cc809afc.c000.snappy.parquet\n",
      "-rw-r--r--   3 itv001477 supergroup  202069624 2021-12-06 01:30 /user/itv001477/warehouse/itv001477_ghraw_db.db/ghactivity/year=2021/month=01/day=14/part-00015-12702168-80f1-49a7-ae0b-aaa4cc809afc.c000.snappy.parquet\n",
      "-rw-r--r--   3 itv001477 supergroup  175234534 2021-12-06 01:30 /user/itv001477/warehouse/itv001477_ghraw_db.db/ghactivity/year=2021/month=01/day=14/part-00016-12702168-80f1-49a7-ae0b-aaa4cc809afc.c000.snappy.parquet\n",
      "-rw-r--r--   3 itv001477 supergroup  162875535 2021-12-06 01:31 /user/itv001477/warehouse/itv001477_ghraw_db.db/ghactivity/year=2021/month=01/day=14/part-00017-12702168-80f1-49a7-ae0b-aaa4cc809afc.c000.snappy.parquet\n"
     ]
    }
   ],
   "source": [
    "%%sh\n",
    "\n",
    "hdfs dfs -ls -R /user/${USER}/warehouse/${USER}_ghraw_db.db/ghactivity"
   ]
  },
  {
   "cell_type": "markdown",
   "metadata": {},
   "source": [
    "* You can run `MSCK REPAIR` command to refresh the data in the metastore as per the folder structures."
   ]
  },
  {
   "cell_type": "code",
   "execution_count": 8,
   "metadata": {},
   "outputs": [
    {
     "data": {
      "text/html": [
       "<table border='1'>\n",
       "<tr><th></th></tr>\n",
       "</table>\n"
      ],
      "text/plain": [
       "++\n",
       "||\n",
       "++\n",
       "++"
      ]
     },
     "execution_count": 8,
     "metadata": {},
     "output_type": "execute_result"
    }
   ],
   "source": [
    "spark.sql(f'''\n",
    "    MSCK REPAIR TABLE {username}_ghraw_db.ghactivity\n",
    "''')"
   ]
  },
  {
   "cell_type": "markdown",
   "metadata": {},
   "source": [
    "* Now we can run `SHOW PARTITIONS` to list the partitions and we should be able to see partitions related to both the days."
   ]
  },
  {
   "cell_type": "code",
   "execution_count": 9,
   "metadata": {},
   "outputs": [
    {
     "name": "stdout",
     "output_type": "stream",
     "text": [
      "+-------------------------+\n",
      "|partition                |\n",
      "+-------------------------+\n",
      "|year=2021/month=01/day=13|\n",
      "|year=2021/month=01/day=14|\n",
      "+-------------------------+\n",
      "\n"
     ]
    }
   ],
   "source": [
    "spark.sql(f'SHOW PARTITIONS {username}_ghraw_db.ghactivity').show(truncate=False)"
   ]
  },
  {
   "cell_type": "markdown",
   "metadata": {},
   "source": [
    "* You can also run this query to see counts for each day. You should see the counts for both the dates.\n",
    "\n",
    "|created_dt|count(1)|\n",
    "|----------|--------|\n",
    "|2021-01-13| 2829111|\n",
    "|2021-01-14| 2857818|\n"
   ]
  },
  {
   "cell_type": "code",
   "execution_count": 10,
   "metadata": {},
   "outputs": [
    {
     "name": "stdout",
     "output_type": "stream",
     "text": [
      "+----------+--------+\n",
      "|created_dt|count(1)|\n",
      "+----------+--------+\n",
      "|2021-01-13| 2829111|\n",
      "|2021-01-14| 2857818|\n",
      "+----------+--------+\n",
      "\n"
     ]
    }
   ],
   "source": [
    "spark.sql(f'''\n",
    "    SELECT substring(created_at, 1, 10) AS created_dt, count(1)\n",
    "    FROM {username}_ghraw_db.ghactivity\n",
    "    GROUP BY created_dt\n",
    "    ORDER BY created_dt\n",
    "'''). \\\n",
    "    show()"
   ]
  },
  {
   "cell_type": "markdown",
   "metadata": {},
   "source": [
    "### Task - Run for additional day\n",
    "\n",
    "As we already have data related to **2021-01-15**, perform below tasks to understand the relevance of managing partitions.\n",
    "* Validate whether you have data for **2021-01-15** or not.\n",
    "* Run the code to read data from JSON files related to **2021-01-15** and populate the target location in respective folders.\n",
    "* Validate whether you are able to see the partitions or not.\n",
    "* Repair table and validate by reviewing the partitions as well as by running count by created_at."
   ]
  },
  {
   "cell_type": "code",
   "execution_count": null,
   "metadata": {},
   "outputs": [],
   "source": [
    "%%sh\n",
    "\n",
    "hdfs dfs -ls /user/${USER}/itvgithub/landing/*2021-01-15*.json.gz"
   ]
  },
  {
   "cell_type": "code",
   "execution_count": 2,
   "metadata": {},
   "outputs": [],
   "source": [
    "from pyspark.sql.functions import substring, col\n",
    "process_dt = '2021-01-15'\n",
    "spark.conf.set('spark.sql.shuffle.partitions', 8)\n",
    "ghdata = spark. \\\n",
    "    read. \\\n",
    "    json(f'/user/{username}/itv-github/landing/{process_dt}-*.json.gz')\n",
    "ghdata = ghdata. \\\n",
    "    withColumn('year', substring('created_at', 1, 4)). \\\n",
    "    withColumn('month', substring('created_at', 6, 2)). \\\n",
    "    withColumn('day', substring('created_at', 9, 2))\n",
    "ghdata. \\\n",
    "    write. \\\n",
    "    mode('append'). \\\n",
    "    partitionBy('year', 'month', 'day'). \\\n",
    "    parquet(f'/user/{username}/warehouse/{username}_ghraw_db.db/ghactivity')"
   ]
  },
  {
   "cell_type": "code",
   "execution_count": 3,
   "metadata": {},
   "outputs": [
    {
     "name": "stdout",
     "output_type": "stream",
     "text": [
      "+-------------------------+\n",
      "|partition                |\n",
      "+-------------------------+\n",
      "|year=2021/month=01/day=13|\n",
      "|year=2021/month=01/day=14|\n",
      "+-------------------------+\n",
      "\n"
     ]
    }
   ],
   "source": [
    "spark.sql(f'SHOW PARTITIONS {username}_ghraw_db.ghactivity').show(truncate=False)"
   ]
  },
  {
   "cell_type": "code",
   "execution_count": 4,
   "metadata": {},
   "outputs": [
    {
     "name": "stdout",
     "output_type": "stream",
     "text": [
      "-rw-r--r--   3 itversity itversity  151059311 2021-06-30 03:48 /user/itversity/warehouse/itversity_ghraw_db.db/ghactivity/year=2021/month=01/day=15/part-00000-8e2a6f57-ac21-4943-a3f1-3a5829d2d920.c000.snappy.parquet\n",
      "-rw-r--r--   3 itversity itversity  151059311 2021-06-30 03:04 /user/itversity/warehouse/itversity_ghraw_db.db/ghactivity/year=2021/month=01/day=15/part-00000-a32e20a4-2deb-4e1e-bcf4-b1703bdc0b6f.c000.snappy.parquet\n",
      "-rw-r--r--   3 itversity itversity  149518106 2021-06-30 03:48 /user/itversity/warehouse/itversity_ghraw_db.db/ghactivity/year=2021/month=01/day=15/part-00001-8e2a6f57-ac21-4943-a3f1-3a5829d2d920.c000.snappy.parquet\n",
      "-rw-r--r--   3 itversity itversity  149518106 2021-06-30 03:04 /user/itversity/warehouse/itversity_ghraw_db.db/ghactivity/year=2021/month=01/day=15/part-00001-a32e20a4-2deb-4e1e-bcf4-b1703bdc0b6f.c000.snappy.parquet\n",
      "-rw-r--r--   3 itversity itversity  147916250 2021-06-30 03:49 /user/itversity/warehouse/itversity_ghraw_db.db/ghactivity/year=2021/month=01/day=15/part-00002-8e2a6f57-ac21-4943-a3f1-3a5829d2d920.c000.snappy.parquet\n",
      "-rw-r--r--   3 itversity itversity  147916250 2021-06-30 03:05 /user/itversity/warehouse/itversity_ghraw_db.db/ghactivity/year=2021/month=01/day=15/part-00002-a32e20a4-2deb-4e1e-bcf4-b1703bdc0b6f.c000.snappy.parquet\n",
      "-rw-r--r--   3 itversity itversity  144758496 2021-06-30 03:49 /user/itversity/warehouse/itversity_ghraw_db.db/ghactivity/year=2021/month=01/day=15/part-00003-8e2a6f57-ac21-4943-a3f1-3a5829d2d920.c000.snappy.parquet\n",
      "-rw-r--r--   3 itversity itversity  144758496 2021-06-30 03:05 /user/itversity/warehouse/itversity_ghraw_db.db/ghactivity/year=2021/month=01/day=15/part-00003-a32e20a4-2deb-4e1e-bcf4-b1703bdc0b6f.c000.snappy.parquet\n",
      "-rw-r--r--   3 itversity itversity  142106300 2021-06-30 03:49 /user/itversity/warehouse/itversity_ghraw_db.db/ghactivity/year=2021/month=01/day=15/part-00004-8e2a6f57-ac21-4943-a3f1-3a5829d2d920.c000.snappy.parquet\n",
      "-rw-r--r--   3 itversity itversity  142106300 2021-06-30 03:05 /user/itversity/warehouse/itversity_ghraw_db.db/ghactivity/year=2021/month=01/day=15/part-00004-a32e20a4-2deb-4e1e-bcf4-b1703bdc0b6f.c000.snappy.parquet\n",
      "-rw-r--r--   3 itversity itversity  124968706 2021-06-30 03:49 /user/itversity/warehouse/itversity_ghraw_db.db/ghactivity/year=2021/month=01/day=15/part-00005-8e2a6f57-ac21-4943-a3f1-3a5829d2d920.c000.snappy.parquet\n",
      "-rw-r--r--   3 itversity itversity  124968706 2021-06-30 03:05 /user/itversity/warehouse/itversity_ghraw_db.db/ghactivity/year=2021/month=01/day=15/part-00005-a32e20a4-2deb-4e1e-bcf4-b1703bdc0b6f.c000.snappy.parquet\n",
      "-rw-r--r--   3 itversity itversity  125987126 2021-06-30 03:50 /user/itversity/warehouse/itversity_ghraw_db.db/ghactivity/year=2021/month=01/day=15/part-00006-8e2a6f57-ac21-4943-a3f1-3a5829d2d920.c000.snappy.parquet\n",
      "-rw-r--r--   3 itversity itversity  125987126 2021-06-30 03:06 /user/itversity/warehouse/itversity_ghraw_db.db/ghactivity/year=2021/month=01/day=15/part-00006-a32e20a4-2deb-4e1e-bcf4-b1703bdc0b6f.c000.snappy.parquet\n",
      "-rw-r--r--   3 itversity itversity  122267508 2021-06-30 03:50 /user/itversity/warehouse/itversity_ghraw_db.db/ghactivity/year=2021/month=01/day=15/part-00007-8e2a6f57-ac21-4943-a3f1-3a5829d2d920.c000.snappy.parquet\n",
      "-rw-r--r--   3 itversity itversity  122267508 2021-06-30 03:06 /user/itversity/warehouse/itversity_ghraw_db.db/ghactivity/year=2021/month=01/day=15/part-00007-a32e20a4-2deb-4e1e-bcf4-b1703bdc0b6f.c000.snappy.parquet\n",
      "-rw-r--r--   3 itversity itversity  236209450 2021-06-30 03:51 /user/itversity/warehouse/itversity_ghraw_db.db/ghactivity/year=2021/month=01/day=15/part-00008-8e2a6f57-ac21-4943-a3f1-3a5829d2d920.c000.snappy.parquet\n",
      "-rw-r--r--   3 itversity itversity  236209450 2021-06-30 03:07 /user/itversity/warehouse/itversity_ghraw_db.db/ghactivity/year=2021/month=01/day=15/part-00008-a32e20a4-2deb-4e1e-bcf4-b1703bdc0b6f.c000.snappy.parquet\n",
      "-rw-r--r--   3 itversity itversity  247010680 2021-06-30 03:51 /user/itversity/warehouse/itversity_ghraw_db.db/ghactivity/year=2021/month=01/day=15/part-00009-8e2a6f57-ac21-4943-a3f1-3a5829d2d920.c000.snappy.parquet\n",
      "-rw-r--r--   3 itversity itversity  247010680 2021-06-30 03:07 /user/itversity/warehouse/itversity_ghraw_db.db/ghactivity/year=2021/month=01/day=15/part-00009-a32e20a4-2deb-4e1e-bcf4-b1703bdc0b6f.c000.snappy.parquet\n",
      "-rw-r--r--   3 itversity itversity  241615603 2021-06-30 03:51 /user/itversity/warehouse/itversity_ghraw_db.db/ghactivity/year=2021/month=01/day=15/part-00010-8e2a6f57-ac21-4943-a3f1-3a5829d2d920.c000.snappy.parquet\n",
      "-rw-r--r--   3 itversity itversity  241615603 2021-06-30 03:07 /user/itversity/warehouse/itversity_ghraw_db.db/ghactivity/year=2021/month=01/day=15/part-00010-a32e20a4-2deb-4e1e-bcf4-b1703bdc0b6f.c000.snappy.parquet\n",
      "-rw-r--r--   3 itversity itversity  226757397 2021-06-30 03:51 /user/itversity/warehouse/itversity_ghraw_db.db/ghactivity/year=2021/month=01/day=15/part-00011-8e2a6f57-ac21-4943-a3f1-3a5829d2d920.c000.snappy.parquet\n",
      "-rw-r--r--   3 itversity itversity  226757397 2021-06-30 03:07 /user/itversity/warehouse/itversity_ghraw_db.db/ghactivity/year=2021/month=01/day=15/part-00011-a32e20a4-2deb-4e1e-bcf4-b1703bdc0b6f.c000.snappy.parquet\n",
      "-rw-r--r--   3 itversity itversity  204026308 2021-06-30 03:52 /user/itversity/warehouse/itversity_ghraw_db.db/ghactivity/year=2021/month=01/day=15/part-00012-8e2a6f57-ac21-4943-a3f1-3a5829d2d920.c000.snappy.parquet\n",
      "-rw-r--r--   3 itversity itversity  204026308 2021-06-30 03:08 /user/itversity/warehouse/itversity_ghraw_db.db/ghactivity/year=2021/month=01/day=15/part-00012-a32e20a4-2deb-4e1e-bcf4-b1703bdc0b6f.c000.snappy.parquet\n",
      "-rw-r--r--   3 itversity itversity  192034180 2021-06-30 03:52 /user/itversity/warehouse/itversity_ghraw_db.db/ghactivity/year=2021/month=01/day=15/part-00013-8e2a6f57-ac21-4943-a3f1-3a5829d2d920.c000.snappy.parquet\n",
      "-rw-r--r--   3 itversity itversity  192034180 2021-06-30 03:08 /user/itversity/warehouse/itversity_ghraw_db.db/ghactivity/year=2021/month=01/day=15/part-00013-a32e20a4-2deb-4e1e-bcf4-b1703bdc0b6f.c000.snappy.parquet\n",
      "-rw-r--r--   3 itversity itversity  172316654 2021-06-30 03:53 /user/itversity/warehouse/itversity_ghraw_db.db/ghactivity/year=2021/month=01/day=15/part-00014-8e2a6f57-ac21-4943-a3f1-3a5829d2d920.c000.snappy.parquet\n",
      "-rw-r--r--   3 itversity itversity  172316654 2021-06-30 03:09 /user/itversity/warehouse/itversity_ghraw_db.db/ghactivity/year=2021/month=01/day=15/part-00014-a32e20a4-2deb-4e1e-bcf4-b1703bdc0b6f.c000.snappy.parquet\n",
      "-rw-r--r--   3 itversity itversity  159178994 2021-06-30 03:53 /user/itversity/warehouse/itversity_ghraw_db.db/ghactivity/year=2021/month=01/day=15/part-00015-8e2a6f57-ac21-4943-a3f1-3a5829d2d920.c000.snappy.parquet\n",
      "-rw-r--r--   3 itversity itversity  159178994 2021-06-30 03:09 /user/itversity/warehouse/itversity_ghraw_db.db/ghactivity/year=2021/month=01/day=15/part-00015-a32e20a4-2deb-4e1e-bcf4-b1703bdc0b6f.c000.snappy.parquet\n"
     ]
    }
   ],
   "source": [
    "%%sh\n",
    "\n",
    "hdfs dfs -ls -R /user/${USER}/warehouse/${USER}_ghraw_db.db/ghactivity/year=2021/month=01/day=15"
   ]
  },
  {
   "cell_type": "code",
   "execution_count": 5,
   "metadata": {},
   "outputs": [
    {
     "data": {
      "text/html": [
       "<table border='1'>\n",
       "<tr><th></th></tr>\n",
       "</table>\n"
      ],
      "text/plain": [
       "++\n",
       "||\n",
       "++\n",
       "++"
      ]
     },
     "execution_count": 5,
     "metadata": {},
     "output_type": "execute_result"
    }
   ],
   "source": [
    "spark.sql(f'''\n",
    "    MSCK REPAIR TABLE {username}_ghraw_db.ghactivity\n",
    "''')"
   ]
  },
  {
   "cell_type": "code",
   "execution_count": 6,
   "metadata": {},
   "outputs": [
    {
     "name": "stdout",
     "output_type": "stream",
     "text": [
      "+-------------------------+\n",
      "|partition                |\n",
      "+-------------------------+\n",
      "|year=2021/month=01/day=13|\n",
      "|year=2021/month=01/day=14|\n",
      "|year=2021/month=01/day=15|\n",
      "+-------------------------+\n",
      "\n"
     ]
    }
   ],
   "source": [
    "spark.sql(f'SHOW PARTITIONS {username}_ghraw_db.ghactivity').show(truncate=False)"
   ]
  },
  {
   "cell_type": "code",
   "execution_count": 8,
   "metadata": {},
   "outputs": [
    {
     "name": "stdout",
     "output_type": "stream",
     "text": [
      "+----------+--------+\n",
      "|created_dt|count(1)|\n",
      "+----------+--------+\n",
      "|2021-01-13| 2829111|\n",
      "|2021-01-14| 2857818|\n",
      "|2021-01-15| 5305800|\n",
      "+----------+--------+\n",
      "\n"
     ]
    }
   ],
   "source": [
    "spark.sql(f'''\n",
    "    SELECT substring(created_at, 1, 10) AS created_dt, count(1)\n",
    "    FROM {username}_ghraw_db.ghactivity\n",
    "    GROUP BY created_dt\n",
    "    ORDER BY created_dt\n",
    "'''). \\\n",
    "    show()"
   ]
  },
  {
   "cell_type": "code",
   "execution_count": null,
   "metadata": {},
   "outputs": [],
   "source": []
  }
 ],
 "metadata": {
  "kernelspec": {
   "display_name": "Pyspark 2",
   "language": "python",
   "name": "pyspark2"
  },
  "language_info": {
   "codemirror_mode": {
    "name": "ipython",
    "version": 3
   },
   "file_extension": ".py",
   "mimetype": "text/x-python",
   "name": "python",
   "nbconvert_exporter": "python",
   "pygments_lexer": "ipython3",
   "version": "3.6.12"
  }
 },
 "nbformat": 4,
 "nbformat_minor": 4
}
