{
 "cells": [
  {
   "cell_type": "markdown",
   "metadata": {},
   "source": [
    "## Overview of Pandas Data Frames\n",
    "\n",
    "While collections are typically the group of objects or tuples or simple strings, we need to parse them to further process the data. This process is tedious at times.\n",
    "* With Data Frames we can define the structure.\n",
    "* Data Frame is nothing but group of rows where each row have multiple attributes with names.\n",
    "* Data Frame is similar to a Database Table or Spreadsheet with Header.\n",
    "* Pandas provide rich and simple functions to convert data in files into Data Frames and process them\n",
    "* Data can be read from files into Data Frame using functions such as read_csv.\n",
    "* We can perform all standard operations on Data Frames.\n",
    "  * Projection or Selection     \n",
    "  * Filtering     \n",
    "  * Aggregations     \n",
    "  * Joins     \n",
    "  * Sorting"
   ]
  },
  {
   "cell_type": "markdown",
   "metadata": {},
   "source": [
    "### Tasks\n",
    "\n",
    "Let us perform few tasks to recap the usage of Pandas Data Frames.\n",
    "    \n",
    "* Read order items data from the location on your system. In mine it is /data/retail_db/order_items/part-00000. Use the information below to define schema.\n",
    "* It has 6 fields with the below names in the same order as specified below.\n",
    "  * order_item_id\n",
    "  * order_item_order_id\n",
    "  * order_item_product_id\n",
    "  * order_item_quantity\n",
    "  * order_item_subtotal\n",
    "  * order_item_product_price"
   ]
  },
  {
   "cell_type": "code",
   "execution_count": 1,
   "metadata": {},
   "outputs": [],
   "source": [
    "import pandas as pd\n",
    "order_items_path = \"/data/retail_db/order_items/part-00000\"\n",
    "order_items = pd. \\\n",
    "    read_csv(order_items_path,\n",
    "             names=[\"order_item_id\", \"order_item_order_id\",\n",
    "                    \"order_item_product_id\", \"order_item_quantity\",\n",
    "                    \"order_item_subtotal\", \"order_item_product_price\"\n",
    "                   ]\n",
    "            )"
   ]
  },
  {
   "cell_type": "markdown",
   "metadata": {},
   "source": [
    "* Project order_item_order_id and order_item_subtotal"
   ]
  },
  {
   "cell_type": "code",
   "execution_count": null,
   "metadata": {},
   "outputs": [],
   "source": [
    "order_items[[\"order_item_id\", \"order_item_subtotal\"]]"
   ]
  },
  {
   "cell_type": "markdown",
   "metadata": {},
   "source": [
    "* Filter for order_item_order_id 2"
   ]
  },
  {
   "cell_type": "code",
   "execution_count": null,
   "metadata": {},
   "outputs": [],
   "source": [
    "order_items.query(\"order_item_order_id == 2\")"
   ]
  },
  {
   "cell_type": "markdown",
   "metadata": {},
   "source": [
    "* Compute revenue for order_item_order_id 2"
   ]
  },
  {
   "cell_type": "code",
   "execution_count": 2,
   "metadata": {},
   "outputs": [
    {
     "data": {
      "text/plain": [
       "579.98"
      ]
     },
     "execution_count": 2,
     "metadata": {},
     "output_type": "execute_result"
    }
   ],
   "source": [
    "order_items. \\\n",
    "    query(\"order_item_order_id == 2\")[\"order_item_subtotal\"]. \\\n",
    "    sum()"
   ]
  },
  {
   "cell_type": "markdown",
   "metadata": {},
   "source": [
    "* Get number of items and revenue for each order id. Give alias to the order revenue as **revenue**."
   ]
  },
  {
   "cell_type": "code",
   "execution_count": 3,
   "metadata": {},
   "outputs": [
    {
     "data": {
      "text/plain": [
       "order_item_order_id\n",
       "1         299.98\n",
       "2         579.98\n",
       "4         699.85\n",
       "5        1129.86\n",
       "7         579.92\n",
       "          ...   \n",
       "68879    1259.97\n",
       "68880     999.77\n",
       "68881     129.99\n",
       "68882     109.99\n",
       "68883    2149.99\n",
       "Name: order_item_subtotal, Length: 57431, dtype: float64"
      ]
     },
     "execution_count": 3,
     "metadata": {},
     "output_type": "execute_result"
    }
   ],
   "source": [
    "order_items. \\\n",
    "    groupby(\"order_item_order_id\")[\"order_item_subtotal\"]. \\\n",
    "    sum()"
   ]
  },
  {
   "cell_type": "code",
   "execution_count": 4,
   "metadata": {},
   "outputs": [
    {
     "data": {
      "text/html": [
       "<div>\n",
       "<style scoped>\n",
       "    .dataframe tbody tr th:only-of-type {\n",
       "        vertical-align: middle;\n",
       "    }\n",
       "\n",
       "    .dataframe tbody tr th {\n",
       "        vertical-align: top;\n",
       "    }\n",
       "\n",
       "    .dataframe thead th {\n",
       "        text-align: right;\n",
       "    }\n",
       "</style>\n",
       "<table border=\"1\" class=\"dataframe\">\n",
       "  <thead>\n",
       "    <tr style=\"text-align: right;\">\n",
       "      <th></th>\n",
       "      <th>revenue</th>\n",
       "      <th>count</th>\n",
       "    </tr>\n",
       "    <tr>\n",
       "      <th>order_item_order_id</th>\n",
       "      <th></th>\n",
       "      <th></th>\n",
       "    </tr>\n",
       "  </thead>\n",
       "  <tbody>\n",
       "    <tr>\n",
       "      <th>1</th>\n",
       "      <td>299.98</td>\n",
       "      <td>1</td>\n",
       "    </tr>\n",
       "    <tr>\n",
       "      <th>2</th>\n",
       "      <td>579.98</td>\n",
       "      <td>3</td>\n",
       "    </tr>\n",
       "    <tr>\n",
       "      <th>4</th>\n",
       "      <td>699.85</td>\n",
       "      <td>4</td>\n",
       "    </tr>\n",
       "    <tr>\n",
       "      <th>5</th>\n",
       "      <td>1129.86</td>\n",
       "      <td>5</td>\n",
       "    </tr>\n",
       "    <tr>\n",
       "      <th>7</th>\n",
       "      <td>579.92</td>\n",
       "      <td>3</td>\n",
       "    </tr>\n",
       "    <tr>\n",
       "      <th>...</th>\n",
       "      <td>...</td>\n",
       "      <td>...</td>\n",
       "    </tr>\n",
       "    <tr>\n",
       "      <th>68879</th>\n",
       "      <td>1259.97</td>\n",
       "      <td>3</td>\n",
       "    </tr>\n",
       "    <tr>\n",
       "      <th>68880</th>\n",
       "      <td>999.77</td>\n",
       "      <td>5</td>\n",
       "    </tr>\n",
       "    <tr>\n",
       "      <th>68881</th>\n",
       "      <td>129.99</td>\n",
       "      <td>1</td>\n",
       "    </tr>\n",
       "    <tr>\n",
       "      <th>68882</th>\n",
       "      <td>109.99</td>\n",
       "      <td>2</td>\n",
       "    </tr>\n",
       "    <tr>\n",
       "      <th>68883</th>\n",
       "      <td>2149.99</td>\n",
       "      <td>2</td>\n",
       "    </tr>\n",
       "  </tbody>\n",
       "</table>\n",
       "<p>57431 rows × 2 columns</p>\n",
       "</div>"
      ],
      "text/plain": [
       "                     revenue  count\n",
       "order_item_order_id                \n",
       "1                     299.98      1\n",
       "2                     579.98      3\n",
       "4                     699.85      4\n",
       "5                    1129.86      5\n",
       "7                     579.92      3\n",
       "...                      ...    ...\n",
       "68879                1259.97      3\n",
       "68880                 999.77      5\n",
       "68881                 129.99      1\n",
       "68882                 109.99      2\n",
       "68883                2149.99      2\n",
       "\n",
       "[57431 rows x 2 columns]"
      ]
     },
     "execution_count": 4,
     "metadata": {},
     "output_type": "execute_result"
    }
   ],
   "source": [
    "order_items. \\\n",
    "    groupby(\"order_item_order_id\")[\"order_item_subtotal\"]. \\\n",
    "    agg(['sum', 'count']). \\\n",
    "    rename(columns={'sum': 'revenue'})"
   ]
  },
  {
   "cell_type": "code",
   "execution_count": null,
   "metadata": {},
   "outputs": [],
   "source": []
  }
 ],
 "metadata": {
  "kernelspec": {
   "display_name": "Python 3",
   "language": "python",
   "name": "python3"
  },
  "language_info": {
   "codemirror_mode": {
    "name": "ipython",
    "version": 3
   },
   "file_extension": ".py",
   "mimetype": "text/x-python",
   "name": "python",
   "nbconvert_exporter": "python",
   "pygments_lexer": "ipython3",
   "version": "3.6.12"
  }
 },
 "nbformat": 4,
 "nbformat_minor": 4
}
