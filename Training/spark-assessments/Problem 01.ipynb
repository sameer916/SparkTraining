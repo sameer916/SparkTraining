{
 "cells": [
  {
   "cell_type": "markdown",
   "metadata": {},
   "source": [
    "## Problem 01\n",
    "\n",
    "Weightage: 10\n",
    "\n",
    "Get all those member details who does not have phone numbers."
   ]
  },
  {
   "cell_type": "markdown",
   "metadata": {},
   "source": [
    "## Data Description\n",
    "\n",
    "All of the address data is available under **/public/addresses**. Here is the schema.\n",
    "```\n",
    "root\n",
    " |-- address: struct (nullable = true)\n",
    " |    |-- city: string (nullable = true)\n",
    " |    |-- postal_code: string (nullable = true)\n",
    " |    |-- state: string (nullable = true)\n",
    " |    |-- street: string (nullable = true)\n",
    " |-- email: string (nullable = true)\n",
    " |-- first_name: string (nullable = true)\n",
    " |-- gender: string (nullable = true)\n",
    " |-- id: long (nullable = true)\n",
    " |-- ip_address: string (nullable = true)\n",
    " |-- last_name: string (nullable = true)\n",
    " |-- phone_numbers: array (nullable = true)\n",
    " |    |-- element: string (containsNull = true)\n",
    "```"
   ]
  },
  {
   "cell_type": "markdown",
   "metadata": {},
   "source": [
    "## Output Requirements\n",
    "\n",
    "* Place the result in the HDFS Directory \n",
    "```\n",
    "/user/`whoami`/mock_test_02/problem01/solution\n",
    "```\n",
    "* Use parquet file format to save the output. Output should be saved in 2 files.\n",
    "* Here are the column names. Data types should be same as input data.\n",
    "```\n",
    " |-- id: long\n",
    " |-- first_name: string\n",
    " |-- last_name: string\n",
    " |-- email: string\n",
    "```\n",
    "* Data should be sorted in ascending order by id."
   ]
  },
  {
   "cell_type": "markdown",
   "metadata": {},
   "source": [
    "## Validation\n",
    "\n",
    "Here are the self validation steps:\n",
    "* Run the following code to create data frame.\n",
    "```\n",
    "import getpass\n",
    "username = getpass.getuser()\n",
    "path = f'/user/{username}/mock_test_02/problem01/solution'\n",
    "data = spark. \\\n",
    "    read. \\\n",
    "    parquet(path)\n",
    "```\n",
    "* Get Schema by running `data.printSchema()`. Output should be as below. Ignore Nullability if it does not match exactly.\n",
    "```\n",
    "root\n",
    " |-- id: long (nullable = true)\n",
    " |-- first_name: string (nullable = true)\n",
    " |-- last_name: string (nullable = true)\n",
    " |-- email: string (nullable = true)\n",
    "```\n",
    "* Get count by running `data.count()`. It should return **258160**.\n",
    "* Run `data.orderBy('id').show()` to validate the data. Output should be like this.\n",
    "\n",
    "| id|first_name|last_name|               email|\n",
    "|---|----------|---------|--------------------|\n",
    "| 16|  Eleonore|   Cordle|ecordlef@printfri...|\n",
    "| 18|     Heddi|   Sackes|hsackesh@business...|\n",
    "| 23|       Zak|    Rigts| zrigtsm@cornell.edu|\n",
    "| 25|     Wiatt|     Wane|    wwaneo@tmall.com|\n",
    "| 26|    Aubrie| Ashworth|aashworthp@networ...|\n",
    "| 28|    Lindsy|  Kellart|lkellartr@istockp...|\n",
    "| 30|    Harman|   Birley|hbirleyt@deliciou...|\n",
    "| 33|     Randa|   Eberst|   reberstw@tamu.edu|\n",
    "| 34|    Stinky| Penniall|spenniallx@domain...|\n",
    "| 35|     Marya|   Rahlof|mrahlofy@oaic.gov.au|\n",
    "| 42|     Peder|  Harring|pharring15@list-m...|\n",
    "| 54|       Row|    Anker|ranker1h@squidoo.com|\n",
    "| 57|    Morgun|      Loy|mloy1k@deviantart...|\n",
    "| 60|  Geoffrey|Ashbridge|gashbridge1n@wufo...|\n",
    "| 61|     Nance|  Gladdis|ngladdis1o@weathe...|\n",
    "| 62|     Allyn|    Monni| amonni1p@devhub.com|\n",
    "| 64|     Kleon|  Tolchar|ktolchar1r@angelf...|\n",
    "| 66|  Georgena|    Ingre|gingre1t@marriott...|\n",
    "| 69|   Belicia|    Trigg|   btrigg1w@army.mil|\n",
    "| 79|  Courtnay|  Umpleby|cumpleby26@trelli...|"
   ]
  },
  {
   "cell_type": "code",
   "execution_count": 1,
   "metadata": {},
   "outputs": [],
   "source": [
    "from pyspark.sql import SparkSession\n",
    "import getpass\n",
    "username = getpass.getuser()\n",
    "spark = SparkSession. \\\n",
    "    builder. \\\n",
    "    config('spark.ui.port', '0'). \\\n",
    "    appName(f'Problem 01 | {username}'). \\\n",
    "    master('yarn'). \\\n",
    "    getOrCreate()"
   ]
  },
  {
   "cell_type": "code",
   "execution_count": 3,
   "metadata": {},
   "outputs": [],
   "source": [
    "spark.conf.set('spark.sql.shuffle.partitions', 2)"
   ]
  },
  {
   "cell_type": "code",
   "execution_count": 2,
   "metadata": {},
   "outputs": [],
   "source": [
    "addressPath=\"/public/addresses/Address-*.json\""
   ]
  },
  {
   "cell_type": "code",
   "execution_count": 4,
   "metadata": {},
   "outputs": [],
   "source": [
    "addressDf=spark.read.json(addressPath)"
   ]
  },
  {
   "cell_type": "code",
   "execution_count": 5,
   "metadata": {},
   "outputs": [
    {
     "name": "stdout",
     "output_type": "stream",
     "text": [
      "+--------------------+--------------------+----------+------+------+---------------+------------+--------------------+\n",
      "|             address|               email|first_name|gender|    id|     ip_address|   last_name|       phone_numbers|\n",
      "+--------------------+--------------------+----------+------+------+---------------+------------+--------------------+\n",
      "|[Honolulu, 96840,...|lbreyt0@tripadvis...|  L;urette|Female|900001|  80.24.165.223|       Breyt|[213-896-1319, 21...|\n",
      "|[Charlotte, 28278...|    nkilrow1@last.fm|     Nixie|Female|900002| 169.186.205.65|      Kilrow|[801-204-0578, 60...|\n",
      "|[Los Angeles, 900...| zeliaz2@storify.com|     Zelig|  Male|900003|    85.93.47.94|       Eliaz|                null|\n",
      "|[Pensacola, 32520...|bbrimblecombe3@li...|     Brook|Female|900004| 229.246.203.59|Brimblecombe|      [228-516-3927]|\n",
      "|[San Antonio, 782...|fmylechreest4@ele...|      Fabe|  Male|900005| 147.180.88.217| Mylechreest|[404-484-7154, 28...|\n",
      "|[Syracuse, 13217,...|rince5@purevolume...|      Ryun|  Male|900006|  183.88.250.97|        Ince|[714-428-9292, 72...|\n",
      "|[Irvine, 92612, C...|eesson6@marketwat...|    Esdras|  Male|900007|  72.211.234.45|       Esson|[305-120-1075, 21...|\n",
      "|[Humble, 77346, T...|   mredfield7@qq.com|   Maynard|  Male|900008|    11.3.177.16|    Redfield|[480-768-1034, 64...|\n",
      "|[Baltimore, 21281...|bcornwell8@unesco...|      Bert|  Male|900009| 176.38.141.146|    Cornwell|                null|\n",
      "|[Lancaster, 17622...|docklin9@amazonaw...|   Dorette|Female|900010|   59.5.159.153|      Ocklin|[801-927-5543, 21...|\n",
      "|[Galveston, 77554...|ksertina@economis...|  Kristian|  Male|900011|  18.140.57.178|      Sertin|      [215-211-9823]|\n",
      "|[Daytona Beach, 3...|bmandalb@archive.org|   Brander|  Male|900012|  117.164.80.32|      Mandal|      [619-732-6649]|\n",
      "|[Boise, 83757, Id...| sonearyc@disqus.com|      Susy|Female|900013|   23.36.96.143|     O'Neary|[832-477-2553, 40...|\n",
      "|[Sarasota, 34233,...|lhambersd@blogger...|   Loralee|Female|900014|   6.232.203.28|     Hambers|[916-497-7931, 85...|\n",
      "|[Bismarck, 58505,...|tdunmoree@cbsnews...|      Tedi|Female|900015|  222.5.187.196|     Dunmore|[573-176-6702, 51...|\n",
      "|[Las Vegas, 89105...|   mbonnettf@com.com|    Maurie|  Male|900016| 246.193.84.104|     Bonnett|[561-112-5164, 90...|\n",
      "|[Wilmington, 1988...|pbritziusg@elpais...|    Pennie|  Male|900017| 69.200.122.155|    Britzius|[801-893-9003, 70...|\n",
      "|[Roanoke, 24014, ...|  sdoh@instagram.com|    Selina|Female|900018|  245.9.202.136|          Do|      [907-343-8039]|\n",
      "|[Fort Lauderdale,...|gkoberai@auda.org.au|    Gregor|  Male|900019|  16.180.68.110|      Kobera|[650-643-8600, 32...|\n",
      "|[Naples, 34114, F...|hkeelinj@biblegat...|   Huntlee|  Male|900020|248.235.111.122|      Keelin|      [908-210-8009]|\n",
      "+--------------------+--------------------+----------+------+------+---------------+------------+--------------------+\n",
      "only showing top 20 rows\n",
      "\n"
     ]
    }
   ],
   "source": [
    "addressDf.show()"
   ]
  },
  {
   "cell_type": "code",
   "execution_count": 14,
   "metadata": {},
   "outputs": [
    {
     "name": "stdout",
     "output_type": "stream",
     "text": [
      "+--------------------+\n",
      "|       phone_numbers|\n",
      "+--------------------+\n",
      "|[213-896-1319, 21...|\n",
      "|[801-204-0578, 60...|\n",
      "|                null|\n",
      "|      [228-516-3927]|\n",
      "|[404-484-7154, 28...|\n",
      "|[714-428-9292, 72...|\n",
      "|[305-120-1075, 21...|\n",
      "|[480-768-1034, 64...|\n",
      "|                null|\n",
      "|[801-927-5543, 21...|\n",
      "|      [215-211-9823]|\n",
      "|      [619-732-6649]|\n",
      "|[832-477-2553, 40...|\n",
      "|[916-497-7931, 85...|\n",
      "|[573-176-6702, 51...|\n",
      "|[561-112-5164, 90...|\n",
      "|[801-893-9003, 70...|\n",
      "|      [907-343-8039]|\n",
      "|[650-643-8600, 32...|\n",
      "|      [908-210-8009]|\n",
      "+--------------------+\n",
      "only showing top 20 rows\n",
      "\n"
     ]
    }
   ],
   "source": [
    "addressDf.select('phone_numbers').show()"
   ]
  },
  {
   "cell_type": "code",
   "execution_count": 7,
   "metadata": {},
   "outputs": [],
   "source": [
    "from pyspark.sql.functions import col,size"
   ]
  },
  {
   "cell_type": "code",
   "execution_count": 20,
   "metadata": {},
   "outputs": [],
   "source": [
    "users=addressDf.select(\"id\",\"first_name\",\"last_name\",\"email\"). \\\n",
    "      filter(col('phone_numbers').isNull()). \\\n",
    "      orderBy('id')"
   ]
  },
  {
   "cell_type": "code",
   "execution_count": 21,
   "metadata": {},
   "outputs": [
    {
     "data": {
      "text/html": [
       "<table border='1'>\n",
       "<tr><th>id</th><th>first_name</th><th>last_name</th><th>email</th></tr>\n",
       "<tr><td>16</td><td>Eleonore</td><td>Cordle</td><td>ecordlef@printfri...</td></tr>\n",
       "<tr><td>18</td><td>Heddi</td><td>Sackes</td><td>hsackesh@business...</td></tr>\n",
       "<tr><td>23</td><td>Zak</td><td>Rigts</td><td>zrigtsm@cornell.edu</td></tr>\n",
       "<tr><td>25</td><td>Wiatt</td><td>Wane</td><td>wwaneo@tmall.com</td></tr>\n",
       "<tr><td>26</td><td>Aubrie</td><td>Ashworth</td><td>aashworthp@networ...</td></tr>\n",
       "<tr><td>28</td><td>Lindsy</td><td>Kellart</td><td>lkellartr@istockp...</td></tr>\n",
       "<tr><td>30</td><td>Harman</td><td>Birley</td><td>hbirleyt@deliciou...</td></tr>\n",
       "<tr><td>33</td><td>Randa</td><td>Eberst</td><td>reberstw@tamu.edu</td></tr>\n",
       "<tr><td>34</td><td>Stinky</td><td>Penniall</td><td>spenniallx@domain...</td></tr>\n",
       "<tr><td>35</td><td>Marya</td><td>Rahlof</td><td>mrahlofy@oaic.gov.au</td></tr>\n",
       "<tr><td>42</td><td>Peder</td><td>Harring</td><td>pharring15@list-m...</td></tr>\n",
       "<tr><td>54</td><td>Row</td><td>Anker</td><td>ranker1h@squidoo.com</td></tr>\n",
       "<tr><td>57</td><td>Morgun</td><td>Loy</td><td>mloy1k@deviantart...</td></tr>\n",
       "<tr><td>60</td><td>Geoffrey</td><td>Ashbridge</td><td>gashbridge1n@wufo...</td></tr>\n",
       "<tr><td>61</td><td>Nance</td><td>Gladdis</td><td>ngladdis1o@weathe...</td></tr>\n",
       "<tr><td>62</td><td>Allyn</td><td>Monni</td><td>amonni1p@devhub.com</td></tr>\n",
       "<tr><td>64</td><td>Kleon</td><td>Tolchar</td><td>ktolchar1r@angelf...</td></tr>\n",
       "<tr><td>66</td><td>Georgena</td><td>Ingre</td><td>gingre1t@marriott...</td></tr>\n",
       "<tr><td>69</td><td>Belicia</td><td>Trigg</td><td>btrigg1w@army.mil</td></tr>\n",
       "<tr><td>79</td><td>Courtnay</td><td>Umpleby</td><td>cumpleby26@trelli...</td></tr>\n",
       "</table>\n",
       "only showing top 20 rows\n"
      ],
      "text/plain": [
       "+---+----------+---------+--------------------+\n",
       "| id|first_name|last_name|               email|\n",
       "+---+----------+---------+--------------------+\n",
       "| 16|  Eleonore|   Cordle|ecordlef@printfri...|\n",
       "| 18|     Heddi|   Sackes|hsackesh@business...|\n",
       "| 23|       Zak|    Rigts| zrigtsm@cornell.edu|\n",
       "| 25|     Wiatt|     Wane|    wwaneo@tmall.com|\n",
       "| 26|    Aubrie| Ashworth|aashworthp@networ...|\n",
       "| 28|    Lindsy|  Kellart|lkellartr@istockp...|\n",
       "| 30|    Harman|   Birley|hbirleyt@deliciou...|\n",
       "| 33|     Randa|   Eberst|   reberstw@tamu.edu|\n",
       "| 34|    Stinky| Penniall|spenniallx@domain...|\n",
       "| 35|     Marya|   Rahlof|mrahlofy@oaic.gov.au|\n",
       "| 42|     Peder|  Harring|pharring15@list-m...|\n",
       "| 54|       Row|    Anker|ranker1h@squidoo.com|\n",
       "| 57|    Morgun|      Loy|mloy1k@deviantart...|\n",
       "| 60|  Geoffrey|Ashbridge|gashbridge1n@wufo...|\n",
       "| 61|     Nance|  Gladdis|ngladdis1o@weathe...|\n",
       "| 62|     Allyn|    Monni| amonni1p@devhub.com|\n",
       "| 64|     Kleon|  Tolchar|ktolchar1r@angelf...|\n",
       "| 66|  Georgena|    Ingre|gingre1t@marriott...|\n",
       "| 69|   Belicia|    Trigg|   btrigg1w@army.mil|\n",
       "| 79|  Courtnay|  Umpleby|cumpleby26@trelli...|\n",
       "+---+----------+---------+--------------------+\n",
       "only showing top 20 rows"
      ]
     },
     "execution_count": 21,
     "metadata": {},
     "output_type": "execute_result"
    }
   ],
   "source": [
    "users"
   ]
  },
  {
   "cell_type": "code",
   "execution_count": 22,
   "metadata": {},
   "outputs": [],
   "source": [
    "users.coalesce(2).write.parquet(f'/user/{username}/mock_test_02/problem01/solution',mode='overwrite')"
   ]
  },
  {
   "cell_type": "markdown",
   "metadata": {},
   "source": [
    "# VALIDATION"
   ]
  },
  {
   "cell_type": "code",
   "execution_count": 23,
   "metadata": {},
   "outputs": [],
   "source": [
    "path = f'/user/{username}/mock_test_02/problem01/solution'\n",
    "data = spark. \\\n",
    "  read. \\\n",
    "  parquet(path)"
   ]
  },
  {
   "cell_type": "code",
   "execution_count": 24,
   "metadata": {},
   "outputs": [
    {
     "name": "stdout",
     "output_type": "stream",
     "text": [
      "root\n",
      " |-- id: long (nullable = true)\n",
      " |-- first_name: string (nullable = true)\n",
      " |-- last_name: string (nullable = true)\n",
      " |-- email: string (nullable = true)\n",
      "\n"
     ]
    }
   ],
   "source": [
    "data.printSchema()"
   ]
  },
  {
   "cell_type": "code",
   "execution_count": 25,
   "metadata": {},
   "outputs": [
    {
     "data": {
      "text/plain": [
       "258160"
      ]
     },
     "execution_count": 25,
     "metadata": {},
     "output_type": "execute_result"
    }
   ],
   "source": [
    "data.count()"
   ]
  },
  {
   "cell_type": "code",
   "execution_count": 26,
   "metadata": {},
   "outputs": [
    {
     "name": "stdout",
     "output_type": "stream",
     "text": [
      "+---+----------+---------+--------------------+\n",
      "| id|first_name|last_name|               email|\n",
      "+---+----------+---------+--------------------+\n",
      "| 16|  Eleonore|   Cordle|ecordlef@printfri...|\n",
      "| 18|     Heddi|   Sackes|hsackesh@business...|\n",
      "| 23|       Zak|    Rigts| zrigtsm@cornell.edu|\n",
      "| 25|     Wiatt|     Wane|    wwaneo@tmall.com|\n",
      "| 26|    Aubrie| Ashworth|aashworthp@networ...|\n",
      "| 28|    Lindsy|  Kellart|lkellartr@istockp...|\n",
      "| 30|    Harman|   Birley|hbirleyt@deliciou...|\n",
      "| 33|     Randa|   Eberst|   reberstw@tamu.edu|\n",
      "| 34|    Stinky| Penniall|spenniallx@domain...|\n",
      "| 35|     Marya|   Rahlof|mrahlofy@oaic.gov.au|\n",
      "| 42|     Peder|  Harring|pharring15@list-m...|\n",
      "| 54|       Row|    Anker|ranker1h@squidoo.com|\n",
      "| 57|    Morgun|      Loy|mloy1k@deviantart...|\n",
      "| 60|  Geoffrey|Ashbridge|gashbridge1n@wufo...|\n",
      "| 61|     Nance|  Gladdis|ngladdis1o@weathe...|\n",
      "| 62|     Allyn|    Monni| amonni1p@devhub.com|\n",
      "| 64|     Kleon|  Tolchar|ktolchar1r@angelf...|\n",
      "| 66|  Georgena|    Ingre|gingre1t@marriott...|\n",
      "| 69|   Belicia|    Trigg|   btrigg1w@army.mil|\n",
      "| 79|  Courtnay|  Umpleby|cumpleby26@trelli...|\n",
      "+---+----------+---------+--------------------+\n",
      "only showing top 20 rows\n",
      "\n"
     ]
    }
   ],
   "source": [
    "data.orderBy('id').show()"
   ]
  },
  {
   "cell_type": "code",
   "execution_count": null,
   "metadata": {},
   "outputs": [],
   "source": []
  }
 ],
 "metadata": {
  "kernelspec": {
   "display_name": "Pyspark 2",
   "language": "python",
   "name": "pyspark2"
  },
  "language_info": {
   "codemirror_mode": {
    "name": "ipython",
    "version": 3
   },
   "file_extension": ".py",
   "mimetype": "text/x-python",
   "name": "python",
   "nbconvert_exporter": "python",
   "pygments_lexer": "ipython3",
   "version": "3.6.12"
  }
 },
 "nbformat": 4,
 "nbformat_minor": 4
}
