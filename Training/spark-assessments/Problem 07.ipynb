{
 "cells": [
  {
   "cell_type": "markdown",
   "metadata": {},
   "source": [
    "## Problem 07\n",
    "\n",
    "Weightage: 25\n",
    "\n",
    "Get Station Name, latitude, longitude and number of bikes started from each station using **startstationid** for each day in the data set."
   ]
  },
  {
   "cell_type": "markdown",
   "metadata": {},
   "source": [
    "## Data Description\n",
    "All of the citibike trip data is available under **/public/citibike/trips**. It contain multiple folders - one for each month. Here is the schema.\n",
    "\n",
    "```\n",
    "root\n",
    " |-- tripduration: integer (nullable = true)\n",
    " |-- starttime: timestamp (nullable = true)\n",
    " |-- stoptime: timestamp (nullable = true)\n",
    " |-- startstationid: string (nullable = true)\n",
    " |-- endstationid: string (nullable = true)\n",
    " |-- bikeid: integer (nullable = true)\n",
    " |-- usertype: string (nullable = true)\n",
    " |-- birthyear: string (nullable = true)\n",
    " |-- gender: integer (nullable = true)\n",
    " |-- month: integer (nullable = true)\n",
    "```\n",
    "All of the citibike station data is available under **/public/citibike/stations**. \n",
    "```\n",
    "root\n",
    " |-- stationid: long (nullable = true)\n",
    " |-- stationlatitude: string (nullable = true)\n",
    " |-- stationlongitude: string (nullable = true)\n",
    " |-- stationname: string (nullable = true)\n",
    "```"
   ]
  },
  {
   "cell_type": "markdown",
   "metadata": {},
   "source": [
    "## Output Requirements\n",
    "* Place the result in the HDFS Directory \n",
    "```\n",
    "/user/`whoami`/mock_test_02/problem07/solution\n",
    "```\n",
    "* Use CSV and save the output to exactly 2 files. Make sure to preserve the header.\n",
    "* Here are the column names. Data types should be as below.\n",
    "```\n",
    " |-- stationname: string (nullable = true)\n",
    " |-- stationlatitude: double (nullable = true)\n",
    " |-- stationlongitude: double (nullable = true)\n",
    " |-- ridestartdate: integer (nullable = true)\n",
    " |-- ridecount: integer (nullable = true)\n",
    "```\n",
    "* Data should be sorted in ascending order by ridestartdate and then in descending order by ridecount."
   ]
  },
  {
   "cell_type": "markdown",
   "metadata": {},
   "source": [
    "## Validation\n",
    "\n",
    "Here are the self validation steps:\n",
    "* Run the following to check number of files.\n",
    "```\n",
    "hdfs dfs -ls /user/`whoami`/mock_test_02/problem07/solution\n",
    "```\n",
    "* Run this code to create dataframe by name data.\n",
    "```\n",
    "import getpass\n",
    "username = getpass.getuser()\n",
    "data = spark.read. \\\n",
    "    csv(f'/user/{username}/mock_test_02/problem07/solution',\n",
    "        header=True,\n",
    "        inferSchema=True\n",
    "       )\n",
    "```\n",
    "* Run `data.printSchema()` to validate the data types of the fields.\n",
    "```\n",
    "root\n",
    " |-- stationname: string (nullable = true)\n",
    " |-- stationlatitude: double (nullable = true)\n",
    " |-- stationlongitude: double (nullable = true)\n",
    " |-- ridestartdate: integer (nullable = true)\n",
    " |-- ridecount: integer (nullable = true)\n",
    "```\n",
    "* Run `data.count()` to validate number of records. It should be **785303**\n",
    "* Run `data.orderBy(col('ridestartdate'), col('ridecount').desc()).show()` to preview the sample output.\n",
    "\n",
    "|         stationname|  stationlatitude| stationlongitude|ridestartdate|ridecount|\n",
    "|--------------------|-----------------|-----------------|-------------|---------|\n",
    "|Central Park S & ...|      40.76590936|     -73.97634151|     20170101|      160|\n",
    "|Centre St & Chamb...|      40.71273266|      -74.0046073|     20170101|      126|\n",
    "|  Broadway & W 60 St|      40.76915505|     -73.98191841|     20170101|      114|\n",
    "|  Broadway & E 14 St|           40.734|          -73.992|     20170101|      110|\n",
    "|Central Park West...|40.77579376683666|-73.9762057363987|     20170101|      103|\n",
    "|West St & Chamber...|      40.71754834|     -74.01322069|     20170101|      101|\n",
    "|Central Park Nort...|        40.799484|       -73.955613|     20170101|       98|\n",
    "|  Carmine St & 6 Ave|      40.73038599|     -74.00214988|     20170101|       97|\n",
    "|Allen St & Stanto...|        40.722055|       -73.989111|     20170101|       96|\n",
    "|     9 Ave & W 22 St|       40.7454973|     -74.00197139|     20170101|       96|\n",
    "|     5 Ave & E 88 St|           40.782|          -73.959|     20170101|       94|\n",
    "|Grand Army Plaza ...|           40.764|          -73.974|     20170101|       93|\n",
    "|     5 Ave & E 73 St|      40.77282817|     -73.96685276|     20170101|       89|\n",
    "|Christopher St & ...|      40.73291553|     -74.00711384|     20170101|       89|\n",
    "|Central Park West...|      40.78472675|     -73.96961715|     20170101|       85|\n",
    "|Grand Army Plaza ...|       40.6729679|     -73.97087984|     20170101|       82|\n",
    "|Grand St & Elizab...|        40.718822|        -73.99596|     20170101|       82|\n",
    "|Greenwich Ave & 8...|    40.7390169121|   -74.0026376103|     20170101|       82|\n",
    "|Central Park West...|       40.7734066|     -73.97782542|     20170101|       80|\n",
    "|    12 Ave & W 40 St|      40.76087502|     -74.00277668|     20170101|       80|\n"
   ]
  },
  {
   "cell_type": "code",
   "execution_count": 1,
   "metadata": {},
   "outputs": [],
   "source": [
    "from pyspark.sql import SparkSession\n",
    "import getpass\n",
    "username = getpass.getuser()\n",
    "spark = SparkSession. \\\n",
    "    builder. \\\n",
    "    config('spark.ui.port', '0'). \\\n",
    "    appName(f'Problem 07 | {username}'). \\\n",
    "    master('yarn'). \\\n",
    "    getOrCreate()"
   ]
  },
  {
   "cell_type": "code",
   "execution_count": 2,
   "metadata": {},
   "outputs": [],
   "source": [
    "spark.conf.set('spark.sql.shuffle.partitions', 2)"
   ]
  },
  {
   "cell_type": "code",
   "execution_count": 13,
   "metadata": {},
   "outputs": [],
   "source": [
    "cityBikePath=\"/public/citibike/trips/month=*/part-*.csv.gz\"\n",
    "cityBikeDf=spark.read.csv(cityBikePath,header=True)"
   ]
  },
  {
   "cell_type": "code",
   "execution_count": 14,
   "metadata": {},
   "outputs": [
    {
     "name": "stdout",
     "output_type": "stream",
     "text": [
      "+------------+--------------------+--------------------+--------------+------------+------+----------+---------+------+\n",
      "|tripduration|           starttime|            stoptime|startstationid|endstationid|bikeid|  usertype|birthyear|gender|\n",
      "+------------+--------------------+--------------------+--------------+------------+------+----------+---------+------+\n",
      "|         327|2019-09-01T00:00:...|2019-09-01T00:05:...|          3733|         504| 39213|Subscriber|     1968|     1|\n",
      "|        2219|2019-09-29T12:04:...|2019-09-29T12:41:...|          3372|        3686| 18261|Subscriber|     1974|     2|\n",
      "|        1145|2019-09-01T00:00:...|2019-09-01T00:19:...|          3329|         270| 21257|  Customer|     1969|     0|\n",
      "|         816|2019-09-29T12:04:...|2019-09-29T12:18:...|           476|         168| 34200|Subscriber|     1974|     2|\n",
      "|        1293|2019-09-01T00:00:...|2019-09-01T00:21:...|          3168|         423| 15242|  Customer|     1969|     0|\n",
      "|         886|2019-09-29T12:04:...|2019-09-29T12:19:...|          3531|        3289| 41360|Subscriber|     1953|     1|\n",
      "|        1753|2019-09-01T00:00:...|2019-09-01T00:29:...|          3299|        3160| 38760|Subscriber|     1990|     1|\n",
      "|        1045|2019-09-29T12:04:...|2019-09-29T12:21:...|           305|        3810| 41566|Subscriber|     1964|     1|\n",
      "|         613|2019-09-01T00:00:...|2019-09-01T00:10:...|           486|         478| 32094|Subscriber|     1992|     1|\n",
      "|         342|2019-09-29T12:04:...|2019-09-29T12:10:...|          3255|         523| 38391|Subscriber|     1967|     2|\n",
      "|         482|2019-09-01T00:00:...|2019-09-01T00:08:...|          3775|        3771| 28271|  Customer|     1969|     0|\n",
      "|         650|2019-09-29T12:04:...|2019-09-29T12:15:...|          3173|          72| 32294|  Customer|     1989|     1|\n",
      "|         489|2019-09-01T00:00:...|2019-09-01T00:08:...|          3775|        3771| 39424|  Customer|     1969|     0|\n",
      "|         654|2019-09-29T12:04:...|2019-09-29T12:15:...|           247|        3788| 40478|  Customer|     1969|     0|\n",
      "|        1571|2019-09-01T00:00:...|2019-09-01T00:26:...|           387|        3440| 38711|  Customer|     1969|     0|\n",
      "|        1392|2019-09-29T12:04:...|2019-09-29T12:27:...|           482|         482| 29858|  Customer|     1998|     1|\n",
      "|         571|2019-09-01T00:00:...|2019-09-01T00:09:...|           440|         505| 31619|Subscriber|     1995|     1|\n",
      "|        1565|2019-09-29T12:04:...|2019-09-29T12:30:...|          3254|        3254| 21120|  Customer|     1969|     0|\n",
      "|         232|2019-09-01T00:00:...|2019-09-01T00:04:...|          3071|        3082| 16158|  Customer|     1969|     0|\n",
      "|         470|2019-09-29T12:04:...|2019-09-29T12:12:...|          3581|         353| 39270|Subscriber|     1980|     1|\n",
      "+------------+--------------------+--------------------+--------------+------------+------+----------+---------+------+\n",
      "only showing top 20 rows\n",
      "\n"
     ]
    }
   ],
   "source": [
    "cityBikeDf.show()"
   ]
  },
  {
   "cell_type": "code",
   "execution_count": 4,
   "metadata": {},
   "outputs": [
    {
     "data": {
      "text/plain": [
       "54464729"
      ]
     },
     "execution_count": 4,
     "metadata": {},
     "output_type": "execute_result"
    }
   ],
   "source": [
    "cityBikeDf.count()"
   ]
  },
  {
   "cell_type": "code",
   "execution_count": 5,
   "metadata": {},
   "outputs": [],
   "source": [
    "stationsPath=\"/public/citibike/stations/part-*.json\"\n",
    "stationsDf=spark.read.json(stationsPath)"
   ]
  },
  {
   "cell_type": "code",
   "execution_count": 6,
   "metadata": {},
   "outputs": [
    {
     "data": {
      "text/plain": [
       "1026"
      ]
     },
     "execution_count": 6,
     "metadata": {},
     "output_type": "execute_result"
    }
   ],
   "source": [
    "stationsDf.count()"
   ]
  },
  {
   "cell_type": "code",
   "execution_count": 7,
   "metadata": {},
   "outputs": [],
   "source": [
    "from pyspark.sql.functions import col,lit,date_format,count"
   ]
  },
  {
   "cell_type": "code",
   "execution_count": 19,
   "metadata": {},
   "outputs": [],
   "source": [
    "resultDf=cityBikeDf.join(stationsDf,on=cityBikeDf['startstationid']==stationsDf['stationid']). \\\n",
    "    withColumn('ridestartdate',date_format(cityBikeDf['starttime'],'yyyyMMdd')). \\\n",
    "    groupBy(stationsDf['stationname'],stationsDf['stationlatitude'],stationsDf['stationlongitude'],'ridestartdate'). \\\n",
    "    agg(count(lit(1)).alias('ridecount')). \\\n",
    "    orderBy(col('ridestartdate'),col('ridecount').desc())"
   ]
  },
  {
   "cell_type": "code",
   "execution_count": 21,
   "metadata": {},
   "outputs": [],
   "source": [
    "resultDf.coalesce(2). \\\n",
    "    write.option('header','true'). \\\n",
    "    csv(f'/user/{username}/mock_test_02/problem07/solution')"
   ]
  },
  {
   "cell_type": "markdown",
   "metadata": {},
   "source": [
    "# Validations"
   ]
  },
  {
   "cell_type": "code",
   "execution_count": 22,
   "metadata": {},
   "outputs": [
    {
     "name": "stdout",
     "output_type": "stream",
     "text": [
      "Found 3 items\n",
      "-rw-r--r--   3 itv001477 supergroup          0 2021-12-10 02:29 /user/itv001477/mock_test_02/problem07/solution/_SUCCESS\n",
      "-rw-r--r--   3 itv001477 supergroup   22527254 2021-12-10 02:29 /user/itv001477/mock_test_02/problem07/solution/part-00000-d96ae177-c227-4e02-a2dc-b7dbe0066531-c000.csv\n",
      "-rw-r--r--   3 itv001477 supergroup   22222399 2021-12-10 02:29 /user/itv001477/mock_test_02/problem07/solution/part-00001-d96ae177-c227-4e02-a2dc-b7dbe0066531-c000.csv\n"
     ]
    }
   ],
   "source": [
    "%%sh\n",
    "hdfs dfs -ls /user/`whoami`/mock_test_02/problem07/solution"
   ]
  },
  {
   "cell_type": "code",
   "execution_count": 23,
   "metadata": {},
   "outputs": [],
   "source": [
    "data = spark.read. \\\n",
    "  csv(f'/user/{username}/mock_test_02/problem07/solution',\n",
    "      header=True,\n",
    "      inferSchema=True\n",
    "     )"
   ]
  },
  {
   "cell_type": "code",
   "execution_count": 24,
   "metadata": {},
   "outputs": [
    {
     "name": "stdout",
     "output_type": "stream",
     "text": [
      "root\n",
      " |-- stationname: string (nullable = true)\n",
      " |-- stationlatitude: double (nullable = true)\n",
      " |-- stationlongitude: double (nullable = true)\n",
      " |-- ridestartdate: integer (nullable = true)\n",
      " |-- ridecount: integer (nullable = true)\n",
      "\n"
     ]
    }
   ],
   "source": [
    "data.printSchema()"
   ]
  },
  {
   "cell_type": "code",
   "execution_count": 25,
   "metadata": {},
   "outputs": [
    {
     "data": {
      "text/plain": [
       "785303"
      ]
     },
     "execution_count": 25,
     "metadata": {},
     "output_type": "execute_result"
    }
   ],
   "source": [
    "data.count()"
   ]
  },
  {
   "cell_type": "code",
   "execution_count": 26,
   "metadata": {},
   "outputs": [
    {
     "name": "stdout",
     "output_type": "stream",
     "text": [
      "+--------------------+-----------------+-----------------+-------------+---------+\n",
      "|         stationname|  stationlatitude| stationlongitude|ridestartdate|ridecount|\n",
      "+--------------------+-----------------+-----------------+-------------+---------+\n",
      "|Central Park S & ...|      40.76590936|     -73.97634151|     20170101|      160|\n",
      "|Centre St & Chamb...|      40.71273266|      -74.0046073|     20170101|      126|\n",
      "|  Broadway & W 60 St|      40.76915505|     -73.98191841|     20170101|      114|\n",
      "|  Broadway & E 14 St|           40.734|          -73.992|     20170101|      110|\n",
      "|Central Park West...|40.77579376683666|-73.9762057363987|     20170101|      103|\n",
      "|West St & Chamber...|      40.71754834|     -74.01322069|     20170101|      101|\n",
      "|Central Park Nort...|        40.799484|       -73.955613|     20170101|       98|\n",
      "|  Carmine St & 6 Ave|      40.73038599|     -74.00214988|     20170101|       97|\n",
      "|Allen St & Stanto...|        40.722055|       -73.989111|     20170101|       96|\n",
      "|     9 Ave & W 22 St|       40.7454973|     -74.00197139|     20170101|       96|\n",
      "|     5 Ave & E 88 St|           40.782|          -73.959|     20170101|       94|\n",
      "|Grand Army Plaza ...|           40.764|          -73.974|     20170101|       93|\n",
      "|Christopher St & ...|      40.73291553|     -74.00711384|     20170101|       89|\n",
      "|     5 Ave & E 73 St|      40.77282817|     -73.96685276|     20170101|       89|\n",
      "|Central Park West...|      40.78472675|     -73.96961715|     20170101|       85|\n",
      "|Greenwich Ave & 8...|    40.7390169121|   -74.0026376103|     20170101|       82|\n",
      "|Grand St & Elizab...|        40.718822|        -73.99596|     20170101|       82|\n",
      "|Grand Army Plaza ...|       40.6729679|     -73.97087984|     20170101|       82|\n",
      "|    12 Ave & W 40 St|      40.76087502|     -74.00277668|     20170101|       80|\n",
      "|Central Park West...|      40.77896784|     -73.97374737|     20170101|       80|\n",
      "+--------------------+-----------------+-----------------+-------------+---------+\n",
      "only showing top 20 rows\n",
      "\n"
     ]
    }
   ],
   "source": [
    "data.orderBy(col('ridestartdate'), col('ridecount').desc()).show()"
   ]
  },
  {
   "cell_type": "code",
   "execution_count": null,
   "metadata": {},
   "outputs": [],
   "source": []
  }
 ],
 "metadata": {
  "kernelspec": {
   "display_name": "Pyspark 2",
   "language": "python",
   "name": "pyspark2"
  },
  "language_info": {
   "codemirror_mode": {
    "name": "ipython",
    "version": 3
   },
   "file_extension": ".py",
   "mimetype": "text/x-python",
   "name": "python",
   "nbconvert_exporter": "python",
   "pygments_lexer": "ipython3",
   "version": "3.6.12"
  }
 },
 "nbformat": 4,
 "nbformat_minor": 4
}
