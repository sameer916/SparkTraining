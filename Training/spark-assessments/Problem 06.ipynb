{
 "cells": [
  {
   "cell_type": "markdown",
   "metadata": {},
   "source": [
    "## Problem 06\n",
    "\n",
    "Weightage: 25\n",
    "\n",
    "Get cities with top ten female member count from each state. There is a chance that more than 1 city might get the same rank if the counts are same. You need to get all the cities which contain top ten female member count from each state."
   ]
  },
  {
   "cell_type": "code",
   "execution_count": null,
   "metadata": {},
   "outputs": [],
   "source": [
    "[5, 4, 4, 3, 3, 2]"
   ]
  },
  {
   "cell_type": "markdown",
   "metadata": {},
   "source": [
    "## Data Description\n",
    "\n",
    "All of the address data is available under **/public/addresses**. Here is the schema.\n",
    "```\n",
    "root\n",
    " |-- address: struct (nullable = true)\n",
    " |    |-- city: string (nullable = true)\n",
    " |    |-- postal_code: string (nullable = true)\n",
    " |    |-- state: string (nullable = true)\n",
    " |    |-- street: string (nullable = true)\n",
    " |-- email: string (nullable = true)\n",
    " |-- first_name: string (nullable = true)\n",
    " |-- gender: string (nullable = true)\n",
    " |-- id: long (nullable = true)\n",
    " |-- ip_address: string (nullable = true)\n",
    " |-- last_name: string (nullable = true)\n",
    " |-- phone_numbers: array (nullable = true)\n",
    " |    |-- element: string (containsNull = true)\n",
    "```"
   ]
  },
  {
   "cell_type": "markdown",
   "metadata": {},
   "source": [
    "## Output Requirements\n",
    "* Place the result in the HDFS Directory \n",
    "```\n",
    "/user/`whoami`/mock_test_02/problem06/solution\n",
    "```\n",
    "* Use CSV and save the output to exactly one file. Make sure to preserve the header.\n",
    "* Here are the column names. Data types should be same as input data.\n",
    "```\n",
    " |-- state: string\n",
    " |-- city:string\n",
    " |-- female_count: long\n",
    "```\n",
    "* Data should be sorted in ascending order by state and then in descending order by count."
   ]
  },
  {
   "cell_type": "markdown",
   "metadata": {},
   "source": [
    "## Validation\n",
    "\n",
    "Here are the self validation steps:\n",
    "* Run the following to check number of files.\n",
    "```\n",
    "hdfs dfs -ls /user/`whoami`/mock_test_02/problem06/solution\n",
    "```\n",
    "* Run the following to validate the data. Review the data to see if it is sorted in ascending order by state and then in descending order by count.\n",
    "```\n",
    "hdfs dfs -cat /user/`whoami`/mock_test_02/problem06/solution/part*\n",
    "```\n",
    "* Run this command to get the count including header. Result should be 320.\n",
    "```\n",
    "hdfs dfs -cat /user/`whoami`/mock_test_02/problem06/solution/part*|wc -l\n",
    "```\n"
   ]
  },
  {
   "cell_type": "code",
   "execution_count": 1,
   "metadata": {},
   "outputs": [],
   "source": [
    "from pyspark.sql import SparkSession\n",
    "import getpass\n",
    "username = getpass.getuser()\n",
    "spark = SparkSession. \\\n",
    "    builder. \\\n",
    "    config('spark.ui.port', '0'). \\\n",
    "    appName(f'Problem 06 | {username}'). \\\n",
    "    master('yarn'). \\\n",
    "    getOrCreate()"
   ]
  },
  {
   "cell_type": "code",
   "execution_count": 2,
   "metadata": {},
   "outputs": [],
   "source": [
    "spark.conf.set('spark.sql.shuffle.partitions', 2)"
   ]
  },
  {
   "cell_type": "code",
   "execution_count": 3,
   "metadata": {},
   "outputs": [],
   "source": [
    "addressPath=\"/public/addresses/Address-*.json\"\n",
    "addressDf=spark.read.json(addressPath)"
   ]
  },
  {
   "cell_type": "code",
   "execution_count": 5,
   "metadata": {},
   "outputs": [],
   "source": [
    "from pyspark.sql.functions import col,dense_rank,count\n",
    "from pyspark.sql.window import Window"
   ]
  },
  {
   "cell_type": "code",
   "execution_count": 13,
   "metadata": {},
   "outputs": [],
   "source": [
    "spec=Window.partitionBy(\"state\"). \\\n",
    "            orderBy(col(\"female_count\").desc())"
   ]
  },
  {
   "cell_type": "code",
   "execution_count": 8,
   "metadata": {},
   "outputs": [
    {
     "data": {
      "text/html": [
       "<table border='1'>\n",
       "<tr><th>gender</th></tr>\n",
       "<tr><td>Female</td></tr>\n",
       "<tr><td>Male</td></tr>\n",
       "</table>\n"
      ],
      "text/plain": [
       "+------+\n",
       "|gender|\n",
       "+------+\n",
       "|Female|\n",
       "|  Male|\n",
       "+------+"
      ]
     },
     "execution_count": 8,
     "metadata": {},
     "output_type": "execute_result"
    }
   ],
   "source": [
    "addressDf.select('gender').distinct()"
   ]
  },
  {
   "cell_type": "code",
   "execution_count": 9,
   "metadata": {},
   "outputs": [],
   "source": [
    "filteredDf=addressDf.filter(col(\"gender\")==\"Female\")"
   ]
  },
  {
   "cell_type": "code",
   "execution_count": 10,
   "metadata": {},
   "outputs": [],
   "source": [
    "countDf=filteredDf.groupBy(\"address.state\",\"address.city\"). \\\n",
    "                agg(count(\"id\").alias(\"female_count\"))"
   ]
  },
  {
   "cell_type": "code",
   "execution_count": 19,
   "metadata": {},
   "outputs": [],
   "source": [
    "resultDf=countDf.withColumn(\"rnk\",dense_rank().over(spec)). \\\n",
    "                filter(col(\"rnk\")<=10). \\\n",
    "            select(\"state\",\"city\",\"female_count\"). \\\n",
    "            orderBy(col(\"state\"),col(\"female_count\").desc())"
   ]
  },
  {
   "cell_type": "code",
   "execution_count": 20,
   "metadata": {},
   "outputs": [
    {
     "name": "stdout",
     "output_type": "stream",
     "text": [
      "+-------+---------------+------------+\n",
      "|  state|           city|female_count|\n",
      "+-------+---------------+------------+\n",
      "|Alabama|     Birmingham|        3980|\n",
      "|Alabama|     Montgomery|        2132|\n",
      "|Alabama|         Mobile|        2093|\n",
      "|Alabama|     Huntsville|        1036|\n",
      "|Alabama|     Tuscaloosa|         544|\n",
      "|Alabama|       Anniston|         253|\n",
      "|Alabama|        Gadsden|         248|\n",
      "| Alaska|      Anchorage|        1389|\n",
      "| Alaska|      Fairbanks|         563|\n",
      "| Alaska|         Juneau|         267|\n",
      "|Arizona|        Phoenix|        4361|\n",
      "|Arizona|         Tucson|        2614|\n",
      "|Arizona|           Mesa|         779|\n",
      "|Arizona|     Scottsdale|         773|\n",
      "|Arizona|       Glendale|         521|\n",
      "|Arizona|       Prescott|         278|\n",
      "|Arizona|         Peoria|         274|\n",
      "|Arizona|       Chandler|         274|\n",
      "|Arizona|        Gilbert|         273|\n",
      "|Arizona|Apache Junction|         260|\n",
      "+-------+---------------+------------+\n",
      "only showing top 20 rows\n",
      "\n"
     ]
    }
   ],
   "source": [
    "resultDf.show()"
   ]
  },
  {
   "cell_type": "code",
   "execution_count": 21,
   "metadata": {},
   "outputs": [
    {
     "data": {
      "text/plain": [
       "319"
      ]
     },
     "execution_count": 21,
     "metadata": {},
     "output_type": "execute_result"
    }
   ],
   "source": [
    "resultDf.count()"
   ]
  },
  {
   "cell_type": "code",
   "execution_count": 22,
   "metadata": {},
   "outputs": [],
   "source": [
    "resultDf.coalesce(1).write. \\\n",
    "    option(\"header\",\"true\"). \\\n",
    "    csv(f\"/user/{username}/mock_test_02/problem06/solution\")"
   ]
  },
  {
   "cell_type": "markdown",
   "metadata": {},
   "source": [
    "# Validations"
   ]
  },
  {
   "cell_type": "code",
   "execution_count": 23,
   "metadata": {},
   "outputs": [
    {
     "name": "stdout",
     "output_type": "stream",
     "text": [
      "Found 2 items\n",
      "-rw-r--r--   3 itv001477 supergroup          0 2021-12-11 02:27 /user/itv001477/mock_test_02/problem06/solution/_SUCCESS\n",
      "-rw-r--r--   3 itv001477 supergroup       7643 2021-12-11 02:27 /user/itv001477/mock_test_02/problem06/solution/part-00000-a56be6c3-0ed0-407f-a072-195ec8b57b83-c000.csv\n"
     ]
    }
   ],
   "source": [
    "%%sh\n",
    "hdfs dfs -ls /user/`whoami`/mock_test_02/problem06/solution"
   ]
  },
  {
   "cell_type": "code",
   "execution_count": 24,
   "metadata": {},
   "outputs": [
    {
     "name": "stdout",
     "output_type": "stream",
     "text": [
      "state,city,female_count\n",
      "Alabama,Birmingham,3980\n",
      "Alabama,Montgomery,2132\n",
      "Alabama,Mobile,2093\n",
      "Alabama,Huntsville,1036\n",
      "Alabama,Tuscaloosa,544\n",
      "Alabama,Anniston,253\n",
      "Alabama,Gadsden,248\n",
      "Alaska,Anchorage,1389\n",
      "Alaska,Fairbanks,563\n",
      "Alaska,Juneau,267\n",
      "Arizona,Phoenix,4361\n",
      "Arizona,Tucson,2614\n",
      "Arizona,Mesa,779\n",
      "Arizona,Scottsdale,773\n",
      "Arizona,Glendale,521\n",
      "Arizona,Prescott,278\n",
      "Arizona,Chandler,274\n",
      "Arizona,Peoria,274\n",
      "Arizona,Gilbert,273\n",
      "Arizona,Apache Junction,260\n",
      "Arizona,Tempe,259\n",
      "Arkansas,Little Rock,1320\n",
      "Arkansas,Fort Smith,553\n",
      "Arkansas,North Little Rock,546\n",
      "Arkansas,Hot Springs National Park,268\n",
      "California,Sacramento,5500\n",
      "California,Los Angeles,5344\n",
      "California,San Diego,4187\n",
      "California,San Francisco,3729\n",
      "California,San Jose,3221\n",
      "California,Fresno,3176\n",
      "California,Pasadena,1861\n",
      "California,Oakland,1569\n",
      "California,Long Beach,1364\n",
      "California,Bakersfield,1332\n",
      "Colorado,Denver,4066\n",
      "Colorado,Colorado Springs,2923\n",
      "Colorado,Littleton,812\n",
      "Colorado,Aurora,802\n",
      "Colorado,Pueblo,763\n",
      "Colorado,Boulder,748\n",
      "Colorado,Grand Junction,301\n",
      "Colorado,Englewood,286\n",
      "Colorado,Arvada,273\n",
      "Colorado,Fort Collins,267\n",
      "Connecticut,Hartford,1908\n",
      "Connecticut,New Haven,1263\n",
      "Connecticut,Stamford,787\n",
      "Connecticut,Waterbury,768\n",
      "Connecticut,Norwalk,549\n",
      "Connecticut,Bridgeport,532\n",
      "Connecticut,Fairfield,283\n",
      "Connecticut,West Hartford,267\n",
      "Connecticut,Danbury,266\n",
      "Delaware,Wilmington,1323\n",
      "Delaware,Newark,523\n",
      "District of Columbia,Washington,16238\n",
      "Florida,Miami,5174\n",
      "Florida,Orlando,3187\n",
      "Florida,Tampa,3167\n",
      "Florida,Jacksonville,2898\n",
      "Florida,Fort Lauderdale,2463\n",
      "Florida,Pensacola,1829\n",
      "Florida,Saint Petersburg,1549\n",
      "Florida,Clearwater,1357\n",
      "Florida,Naples,1302\n",
      "Florida,West Palm Beach,1085\n",
      "Georgia,Atlanta,6468\n",
      "Georgia,Savannah,1079\n",
      "Georgia,Macon,1071\n",
      "Georgia,Columbus,821\n",
      "Georgia,Augusta,813\n",
      "Georgia,Marietta,567\n",
      "Georgia,Duluth,552\n",
      "Georgia,Lawrenceville,542\n",
      "Georgia,Athens,475\n",
      "Georgia,Decatur,472\n",
      "Hawaii,Honolulu,2304\n",
      "Idaho,Boise,1915\n",
      "Idaho,Idaho Falls,262\n",
      "Idaho,Pocatello,255\n",
      "Illinois,Chicago,4777\n",
      "Illinois,Springfield,2104\n",
      "Illinois,Peoria,1817\n",
      "Illinois,Carol Stream,573\n",
      "Illinois,Rockford,508\n",
      "Illinois,Palatine,300\n",
      "Illinois,Bloomington,277\n",
      "Illinois,Decatur,276\n",
      "Illinois,Aurora,271\n",
      "Illinois,East Saint Louis,265\n",
      "Illinois,Schaumburg,265\n",
      "Indiana,Indianapolis,3145\n",
      "Indiana,Fort Wayne,2154\n",
      "Indiana,Evansville,1887\n",
      "Indiana,South Bend,1079\n",
      "Indiana,Terre Haute,533\n",
      "Indiana,Crawfordsville,281\n",
      "Indiana,Bloomington,273\n",
      "Indiana,Anderson,272\n",
      "Indiana,Gary,268\n",
      "Indiana,Lafayette,265\n",
      "Iowa,Des Moines,3244\n",
      "Iowa,Cedar Rapids,539\n",
      "Iowa,Sioux City,536\n",
      "Iowa,Davenport,524\n",
      "Iowa,Iowa City,268\n",
      "Iowa,Waterloo,265\n",
      "Kansas,Topeka,2118\n",
      "Kansas,Wichita,1892\n",
      "Kansas,Shawnee Mission,1886\n",
      "Kansas,Kansas City,793\n",
      "Kentucky,Louisville,3492\n",
      "Kentucky,Lexington,2677\n",
      "Kentucky,Frankfort,279\n",
      "Kentucky,London,276\n",
      "Kentucky,Migrate,254\n",
      "Louisiana,New Orleans,3186\n",
      "Louisiana,Baton Rouge,2146\n",
      "Louisiana,Shreveport,1780\n",
      "Louisiana,Lake Charles,567\n",
      "Louisiana,Metairie,550\n",
      "Louisiana,Lafayette,520\n",
      "Louisiana,Monroe,469\n",
      "Louisiana,Alexandria,266\n",
      "Maine,Portland,286\n",
      "Maryland,Baltimore,2651\n",
      "Maryland,Silver Spring,797\n",
      "Maryland,Bethesda,538\n",
      "Maryland,Rockville,281\n",
      "Maryland,Annapolis,275\n",
      "Maryland,Gaithersburg,273\n",
      "Maryland,Hagerstown,263\n",
      "Maryland,Ridgely,262\n",
      "Maryland,Frederick,256\n",
      "Maryland,Hyattsville,253\n",
      "Massachusetts,Boston,2968\n",
      "Massachusetts,Springfield,1081\n",
      "Massachusetts,Worcester,737\n",
      "Massachusetts,Newton,534\n",
      "Massachusetts,Brockton,533\n",
      "Massachusetts,Watertown,275\n",
      "Massachusetts,Lynn,274\n",
      "Massachusetts,Woburn,271\n",
      "Massachusetts,Cambridge,263\n",
      "Massachusetts,New Bedford,261\n",
      "Massachusetts,Waltham,261\n",
      "Michigan,Detroit,2660\n",
      "Michigan,Lansing,1368\n",
      "Michigan,Grand Rapids,1327\n",
      "Michigan,Flint,812\n",
      "Michigan,Kalamazoo,552\n",
      "Michigan,Saginaw,526\n",
      "Michigan,Battle Creek,283\n",
      "Michigan,Midland,279\n",
      "Michigan,Southfield,277\n",
      "Michigan,Farmington,269\n",
      "Minnesota,Minneapolis,3715\n",
      "Minnesota,Saint Paul,2655\n",
      "Minnesota,Young America,1041\n",
      "Minnesota,Monticello,751\n",
      "Minnesota,Maple Plain,564\n",
      "Minnesota,Duluth,551\n",
      "Minnesota,Saint Cloud,504\n",
      "Minnesota,Loretto,270\n",
      "Minnesota,Rochester,263\n",
      "Mississippi,Jackson,1606\n",
      "Mississippi,Columbus,284\n",
      "Mississippi,Meridian,282\n",
      "Mississippi,Gulfport,282\n",
      "Mississippi,Biloxi,264\n",
      "Mississippi,Hattiesburg,246\n",
      "Missouri,Kansas City,4255\n",
      "Missouri,Saint Louis,3709\n",
      "Missouri,Springfield,847\n",
      "Missouri,Jefferson City,505\n",
      "Missouri,Columbia,500\n",
      "Missouri,Lees Summit,276\n",
      "Missouri,Saint Joseph,238\n",
      "Missouri,Independence,230\n",
      "Montana,Billings,549\n",
      "Montana,Bozeman,295\n",
      "Montana,Missoula,269\n",
      "Montana,Helena,230\n",
      "Nebraska,Omaha,2484\n",
      "Nebraska,Lincoln,1531\n",
      "Nevada,Las Vegas,3923\n",
      "Nevada,Reno,1365\n",
      "Nevada,Carson City,563\n",
      "Nevada,North Las Vegas,523\n",
      "Nevada,Henderson,513\n",
      "Nevada,Sparks,265\n",
      "New Hampshire,Portsmouth,501\n",
      "New Hampshire,Manchester,270\n",
      "New Jersey,Trenton,1598\n",
      "New Jersey,Newark,1071\n",
      "New Jersey,Paterson,815\n",
      "New Jersey,Jersey City,528\n",
      "New Jersey,Elizabeth,297\n",
      "New Jersey,Camden,290\n",
      "New Jersey,New Brunswick,271\n",
      "New Mexico,Albuquerque,2485\n",
      "New Mexico,Santa Fe,579\n",
      "New Mexico,Las Cruces,265\n",
      "New York,New York City,8810\n",
      "New York,Albany,2781\n",
      "New York,Brooklyn,2656\n",
      "New York,Rochester,2450\n",
      "New York,Buffalo,2304\n",
      "New York,Jamaica,1871\n",
      "New York,Syracuse,1363\n",
      "New York,Bronx,1309\n",
      "New York,Flushing,571\n",
      "New York,Schenectady,513\n",
      "North Carolina,Charlotte,4329\n",
      "North Carolina,Raleigh,2189\n",
      "North Carolina,Greensboro,1636\n",
      "North Carolina,Winston Salem,1327\n",
      "North Carolina,Durham,797\n",
      "North Carolina,Fayetteville,524\n",
      "North Carolina,Wilmington,494\n",
      "North Carolina,Asheville,493\n",
      "North Carolina,Gastonia,271\n",
      "North Carolina,High Point,259\n",
      "North Dakota,Fargo,559\n",
      "North Dakota,Bismarck,252\n",
      "North Dakota,Grand Forks,243\n",
      "Ohio,Cincinnati,4059\n",
      "Ohio,Dayton,2738\n",
      "Ohio,Cleveland,2379\n",
      "Ohio,Columbus,2367\n",
      "Ohio,Toledo,1889\n",
      "Ohio,Akron,1647\n",
      "Ohio,Canton,1033\n",
      "Ohio,Youngstown,744\n",
      "Ohio,Warren,270\n",
      "Ohio,Springfield,269\n",
      "Oklahoma,Oklahoma City,4199\n",
      "Oklahoma,Tulsa,2983\n",
      "Oklahoma,Norman,276\n",
      "Oklahoma,Edmond,235\n",
      "Oregon,Portland,3102\n",
      "Oregon,Salem,544\n",
      "Oregon,Beaverton,281\n",
      "Oregon,Eugene,269\n",
      "Pennsylvania,Philadelphia,4503\n",
      "Pennsylvania,Pittsburgh,3996\n",
      "Pennsylvania,Erie,1613\n",
      "Pennsylvania,Harrisburg,1375\n",
      "Pennsylvania,Wilkes Barre,742\n",
      "Pennsylvania,Scranton,537\n",
      "Pennsylvania,Lancaster,533\n",
      "Pennsylvania,Reading,532\n",
      "Pennsylvania,Johnstown,302\n",
      "Pennsylvania,Valley Forge,294\n",
      "Rhode Island,Providence,504\n",
      "South Carolina,Columbia,1619\n",
      "South Carolina,Charleston,1043\n",
      "South Carolina,Greenville,800\n",
      "South Carolina,Spartanburg,496\n",
      "South Carolina,Florence,288\n",
      "South Carolina,Myrtle Beach,269\n",
      "South Carolina,Anderson,257\n",
      "South Carolina,Aiken,256\n",
      "South Carolina,Beaufort,239\n",
      "South Dakota,Sioux Falls,1280\n",
      "Tennessee,Memphis,3689\n",
      "Tennessee,Nashville,2448\n",
      "Tennessee,Knoxville,1546\n",
      "Tennessee,Chattanooga,1035\n",
      "Tennessee,Kingsport,281\n",
      "Tennessee,Murfreesboro,273\n",
      "Tennessee,Jackson,262\n",
      "Tennessee,Johnson City,252\n",
      "Texas,Houston,9998\n",
      "Texas,El Paso,8353\n",
      "Texas,Dallas,6488\n",
      "Texas,San Antonio,4493\n",
      "Texas,Austin,4303\n",
      "Texas,Fort Worth,2939\n",
      "Texas,Amarillo,2454\n",
      "Texas,Corpus Christi,1855\n",
      "Texas,Lubbock,1295\n",
      "Texas,Arlington,1027\n",
      "Utah,Salt Lake City,3462\n",
      "Utah,Ogden,550\n",
      "Utah,Provo,284\n",
      "Utah,Sandy,269\n",
      "Vermont,Montpelier,290\n",
      "Virginia,Richmond,3668\n",
      "Virginia,Roanoke,2386\n",
      "Virginia,Arlington,1629\n",
      "Virginia,Norfolk,1301\n",
      "Virginia,Virginia Beach,1069\n",
      "Virginia,Alexandria,1043\n",
      "Virginia,Hampton,546\n",
      "Virginia,Charlottesville,530\n",
      "Virginia,Newport News,515\n",
      "Virginia,Lynchburg,508\n",
      "Virginia,Reston,508\n",
      "Washington,Seattle,3524\n",
      "Washington,Tacoma,2134\n",
      "Washington,Spokane,1680\n",
      "Washington,Vancouver,786\n",
      "Washington,Olympia,510\n",
      "Washington,Yakima,302\n",
      "Washington,Everett,297\n",
      "Washington,Kent,291\n",
      "Washington,Lakewood,286\n",
      "Washington,Bellevue,256\n",
      "West Virginia,Charleston,2458\n",
      "West Virginia,Huntington,2151\n",
      "West Virginia,Morgantown,262\n",
      "Wisconsin,Milwaukee,2496\n",
      "Wisconsin,Madison,1898\n",
      "Wisconsin,Green Bay,522\n",
      "Wisconsin,Appleton,260\n",
      "Wisconsin,Racine,260\n",
      "Wyoming,Cheyenne,241\n"
     ]
    }
   ],
   "source": [
    "%%sh\n",
    "hdfs dfs -cat /user/`whoami`/mock_test_02/problem06/solution/part*"
   ]
  },
  {
   "cell_type": "code",
   "execution_count": 25,
   "metadata": {},
   "outputs": [
    {
     "name": "stdout",
     "output_type": "stream",
     "text": [
      "320\n"
     ]
    }
   ],
   "source": [
    "%%sh\n",
    "hdfs dfs -cat /user/`whoami`/mock_test_02/problem06/solution/part*|wc -l"
   ]
  },
  {
   "cell_type": "code",
   "execution_count": null,
   "metadata": {},
   "outputs": [],
   "source": []
  }
 ],
 "metadata": {
  "kernelspec": {
   "display_name": "Pyspark 2",
   "language": "python",
   "name": "pyspark2"
  },
  "language_info": {
   "codemirror_mode": {
    "name": "ipython",
    "version": 3
   },
   "file_extension": ".py",
   "mimetype": "text/x-python",
   "name": "python",
   "nbconvert_exporter": "python",
   "pygments_lexer": "ipython3",
   "version": "3.6.12"
  }
 },
 "nbformat": 4,
 "nbformat_minor": 4
}
