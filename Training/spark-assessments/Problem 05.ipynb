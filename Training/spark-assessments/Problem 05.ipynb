{
 "cells": [
  {
   "cell_type": "markdown",
   "metadata": {},
   "source": [
    "## Problem 05\n",
    "\n",
    "Weightage: 15\n",
    "\n",
    "Get states by top 10 member count. There is a chance that more than 1 state might get the same rank if the counts are same. You need to get all the states which contain top 10 member count."
   ]
  },
  {
   "cell_type": "markdown",
   "metadata": {},
   "source": [
    "## Data Description\n",
    "\n",
    "All of the address data is available under **/public/addresses**. Here is the schema.\n",
    "```\n",
    "root\n",
    " |-- address: struct (nullable = true)\n",
    " |    |-- city: string (nullable = true)\n",
    " |    |-- postal_code: string (nullable = true)\n",
    " |    |-- state: string (nullable = true)\n",
    " |    |-- street: string (nullable = true)\n",
    " |-- email: string (nullable = true)\n",
    " |-- first_name: string (nullable = true)\n",
    " |-- gender: string (nullable = true)\n",
    " |-- id: long (nullable = true)\n",
    " |-- ip_address: string (nullable = true)\n",
    " |-- last_name: string (nullable = true)\n",
    " |-- phone_numbers: array (nullable = true)\n",
    " |    |-- element: string (containsNull = true)\n",
    "```"
   ]
  },
  {
   "cell_type": "markdown",
   "metadata": {},
   "source": [
    "## Output Requirements\n",
    "* Place the result in the HDFS Directory \n",
    "```\n",
    "/user/`whoami`/mock_test_02/problem05/solution\n",
    "```\n",
    "* Use CSV and save the output to exactly one file. Make sure to preserve the header.\n",
    "* Here are the column names. Data types should be same as input data.\n",
    "```\n",
    " |-- state: string\n",
    " |-- member_count: long\n",
    "```\n",
    "* Data should be sorted in descending order by count."
   ]
  },
  {
   "cell_type": "markdown",
   "metadata": {},
   "source": [
    "## Validation\n",
    "\n",
    "Here are the self validation steps:\n",
    "* Run the following to check number of files.\n",
    "```\n",
    "hdfs dfs -ls /user/`whoami`/mock_test_02/problem05/solution\n",
    "```\n",
    "* Run the following to validate the data. It should show 11 or more records including header. Validate against the output.\n",
    "```\n",
    "hdfs dfs -cat /user/`whoami`/mock_test_02/problem05/solution/part*\n",
    "```\n",
    "* Output\n",
    "```\n",
    "state,member_count\n",
    "California,109817\n",
    "Texas,109346\n",
    "Florida,82625\n",
    "New York,55343\n",
    "Ohio,36316\n",
    "Virginia,35214\n",
    "District of Columbia,32289\n",
    "Pennsylvania,32226\n",
    "Georgia,28814\n",
    "Illinois,24943\n",
    "```\n"
   ]
  },
  {
   "cell_type": "code",
   "execution_count": 1,
   "metadata": {},
   "outputs": [],
   "source": [
    "from pyspark.sql import SparkSession\n",
    "import getpass\n",
    "username = getpass.getuser()\n",
    "spark = SparkSession. \\\n",
    "    builder. \\\n",
    "    config('spark.ui.port', '0'). \\\n",
    "    appName(f'Problem 05 | {username}'). \\\n",
    "    master('yarn'). \\\n",
    "    getOrCreate()"
   ]
  },
  {
   "cell_type": "code",
   "execution_count": 2,
   "metadata": {},
   "outputs": [],
   "source": [
    "spark.conf.set('spark.sql.shuffle.partitions', 2)"
   ]
  },
  {
   "cell_type": "code",
   "execution_count": 3,
   "metadata": {},
   "outputs": [],
   "source": [
    "addressPath=\"/public/addresses/Address-*.json\"\n",
    "addressDf=spark.read.json(addressPath)"
   ]
  },
  {
   "cell_type": "code",
   "execution_count": 4,
   "metadata": {},
   "outputs": [],
   "source": [
    "from pyspark.sql.functions import col,lit,count"
   ]
  },
  {
   "cell_type": "code",
   "execution_count": 18,
   "metadata": {},
   "outputs": [],
   "source": [
    "users=addressDf. \\\n",
    "    groupBy(\"address.state\"). \\\n",
    "    agg(count(lit(1)).alias(\"member_count\")). \\\n",
    "    orderBy(col(\"member_count\").desc()).limit(10)"
   ]
  },
  {
   "cell_type": "code",
   "execution_count": 19,
   "metadata": {},
   "outputs": [
    {
     "name": "stdout",
     "output_type": "stream",
     "text": [
      "+--------------------+------------+\n",
      "|               state|member_count|\n",
      "+--------------------+------------+\n",
      "|          California|      109817|\n",
      "|               Texas|      109346|\n",
      "|             Florida|       82625|\n",
      "|            New York|       55343|\n",
      "|                Ohio|       36316|\n",
      "|            Virginia|       35214|\n",
      "|District of Columbia|       32289|\n",
      "|        Pennsylvania|       32226|\n",
      "|             Georgia|       28814|\n",
      "|            Illinois|       24943|\n",
      "+--------------------+------------+\n",
      "\n"
     ]
    }
   ],
   "source": [
    "users.show()"
   ]
  },
  {
   "cell_type": "code",
   "execution_count": 20,
   "metadata": {},
   "outputs": [],
   "source": [
    "users.coalesce(1). \\\n",
    "    write.option(\"header\",\"true\"). \\\n",
    "    csv(f\"/user/{username}/mock_test_02/problem05/solution\")"
   ]
  },
  {
   "cell_type": "markdown",
   "metadata": {},
   "source": [
    "# Validations"
   ]
  },
  {
   "cell_type": "code",
   "execution_count": 21,
   "metadata": {},
   "outputs": [
    {
     "name": "stdout",
     "output_type": "stream",
     "text": [
      "Found 2 items\n",
      "-rw-r--r--   3 itv001477 supergroup          0 2021-12-10 01:50 /user/itv001477/mock_test_02/problem05/solution/_SUCCESS\n",
      "-rw-r--r--   3 itv001477 supergroup        180 2021-12-10 01:50 /user/itv001477/mock_test_02/problem05/solution/part-00000-3a70f0a7-23b8-4c04-a464-c89bbb414651-c000.csv\n"
     ]
    }
   ],
   "source": [
    "%%sh\n",
    "hdfs dfs -ls /user/`whoami`/mock_test_02/problem05/solution"
   ]
  },
  {
   "cell_type": "code",
   "execution_count": 23,
   "metadata": {},
   "outputs": [
    {
     "name": "stdout",
     "output_type": "stream",
     "text": [
      "state,member_count\n",
      "California,109817\n",
      "Texas,109346\n",
      "Florida,82625\n",
      "New York,55343\n",
      "Ohio,36316\n",
      "Virginia,35214\n",
      "District of Columbia,32289\n",
      "Pennsylvania,32226\n",
      "Georgia,28814\n",
      "Illinois,24943\n"
     ]
    }
   ],
   "source": [
    "%%sh\n",
    "hdfs dfs -cat /user/`whoami`/mock_test_02/problem05/solution/part*"
   ]
  },
  {
   "cell_type": "code",
   "execution_count": null,
   "metadata": {},
   "outputs": [],
   "source": []
  }
 ],
 "metadata": {
  "kernelspec": {
   "display_name": "Pyspark 2",
   "language": "python",
   "name": "pyspark2"
  },
  "language_info": {
   "codemirror_mode": {
    "name": "ipython",
    "version": 3
   },
   "file_extension": ".py",
   "mimetype": "text/x-python",
   "name": "python",
   "nbconvert_exporter": "python",
   "pygments_lexer": "ipython3",
   "version": "3.6.12"
  }
 },
 "nbformat": 4,
 "nbformat_minor": 4
}
