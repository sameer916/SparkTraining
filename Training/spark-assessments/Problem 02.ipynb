{
 "cells": [
  {
   "cell_type": "markdown",
   "metadata": {},
   "source": [
    "## Problem 02\n",
    "\n",
    "Weightage: 25\n",
    "\n",
    "Get number of phones associated with each member. **If there are no phones then the phone count should be zero**."
   ]
  },
  {
   "cell_type": "markdown",
   "metadata": {},
   "source": [
    "## Data Description\n",
    "\n",
    "All of the address data is available under **/public/addresses**. Here is the schema.\n",
    "```\n",
    "root\n",
    " |-- address: struct (nullable = true)\n",
    " |    |-- city: string (nullable = true)\n",
    " |    |-- postal_code: string (nullable = true)\n",
    " |    |-- state: string (nullable = true)\n",
    " |    |-- street: string (nullable = true)\n",
    " |-- email: string (nullable = true)\n",
    " |-- first_name: string (nullable = true)\n",
    " |-- gender: string (nullable = true)\n",
    " |-- id: long (nullable = true)\n",
    " |-- ip_address: string (nullable = true)\n",
    " |-- last_name: string (nullable = true)\n",
    " |-- phone_numbers: array (nullable = true)\n",
    " |    |-- element: string (containsNull = true)\n",
    "```"
   ]
  },
  {
   "cell_type": "markdown",
   "metadata": {},
   "source": [
    "## Output Requirements\n",
    "\n",
    "* Place the result in the HDFS Directory \n",
    "```\n",
    "/user/`whoami`/mock_test_02/problem02/solution\n",
    "```\n",
    "* Use text file format with delimiter | (pipe) to save the output. Output should be saved in 2 files and compressed using gzip.\n",
    "* The files should contain header with column names.\n",
    "* Here are the column names. Data types should be same as input data.\n",
    "```\n",
    " |-- id: long\n",
    " |-- first_name: string\n",
    " |-- last_name: string\n",
    " |-- email: string\n",
    " |-- phone_count: long\n",
    "```\n",
    "* Data should be sorted in ascending order by id."
   ]
  },
  {
   "cell_type": "markdown",
   "metadata": {},
   "source": [
    "## Validation\n",
    "\n",
    "Here are the self validation steps:\n",
    "* Run the following command to validate files are compressed. Extension should be gz.\n",
    "```\n",
    "hdfs dfs -ls /user/`whoami`/mock_test_02/problem02/solution\n",
    "```\n",
    "* Run the following code to create data frame.\n",
    "```\n",
    "import getpass\n",
    "username = getpass.getuser()\n",
    "path = f'/user/{username}/mock_test_02/problem02/solution'\n",
    "data = spark. \\\n",
    "    read. \\\n",
    "    csv(path,\n",
    "        sep='|',\n",
    "        header=True,\n",
    "        inferSchema=True\n",
    "       )\n",
    "```\n",
    "* Get Schema by running `data.printSchema()`. Output should be as below. Ignore Nullability if it does not match exactly.\n",
    "```\n",
    "root\n",
    " |-- id: integer (nullable = true)\n",
    " |-- first_name: string (nullable = true)\n",
    " |-- last_name: string (nullable = true)\n",
    " |-- email: string (nullable = true)\n",
    " |-- phone_count: integer (nullable = true)\n",
    "```\n",
    "* Get count by running `data.count()`. It should return **1,000,000**.\n",
    "* Run `data.orderBy('id').show()` to validate the data. Output should be like this.\n",
    "\n",
    "| id|first_name|   last_name|               email|phone_count|\n",
    "|---|----------|------------|--------------------|-----------|\n",
    "|  1|    Corrie|Van den Oord|cvandenoord0@etsy...|          1|\n",
    "|  2|  Nikolaus|     Brewitt|nbrewitt1@dailyma...|          4|\n",
    "|  3|    Orelie|      Penney|openney2@vistapri...|          5|\n",
    "|  4|     Ashby|    Maddocks|  amaddocks3@home.pl|          4|\n",
    "|  5|      Kurt|        Rome|krome4@shutterfly...|          1|\n",
    "|  6|    Idelle|      Dorsey|idorsey5@artistee...|          5|\n",
    "|  7|      Levy|       Pacey|lpacey6@bloglovin...|          5|\n",
    "|  8|   Hershel|       Kneal|hkneal7@engadget.com|          3|\n",
    "|  9|     Kelly|  Gatheridge|kgatheridge8@mysp...|          1|\n",
    "| 10|     Aksel|       Ewles| aewles9@samsung.com|          1|\n",
    "| 11| Millicent|    Whitwell| mwhitwella@army.mil|          3|\n",
    "| 12|      Levy|    Fennelow|lfennelowb@so-net...|          4|\n",
    "| 13|     Bucky|       Harle|   bharlec@europa.eu|          1|\n",
    "| 14|     Randy|   Kleinmann|rkleinmannd@frien...|          4|\n",
    "| 15|   Eveleen|     Lanaway|elanawaye@blinkli...|          5|\n",
    "| 16|  Eleonore|      Cordle|ecordlef@printfri...|          0|\n",
    "| 17|     Monte|     Sidaway|msidawayg@unicef.org|          3|\n",
    "| 18|     Heddi|      Sackes|hsackesh@business...|          0|\n",
    "| 19|    Tabina|     Olivari|    tolivarii@goo.gl|          2|\n",
    "| 20|Rutherford|   Josephson|rjosephsonj@sprin...|          2|"
   ]
  },
  {
   "cell_type": "code",
   "execution_count": 1,
   "metadata": {},
   "outputs": [],
   "source": [
    "from pyspark.sql import SparkSession\n",
    "import getpass\n",
    "username = getpass.getuser()\n",
    "spark = SparkSession. \\\n",
    "    builder. \\\n",
    "    config('spark.ui.port', '0'). \\\n",
    "    appName(f'Problem 02 | {username}'). \\\n",
    "    master('yarn'). \\\n",
    "    getOrCreate()"
   ]
  },
  {
   "cell_type": "code",
   "execution_count": 2,
   "metadata": {},
   "outputs": [],
   "source": [
    "spark.conf.set('spark.sql.shuffle.partitions', 2)"
   ]
  },
  {
   "cell_type": "code",
   "execution_count": 3,
   "metadata": {},
   "outputs": [],
   "source": [
    "addressPath=\"/public/addresses/Address-*.json\""
   ]
  },
  {
   "cell_type": "code",
   "execution_count": 4,
   "metadata": {},
   "outputs": [],
   "source": [
    "addressDf=spark.read.json(addressPath)"
   ]
  },
  {
   "cell_type": "code",
   "execution_count": 20,
   "metadata": {},
   "outputs": [],
   "source": [
    "from pyspark.sql.functions import size,col,length,when"
   ]
  },
  {
   "cell_type": "code",
   "execution_count": 25,
   "metadata": {},
   "outputs": [],
   "source": [
    "users=addressDf. \\\n",
    "    select(\"id\",\"first_name\",\"last_name\",\"email\",\"phone_numbers\"). \\\n",
    "    withColumn(\"phone_count\", \\\n",
    "               when(col(\"phone_numbers\").isNull(),0). \\\n",
    "               otherwise(size(col(\"phone_numbers\")))). \\\n",
    "    orderBy(\"id\")"
   ]
  },
  {
   "cell_type": "code",
   "execution_count": 30,
   "metadata": {},
   "outputs": [],
   "source": [
    "usersDf=users.select('id',\"first_name\",\"last_name\",\"phone_count\")"
   ]
  },
  {
   "cell_type": "code",
   "execution_count": 31,
   "metadata": {},
   "outputs": [
    {
     "name": "stdout",
     "output_type": "stream",
     "text": [
      "+---+----------+------------+-----------+\n",
      "| id|first_name|   last_name|phone_count|\n",
      "+---+----------+------------+-----------+\n",
      "|  1|    Corrie|Van den Oord|          1|\n",
      "|  2|  Nikolaus|     Brewitt|          4|\n",
      "|  3|    Orelie|      Penney|          5|\n",
      "|  4|     Ashby|    Maddocks|          4|\n",
      "|  5|      Kurt|        Rome|          1|\n",
      "|  6|    Idelle|      Dorsey|          5|\n",
      "|  7|      Levy|       Pacey|          5|\n",
      "|  8|   Hershel|       Kneal|          3|\n",
      "|  9|     Kelly|  Gatheridge|          1|\n",
      "| 10|     Aksel|       Ewles|          1|\n",
      "| 11| Millicent|    Whitwell|          3|\n",
      "| 12|      Levy|    Fennelow|          4|\n",
      "| 13|     Bucky|       Harle|          1|\n",
      "| 14|     Randy|   Kleinmann|          4|\n",
      "| 15|   Eveleen|     Lanaway|          5|\n",
      "| 16|  Eleonore|      Cordle|          0|\n",
      "| 17|     Monte|     Sidaway|          3|\n",
      "| 18|     Heddi|      Sackes|          0|\n",
      "| 19|    Tabina|     Olivari|          2|\n",
      "| 20|Rutherford|   Josephson|          2|\n",
      "+---+----------+------------+-----------+\n",
      "only showing top 20 rows\n",
      "\n"
     ]
    }
   ],
   "source": [
    "usersDf.show()"
   ]
  },
  {
   "cell_type": "code",
   "execution_count": 32,
   "metadata": {},
   "outputs": [],
   "source": [
    "usersDf.coalesce(2). \\\n",
    "    write.mode('overwrite'). \\\n",
    "    option('compression','gzip'). \\\n",
    "    option('header','true'). \\\n",
    "    option('sep','|'). \\\n",
    "    format('csv'). \\\n",
    "    save(f'/user/{username}/mock_test_02/problem02/solution')"
   ]
  },
  {
   "cell_type": "markdown",
   "metadata": {},
   "source": [
    "# Validations"
   ]
  },
  {
   "cell_type": "code",
   "execution_count": 33,
   "metadata": {},
   "outputs": [
    {
     "name": "stdout",
     "output_type": "stream",
     "text": [
      "Found 3 items\n",
      "-rw-r--r--   3 itv001477 supergroup          0 2021-12-10 01:05 /user/itv001477/mock_test_02/problem02/solution/_SUCCESS\n",
      "-rw-r--r--   3 itv001477 supergroup    5443846 2021-12-10 01:05 /user/itv001477/mock_test_02/problem02/solution/part-00000-e06b7b39-9d0b-4d14-99d9-7002ec3b4d5a-c000.csv.gz\n",
      "-rw-r--r--   3 itv001477 supergroup    5623763 2021-12-10 01:05 /user/itv001477/mock_test_02/problem02/solution/part-00001-e06b7b39-9d0b-4d14-99d9-7002ec3b4d5a-c000.csv.gz\n"
     ]
    }
   ],
   "source": [
    "%%sh\n",
    "hdfs dfs -ls /user/`whoami`/mock_test_02/problem02/solution"
   ]
  },
  {
   "cell_type": "code",
   "execution_count": 34,
   "metadata": {},
   "outputs": [],
   "source": [
    "path = f'/user/{username}/mock_test_02/problem02/solution'\n",
    "data = spark. \\\n",
    "  read. \\\n",
    "  csv(path,\n",
    "      sep='|',\n",
    "      header=True,\n",
    "      inferSchema=True\n",
    "     )"
   ]
  },
  {
   "cell_type": "code",
   "execution_count": 35,
   "metadata": {},
   "outputs": [
    {
     "name": "stdout",
     "output_type": "stream",
     "text": [
      "root\n",
      " |-- id: integer (nullable = true)\n",
      " |-- first_name: string (nullable = true)\n",
      " |-- last_name: string (nullable = true)\n",
      " |-- phone_count: integer (nullable = true)\n",
      "\n"
     ]
    }
   ],
   "source": [
    "data.printSchema()"
   ]
  },
  {
   "cell_type": "code",
   "execution_count": 36,
   "metadata": {},
   "outputs": [
    {
     "data": {
      "text/plain": [
       "1000000"
      ]
     },
     "execution_count": 36,
     "metadata": {},
     "output_type": "execute_result"
    }
   ],
   "source": [
    "data.count()"
   ]
  },
  {
   "cell_type": "code",
   "execution_count": 37,
   "metadata": {},
   "outputs": [
    {
     "name": "stdout",
     "output_type": "stream",
     "text": [
      "+---+----------+------------+-----------+\n",
      "| id|first_name|   last_name|phone_count|\n",
      "+---+----------+------------+-----------+\n",
      "|  1|    Corrie|Van den Oord|          1|\n",
      "|  2|  Nikolaus|     Brewitt|          4|\n",
      "|  3|    Orelie|      Penney|          5|\n",
      "|  4|     Ashby|    Maddocks|          4|\n",
      "|  5|      Kurt|        Rome|          1|\n",
      "|  6|    Idelle|      Dorsey|          5|\n",
      "|  7|      Levy|       Pacey|          5|\n",
      "|  8|   Hershel|       Kneal|          3|\n",
      "|  9|     Kelly|  Gatheridge|          1|\n",
      "| 10|     Aksel|       Ewles|          1|\n",
      "| 11| Millicent|    Whitwell|          3|\n",
      "| 12|      Levy|    Fennelow|          4|\n",
      "| 13|     Bucky|       Harle|          1|\n",
      "| 14|     Randy|   Kleinmann|          4|\n",
      "| 15|   Eveleen|     Lanaway|          5|\n",
      "| 16|  Eleonore|      Cordle|          0|\n",
      "| 17|     Monte|     Sidaway|          3|\n",
      "| 18|     Heddi|      Sackes|          0|\n",
      "| 19|    Tabina|     Olivari|          2|\n",
      "| 20|Rutherford|   Josephson|          2|\n",
      "+---+----------+------------+-----------+\n",
      "only showing top 20 rows\n",
      "\n"
     ]
    }
   ],
   "source": [
    "data.orderBy('id').show()"
   ]
  },
  {
   "cell_type": "code",
   "execution_count": null,
   "metadata": {},
   "outputs": [],
   "source": []
  }
 ],
 "metadata": {
  "kernelspec": {
   "display_name": "Pyspark 2",
   "language": "python",
   "name": "pyspark2"
  },
  "language_info": {
   "codemirror_mode": {
    "name": "ipython",
    "version": 3
   },
   "file_extension": ".py",
   "mimetype": "text/x-python",
   "name": "python",
   "nbconvert_exporter": "python",
   "pygments_lexer": "ipython3",
   "version": "3.6.12"
  }
 },
 "nbformat": 4,
 "nbformat_minor": 4
}
