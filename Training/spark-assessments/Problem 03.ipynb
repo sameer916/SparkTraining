{
 "cells": [
  {
   "cell_type": "markdown",
   "metadata": {},
   "source": [
    "## Problem 03\n",
    "\n",
    "Weightage: 50\n",
    "\n",
    "Convert data from json to a Hive table with simple data types. **address** should be stored in 4 columns - city, postal_code, state and street. **phone_numbers** should be of type string and existing numbers should be comma separated."
   ]
  },
  {
   "cell_type": "markdown",
   "metadata": {},
   "source": [
    "## Data Description\n",
    "\n",
    "All of the address data is available under **/public/addresses**. Here is the schema.\n",
    "```\n",
    "root\n",
    " |-- address: struct (nullable = true)\n",
    " |    |-- city: string (nullable = true)\n",
    " |    |-- postal_code: string (nullable = true)\n",
    " |    |-- state: string (nullable = true)\n",
    " |    |-- street: string (nullable = true)\n",
    " |-- email: string (nullable = true)\n",
    " |-- first_name: string (nullable = true)\n",
    " |-- gender: string (nullable = true)\n",
    " |-- id: long (nullable = true)\n",
    " |-- ip_address: string (nullable = true)\n",
    " |-- last_name: string (nullable = true)\n",
    " |-- phone_numbers: array (nullable = true)\n",
    " |    |-- element: string (containsNull = true)\n",
    "```"
   ]
  },
  {
   "cell_type": "markdown",
   "metadata": {},
   "source": [
    "## Output Requirements\n",
    "\n",
    "* Create Database `whoami`_mt02\n",
    "* Create external table pointing to below location.\n",
    "```\n",
    "/user/`whoami`/mock_test_02/problem03/solution\n",
    "```\n",
    "* Table Name: **addresses**\n",
    "* Column Names and Data Types\n",
    "```\n",
    " |-- id: long\n",
    " |-- first_name: string\n",
    " |-- last_name: string\n",
    " |-- gender: string\n",
    " |-- email: string\n",
    " |-- ip_address: string\n",
    " |-- address: string\n",
    " |-- phone_numbers: string\n",
    "```\n",
    "* Use parquet file format. There should be exactly 4 files under the folder related to table.\n",
    "* Data should be sorted in ascending order by id."
   ]
  },
  {
   "cell_type": "markdown",
   "metadata": {},
   "source": [
    "## Validation\n",
    "\n",
    "Here are the self validation steps:\n",
    "* Validate if the table is created or not.\n",
    "```\n",
    "import getpass\n",
    "username = getpass.getuser()\n",
    "data = spark.read.table(f'{username}_mt02.addresses')\n",
    "```\n",
    "* Get Schema by running `data.printSchema()`. Output should be as below. Ignore Nullability if it does not match exactly.\n",
    "```\n",
    "root\n",
    " |-- id: long (nullable = true)\n",
    " |-- first_name: string (nullable = true)\n",
    " |-- last_name: string (nullable = true)\n",
    " |-- gender: string (nullable = true)\n",
    " |-- email: string (nullable = true)\n",
    " |-- ip_address: string (nullable = true)\n",
    " |-- address: string (nullable = true)\n",
    " |-- phone_numbers: string (nullable = true)\n",
    "```\n",
    "* Get count by running `data.count()`. It should return **1,000,000**.\n",
    "* Run `data.orderBy('id').show()` to validate the data. Output should be like this.\n",
    "| id|first_name|   last_name|gender|               email|     ip_address|             address|       phone_numbers|\n",
    "|---|----------|------------|------|--------------------|---------------|--------------------|--------------------|\n",
    "|  1|    Corrie|Van den Oord|Female|cvandenoord0@etsy...| 114.69.173.253|4391 Coleman Lane...|        785-310-6676|\n",
    "|  2|  Nikolaus|     Brewitt|  Male|nbrewitt1@dailyma...| 191.17.232.147|263 Graedel Drive...|609-306-0365,205-...|\n",
    "|  3|    Orelie|      Penney|Female|openney2@vistapri...| 109.206.143.10|5152 Twin Pines P...|619-727-2916,570-...|\n",
    "|  4|     Ashby|    Maddocks|  Male|  amaddocks3@home.pl|  171.173.96.24|31696 Longview Wa...|415-708-9669,806-...|\n",
    "|  5|      Kurt|        Rome|  Male|krome4@shutterfly...| 125.35.144.111|8854 Rusk Street,...|        915-912-2446|\n",
    "|  6|    Idelle|      Dorsey|Female|idorsey5@artistee...|  89.128.71.151|95353 Carpenter P...|949-257-9443,504-...|\n",
    "|  7|      Levy|       Pacey|  Male|lpacey6@bloglovin...|   149.60.175.7|2997 Maryland Cir...|202-667-9730,810-...|\n",
    "|  8|   Hershel|       Kneal|  Male|hkneal7@engadget.com|206.179.142.167|3101 Ilene Plaza,...|719-481-1263,561-...|\n",
    "|  9|     Kelly|  Gatheridge|Female|kgatheridge8@mysp...|  101.79.38.236|91956 Stone Corne...|        719-867-3789|\n",
    "| 10|     Aksel|       Ewles|  Male| aewles9@samsung.com|  219.49.91.115|39 Warbler Avenue...|        501-903-4014|\n",
    "| 11| Millicent|    Whitwell|Female| mwhitwella@army.mil|   46.90.146.88|3598 Carpenter Ci...|716-582-3471,864-...|\n",
    "| 12|      Levy|    Fennelow|  Male|lfennelowb@so-net...| 102.19.205.231|20 Glacier Hill P...|330-621-5532,562-...|\n",
    "| 13|     Bucky|       Harle|  Male|   bharlec@europa.eu|113.149.152.231|06 Badeau Alley,M...|        712-111-4246|\n",
    "| 14|     Randy|   Kleinmann|Female|rkleinmannd@frien...|   5.89.218.201|04 Manitowish Dri...|515-109-8291,408-...|\n",
    "| 15|   Eveleen|     Lanaway|Female|elanawaye@blinkli...| 219.210.42.139|512 Prairie Rose ...|360-712-7619,239-...|\n",
    "| 16|  Eleonore|      Cordle|Female|ecordlef@printfri...| 34.134.136.163|2893 Red Cloud Tr...|                    |\n",
    "| 17|     Monte|     Sidaway|  Male|msidawayg@unicef.org|162.189.175.228|50225 Eagle Crest...|213-965-4880,619-...|\n",
    "| 18|     Heddi|      Sackes|Female|hsackesh@business...|   59.44.144.36|65403 Hermina Pla...|                    |\n",
    "| 19|    Tabina|     Olivari|Female|    tolivarii@goo.gl|   91.22.33.111|05 Ryan Trail,Arl...|602-594-0067,803-...|\n",
    "| 20|Rutherford|   Josephson|  Male|rjosephsonj@sprin...| 93.124.195.224|38907 Sunfield Pa...|979-330-2010,562-...|\n",
    "* Validate whether the files are of type Parquet or not.\n",
    "```\n",
    "import getpass\n",
    "username = getpass.getuser()\n",
    "data_p = spark. \\\n",
    "    read. \\\n",
    "    parquet(f'/user/{username}/mock_test_02/problem03/solution')\n",
    "```\n",
    "* Run `data_p.orderBy('id').show()` to validate the data. Output should be like above."
   ]
  },
  {
   "cell_type": "code",
   "execution_count": 1,
   "metadata": {},
   "outputs": [],
   "source": [
    "from pyspark.sql import SparkSession\n",
    "import getpass\n",
    "username = getpass.getuser()\n",
    "spark = SparkSession. \\\n",
    "    builder. \\\n",
    "    config('spark.ui.port', '0'). \\\n",
    "    config(\"spark.sql.warehouse.dir\", f\"/user/{username}/warehouse\"). \\\n",
    "    enableHiveSupport(). \\\n",
    "    appName(f'Problem 03 | {username}'). \\\n",
    "    master('yarn'). \\\n",
    "    getOrCreate()"
   ]
  },
  {
   "cell_type": "code",
   "execution_count": 2,
   "metadata": {},
   "outputs": [],
   "source": [
    "spark.conf.set('spark.sql.shuffle.partitions', 2)"
   ]
  },
  {
   "cell_type": "code",
   "execution_count": 3,
   "metadata": {},
   "outputs": [],
   "source": [
    "addressPath=\"/public/addresses/Address-*.json\"\n",
    "addressDf=spark.read.json(addressPath)"
   ]
  },
  {
   "cell_type": "code",
   "execution_count": null,
   "metadata": {},
   "outputs": [],
   "source": [
    "addressDf.printSchema()"
   ]
  },
  {
   "cell_type": "code",
   "execution_count": null,
   "metadata": {},
   "outputs": [],
   "source": [
    "addressDf"
   ]
  },
  {
   "cell_type": "code",
   "execution_count": null,
   "metadata": {},
   "outputs": [],
   "source": [
    "spark.sql(f'SET hive.metastore.warehouse.dir=/user/{username}/warehouse')"
   ]
  },
  {
   "cell_type": "code",
   "execution_count": null,
   "metadata": {},
   "outputs": [],
   "source": [
    "spark.sql(f'SET spark.sql.warehouse.dir=/user/{username}/warehouse')"
   ]
  },
  {
   "cell_type": "code",
   "execution_count": 4,
   "metadata": {},
   "outputs": [
    {
     "data": {
      "text/html": [
       "<table border='1'>\n",
       "<tr><th></th></tr>\n",
       "</table>\n"
      ],
      "text/plain": [
       "++\n",
       "||\n",
       "++\n",
       "++"
      ]
     },
     "execution_count": 4,
     "metadata": {},
     "output_type": "execute_result"
    }
   ],
   "source": [
    "spark.sql(f'DROP DATABASE IF EXISTS {username}_mt02')"
   ]
  },
  {
   "cell_type": "code",
   "execution_count": 5,
   "metadata": {},
   "outputs": [
    {
     "data": {
      "text/html": [
       "<table border='1'>\n",
       "<tr><th></th></tr>\n",
       "</table>\n"
      ],
      "text/plain": [
       "++\n",
       "||\n",
       "++\n",
       "++"
      ]
     },
     "execution_count": 5,
     "metadata": {},
     "output_type": "execute_result"
    }
   ],
   "source": [
    "spark.sql(f'CREATE DATABASE IF NOT EXISTS {username}_mt02')"
   ]
  },
  {
   "cell_type": "code",
   "execution_count": 6,
   "metadata": {},
   "outputs": [
    {
     "data": {
      "text/html": [
       "<table border='1'>\n",
       "<tr><th></th></tr>\n",
       "</table>\n"
      ],
      "text/plain": [
       "++\n",
       "||\n",
       "++\n",
       "++"
      ]
     },
     "execution_count": 6,
     "metadata": {},
     "output_type": "execute_result"
    }
   ],
   "source": [
    "spark.sql(f'DROP TABLE IF EXISTS {username}_mt02.addresses')"
   ]
  },
  {
   "cell_type": "code",
   "execution_count": 7,
   "metadata": {},
   "outputs": [],
   "source": [
    "from pyspark.sql.functions import col,concat_ws,concat,when"
   ]
  },
  {
   "cell_type": "code",
   "execution_count": null,
   "metadata": {},
   "outputs": [],
   "source": [
    "addressDf.withColumn(\"address1\",concat(col(\"address.city\"),col(\"address.postal_code\"),col(\"address.street\"),col(\"address.city\"))).show()"
   ]
  },
  {
   "cell_type": "code",
   "execution_count": 10,
   "metadata": {},
   "outputs": [],
   "source": [
    "resultsDf=addressDf.withColumn(\"address\",concat(col(\"address.city\"),col(\"address.postal_code\"),col(\"address.street\"),col(\"address.city\"))). \\\n",
    "       withColumn(\"phone_numbers\",when(col('phone_numbers').isNull(),None).otherwise(concat_ws(\",\",col(\"phone_numbers\")))). \\\n",
    "         select(\"id\",\"first_name\",\"last_name\",\"gender\",\"email\",\"ip_address\",\"address\",\"phone_numbers\"). \\\n",
    "         orderBy(\"id\")"
   ]
  },
  {
   "cell_type": "code",
   "execution_count": 11,
   "metadata": {},
   "outputs": [
    {
     "name": "stdout",
     "output_type": "stream",
     "text": [
      "root\n",
      " |-- id: long (nullable = true)\n",
      " |-- first_name: string (nullable = true)\n",
      " |-- last_name: string (nullable = true)\n",
      " |-- gender: string (nullable = true)\n",
      " |-- email: string (nullable = true)\n",
      " |-- ip_address: string (nullable = true)\n",
      " |-- address: string (nullable = true)\n",
      " |-- phone_numbers: string (nullable = true)\n",
      "\n"
     ]
    }
   ],
   "source": [
    "resultsDf.printSchema()"
   ]
  },
  {
   "cell_type": "code",
   "execution_count": 14,
   "metadata": {},
   "outputs": [],
   "source": [
    "resultsDf.coalesce(4).write.mode('overwrite'). \\\n",
    "        format(\"parquet\"). \\\n",
    "        option(\"path\",f\"/user/{username}/mock_test_02/problem03/solution\"). \\\n",
    "        saveAsTable(f\"{username}_mt02.addresses\")\n",
    "        "
   ]
  },
  {
   "cell_type": "markdown",
   "metadata": {},
   "source": [
    "# Validations"
   ]
  },
  {
   "cell_type": "code",
   "execution_count": 15,
   "metadata": {},
   "outputs": [],
   "source": [
    "data = spark.read.table(f'{username}_mt02.addresses')"
   ]
  },
  {
   "cell_type": "code",
   "execution_count": 16,
   "metadata": {},
   "outputs": [
    {
     "name": "stdout",
     "output_type": "stream",
     "text": [
      "root\n",
      " |-- id: long (nullable = true)\n",
      " |-- first_name: string (nullable = true)\n",
      " |-- last_name: string (nullable = true)\n",
      " |-- gender: string (nullable = true)\n",
      " |-- email: string (nullable = true)\n",
      " |-- ip_address: string (nullable = true)\n",
      " |-- address: string (nullable = true)\n",
      " |-- phone_numbers: string (nullable = true)\n",
      "\n"
     ]
    }
   ],
   "source": [
    "data.printSchema()"
   ]
  },
  {
   "cell_type": "code",
   "execution_count": 17,
   "metadata": {},
   "outputs": [
    {
     "data": {
      "text/plain": [
       "1000000"
      ]
     },
     "execution_count": 17,
     "metadata": {},
     "output_type": "execute_result"
    }
   ],
   "source": [
    "data.count()"
   ]
  },
  {
   "cell_type": "code",
   "execution_count": 18,
   "metadata": {},
   "outputs": [
    {
     "name": "stdout",
     "output_type": "stream",
     "text": [
      "+---+----------+------------+------+--------------------+---------------+--------------------+--------------------+\n",
      "| id|first_name|   last_name|gender|               email|     ip_address|             address|       phone_numbers|\n",
      "+---+----------+------------+------+--------------------+---------------+--------------------+--------------------+\n",
      "|  1|    Corrie|Van den Oord|Female|cvandenoord0@etsy...| 114.69.173.253|New Orleans701494...|        785-310-6676|\n",
      "|  2|  Nikolaus|     Brewitt|  Male|nbrewitt1@dailyma...| 191.17.232.147|Akron44310263 Gra...|609-306-0365,205-...|\n",
      "|  3|    Orelie|      Penney|Female|openney2@vistapri...| 109.206.143.10|Des Moines5030551...|619-727-2916,570-...|\n",
      "|  4|     Ashby|    Maddocks|  Male|  amaddocks3@home.pl|  171.173.96.24|Wichita6721531696...|415-708-9669,806-...|\n",
      "|  5|      Kurt|        Rome|  Male|krome4@shutterfly...| 125.35.144.111|Atlanta303868854 ...|        915-912-2446|\n",
      "|  6|    Idelle|      Dorsey|Female|idorsey5@artistee...|  89.128.71.151|Austin7876495353 ...|949-257-9443,504-...|\n",
      "|  7|      Levy|       Pacey|  Male|lpacey6@bloglovin...|   149.60.175.7|Birmingham3521029...|202-667-9730,810-...|\n",
      "|  8|   Hershel|       Kneal|  Male|hkneal7@engadget.com|206.179.142.167|Lehigh Acres33972...|719-481-1263,561-...|\n",
      "|  9|     Kelly|  Gatheridge|Female|kgatheridge8@mysp...|  101.79.38.236|Gary4640691956 St...|        719-867-3789|\n",
      "| 10|     Aksel|       Ewles|  Male| aewles9@samsung.com|  219.49.91.115|Montgomery3612539...|        501-903-4014|\n",
      "| 11| Millicent|    Whitwell|Female| mwhitwella@army.mil|   46.90.146.88|Omaha681973598 Ca...|716-582-3471,864-...|\n",
      "| 12|      Levy|    Fennelow|  Male|lfennelowb@so-net...| 102.19.205.231|Kansas City641532...|330-621-5532,562-...|\n",
      "| 13|     Bucky|       Harle|  Male|   bharlec@europa.eu|113.149.152.231|Miami3328306 Bade...|        712-111-4246|\n",
      "| 14|     Randy|   Kleinmann|Female|rkleinmannd@frien...|   5.89.218.201|Tampa3362504 Mani...|515-109-8291,408-...|\n",
      "| 15|   Eveleen|     Lanaway|Female|elanawaye@blinkli...| 219.210.42.139|Sacramento9428651...|360-712-7619,239-...|\n",
      "| 16|  Eleonore|      Cordle|Female|ecordlef@printfri...| 34.134.136.163|Gulfport395052893...|                null|\n",
      "| 17|     Monte|     Sidaway|  Male|msidawayg@unicef.org|162.189.175.228|Rockford611055022...|213-965-4880,619-...|\n",
      "| 18|     Heddi|      Sackes|Female|hsackesh@business...|   59.44.144.36|Van Nuys914996540...|                null|\n",
      "| 19|    Tabina|     Olivari|Female|    tolivarii@goo.gl|   91.22.33.111|Arlington2221205 ...|602-594-0067,803-...|\n",
      "| 20|Rutherford|   Josephson|  Male|rjosephsonj@sprin...| 93.124.195.224|Toledo4366638907 ...|979-330-2010,562-...|\n",
      "+---+----------+------------+------+--------------------+---------------+--------------------+--------------------+\n",
      "only showing top 20 rows\n",
      "\n"
     ]
    }
   ],
   "source": [
    "data.show()"
   ]
  },
  {
   "cell_type": "code",
   "execution_count": 19,
   "metadata": {},
   "outputs": [],
   "source": [
    "data_p = spark. \\\n",
    "  read. \\\n",
    "  parquet(f'/user/{username}/mock_test_02/problem03/solution')"
   ]
  },
  {
   "cell_type": "code",
   "execution_count": 20,
   "metadata": {},
   "outputs": [
    {
     "data": {
      "text/html": [
       "<table border='1'>\n",
       "<tr><th>id</th><th>first_name</th><th>last_name</th><th>gender</th><th>email</th><th>ip_address</th><th>address</th><th>phone_numbers</th></tr>\n",
       "<tr><td>1</td><td>Corrie</td><td>Van den Oord</td><td>Female</td><td>cvandenoord0@etsy...</td><td>114.69.173.253</td><td>New Orleans701494...</td><td>785-310-6676</td></tr>\n",
       "<tr><td>2</td><td>Nikolaus</td><td>Brewitt</td><td>Male</td><td>nbrewitt1@dailyma...</td><td>191.17.232.147</td><td>Akron44310263 Gra...</td><td>609-306-0365,205-...</td></tr>\n",
       "<tr><td>3</td><td>Orelie</td><td>Penney</td><td>Female</td><td>openney2@vistapri...</td><td>109.206.143.10</td><td>Des Moines5030551...</td><td>619-727-2916,570-...</td></tr>\n",
       "<tr><td>4</td><td>Ashby</td><td>Maddocks</td><td>Male</td><td>amaddocks3@home.pl</td><td>171.173.96.24</td><td>Wichita6721531696...</td><td>415-708-9669,806-...</td></tr>\n",
       "<tr><td>5</td><td>Kurt</td><td>Rome</td><td>Male</td><td>krome4@shutterfly...</td><td>125.35.144.111</td><td>Atlanta303868854 ...</td><td>915-912-2446</td></tr>\n",
       "<tr><td>6</td><td>Idelle</td><td>Dorsey</td><td>Female</td><td>idorsey5@artistee...</td><td>89.128.71.151</td><td>Austin7876495353 ...</td><td>949-257-9443,504-...</td></tr>\n",
       "<tr><td>7</td><td>Levy</td><td>Pacey</td><td>Male</td><td>lpacey6@bloglovin...</td><td>149.60.175.7</td><td>Birmingham3521029...</td><td>202-667-9730,810-...</td></tr>\n",
       "<tr><td>8</td><td>Hershel</td><td>Kneal</td><td>Male</td><td>hkneal7@engadget.com</td><td>206.179.142.167</td><td>Lehigh Acres33972...</td><td>719-481-1263,561-...</td></tr>\n",
       "<tr><td>9</td><td>Kelly</td><td>Gatheridge</td><td>Female</td><td>kgatheridge8@mysp...</td><td>101.79.38.236</td><td>Gary4640691956 St...</td><td>719-867-3789</td></tr>\n",
       "<tr><td>10</td><td>Aksel</td><td>Ewles</td><td>Male</td><td>aewles9@samsung.com</td><td>219.49.91.115</td><td>Montgomery3612539...</td><td>501-903-4014</td></tr>\n",
       "<tr><td>11</td><td>Millicent</td><td>Whitwell</td><td>Female</td><td>mwhitwella@army.mil</td><td>46.90.146.88</td><td>Omaha681973598 Ca...</td><td>716-582-3471,864-...</td></tr>\n",
       "<tr><td>12</td><td>Levy</td><td>Fennelow</td><td>Male</td><td>lfennelowb@so-net...</td><td>102.19.205.231</td><td>Kansas City641532...</td><td>330-621-5532,562-...</td></tr>\n",
       "<tr><td>13</td><td>Bucky</td><td>Harle</td><td>Male</td><td>bharlec@europa.eu</td><td>113.149.152.231</td><td>Miami3328306 Bade...</td><td>712-111-4246</td></tr>\n",
       "<tr><td>14</td><td>Randy</td><td>Kleinmann</td><td>Female</td><td>rkleinmannd@frien...</td><td>5.89.218.201</td><td>Tampa3362504 Mani...</td><td>515-109-8291,408-...</td></tr>\n",
       "<tr><td>15</td><td>Eveleen</td><td>Lanaway</td><td>Female</td><td>elanawaye@blinkli...</td><td>219.210.42.139</td><td>Sacramento9428651...</td><td>360-712-7619,239-...</td></tr>\n",
       "<tr><td>16</td><td>Eleonore</td><td>Cordle</td><td>Female</td><td>ecordlef@printfri...</td><td>34.134.136.163</td><td>Gulfport395052893...</td><td>null</td></tr>\n",
       "<tr><td>17</td><td>Monte</td><td>Sidaway</td><td>Male</td><td>msidawayg@unicef.org</td><td>162.189.175.228</td><td>Rockford611055022...</td><td>213-965-4880,619-...</td></tr>\n",
       "<tr><td>18</td><td>Heddi</td><td>Sackes</td><td>Female</td><td>hsackesh@business...</td><td>59.44.144.36</td><td>Van Nuys914996540...</td><td>null</td></tr>\n",
       "<tr><td>19</td><td>Tabina</td><td>Olivari</td><td>Female</td><td>tolivarii@goo.gl</td><td>91.22.33.111</td><td>Arlington2221205 ...</td><td>602-594-0067,803-...</td></tr>\n",
       "<tr><td>20</td><td>Rutherford</td><td>Josephson</td><td>Male</td><td>rjosephsonj@sprin...</td><td>93.124.195.224</td><td>Toledo4366638907 ...</td><td>979-330-2010,562-...</td></tr>\n",
       "</table>\n",
       "only showing top 20 rows\n"
      ],
      "text/plain": [
       "+---+----------+------------+------+--------------------+---------------+--------------------+--------------------+\n",
       "| id|first_name|   last_name|gender|               email|     ip_address|             address|       phone_numbers|\n",
       "+---+----------+------------+------+--------------------+---------------+--------------------+--------------------+\n",
       "|  1|    Corrie|Van den Oord|Female|cvandenoord0@etsy...| 114.69.173.253|New Orleans701494...|        785-310-6676|\n",
       "|  2|  Nikolaus|     Brewitt|  Male|nbrewitt1@dailyma...| 191.17.232.147|Akron44310263 Gra...|609-306-0365,205-...|\n",
       "|  3|    Orelie|      Penney|Female|openney2@vistapri...| 109.206.143.10|Des Moines5030551...|619-727-2916,570-...|\n",
       "|  4|     Ashby|    Maddocks|  Male|  amaddocks3@home.pl|  171.173.96.24|Wichita6721531696...|415-708-9669,806-...|\n",
       "|  5|      Kurt|        Rome|  Male|krome4@shutterfly...| 125.35.144.111|Atlanta303868854 ...|        915-912-2446|\n",
       "|  6|    Idelle|      Dorsey|Female|idorsey5@artistee...|  89.128.71.151|Austin7876495353 ...|949-257-9443,504-...|\n",
       "|  7|      Levy|       Pacey|  Male|lpacey6@bloglovin...|   149.60.175.7|Birmingham3521029...|202-667-9730,810-...|\n",
       "|  8|   Hershel|       Kneal|  Male|hkneal7@engadget.com|206.179.142.167|Lehigh Acres33972...|719-481-1263,561-...|\n",
       "|  9|     Kelly|  Gatheridge|Female|kgatheridge8@mysp...|  101.79.38.236|Gary4640691956 St...|        719-867-3789|\n",
       "| 10|     Aksel|       Ewles|  Male| aewles9@samsung.com|  219.49.91.115|Montgomery3612539...|        501-903-4014|\n",
       "| 11| Millicent|    Whitwell|Female| mwhitwella@army.mil|   46.90.146.88|Omaha681973598 Ca...|716-582-3471,864-...|\n",
       "| 12|      Levy|    Fennelow|  Male|lfennelowb@so-net...| 102.19.205.231|Kansas City641532...|330-621-5532,562-...|\n",
       "| 13|     Bucky|       Harle|  Male|   bharlec@europa.eu|113.149.152.231|Miami3328306 Bade...|        712-111-4246|\n",
       "| 14|     Randy|   Kleinmann|Female|rkleinmannd@frien...|   5.89.218.201|Tampa3362504 Mani...|515-109-8291,408-...|\n",
       "| 15|   Eveleen|     Lanaway|Female|elanawaye@blinkli...| 219.210.42.139|Sacramento9428651...|360-712-7619,239-...|\n",
       "| 16|  Eleonore|      Cordle|Female|ecordlef@printfri...| 34.134.136.163|Gulfport395052893...|                null|\n",
       "| 17|     Monte|     Sidaway|  Male|msidawayg@unicef.org|162.189.175.228|Rockford611055022...|213-965-4880,619-...|\n",
       "| 18|     Heddi|      Sackes|Female|hsackesh@business...|   59.44.144.36|Van Nuys914996540...|                null|\n",
       "| 19|    Tabina|     Olivari|Female|    tolivarii@goo.gl|   91.22.33.111|Arlington2221205 ...|602-594-0067,803-...|\n",
       "| 20|Rutherford|   Josephson|  Male|rjosephsonj@sprin...| 93.124.195.224|Toledo4366638907 ...|979-330-2010,562-...|\n",
       "+---+----------+------------+------+--------------------+---------------+--------------------+--------------------+\n",
       "only showing top 20 rows"
      ]
     },
     "execution_count": 20,
     "metadata": {},
     "output_type": "execute_result"
    }
   ],
   "source": [
    "data_p"
   ]
  },
  {
   "cell_type": "code",
   "execution_count": null,
   "metadata": {},
   "outputs": [],
   "source": []
  }
 ],
 "metadata": {
  "kernelspec": {
   "display_name": "Pyspark 2",
   "language": "python",
   "name": "pyspark2"
  },
  "language_info": {
   "codemirror_mode": {
    "name": "ipython",
    "version": 3
   },
   "file_extension": ".py",
   "mimetype": "text/x-python",
   "name": "python",
   "nbconvert_exporter": "python",
   "pygments_lexer": "ipython3",
   "version": "3.6.12"
  }
 },
 "nbformat": 4,
 "nbformat_minor": 4
}
