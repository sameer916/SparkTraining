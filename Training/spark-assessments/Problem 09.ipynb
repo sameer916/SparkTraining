{
 "cells": [
  {
   "cell_type": "markdown",
   "metadata": {},
   "source": [
    "## Problem 09\n",
    "\n",
    "Weightage: 40\n",
    "\n",
    "Join trips data with stations and get a denormalized table with both startstationname and endstationname on top of all fields from trips.\n"
   ]
  },
  {
   "cell_type": "markdown",
   "metadata": {},
   "source": [
    "## Data Description\n",
    "All of the citibike trip data is available under **/public/citibike/trips**. It contain multiple folders - one for each month. Here is the schema.\n",
    "\n",
    "```\n",
    "root\n",
    " |-- tripduration: integer (nullable = true)\n",
    " |-- starttime: timestamp (nullable = true)\n",
    " |-- stoptime: timestamp (nullable = true)\n",
    " |-- startstationid: string (nullable = true)\n",
    " |-- endstationid: string (nullable = true)\n",
    " |-- bikeid: integer (nullable = true)\n",
    " |-- usertype: string (nullable = true)\n",
    " |-- birthyear: string (nullable = true)\n",
    " |-- gender: integer (nullable = true)\n",
    " |-- month: integer (nullable = true)\n",
    "```\n",
    "All of the citibike station data is available under **/public/citibike/stations**. \n",
    "```\n",
    "root\n",
    " |-- stationid: long (nullable = true)\n",
    " |-- stationlatitude: string (nullable = true)\n",
    " |-- stationlongitude: string (nullable = true)\n",
    " |-- stationname: string (nullable = true)\n",
    "```"
   ]
  },
  {
   "cell_type": "markdown",
   "metadata": {},
   "source": [
    "## Output Requirements\n",
    "* Place the result in the HDFS Directory \n",
    "```\n",
    "/user/`whoami`/mock_test_02/problem09/solution\n",
    "```\n",
    "* Use Parquet File format with any number of files.\n",
    "* Here are the column names. Data types should be as below.\n",
    "```\n",
    " |-- tripduration: integer (nullable = true)\n",
    " |-- starttime: timestamp (nullable = true)\n",
    " |-- stoptime: timestamp (nullable = true)\n",
    " |-- startstationid: integer (nullable = true)\n",
    " |-- endstationid: integer (nullable = true)\n",
    " |-- bikeid: integer (nullable = true)\n",
    " |-- usertype: string (nullable = true)\n",
    " |-- birthyear: string (nullable = true)\n",
    " |-- gender: integer (nullable = true)\n",
    " |-- month: integer (nullable = true)\n",
    " |-- startstationname: string (nullable = true)\n",
    " |-- endstationname: string (nullable = true)\n",
    "```\n",
    "* There are no requirements for sorting the data."
   ]
  },
  {
   "cell_type": "markdown",
   "metadata": {},
   "source": [
    "## Validation\n",
    "\n",
    "Here are the self validation steps:\n",
    "* Run the following to check number of files.\n",
    "```\n",
    "hdfs dfs -ls /user/`whoami`/mock_test_02/problem09/solution\n",
    "```\n",
    "* Run this code to create dataframe by name data.\n",
    "```\n",
    "import getpass\n",
    "username = getpass.getuser()\n",
    "data = spark.read. \\\n",
    "    parquet(f'/user/{username}/mock_test_02/problem09/solution')\n",
    "```\n",
    "* Run `data.printSchema()` to validate the data types of the fields.\n",
    "```\n",
    "root\n",
    " |-- tripduration: integer (nullable = true)\n",
    " |-- starttime: timestamp (nullable = true)\n",
    " |-- stoptime: timestamp (nullable = true)\n",
    " |-- startstationid: integer (nullable = true)\n",
    " |-- endstationid: integer (nullable = true)\n",
    " |-- bikeid: integer (nullable = true)\n",
    " |-- usertype: string (nullable = true)\n",
    " |-- birthyear: string (nullable = true)\n",
    " |-- gender: integer (nullable = true)\n",
    " |-- month: integer (nullable = true)\n",
    " |-- startstationname: string (nullable = true)\n",
    " |-- endstationname: string (nullable = true)\n",
    "```\n",
    "* Run `data.count()` to validate number of records. It should be **54462016**\n",
    "* Run `data.show()` to preview the data. Make sure all the data is showing up as expected."
   ]
  },
  {
   "cell_type": "code",
   "execution_count": 1,
   "metadata": {},
   "outputs": [],
   "source": [
    "from pyspark.sql import SparkSession\n",
    "import getpass\n",
    "username = getpass.getuser()\n",
    "spark = SparkSession. \\\n",
    "    builder. \\\n",
    "    config('spark.ui.port', '0'). \\\n",
    "    appName(f'Problem 09 | {username}'). \\\n",
    "    master('yarn'). \\\n",
    "    getOrCreate()"
   ]
  },
  {
   "cell_type": "code",
   "execution_count": 2,
   "metadata": {},
   "outputs": [],
   "source": [
    "spark.conf.set('spark.sql.shuffle.partitions', 10)"
   ]
  },
  {
   "cell_type": "code",
   "execution_count": 3,
   "metadata": {},
   "outputs": [],
   "source": [
    "cityBikePath=\"/public/citibike/trips/month=*/part-*.csv.gz\"\n",
    "cityBikeDf=spark.read.csv(cityBikePath,header=True)"
   ]
  },
  {
   "cell_type": "code",
   "execution_count": 4,
   "metadata": {},
   "outputs": [],
   "source": [
    "stationsPath=\"/public/citibike/stations/part-*.json\"\n",
    "stationsDf=spark.read.json(stationsPath)"
   ]
  },
  {
   "cell_type": "code",
   "execution_count": 5,
   "metadata": {},
   "outputs": [],
   "source": [
    "from pyspark.sql.functions import col,when"
   ]
  },
  {
   "cell_type": "code",
   "execution_count": null,
   "metadata": {},
   "outputs": [],
   "source": [
    "cityBikeDf.withColumn(\"startstationname\",when(cityBikeDf['startstationid']==stationsDf[\"stationid\"],stationsDf['stationname'])). \\\n",
    "          withColumn(\"endstationname\",when(cityBikeDf['endstationid']==stationsDf[\"stationid\"],stationsDf['stationname'])).show()"
   ]
  },
  {
   "cell_type": "code",
   "execution_count": 6,
   "metadata": {},
   "outputs": [],
   "source": [
    "joinedDf=cityBikeDf.join(stationsDf,on=cityBikeDf['startstationid']==stationsDf['stationid'])"
   ]
  },
  {
   "cell_type": "code",
   "execution_count": 7,
   "metadata": {},
   "outputs": [],
   "source": [
    "startstationDf=joinedDf.withColumn(\"startstationname\",col(\"stationname\")). \\\n",
    "                select(\"tripduration\",\"starttime\",\"stoptime\",\"startstationid\",\"endstationid\",\"bikeid\",\"usertype\",\"birthyear\",\"gender\",\"startstationname\")"
   ]
  },
  {
   "cell_type": "code",
   "execution_count": 12,
   "metadata": {},
   "outputs": [
    {
     "data": {
      "text/plain": [
       "54462016"
      ]
     },
     "execution_count": 12,
     "metadata": {},
     "output_type": "execute_result"
    }
   ],
   "source": [
    "startstationDf.count()"
   ]
  },
  {
   "cell_type": "code",
   "execution_count": 13,
   "metadata": {},
   "outputs": [],
   "source": [
    "resultDf=startstationDf.join(stationsDf,on=startstationDf[\"endstationid\"]==stationsDf[\"stationid\"],how=\"left\"). \\\n",
    "         withColumn(\"endstationname\",col(\"stationname\")). \\\n",
    "        select(\"tripduration\",\"starttime\",\"stoptime\",\"startstationid\",\"endstationid\",\"bikeid\",\"usertype\",\"birthyear\",\"gender\",\"startstationname\",\"endstationname\")"
   ]
  },
  {
   "cell_type": "code",
   "execution_count": 14,
   "metadata": {},
   "outputs": [
    {
     "data": {
      "text/plain": [
       "54462016"
      ]
     },
     "execution_count": 14,
     "metadata": {},
     "output_type": "execute_result"
    }
   ],
   "source": [
    "resultDf.count()"
   ]
  },
  {
   "cell_type": "code",
   "execution_count": 17,
   "metadata": {},
   "outputs": [
    {
     "name": "stdout",
     "output_type": "stream",
     "text": [
      "+--------------+--------------------+------------+--------------+\n",
      "|startstationid|    startstationname|endstationid|endstationname|\n",
      "+--------------+--------------------+------------+--------------+\n",
      "|          3623|W 120 St & Clarem...|        3198|          null|\n",
      "|           327|Vesey Pl & River ...|        3192|          null|\n",
      "|           327|Vesey Pl & River ...|        3192|          null|\n",
      "|          3547|Broadway & Moylan Pl|        3198|          null|\n",
      "|           347|Greenwich St & W ...|        3481|          null|\n",
      "|          3295|Central Park W & ...|        3202|          null|\n",
      "|           146|Hudson St & Reade St|        3267|          null|\n",
      "|          3467|W Broadway & Spri...|        3276|          null|\n",
      "|           494|     W 26 St & 8 Ave|        3639|          null|\n",
      "|           212|W 16 St & The Hig...|        3185|          null|\n",
      "|          3368|        5 Ave & 3 St|        3205|          null|\n",
      "|           127|Barrow St & Hudso...|        3184|          null|\n",
      "|           312|Allen St & Stanto...|        3191|          null|\n",
      "|            79|Franklin St & W B...|        3213|          null|\n",
      "|           315|South St & Gouver...|        3213|          null|\n",
      "|           259|South St & Whiteh...|        3205|          null|\n",
      "|          3658|     W 18 St & 9 Ave|        3195|          null|\n",
      "|           303|Mercer St & Sprin...|        3276|          null|\n",
      "|          3435|Grand St & Elizab...|        3681|          null|\n",
      "|           481|S 3 St & Bedford Ave|        3270|          null|\n",
      "+--------------+--------------------+------------+--------------+\n",
      "only showing top 20 rows\n",
      "\n"
     ]
    }
   ],
   "source": [
    "resultDf.filter(col(\"endstationname\").isNull()). \\\n",
    "    select(\"startstationid\",\"startstationname\",\"endstationid\",\"endstationname\").show()"
   ]
  },
  {
   "cell_type": "code",
   "execution_count": 24,
   "metadata": {},
   "outputs": [
    {
     "name": "stdout",
     "output_type": "stream",
     "text": [
      "+-----------+\n",
      "|stationname|\n",
      "+-----------+\n",
      "+-----------+\n",
      "\n"
     ]
    }
   ],
   "source": [
    "stationsDf.select(\"stationname\").filter(col(\"stationid\")==3681).show()"
   ]
  },
  {
   "cell_type": "code",
   "execution_count": 11,
   "metadata": {},
   "outputs": [
    {
     "data": {
      "text/html": [
       "<table border='1'>\n",
       "<tr><th>startstationid</th><th>startstationname</th><th>endstationid</th><th>endstationname</th></tr>\n",
       "<tr><td>3733</td><td>Avenue C &amp; E 18 St</td><td>504</td><td>1 Ave &amp; E 16 St</td></tr>\n",
       "<tr><td>3372</td><td>E 74 St &amp; 1 Ave</td><td>3686</td><td>Gansevoort St &amp; H...</td></tr>\n",
       "<tr><td>3329</td><td>Degraw St &amp; Smith St</td><td>270</td><td>Adelphi St &amp; Myrt...</td></tr>\n",
       "<tr><td>476</td><td>E 31 St &amp; 3 Ave</td><td>168</td><td>W 18 St &amp; 6 Ave</td></tr>\n",
       "<tr><td>3168</td><td>Central Park West...</td><td>423</td><td>W 54 St &amp; 9 Ave</td></tr>\n",
       "<tr><td>3531</td><td>Frederick Douglas...</td><td>3289</td><td>W 90 St &amp; Amsterd...</td></tr>\n",
       "<tr><td>3299</td><td>E 98 St &amp; Park Ave</td><td>3160</td><td>Central Park West...</td></tr>\n",
       "<tr><td>305</td><td>E 58 St &amp; 3 Ave</td><td>3810</td><td>Central Park West...</td></tr>\n",
       "<tr><td>486</td><td>Broadway &amp; W 29 St</td><td>478</td><td>11 Ave &amp; W 41 St</td></tr>\n",
       "<tr><td>3255</td><td>8 Ave &amp; W 31 St</td><td>523</td><td>W 38 St &amp; 8 Ave</td></tr>\n",
       "<tr><td>3775</td><td>Suydam St &amp; Knick...</td><td>3771</td><td>McKibbin St &amp; Bog...</td></tr>\n",
       "<tr><td>3173</td><td>Riverside Blvd &amp; ...</td><td>72</td><td>W 52 St &amp; 11 Ave</td></tr>\n",
       "<tr><td>3775</td><td>Suydam St &amp; Knick...</td><td>3771</td><td>McKibbin St &amp; Bog...</td></tr>\n",
       "<tr><td>247</td><td>Perry St &amp; Bleeck...</td><td>3788</td><td>E 12 St &amp; 4 Av</td></tr>\n",
       "<tr><td>387</td><td>Centre St &amp; Chamb...</td><td>3440</td><td>Fulton St &amp; Adams St</td></tr>\n",
       "<tr><td>482</td><td>W 15 St &amp; 7 Ave</td><td>482</td><td>W 15 St &amp; 7 Ave</td></tr>\n",
       "<tr><td>440</td><td>E 45 St &amp; 3 Ave</td><td>505</td><td>6 Ave &amp; W 33 St</td></tr>\n",
       "<tr><td>3254</td><td>Soissons Landing</td><td>3254</td><td>Soissons Landing</td></tr>\n",
       "<tr><td>3071</td><td>Boerum St &amp; Broadway</td><td>3082</td><td>Hope St &amp; Union Ave</td></tr>\n",
       "<tr><td>3581</td><td>Underhill Ave &amp; L...</td><td>353</td><td>S Portland Ave &amp; ...</td></tr>\n",
       "</table>\n",
       "only showing top 20 rows\n"
      ],
      "text/plain": [
       "+--------------+--------------------+------------+--------------------+\n",
       "|startstationid|    startstationname|endstationid|      endstationname|\n",
       "+--------------+--------------------+------------+--------------------+\n",
       "|          3733|  Avenue C & E 18 St|         504|     1 Ave & E 16 St|\n",
       "|          3372|     E 74 St & 1 Ave|        3686|Gansevoort St & H...|\n",
       "|          3329|Degraw St & Smith St|         270|Adelphi St & Myrt...|\n",
       "|           476|     E 31 St & 3 Ave|         168|     W 18 St & 6 Ave|\n",
       "|          3168|Central Park West...|         423|     W 54 St & 9 Ave|\n",
       "|          3531|Frederick Douglas...|        3289|W 90 St & Amsterd...|\n",
       "|          3299|  E 98 St & Park Ave|        3160|Central Park West...|\n",
       "|           305|     E 58 St & 3 Ave|        3810|Central Park West...|\n",
       "|           486|  Broadway & W 29 St|         478|    11 Ave & W 41 St|\n",
       "|          3255|     8 Ave & W 31 St|         523|     W 38 St & 8 Ave|\n",
       "|          3775|Suydam St & Knick...|        3771|McKibbin St & Bog...|\n",
       "|          3173|Riverside Blvd & ...|          72|    W 52 St & 11 Ave|\n",
       "|          3775|Suydam St & Knick...|        3771|McKibbin St & Bog...|\n",
       "|           247|Perry St & Bleeck...|        3788|      E 12 St & 4 Av|\n",
       "|           387|Centre St & Chamb...|        3440|Fulton St & Adams St|\n",
       "|           482|     W 15 St & 7 Ave|         482|     W 15 St & 7 Ave|\n",
       "|           440|     E 45 St & 3 Ave|         505|     6 Ave & W 33 St|\n",
       "|          3254|    Soissons Landing|        3254|    Soissons Landing|\n",
       "|          3071|Boerum St & Broadway|        3082| Hope St & Union Ave|\n",
       "|          3581|Underhill Ave & L...|         353|S Portland Ave & ...|\n",
       "+--------------+--------------------+------------+--------------------+\n",
       "only showing top 20 rows"
      ]
     },
     "execution_count": 11,
     "metadata": {},
     "output_type": "execute_result"
    }
   ],
   "source": [
    "resultDf.select(\"startstationid\",\"startstationname\",\"endstationid\",\"endstationname\")"
   ]
  },
  {
   "cell_type": "code",
   "execution_count": 25,
   "metadata": {},
   "outputs": [
    {
     "name": "stdout",
     "output_type": "stream",
     "text": [
      "root\n",
      " |-- tripduration: string (nullable = true)\n",
      " |-- starttime: string (nullable = true)\n",
      " |-- stoptime: string (nullable = true)\n",
      " |-- startstationid: string (nullable = true)\n",
      " |-- endstationid: string (nullable = true)\n",
      " |-- bikeid: string (nullable = true)\n",
      " |-- usertype: string (nullable = true)\n",
      " |-- birthyear: string (nullable = true)\n",
      " |-- gender: string (nullable = true)\n",
      " |-- startstationname: string (nullable = true)\n",
      " |-- endstationname: string (nullable = true)\n",
      "\n"
     ]
    }
   ],
   "source": [
    "resultDf.printSchema()"
   ]
  },
  {
   "cell_type": "code",
   "execution_count": 26,
   "metadata": {},
   "outputs": [],
   "source": [
    "resultDf.coalesce(3).write. \\\n",
    "    parquet(f'/user/{username}/mock_test_02/problem09/solution')"
   ]
  },
  {
   "cell_type": "markdown",
   "metadata": {},
   "source": [
    "# Validations"
   ]
  },
  {
   "cell_type": "code",
   "execution_count": 27,
   "metadata": {},
   "outputs": [
    {
     "name": "stdout",
     "output_type": "stream",
     "text": [
      "Found 4 items\n",
      "-rw-r--r--   3 itv001477 supergroup          0 2021-12-11 05:55 /user/itv001477/mock_test_02/problem09/solution/_SUCCESS\n",
      "-rw-r--r--   3 itv001477 supergroup  466718495 2021-12-11 05:55 /user/itv001477/mock_test_02/problem09/solution/part-00000-39567662-9444-4fd3-bcbf-9fe4a70236a0-c000.snappy.parquet\n",
      "-rw-r--r--   3 itv001477 supergroup  472014901 2021-12-11 05:53 /user/itv001477/mock_test_02/problem09/solution/part-00001-39567662-9444-4fd3-bcbf-9fe4a70236a0-c000.snappy.parquet\n",
      "-rw-r--r--   3 itv001477 supergroup  437850262 2021-12-11 05:53 /user/itv001477/mock_test_02/problem09/solution/part-00002-39567662-9444-4fd3-bcbf-9fe4a70236a0-c000.snappy.parquet\n"
     ]
    }
   ],
   "source": [
    "%%sh\n",
    "hdfs dfs -ls /user/`whoami`/mock_test_02/problem09/solution"
   ]
  },
  {
   "cell_type": "code",
   "execution_count": 28,
   "metadata": {},
   "outputs": [],
   "source": [
    "data = spark.read. \\\n",
    "  parquet(f'/user/{username}/mock_test_02/problem09/solution')"
   ]
  },
  {
   "cell_type": "code",
   "execution_count": 29,
   "metadata": {},
   "outputs": [
    {
     "name": "stdout",
     "output_type": "stream",
     "text": [
      "root\n",
      " |-- tripduration: string (nullable = true)\n",
      " |-- starttime: string (nullable = true)\n",
      " |-- stoptime: string (nullable = true)\n",
      " |-- startstationid: string (nullable = true)\n",
      " |-- endstationid: string (nullable = true)\n",
      " |-- bikeid: string (nullable = true)\n",
      " |-- usertype: string (nullable = true)\n",
      " |-- birthyear: string (nullable = true)\n",
      " |-- gender: string (nullable = true)\n",
      " |-- startstationname: string (nullable = true)\n",
      " |-- endstationname: string (nullable = true)\n",
      "\n"
     ]
    }
   ],
   "source": [
    "data.printSchema()"
   ]
  },
  {
   "cell_type": "code",
   "execution_count": 30,
   "metadata": {},
   "outputs": [
    {
     "data": {
      "text/plain": [
       "54462016"
      ]
     },
     "execution_count": 30,
     "metadata": {},
     "output_type": "execute_result"
    }
   ],
   "source": [
    "data.count()"
   ]
  },
  {
   "cell_type": "code",
   "execution_count": 31,
   "metadata": {},
   "outputs": [
    {
     "name": "stdout",
     "output_type": "stream",
     "text": [
      "+------------+--------------------+--------------------+--------------+------------+------+----------+---------+------+--------------------+--------------------+\n",
      "|tripduration|           starttime|            stoptime|startstationid|endstationid|bikeid|  usertype|birthyear|gender|    startstationname|      endstationname|\n",
      "+------------+--------------------+--------------------+--------------+------------+------+----------+---------+------+--------------------+--------------------+\n",
      "|         327|2019-09-01T00:00:...|2019-09-01T00:05:...|          3733|         504| 39213|Subscriber|     1968|     1|  Avenue C & E 18 St|     1 Ave & E 16 St|\n",
      "|        2219|2019-09-29T12:04:...|2019-09-29T12:41:...|          3372|        3686| 18261|Subscriber|     1974|     2|     E 74 St & 1 Ave|Gansevoort St & H...|\n",
      "|        1145|2019-09-01T00:00:...|2019-09-01T00:19:...|          3329|         270| 21257|  Customer|     1969|     0|Degraw St & Smith St|Adelphi St & Myrt...|\n",
      "|         816|2019-09-29T12:04:...|2019-09-29T12:18:...|           476|         168| 34200|Subscriber|     1974|     2|     E 31 St & 3 Ave|     W 18 St & 6 Ave|\n",
      "|        1293|2019-09-01T00:00:...|2019-09-01T00:21:...|          3168|         423| 15242|  Customer|     1969|     0|Central Park West...|     W 54 St & 9 Ave|\n",
      "|         886|2019-09-29T12:04:...|2019-09-29T12:19:...|          3531|        3289| 41360|Subscriber|     1953|     1|Frederick Douglas...|W 90 St & Amsterd...|\n",
      "|        1753|2019-09-01T00:00:...|2019-09-01T00:29:...|          3299|        3160| 38760|Subscriber|     1990|     1|  E 98 St & Park Ave|Central Park West...|\n",
      "|        1045|2019-09-29T12:04:...|2019-09-29T12:21:...|           305|        3810| 41566|Subscriber|     1964|     1|     E 58 St & 3 Ave|Central Park West...|\n",
      "|         613|2019-09-01T00:00:...|2019-09-01T00:10:...|           486|         478| 32094|Subscriber|     1992|     1|  Broadway & W 29 St|    11 Ave & W 41 St|\n",
      "|         342|2019-09-29T12:04:...|2019-09-29T12:10:...|          3255|         523| 38391|Subscriber|     1967|     2|     8 Ave & W 31 St|     W 38 St & 8 Ave|\n",
      "|         482|2019-09-01T00:00:...|2019-09-01T00:08:...|          3775|        3771| 28271|  Customer|     1969|     0|Suydam St & Knick...|McKibbin St & Bog...|\n",
      "|         650|2019-09-29T12:04:...|2019-09-29T12:15:...|          3173|          72| 32294|  Customer|     1989|     1|Riverside Blvd & ...|    W 52 St & 11 Ave|\n",
      "|         489|2019-09-01T00:00:...|2019-09-01T00:08:...|          3775|        3771| 39424|  Customer|     1969|     0|Suydam St & Knick...|McKibbin St & Bog...|\n",
      "|         654|2019-09-29T12:04:...|2019-09-29T12:15:...|           247|        3788| 40478|  Customer|     1969|     0|Perry St & Bleeck...|      E 12 St & 4 Av|\n",
      "|        1571|2019-09-01T00:00:...|2019-09-01T00:26:...|           387|        3440| 38711|  Customer|     1969|     0|Centre St & Chamb...|Fulton St & Adams St|\n",
      "|        1392|2019-09-29T12:04:...|2019-09-29T12:27:...|           482|         482| 29858|  Customer|     1998|     1|     W 15 St & 7 Ave|     W 15 St & 7 Ave|\n",
      "|         571|2019-09-01T00:00:...|2019-09-01T00:09:...|           440|         505| 31619|Subscriber|     1995|     1|     E 45 St & 3 Ave|     6 Ave & W 33 St|\n",
      "|        1565|2019-09-29T12:04:...|2019-09-29T12:30:...|          3254|        3254| 21120|  Customer|     1969|     0|    Soissons Landing|    Soissons Landing|\n",
      "|         232|2019-09-01T00:00:...|2019-09-01T00:04:...|          3071|        3082| 16158|  Customer|     1969|     0|Boerum St & Broadway| Hope St & Union Ave|\n",
      "|         470|2019-09-29T12:04:...|2019-09-29T12:12:...|          3581|         353| 39270|Subscriber|     1980|     1|Underhill Ave & L...|S Portland Ave & ...|\n",
      "+------------+--------------------+--------------------+--------------+------------+------+----------+---------+------+--------------------+--------------------+\n",
      "only showing top 20 rows\n",
      "\n"
     ]
    }
   ],
   "source": [
    "data.show()"
   ]
  },
  {
   "cell_type": "code",
   "execution_count": null,
   "metadata": {},
   "outputs": [],
   "source": []
  }
 ],
 "metadata": {
  "kernelspec": {
   "display_name": "Pyspark 2",
   "language": "python",
   "name": "pyspark2"
  },
  "language_info": {
   "codemirror_mode": {
    "name": "ipython",
    "version": 3
   },
   "file_extension": ".py",
   "mimetype": "text/x-python",
   "name": "python",
   "nbconvert_exporter": "python",
   "pygments_lexer": "ipython3",
   "version": "3.6.12"
  }
 },
 "nbformat": 4,
 "nbformat_minor": 4
}
